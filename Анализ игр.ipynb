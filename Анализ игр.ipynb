{
 "cells": [
  {
   "cell_type": "markdown",
   "id": "8a660619-5874-4793-88d2-b9a9f49ff71e",
   "metadata": {},
   "source": [
    "## Проект: анализ и прогнозирование продаж компьтерных игр интернет-магазина \"Стримчик\" ##\n"
   ]
  },
  {
   "cell_type": "markdown",
   "id": "8df5ce99-5dfa-4caf-a3f9-20b2a36ae1e0",
   "metadata": {},
   "source": [
    "**Описание проекта**\n",
    "\n",
    "  Я работаю в интернет-магазине «Стримчик», который продаёт по всему миру компьютерные игры. Из открытых источников доступны исторические данные о продажах игр, оценки пользователей и экспертов, жанры и платформы (например, Xbox или PlayStation). Нужно выявить определяющие успешность игры закономерности. "
   ]
  },
  {
   "cell_type": "markdown",
   "id": "d5eb8016-017d-49ad-8071-34ca0d2ae7f6",
   "metadata": {},
   "source": [
    "**Цель проекта**\n",
    "\n",
    "Выявить потенциально популярный продукт и спланировать рекламные кампании."
   ]
  },
  {
   "cell_type": "markdown",
   "id": "b3c9f8b6-d83a-4823-9e6a-7e7ce5c1df8d",
   "metadata": {},
   "source": [
    "**Ход исследования**\n",
    "\n",
    "1. Изучение общей информации в файле с данными\n",
    "2. Подготовка данных\n",
    "3. Исследовательский анализ данных:\n",
    "   \n",
    "   3.1 количество выпускаемых игр в разные годы\n",
    "   \n",
    "   3.2 суммы продаж по различным платформам\n",
    "   \n",
    "   3.3 выбор актуального периода\n",
    "   \n",
    "   3.4 выбор потенциально прибыльных платформ в актуальном периоде\n",
    "   \n",
    "   3.5 построение «ящика с усами» по глобальным продажам игр в разбивке по платформам\n",
    "   \n",
    "   3.6 анализ влияния внутри платформ отзывов критиков и пользователей\n",
    "   \n",
    "   3.7 распределение игр по жанрам, выбор самых прибыльных жанров\n",
    "4. Портрет пользователя каждого региона\n",
    "5. Проверка гипотез:\n",
    "   \n",
    "      средние пользовательские рейтинги платформ Xbox One и PC одинаковые\n",
    "   \n",
    "      средние  пользовательские рейтинги жанров Action и Sport разны\n",
    "6. Общий вывод."
   ]
  },
  {
   "cell_type": "markdown",
   "id": "a41f8473-676d-4196-b71c-2eeabcbbae6b",
   "metadata": {},
   "source": [
    "**Описание данных**\n",
    "\n",
    "Файл /datasets/games.csv\n",
    "\n",
    "**Name** — название игры\n",
    "\n",
    "**Platform** — платформа\n",
    "\n",
    "**Year_of_Release** — год выпуска\n",
    "\n",
    "**Genre** — жанр игры\n",
    "\n",
    "**NA_sales** — продажи в Северной Америке (миллионы проданных копий)\n",
    "\n",
    "**EU_sales** — продажи в Европе (миллионы проданных копий)\n",
    "\n",
    "**JP_sales** — продажи в Японии (миллионы проданных копий)\n",
    "\n",
    "**Other_sales** — продажи в других странах (миллионы проданных копий)\n",
    "\n",
    "**Critic_Score** — оценка критиков (максимум 100)\n",
    "\n",
    "**User_Score** — оценка пользователей (максимум 10)\n",
    "\n",
    "**Rating** — рейтинг от организации ESRB"
   ]
  },
  {
   "cell_type": "markdown",
   "id": "e6ac05ed",
   "metadata": {},
   "source": [
    "<font color='DarkBlue'><b>Комментарий ревьюера 0</b></font><br>\n",
    "<font color='DarkGreen'>👌 Хорошо, сделано описание проекта. 👍</font>"
   ]
  },
  {
   "cell_type": "markdown",
   "id": "6dd4c57c-b8fc-4dc5-be6c-b9cfff0bc7cb",
   "metadata": {},
   "source": [
    "## 1.Общая информация ##"
   ]
  },
  {
   "cell_type": "code",
   "execution_count": 1,
   "id": "ce417ee1-a318-4705-bc68-4d68d0f98586",
   "metadata": {},
   "outputs": [],
   "source": [
    "import pandas as pd\n",
    "import numpy as np\n",
    "import matplotlib.pyplot as plt\n",
    "import seaborn as sns\n",
    "from scipy import stats as st"
   ]
  },
  {
   "cell_type": "code",
   "execution_count": 3,
   "id": "9e469277",
   "metadata": {},
   "outputs": [],
   "source": [
    "data = pd.read_csv('/datasets/games.csv')"
   ]
  },
  {
   "cell_type": "code",
   "execution_count": 4,
   "id": "e7f5e8f5-c27b-4782-97d9-4b5f2ac7423d",
   "metadata": {},
   "outputs": [
    {
     "data": {
      "text/html": [
       "<div>\n",
       "<style scoped>\n",
       "    .dataframe tbody tr th:only-of-type {\n",
       "        vertical-align: middle;\n",
       "    }\n",
       "\n",
       "    .dataframe tbody tr th {\n",
       "        vertical-align: top;\n",
       "    }\n",
       "\n",
       "    .dataframe thead th {\n",
       "        text-align: right;\n",
       "    }\n",
       "</style>\n",
       "<table border=\"1\" class=\"dataframe\">\n",
       "  <thead>\n",
       "    <tr style=\"text-align: right;\">\n",
       "      <th></th>\n",
       "      <th>Name</th>\n",
       "      <th>Platform</th>\n",
       "      <th>Year_of_Release</th>\n",
       "      <th>Genre</th>\n",
       "      <th>NA_sales</th>\n",
       "      <th>EU_sales</th>\n",
       "      <th>JP_sales</th>\n",
       "      <th>Other_sales</th>\n",
       "      <th>Critic_Score</th>\n",
       "      <th>User_Score</th>\n",
       "      <th>Rating</th>\n",
       "    </tr>\n",
       "  </thead>\n",
       "  <tbody>\n",
       "    <tr>\n",
       "      <th>0</th>\n",
       "      <td>Wii Sports</td>\n",
       "      <td>Wii</td>\n",
       "      <td>2006.0</td>\n",
       "      <td>Sports</td>\n",
       "      <td>41.36</td>\n",
       "      <td>28.96</td>\n",
       "      <td>3.77</td>\n",
       "      <td>8.45</td>\n",
       "      <td>76.0</td>\n",
       "      <td>8</td>\n",
       "      <td>E</td>\n",
       "    </tr>\n",
       "    <tr>\n",
       "      <th>1</th>\n",
       "      <td>Super Mario Bros.</td>\n",
       "      <td>NES</td>\n",
       "      <td>1985.0</td>\n",
       "      <td>Platform</td>\n",
       "      <td>29.08</td>\n",
       "      <td>3.58</td>\n",
       "      <td>6.81</td>\n",
       "      <td>0.77</td>\n",
       "      <td>NaN</td>\n",
       "      <td>NaN</td>\n",
       "      <td>NaN</td>\n",
       "    </tr>\n",
       "    <tr>\n",
       "      <th>2</th>\n",
       "      <td>Mario Kart Wii</td>\n",
       "      <td>Wii</td>\n",
       "      <td>2008.0</td>\n",
       "      <td>Racing</td>\n",
       "      <td>15.68</td>\n",
       "      <td>12.76</td>\n",
       "      <td>3.79</td>\n",
       "      <td>3.29</td>\n",
       "      <td>82.0</td>\n",
       "      <td>8.3</td>\n",
       "      <td>E</td>\n",
       "    </tr>\n",
       "    <tr>\n",
       "      <th>3</th>\n",
       "      <td>Wii Sports Resort</td>\n",
       "      <td>Wii</td>\n",
       "      <td>2009.0</td>\n",
       "      <td>Sports</td>\n",
       "      <td>15.61</td>\n",
       "      <td>10.93</td>\n",
       "      <td>3.28</td>\n",
       "      <td>2.95</td>\n",
       "      <td>80.0</td>\n",
       "      <td>8</td>\n",
       "      <td>E</td>\n",
       "    </tr>\n",
       "    <tr>\n",
       "      <th>4</th>\n",
       "      <td>Pokemon Red/Pokemon Blue</td>\n",
       "      <td>GB</td>\n",
       "      <td>1996.0</td>\n",
       "      <td>Role-Playing</td>\n",
       "      <td>11.27</td>\n",
       "      <td>8.89</td>\n",
       "      <td>10.22</td>\n",
       "      <td>1.00</td>\n",
       "      <td>NaN</td>\n",
       "      <td>NaN</td>\n",
       "      <td>NaN</td>\n",
       "    </tr>\n",
       "    <tr>\n",
       "      <th>5</th>\n",
       "      <td>Tetris</td>\n",
       "      <td>GB</td>\n",
       "      <td>1989.0</td>\n",
       "      <td>Puzzle</td>\n",
       "      <td>23.20</td>\n",
       "      <td>2.26</td>\n",
       "      <td>4.22</td>\n",
       "      <td>0.58</td>\n",
       "      <td>NaN</td>\n",
       "      <td>NaN</td>\n",
       "      <td>NaN</td>\n",
       "    </tr>\n",
       "    <tr>\n",
       "      <th>6</th>\n",
       "      <td>New Super Mario Bros.</td>\n",
       "      <td>DS</td>\n",
       "      <td>2006.0</td>\n",
       "      <td>Platform</td>\n",
       "      <td>11.28</td>\n",
       "      <td>9.14</td>\n",
       "      <td>6.50</td>\n",
       "      <td>2.88</td>\n",
       "      <td>89.0</td>\n",
       "      <td>8.5</td>\n",
       "      <td>E</td>\n",
       "    </tr>\n",
       "    <tr>\n",
       "      <th>7</th>\n",
       "      <td>Wii Play</td>\n",
       "      <td>Wii</td>\n",
       "      <td>2006.0</td>\n",
       "      <td>Misc</td>\n",
       "      <td>13.96</td>\n",
       "      <td>9.18</td>\n",
       "      <td>2.93</td>\n",
       "      <td>2.84</td>\n",
       "      <td>58.0</td>\n",
       "      <td>6.6</td>\n",
       "      <td>E</td>\n",
       "    </tr>\n",
       "    <tr>\n",
       "      <th>8</th>\n",
       "      <td>New Super Mario Bros. Wii</td>\n",
       "      <td>Wii</td>\n",
       "      <td>2009.0</td>\n",
       "      <td>Platform</td>\n",
       "      <td>14.44</td>\n",
       "      <td>6.94</td>\n",
       "      <td>4.70</td>\n",
       "      <td>2.24</td>\n",
       "      <td>87.0</td>\n",
       "      <td>8.4</td>\n",
       "      <td>E</td>\n",
       "    </tr>\n",
       "    <tr>\n",
       "      <th>9</th>\n",
       "      <td>Duck Hunt</td>\n",
       "      <td>NES</td>\n",
       "      <td>1984.0</td>\n",
       "      <td>Shooter</td>\n",
       "      <td>26.93</td>\n",
       "      <td>0.63</td>\n",
       "      <td>0.28</td>\n",
       "      <td>0.47</td>\n",
       "      <td>NaN</td>\n",
       "      <td>NaN</td>\n",
       "      <td>NaN</td>\n",
       "    </tr>\n",
       "    <tr>\n",
       "      <th>10</th>\n",
       "      <td>Nintendogs</td>\n",
       "      <td>DS</td>\n",
       "      <td>2005.0</td>\n",
       "      <td>Simulation</td>\n",
       "      <td>9.05</td>\n",
       "      <td>10.95</td>\n",
       "      <td>1.93</td>\n",
       "      <td>2.74</td>\n",
       "      <td>NaN</td>\n",
       "      <td>NaN</td>\n",
       "      <td>NaN</td>\n",
       "    </tr>\n",
       "    <tr>\n",
       "      <th>11</th>\n",
       "      <td>Mario Kart DS</td>\n",
       "      <td>DS</td>\n",
       "      <td>2005.0</td>\n",
       "      <td>Racing</td>\n",
       "      <td>9.71</td>\n",
       "      <td>7.47</td>\n",
       "      <td>4.13</td>\n",
       "      <td>1.90</td>\n",
       "      <td>91.0</td>\n",
       "      <td>8.6</td>\n",
       "      <td>E</td>\n",
       "    </tr>\n",
       "    <tr>\n",
       "      <th>12</th>\n",
       "      <td>Pokemon Gold/Pokemon Silver</td>\n",
       "      <td>GB</td>\n",
       "      <td>1999.0</td>\n",
       "      <td>Role-Playing</td>\n",
       "      <td>9.00</td>\n",
       "      <td>6.18</td>\n",
       "      <td>7.20</td>\n",
       "      <td>0.71</td>\n",
       "      <td>NaN</td>\n",
       "      <td>NaN</td>\n",
       "      <td>NaN</td>\n",
       "    </tr>\n",
       "    <tr>\n",
       "      <th>13</th>\n",
       "      <td>Wii Fit</td>\n",
       "      <td>Wii</td>\n",
       "      <td>2007.0</td>\n",
       "      <td>Sports</td>\n",
       "      <td>8.92</td>\n",
       "      <td>8.03</td>\n",
       "      <td>3.60</td>\n",
       "      <td>2.15</td>\n",
       "      <td>80.0</td>\n",
       "      <td>7.7</td>\n",
       "      <td>E</td>\n",
       "    </tr>\n",
       "    <tr>\n",
       "      <th>14</th>\n",
       "      <td>Kinect Adventures!</td>\n",
       "      <td>X360</td>\n",
       "      <td>2010.0</td>\n",
       "      <td>Misc</td>\n",
       "      <td>15.00</td>\n",
       "      <td>4.89</td>\n",
       "      <td>0.24</td>\n",
       "      <td>1.69</td>\n",
       "      <td>61.0</td>\n",
       "      <td>6.3</td>\n",
       "      <td>E</td>\n",
       "    </tr>\n",
       "    <tr>\n",
       "      <th>15</th>\n",
       "      <td>Wii Fit Plus</td>\n",
       "      <td>Wii</td>\n",
       "      <td>2009.0</td>\n",
       "      <td>Sports</td>\n",
       "      <td>9.01</td>\n",
       "      <td>8.49</td>\n",
       "      <td>2.53</td>\n",
       "      <td>1.77</td>\n",
       "      <td>80.0</td>\n",
       "      <td>7.4</td>\n",
       "      <td>E</td>\n",
       "    </tr>\n",
       "    <tr>\n",
       "      <th>16</th>\n",
       "      <td>Grand Theft Auto V</td>\n",
       "      <td>PS3</td>\n",
       "      <td>2013.0</td>\n",
       "      <td>Action</td>\n",
       "      <td>7.02</td>\n",
       "      <td>9.09</td>\n",
       "      <td>0.98</td>\n",
       "      <td>3.96</td>\n",
       "      <td>97.0</td>\n",
       "      <td>8.2</td>\n",
       "      <td>M</td>\n",
       "    </tr>\n",
       "    <tr>\n",
       "      <th>17</th>\n",
       "      <td>Grand Theft Auto: San Andreas</td>\n",
       "      <td>PS2</td>\n",
       "      <td>2004.0</td>\n",
       "      <td>Action</td>\n",
       "      <td>9.43</td>\n",
       "      <td>0.40</td>\n",
       "      <td>0.41</td>\n",
       "      <td>10.57</td>\n",
       "      <td>95.0</td>\n",
       "      <td>9</td>\n",
       "      <td>M</td>\n",
       "    </tr>\n",
       "    <tr>\n",
       "      <th>18</th>\n",
       "      <td>Super Mario World</td>\n",
       "      <td>SNES</td>\n",
       "      <td>1990.0</td>\n",
       "      <td>Platform</td>\n",
       "      <td>12.78</td>\n",
       "      <td>3.75</td>\n",
       "      <td>3.54</td>\n",
       "      <td>0.55</td>\n",
       "      <td>NaN</td>\n",
       "      <td>NaN</td>\n",
       "      <td>NaN</td>\n",
       "    </tr>\n",
       "    <tr>\n",
       "      <th>19</th>\n",
       "      <td>Brain Age: Train Your Brain in Minutes a Day</td>\n",
       "      <td>DS</td>\n",
       "      <td>2005.0</td>\n",
       "      <td>Misc</td>\n",
       "      <td>4.74</td>\n",
       "      <td>9.20</td>\n",
       "      <td>4.16</td>\n",
       "      <td>2.04</td>\n",
       "      <td>77.0</td>\n",
       "      <td>7.9</td>\n",
       "      <td>E</td>\n",
       "    </tr>\n",
       "  </tbody>\n",
       "</table>\n",
       "</div>"
      ],
      "text/plain": [
       "                                            Name Platform  Year_of_Release  \\\n",
       "0                                     Wii Sports      Wii           2006.0   \n",
       "1                              Super Mario Bros.      NES           1985.0   \n",
       "2                                 Mario Kart Wii      Wii           2008.0   \n",
       "3                              Wii Sports Resort      Wii           2009.0   \n",
       "4                       Pokemon Red/Pokemon Blue       GB           1996.0   \n",
       "5                                         Tetris       GB           1989.0   \n",
       "6                          New Super Mario Bros.       DS           2006.0   \n",
       "7                                       Wii Play      Wii           2006.0   \n",
       "8                      New Super Mario Bros. Wii      Wii           2009.0   \n",
       "9                                      Duck Hunt      NES           1984.0   \n",
       "10                                    Nintendogs       DS           2005.0   \n",
       "11                                 Mario Kart DS       DS           2005.0   \n",
       "12                   Pokemon Gold/Pokemon Silver       GB           1999.0   \n",
       "13                                       Wii Fit      Wii           2007.0   \n",
       "14                            Kinect Adventures!     X360           2010.0   \n",
       "15                                  Wii Fit Plus      Wii           2009.0   \n",
       "16                            Grand Theft Auto V      PS3           2013.0   \n",
       "17                 Grand Theft Auto: San Andreas      PS2           2004.0   \n",
       "18                             Super Mario World     SNES           1990.0   \n",
       "19  Brain Age: Train Your Brain in Minutes a Day       DS           2005.0   \n",
       "\n",
       "           Genre  NA_sales  EU_sales  JP_sales  Other_sales  Critic_Score  \\\n",
       "0         Sports     41.36     28.96      3.77         8.45          76.0   \n",
       "1       Platform     29.08      3.58      6.81         0.77           NaN   \n",
       "2         Racing     15.68     12.76      3.79         3.29          82.0   \n",
       "3         Sports     15.61     10.93      3.28         2.95          80.0   \n",
       "4   Role-Playing     11.27      8.89     10.22         1.00           NaN   \n",
       "5         Puzzle     23.20      2.26      4.22         0.58           NaN   \n",
       "6       Platform     11.28      9.14      6.50         2.88          89.0   \n",
       "7           Misc     13.96      9.18      2.93         2.84          58.0   \n",
       "8       Platform     14.44      6.94      4.70         2.24          87.0   \n",
       "9        Shooter     26.93      0.63      0.28         0.47           NaN   \n",
       "10    Simulation      9.05     10.95      1.93         2.74           NaN   \n",
       "11        Racing      9.71      7.47      4.13         1.90          91.0   \n",
       "12  Role-Playing      9.00      6.18      7.20         0.71           NaN   \n",
       "13        Sports      8.92      8.03      3.60         2.15          80.0   \n",
       "14          Misc     15.00      4.89      0.24         1.69          61.0   \n",
       "15        Sports      9.01      8.49      2.53         1.77          80.0   \n",
       "16        Action      7.02      9.09      0.98         3.96          97.0   \n",
       "17        Action      9.43      0.40      0.41        10.57          95.0   \n",
       "18      Platform     12.78      3.75      3.54         0.55           NaN   \n",
       "19          Misc      4.74      9.20      4.16         2.04          77.0   \n",
       "\n",
       "   User_Score Rating  \n",
       "0           8      E  \n",
       "1         NaN    NaN  \n",
       "2         8.3      E  \n",
       "3           8      E  \n",
       "4         NaN    NaN  \n",
       "5         NaN    NaN  \n",
       "6         8.5      E  \n",
       "7         6.6      E  \n",
       "8         8.4      E  \n",
       "9         NaN    NaN  \n",
       "10        NaN    NaN  \n",
       "11        8.6      E  \n",
       "12        NaN    NaN  \n",
       "13        7.7      E  \n",
       "14        6.3      E  \n",
       "15        7.4      E  \n",
       "16        8.2      M  \n",
       "17          9      M  \n",
       "18        NaN    NaN  \n",
       "19        7.9      E  "
      ]
     },
     "execution_count": 4,
     "metadata": {},
     "output_type": "execute_result"
    }
   ],
   "source": [
    "data.head(20)"
   ]
  },
  {
   "cell_type": "code",
   "execution_count": 5,
   "id": "788f932e-d761-4a1a-b71f-20ed47b2541a",
   "metadata": {},
   "outputs": [
    {
     "name": "stdout",
     "output_type": "stream",
     "text": [
      "<class 'pandas.core.frame.DataFrame'>\n",
      "RangeIndex: 16715 entries, 0 to 16714\n",
      "Data columns (total 11 columns):\n",
      " #   Column           Non-Null Count  Dtype  \n",
      "---  ------           --------------  -----  \n",
      " 0   Name             16713 non-null  object \n",
      " 1   Platform         16715 non-null  object \n",
      " 2   Year_of_Release  16446 non-null  float64\n",
      " 3   Genre            16713 non-null  object \n",
      " 4   NA_sales         16715 non-null  float64\n",
      " 5   EU_sales         16715 non-null  float64\n",
      " 6   JP_sales         16715 non-null  float64\n",
      " 7   Other_sales      16715 non-null  float64\n",
      " 8   Critic_Score     8137 non-null   float64\n",
      " 9   User_Score       10014 non-null  object \n",
      " 10  Rating           9949 non-null   object \n",
      "dtypes: float64(6), object(5)\n",
      "memory usage: 1.4+ MB\n"
     ]
    }
   ],
   "source": [
    "data.info()"
   ]
  },
  {
   "cell_type": "markdown",
   "id": "add6c6cc-23be-47ca-a03b-b9c201dfccaa",
   "metadata": {},
   "source": [
    "## 2.Подготовка данных ##"
   ]
  },
  {
   "cell_type": "code",
   "execution_count": 6,
   "id": "2485093a-f4b9-4242-8a7c-3d834099ba28",
   "metadata": {},
   "outputs": [],
   "source": [
    "data.columns = data.columns.str.lower()"
   ]
  },
  {
   "cell_type": "code",
   "execution_count": 7,
   "id": "b413fac5-f463-4fa6-af92-23294b330510",
   "metadata": {},
   "outputs": [
    {
     "data": {
      "text/html": [
       "<div>\n",
       "<style scoped>\n",
       "    .dataframe tbody tr th:only-of-type {\n",
       "        vertical-align: middle;\n",
       "    }\n",
       "\n",
       "    .dataframe tbody tr th {\n",
       "        vertical-align: top;\n",
       "    }\n",
       "\n",
       "    .dataframe thead th {\n",
       "        text-align: right;\n",
       "    }\n",
       "</style>\n",
       "<table border=\"1\" class=\"dataframe\">\n",
       "  <thead>\n",
       "    <tr style=\"text-align: right;\">\n",
       "      <th></th>\n",
       "      <th>name</th>\n",
       "      <th>platform</th>\n",
       "      <th>year_of_release</th>\n",
       "      <th>genre</th>\n",
       "      <th>na_sales</th>\n",
       "      <th>eu_sales</th>\n",
       "      <th>jp_sales</th>\n",
       "      <th>other_sales</th>\n",
       "      <th>critic_score</th>\n",
       "      <th>user_score</th>\n",
       "      <th>rating</th>\n",
       "    </tr>\n",
       "  </thead>\n",
       "  <tbody>\n",
       "    <tr>\n",
       "      <th>0</th>\n",
       "      <td>Wii Sports</td>\n",
       "      <td>Wii</td>\n",
       "      <td>2006.0</td>\n",
       "      <td>Sports</td>\n",
       "      <td>41.36</td>\n",
       "      <td>28.96</td>\n",
       "      <td>3.77</td>\n",
       "      <td>8.45</td>\n",
       "      <td>76.0</td>\n",
       "      <td>8</td>\n",
       "      <td>E</td>\n",
       "    </tr>\n",
       "    <tr>\n",
       "      <th>1</th>\n",
       "      <td>Super Mario Bros.</td>\n",
       "      <td>NES</td>\n",
       "      <td>1985.0</td>\n",
       "      <td>Platform</td>\n",
       "      <td>29.08</td>\n",
       "      <td>3.58</td>\n",
       "      <td>6.81</td>\n",
       "      <td>0.77</td>\n",
       "      <td>NaN</td>\n",
       "      <td>NaN</td>\n",
       "      <td>NaN</td>\n",
       "    </tr>\n",
       "    <tr>\n",
       "      <th>2</th>\n",
       "      <td>Mario Kart Wii</td>\n",
       "      <td>Wii</td>\n",
       "      <td>2008.0</td>\n",
       "      <td>Racing</td>\n",
       "      <td>15.68</td>\n",
       "      <td>12.76</td>\n",
       "      <td>3.79</td>\n",
       "      <td>3.29</td>\n",
       "      <td>82.0</td>\n",
       "      <td>8.3</td>\n",
       "      <td>E</td>\n",
       "    </tr>\n",
       "    <tr>\n",
       "      <th>3</th>\n",
       "      <td>Wii Sports Resort</td>\n",
       "      <td>Wii</td>\n",
       "      <td>2009.0</td>\n",
       "      <td>Sports</td>\n",
       "      <td>15.61</td>\n",
       "      <td>10.93</td>\n",
       "      <td>3.28</td>\n",
       "      <td>2.95</td>\n",
       "      <td>80.0</td>\n",
       "      <td>8</td>\n",
       "      <td>E</td>\n",
       "    </tr>\n",
       "    <tr>\n",
       "      <th>4</th>\n",
       "      <td>Pokemon Red/Pokemon Blue</td>\n",
       "      <td>GB</td>\n",
       "      <td>1996.0</td>\n",
       "      <td>Role-Playing</td>\n",
       "      <td>11.27</td>\n",
       "      <td>8.89</td>\n",
       "      <td>10.22</td>\n",
       "      <td>1.00</td>\n",
       "      <td>NaN</td>\n",
       "      <td>NaN</td>\n",
       "      <td>NaN</td>\n",
       "    </tr>\n",
       "    <tr>\n",
       "      <th>5</th>\n",
       "      <td>Tetris</td>\n",
       "      <td>GB</td>\n",
       "      <td>1989.0</td>\n",
       "      <td>Puzzle</td>\n",
       "      <td>23.20</td>\n",
       "      <td>2.26</td>\n",
       "      <td>4.22</td>\n",
       "      <td>0.58</td>\n",
       "      <td>NaN</td>\n",
       "      <td>NaN</td>\n",
       "      <td>NaN</td>\n",
       "    </tr>\n",
       "    <tr>\n",
       "      <th>6</th>\n",
       "      <td>New Super Mario Bros.</td>\n",
       "      <td>DS</td>\n",
       "      <td>2006.0</td>\n",
       "      <td>Platform</td>\n",
       "      <td>11.28</td>\n",
       "      <td>9.14</td>\n",
       "      <td>6.50</td>\n",
       "      <td>2.88</td>\n",
       "      <td>89.0</td>\n",
       "      <td>8.5</td>\n",
       "      <td>E</td>\n",
       "    </tr>\n",
       "    <tr>\n",
       "      <th>7</th>\n",
       "      <td>Wii Play</td>\n",
       "      <td>Wii</td>\n",
       "      <td>2006.0</td>\n",
       "      <td>Misc</td>\n",
       "      <td>13.96</td>\n",
       "      <td>9.18</td>\n",
       "      <td>2.93</td>\n",
       "      <td>2.84</td>\n",
       "      <td>58.0</td>\n",
       "      <td>6.6</td>\n",
       "      <td>E</td>\n",
       "    </tr>\n",
       "    <tr>\n",
       "      <th>8</th>\n",
       "      <td>New Super Mario Bros. Wii</td>\n",
       "      <td>Wii</td>\n",
       "      <td>2009.0</td>\n",
       "      <td>Platform</td>\n",
       "      <td>14.44</td>\n",
       "      <td>6.94</td>\n",
       "      <td>4.70</td>\n",
       "      <td>2.24</td>\n",
       "      <td>87.0</td>\n",
       "      <td>8.4</td>\n",
       "      <td>E</td>\n",
       "    </tr>\n",
       "    <tr>\n",
       "      <th>9</th>\n",
       "      <td>Duck Hunt</td>\n",
       "      <td>NES</td>\n",
       "      <td>1984.0</td>\n",
       "      <td>Shooter</td>\n",
       "      <td>26.93</td>\n",
       "      <td>0.63</td>\n",
       "      <td>0.28</td>\n",
       "      <td>0.47</td>\n",
       "      <td>NaN</td>\n",
       "      <td>NaN</td>\n",
       "      <td>NaN</td>\n",
       "    </tr>\n",
       "    <tr>\n",
       "      <th>10</th>\n",
       "      <td>Nintendogs</td>\n",
       "      <td>DS</td>\n",
       "      <td>2005.0</td>\n",
       "      <td>Simulation</td>\n",
       "      <td>9.05</td>\n",
       "      <td>10.95</td>\n",
       "      <td>1.93</td>\n",
       "      <td>2.74</td>\n",
       "      <td>NaN</td>\n",
       "      <td>NaN</td>\n",
       "      <td>NaN</td>\n",
       "    </tr>\n",
       "    <tr>\n",
       "      <th>11</th>\n",
       "      <td>Mario Kart DS</td>\n",
       "      <td>DS</td>\n",
       "      <td>2005.0</td>\n",
       "      <td>Racing</td>\n",
       "      <td>9.71</td>\n",
       "      <td>7.47</td>\n",
       "      <td>4.13</td>\n",
       "      <td>1.90</td>\n",
       "      <td>91.0</td>\n",
       "      <td>8.6</td>\n",
       "      <td>E</td>\n",
       "    </tr>\n",
       "    <tr>\n",
       "      <th>12</th>\n",
       "      <td>Pokemon Gold/Pokemon Silver</td>\n",
       "      <td>GB</td>\n",
       "      <td>1999.0</td>\n",
       "      <td>Role-Playing</td>\n",
       "      <td>9.00</td>\n",
       "      <td>6.18</td>\n",
       "      <td>7.20</td>\n",
       "      <td>0.71</td>\n",
       "      <td>NaN</td>\n",
       "      <td>NaN</td>\n",
       "      <td>NaN</td>\n",
       "    </tr>\n",
       "    <tr>\n",
       "      <th>13</th>\n",
       "      <td>Wii Fit</td>\n",
       "      <td>Wii</td>\n",
       "      <td>2007.0</td>\n",
       "      <td>Sports</td>\n",
       "      <td>8.92</td>\n",
       "      <td>8.03</td>\n",
       "      <td>3.60</td>\n",
       "      <td>2.15</td>\n",
       "      <td>80.0</td>\n",
       "      <td>7.7</td>\n",
       "      <td>E</td>\n",
       "    </tr>\n",
       "    <tr>\n",
       "      <th>14</th>\n",
       "      <td>Kinect Adventures!</td>\n",
       "      <td>X360</td>\n",
       "      <td>2010.0</td>\n",
       "      <td>Misc</td>\n",
       "      <td>15.00</td>\n",
       "      <td>4.89</td>\n",
       "      <td>0.24</td>\n",
       "      <td>1.69</td>\n",
       "      <td>61.0</td>\n",
       "      <td>6.3</td>\n",
       "      <td>E</td>\n",
       "    </tr>\n",
       "    <tr>\n",
       "      <th>15</th>\n",
       "      <td>Wii Fit Plus</td>\n",
       "      <td>Wii</td>\n",
       "      <td>2009.0</td>\n",
       "      <td>Sports</td>\n",
       "      <td>9.01</td>\n",
       "      <td>8.49</td>\n",
       "      <td>2.53</td>\n",
       "      <td>1.77</td>\n",
       "      <td>80.0</td>\n",
       "      <td>7.4</td>\n",
       "      <td>E</td>\n",
       "    </tr>\n",
       "    <tr>\n",
       "      <th>16</th>\n",
       "      <td>Grand Theft Auto V</td>\n",
       "      <td>PS3</td>\n",
       "      <td>2013.0</td>\n",
       "      <td>Action</td>\n",
       "      <td>7.02</td>\n",
       "      <td>9.09</td>\n",
       "      <td>0.98</td>\n",
       "      <td>3.96</td>\n",
       "      <td>97.0</td>\n",
       "      <td>8.2</td>\n",
       "      <td>M</td>\n",
       "    </tr>\n",
       "    <tr>\n",
       "      <th>17</th>\n",
       "      <td>Grand Theft Auto: San Andreas</td>\n",
       "      <td>PS2</td>\n",
       "      <td>2004.0</td>\n",
       "      <td>Action</td>\n",
       "      <td>9.43</td>\n",
       "      <td>0.40</td>\n",
       "      <td>0.41</td>\n",
       "      <td>10.57</td>\n",
       "      <td>95.0</td>\n",
       "      <td>9</td>\n",
       "      <td>M</td>\n",
       "    </tr>\n",
       "    <tr>\n",
       "      <th>18</th>\n",
       "      <td>Super Mario World</td>\n",
       "      <td>SNES</td>\n",
       "      <td>1990.0</td>\n",
       "      <td>Platform</td>\n",
       "      <td>12.78</td>\n",
       "      <td>3.75</td>\n",
       "      <td>3.54</td>\n",
       "      <td>0.55</td>\n",
       "      <td>NaN</td>\n",
       "      <td>NaN</td>\n",
       "      <td>NaN</td>\n",
       "    </tr>\n",
       "    <tr>\n",
       "      <th>19</th>\n",
       "      <td>Brain Age: Train Your Brain in Minutes a Day</td>\n",
       "      <td>DS</td>\n",
       "      <td>2005.0</td>\n",
       "      <td>Misc</td>\n",
       "      <td>4.74</td>\n",
       "      <td>9.20</td>\n",
       "      <td>4.16</td>\n",
       "      <td>2.04</td>\n",
       "      <td>77.0</td>\n",
       "      <td>7.9</td>\n",
       "      <td>E</td>\n",
       "    </tr>\n",
       "  </tbody>\n",
       "</table>\n",
       "</div>"
      ],
      "text/plain": [
       "                                            name platform  year_of_release  \\\n",
       "0                                     Wii Sports      Wii           2006.0   \n",
       "1                              Super Mario Bros.      NES           1985.0   \n",
       "2                                 Mario Kart Wii      Wii           2008.0   \n",
       "3                              Wii Sports Resort      Wii           2009.0   \n",
       "4                       Pokemon Red/Pokemon Blue       GB           1996.0   \n",
       "5                                         Tetris       GB           1989.0   \n",
       "6                          New Super Mario Bros.       DS           2006.0   \n",
       "7                                       Wii Play      Wii           2006.0   \n",
       "8                      New Super Mario Bros. Wii      Wii           2009.0   \n",
       "9                                      Duck Hunt      NES           1984.0   \n",
       "10                                    Nintendogs       DS           2005.0   \n",
       "11                                 Mario Kart DS       DS           2005.0   \n",
       "12                   Pokemon Gold/Pokemon Silver       GB           1999.0   \n",
       "13                                       Wii Fit      Wii           2007.0   \n",
       "14                            Kinect Adventures!     X360           2010.0   \n",
       "15                                  Wii Fit Plus      Wii           2009.0   \n",
       "16                            Grand Theft Auto V      PS3           2013.0   \n",
       "17                 Grand Theft Auto: San Andreas      PS2           2004.0   \n",
       "18                             Super Mario World     SNES           1990.0   \n",
       "19  Brain Age: Train Your Brain in Minutes a Day       DS           2005.0   \n",
       "\n",
       "           genre  na_sales  eu_sales  jp_sales  other_sales  critic_score  \\\n",
       "0         Sports     41.36     28.96      3.77         8.45          76.0   \n",
       "1       Platform     29.08      3.58      6.81         0.77           NaN   \n",
       "2         Racing     15.68     12.76      3.79         3.29          82.0   \n",
       "3         Sports     15.61     10.93      3.28         2.95          80.0   \n",
       "4   Role-Playing     11.27      8.89     10.22         1.00           NaN   \n",
       "5         Puzzle     23.20      2.26      4.22         0.58           NaN   \n",
       "6       Platform     11.28      9.14      6.50         2.88          89.0   \n",
       "7           Misc     13.96      9.18      2.93         2.84          58.0   \n",
       "8       Platform     14.44      6.94      4.70         2.24          87.0   \n",
       "9        Shooter     26.93      0.63      0.28         0.47           NaN   \n",
       "10    Simulation      9.05     10.95      1.93         2.74           NaN   \n",
       "11        Racing      9.71      7.47      4.13         1.90          91.0   \n",
       "12  Role-Playing      9.00      6.18      7.20         0.71           NaN   \n",
       "13        Sports      8.92      8.03      3.60         2.15          80.0   \n",
       "14          Misc     15.00      4.89      0.24         1.69          61.0   \n",
       "15        Sports      9.01      8.49      2.53         1.77          80.0   \n",
       "16        Action      7.02      9.09      0.98         3.96          97.0   \n",
       "17        Action      9.43      0.40      0.41        10.57          95.0   \n",
       "18      Platform     12.78      3.75      3.54         0.55           NaN   \n",
       "19          Misc      4.74      9.20      4.16         2.04          77.0   \n",
       "\n",
       "   user_score rating  \n",
       "0           8      E  \n",
       "1         NaN    NaN  \n",
       "2         8.3      E  \n",
       "3           8      E  \n",
       "4         NaN    NaN  \n",
       "5         NaN    NaN  \n",
       "6         8.5      E  \n",
       "7         6.6      E  \n",
       "8         8.4      E  \n",
       "9         NaN    NaN  \n",
       "10        NaN    NaN  \n",
       "11        8.6      E  \n",
       "12        NaN    NaN  \n",
       "13        7.7      E  \n",
       "14        6.3      E  \n",
       "15        7.4      E  \n",
       "16        8.2      M  \n",
       "17          9      M  \n",
       "18        NaN    NaN  \n",
       "19        7.9      E  "
      ]
     },
     "execution_count": 7,
     "metadata": {},
     "output_type": "execute_result"
    }
   ],
   "source": [
    "data.head(20)"
   ]
  },
  {
   "cell_type": "code",
   "execution_count": 8,
   "id": "88219585-b2b1-4308-a90c-82fcd8d4d89d",
   "metadata": {},
   "outputs": [
    {
     "data": {
      "text/plain": [
       "name                0.011965\n",
       "platform            0.000000\n",
       "year_of_release     1.609333\n",
       "genre               0.011965\n",
       "na_sales            0.000000\n",
       "eu_sales            0.000000\n",
       "jp_sales            0.000000\n",
       "other_sales         0.000000\n",
       "critic_score       51.319174\n",
       "user_score         40.089740\n",
       "rating             40.478612\n",
       "dtype: float64"
      ]
     },
     "execution_count": 8,
     "metadata": {},
     "output_type": "execute_result"
    }
   ],
   "source": [
    "data.isnull().sum()*100/len(data)"
   ]
  },
  {
   "cell_type": "code",
   "execution_count": 10,
   "id": "15d7a74e-bdcc-4503-bdb5-fde226515ef7",
   "metadata": {},
   "outputs": [
    {
     "data": {
      "text/plain": [
       "2"
      ]
     },
     "execution_count": 10,
     "metadata": {},
     "output_type": "execute_result"
    }
   ],
   "source": [
    "data['name'].isna().sum()"
   ]
  },
  {
   "cell_type": "markdown",
   "id": "d1d4069d-458d-4524-a68b-780e129fdfb9",
   "metadata": {},
   "source": [
    "Всего 2 пропуска в столбце 'name'. Считаю, что можно их удалить"
   ]
  },
  {
   "cell_type": "code",
   "execution_count": 11,
   "id": "6eb523eb-6d23-4abf-a270-95bf590a179e",
   "metadata": {},
   "outputs": [
    {
     "name": "stdout",
     "output_type": "stream",
     "text": [
      "<class 'pandas.core.frame.DataFrame'>\n",
      "Int64Index: 16713 entries, 0 to 16714\n",
      "Data columns (total 11 columns):\n",
      " #   Column           Non-Null Count  Dtype  \n",
      "---  ------           --------------  -----  \n",
      " 0   name             16713 non-null  object \n",
      " 1   platform         16713 non-null  object \n",
      " 2   year_of_release  16444 non-null  float64\n",
      " 3   genre            16713 non-null  object \n",
      " 4   na_sales         16713 non-null  float64\n",
      " 5   eu_sales         16713 non-null  float64\n",
      " 6   jp_sales         16713 non-null  float64\n",
      " 7   other_sales      16713 non-null  float64\n",
      " 8   critic_score     8137 non-null   float64\n",
      " 9   user_score       10014 non-null  object \n",
      " 10  rating           9949 non-null   object \n",
      "dtypes: float64(6), object(5)\n",
      "memory usage: 1.5+ MB\n"
     ]
    }
   ],
   "source": [
    "data = data.dropna(subset = ['name'])\n",
    "data.info()"
   ]
  },
  {
   "cell_type": "markdown",
   "id": "59288ff5-7f2f-493e-9cb2-524bf34a665a",
   "metadata": {},
   "source": [
    "Процент пропусков в столбце год выпуска крайне мал (1,6%). Для дальнейшего анализа по годам они не нужны, считаю можно их удалить."
   ]
  },
  {
   "cell_type": "code",
   "execution_count": 12,
   "id": "1c1e80fc-0e8f-4fc8-bbda-c1384ffd7047",
   "metadata": {},
   "outputs": [
    {
     "name": "stdout",
     "output_type": "stream",
     "text": [
      "<class 'pandas.core.frame.DataFrame'>\n",
      "Int64Index: 16444 entries, 0 to 16714\n",
      "Data columns (total 11 columns):\n",
      " #   Column           Non-Null Count  Dtype  \n",
      "---  ------           --------------  -----  \n",
      " 0   name             16444 non-null  object \n",
      " 1   platform         16444 non-null  object \n",
      " 2   year_of_release  16444 non-null  float64\n",
      " 3   genre            16444 non-null  object \n",
      " 4   na_sales         16444 non-null  float64\n",
      " 5   eu_sales         16444 non-null  float64\n",
      " 6   jp_sales         16444 non-null  float64\n",
      " 7   other_sales      16444 non-null  float64\n",
      " 8   critic_score     7983 non-null   float64\n",
      " 9   user_score       9839 non-null   object \n",
      " 10  rating           9768 non-null   object \n",
      "dtypes: float64(6), object(5)\n",
      "memory usage: 1.5+ MB\n"
     ]
    }
   ],
   "source": [
    "data = data[data['year_of_release'].notna()]\n",
    "data.info()"
   ]
  },
  {
   "cell_type": "markdown",
   "id": "19d91824-de15-402c-a7e3-f9bafa907cbc",
   "metadata": {},
   "source": [
    "Процент пропусков в столбцах оценок критиков, пользователей и рейтинга очень высок. Однако эти пропуски заменить нечем. Оценки индивидуальны."
   ]
  },
  {
   "cell_type": "code",
   "execution_count": 13,
   "id": "9ca6d214-a5fc-49f3-847d-f466840cc723",
   "metadata": {},
   "outputs": [
    {
     "data": {
      "text/plain": [
       "array(['0', '0.2', '0.3', '0.5', '0.6', '0.7', '0.9', '1', '1.1', '1.2',\n",
       "       '1.3', '1.4', '1.5', '1.6', '1.7', '1.8', '1.9', '2', '2.1', '2.2',\n",
       "       '2.3', '2.4', '2.5', '2.6', '2.7', '2.8', '2.9', '3', '3.1', '3.2',\n",
       "       '3.3', '3.4', '3.5', '3.6', '3.7', '3.8', '3.9', '4', '4.1', '4.2',\n",
       "       '4.3', '4.4', '4.5', '4.6', '4.7', '4.8', '4.9', '5', '5.1', '5.2',\n",
       "       '5.3', '5.4', '5.5', '5.6', '5.7', '5.8', '5.9', '6', '6.1', '6.2',\n",
       "       '6.3', '6.4', '6.5', '6.6', '6.7', '6.8', '6.9', '7', '7.1', '7.2',\n",
       "       '7.3', '7.4', '7.5', '7.6', '7.7', '7.8', '7.9', '8', '8.1', '8.2',\n",
       "       '8.3', '8.4', '8.5', '8.6', '8.7', '8.8', '8.9', '9', '9.1', '9.2',\n",
       "       '9.3', '9.4', '9.5', '9.6', '9.7', 'tbd', nan], dtype=object)"
      ]
     },
     "execution_count": 13,
     "metadata": {},
     "output_type": "execute_result"
    }
   ],
   "source": [
    "data['user_score'].sort_values().unique()"
   ]
  },
  {
   "cell_type": "markdown",
   "id": "f2efff36-43c6-4024-b892-d38483a394f8",
   "metadata": {},
   "source": [
    "Аббревиатура 'tbd' означает, что оценка не определена. Заменю на NAN"
   ]
  },
  {
   "cell_type": "code",
   "execution_count": 14,
   "id": "0d1ff84e-593d-47d9-8ccf-bfaa686aee34",
   "metadata": {},
   "outputs": [
    {
     "data": {
      "text/plain": [
       "array(['0', '0.2', '0.3', '0.5', '0.6', '0.7', '0.9', '1', '1.1', '1.2',\n",
       "       '1.3', '1.4', '1.5', '1.6', '1.7', '1.8', '1.9', '2', '2.1', '2.2',\n",
       "       '2.3', '2.4', '2.5', '2.6', '2.7', '2.8', '2.9', '3', '3.1', '3.2',\n",
       "       '3.3', '3.4', '3.5', '3.6', '3.7', '3.8', '3.9', '4', '4.1', '4.2',\n",
       "       '4.3', '4.4', '4.5', '4.6', '4.7', '4.8', '4.9', '5', '5.1', '5.2',\n",
       "       '5.3', '5.4', '5.5', '5.6', '5.7', '5.8', '5.9', '6', '6.1', '6.2',\n",
       "       '6.3', '6.4', '6.5', '6.6', '6.7', '6.8', '6.9', '7', '7.1', '7.2',\n",
       "       '7.3', '7.4', '7.5', '7.6', '7.7', '7.8', '7.9', '8', '8.1', '8.2',\n",
       "       '8.3', '8.4', '8.5', '8.6', '8.7', '8.8', '8.9', '9', '9.1', '9.2',\n",
       "       '9.3', '9.4', '9.5', '9.6', '9.7', nan], dtype=object)"
      ]
     },
     "execution_count": 14,
     "metadata": {},
     "output_type": "execute_result"
    }
   ],
   "source": [
    "data['user_score']=data['user_score'].replace({'tbd':np.NaN})\n",
    "data['user_score'].sort_values().unique()"
   ]
  },
  {
   "cell_type": "code",
   "execution_count": 15,
   "id": "4e6f2158-3054-495a-a681-f57437a84a43",
   "metadata": {},
   "outputs": [
    {
     "data": {
      "text/plain": [
       "array(['AO', 'E', 'E10+', 'EC', 'K-A', 'M', 'RP', 'T', nan], dtype=object)"
      ]
     },
     "execution_count": 15,
     "metadata": {},
     "output_type": "execute_result"
    }
   ],
   "source": [
    "data['rating'].sort_values().unique()"
   ]
  },
  {
   "cell_type": "code",
   "execution_count": 16,
   "id": "c3058f0f",
   "metadata": {},
   "outputs": [],
   "source": [
    "data['year_of_release'] = data['year_of_release'].astype('int')"
   ]
  },
  {
   "cell_type": "code",
   "execution_count": 17,
   "id": "c7556468",
   "metadata": {},
   "outputs": [],
   "source": [
    "data['critic_score'] = data['critic_score'].astype('float')"
   ]
  },
  {
   "cell_type": "code",
   "execution_count": 18,
   "id": "b3f0fe9b",
   "metadata": {},
   "outputs": [],
   "source": [
    "data['user_score'] = data['user_score'].astype('float')"
   ]
  },
  {
   "cell_type": "code",
   "execution_count": 19,
   "id": "67c01411-60d5-4419-adf9-eb4751e47156",
   "metadata": {},
   "outputs": [
    {
     "name": "stdout",
     "output_type": "stream",
     "text": [
      "<class 'pandas.core.frame.DataFrame'>\n",
      "Int64Index: 16444 entries, 0 to 16714\n",
      "Data columns (total 11 columns):\n",
      " #   Column           Non-Null Count  Dtype  \n",
      "---  ------           --------------  -----  \n",
      " 0   name             16444 non-null  object \n",
      " 1   platform         16444 non-null  object \n",
      " 2   year_of_release  16444 non-null  int64  \n",
      " 3   genre            16444 non-null  object \n",
      " 4   na_sales         16444 non-null  float64\n",
      " 5   eu_sales         16444 non-null  float64\n",
      " 6   jp_sales         16444 non-null  float64\n",
      " 7   other_sales      16444 non-null  float64\n",
      " 8   critic_score     7983 non-null   float64\n",
      " 9   user_score       7463 non-null   float64\n",
      " 10  rating           9768 non-null   object \n",
      "dtypes: float64(6), int64(1), object(4)\n",
      "memory usage: 1.5+ MB\n"
     ]
    }
   ],
   "source": [
    "data.info()"
   ]
  },
  {
   "cell_type": "markdown",
   "id": "331f17fb",
   "metadata": {},
   "source": [
    "Большое количество пропусков в оценках пользователей и критиков возможно связано с тем, что многие пользователи и критики, покупая игры, не оставляли свои оценки."
   ]
  },
  {
   "cell_type": "markdown",
   "id": "aee203d1-8b08-4aeb-8598-51a504916ba6",
   "metadata": {},
   "source": [
    "**Суммарные продажи**"
   ]
  },
  {
   "cell_type": "code",
   "execution_count": 20,
   "id": "22d2832c-bcb6-4996-8e9f-516668a974a8",
   "metadata": {},
   "outputs": [
    {
     "data": {
      "text/html": [
       "<div>\n",
       "<style scoped>\n",
       "    .dataframe tbody tr th:only-of-type {\n",
       "        vertical-align: middle;\n",
       "    }\n",
       "\n",
       "    .dataframe tbody tr th {\n",
       "        vertical-align: top;\n",
       "    }\n",
       "\n",
       "    .dataframe thead th {\n",
       "        text-align: right;\n",
       "    }\n",
       "</style>\n",
       "<table border=\"1\" class=\"dataframe\">\n",
       "  <thead>\n",
       "    <tr style=\"text-align: right;\">\n",
       "      <th></th>\n",
       "      <th>name</th>\n",
       "      <th>platform</th>\n",
       "      <th>year_of_release</th>\n",
       "      <th>genre</th>\n",
       "      <th>na_sales</th>\n",
       "      <th>eu_sales</th>\n",
       "      <th>jp_sales</th>\n",
       "      <th>other_sales</th>\n",
       "      <th>critic_score</th>\n",
       "      <th>user_score</th>\n",
       "      <th>rating</th>\n",
       "      <th>total_sales</th>\n",
       "    </tr>\n",
       "  </thead>\n",
       "  <tbody>\n",
       "    <tr>\n",
       "      <th>0</th>\n",
       "      <td>Wii Sports</td>\n",
       "      <td>Wii</td>\n",
       "      <td>2006</td>\n",
       "      <td>Sports</td>\n",
       "      <td>41.36</td>\n",
       "      <td>28.96</td>\n",
       "      <td>3.77</td>\n",
       "      <td>8.45</td>\n",
       "      <td>76.0</td>\n",
       "      <td>8.0</td>\n",
       "      <td>E</td>\n",
       "      <td>82.54</td>\n",
       "    </tr>\n",
       "    <tr>\n",
       "      <th>1</th>\n",
       "      <td>Super Mario Bros.</td>\n",
       "      <td>NES</td>\n",
       "      <td>1985</td>\n",
       "      <td>Platform</td>\n",
       "      <td>29.08</td>\n",
       "      <td>3.58</td>\n",
       "      <td>6.81</td>\n",
       "      <td>0.77</td>\n",
       "      <td>NaN</td>\n",
       "      <td>NaN</td>\n",
       "      <td>NaN</td>\n",
       "      <td>40.24</td>\n",
       "    </tr>\n",
       "    <tr>\n",
       "      <th>2</th>\n",
       "      <td>Mario Kart Wii</td>\n",
       "      <td>Wii</td>\n",
       "      <td>2008</td>\n",
       "      <td>Racing</td>\n",
       "      <td>15.68</td>\n",
       "      <td>12.76</td>\n",
       "      <td>3.79</td>\n",
       "      <td>3.29</td>\n",
       "      <td>82.0</td>\n",
       "      <td>8.3</td>\n",
       "      <td>E</td>\n",
       "      <td>35.52</td>\n",
       "    </tr>\n",
       "    <tr>\n",
       "      <th>3</th>\n",
       "      <td>Wii Sports Resort</td>\n",
       "      <td>Wii</td>\n",
       "      <td>2009</td>\n",
       "      <td>Sports</td>\n",
       "      <td>15.61</td>\n",
       "      <td>10.93</td>\n",
       "      <td>3.28</td>\n",
       "      <td>2.95</td>\n",
       "      <td>80.0</td>\n",
       "      <td>8.0</td>\n",
       "      <td>E</td>\n",
       "      <td>32.77</td>\n",
       "    </tr>\n",
       "    <tr>\n",
       "      <th>4</th>\n",
       "      <td>Pokemon Red/Pokemon Blue</td>\n",
       "      <td>GB</td>\n",
       "      <td>1996</td>\n",
       "      <td>Role-Playing</td>\n",
       "      <td>11.27</td>\n",
       "      <td>8.89</td>\n",
       "      <td>10.22</td>\n",
       "      <td>1.00</td>\n",
       "      <td>NaN</td>\n",
       "      <td>NaN</td>\n",
       "      <td>NaN</td>\n",
       "      <td>31.38</td>\n",
       "    </tr>\n",
       "  </tbody>\n",
       "</table>\n",
       "</div>"
      ],
      "text/plain": [
       "                       name platform  year_of_release         genre  na_sales  \\\n",
       "0                Wii Sports      Wii             2006        Sports     41.36   \n",
       "1         Super Mario Bros.      NES             1985      Platform     29.08   \n",
       "2            Mario Kart Wii      Wii             2008        Racing     15.68   \n",
       "3         Wii Sports Resort      Wii             2009        Sports     15.61   \n",
       "4  Pokemon Red/Pokemon Blue       GB             1996  Role-Playing     11.27   \n",
       "\n",
       "   eu_sales  jp_sales  other_sales  critic_score  user_score rating  \\\n",
       "0     28.96      3.77         8.45          76.0         8.0      E   \n",
       "1      3.58      6.81         0.77           NaN         NaN    NaN   \n",
       "2     12.76      3.79         3.29          82.0         8.3      E   \n",
       "3     10.93      3.28         2.95          80.0         8.0      E   \n",
       "4      8.89     10.22         1.00           NaN         NaN    NaN   \n",
       "\n",
       "   total_sales  \n",
       "0        82.54  \n",
       "1        40.24  \n",
       "2        35.52  \n",
       "3        32.77  \n",
       "4        31.38  "
      ]
     },
     "execution_count": 20,
     "metadata": {},
     "output_type": "execute_result"
    }
   ],
   "source": [
    "data['total_sales'] = (data['na_sales'] + data['eu_sales'] + data['jp_sales'] + data['other_sales'])\n",
    "data.head()"
   ]
  },
  {
   "cell_type": "markdown",
   "id": "87a0119e-c4f9-4662-9650-a8c7211a05a3",
   "metadata": {},
   "source": [
    "**Удаление дубликатов**"
   ]
  },
  {
   "cell_type": "code",
   "execution_count": 21,
   "id": "5ddc193d-45ec-4691-b8e0-b3afec29f821",
   "metadata": {},
   "outputs": [
    {
     "name": "stdout",
     "output_type": "stream",
     "text": [
      "<class 'pandas.core.frame.DataFrame'>\n",
      "Int64Index: 16444 entries, 0 to 16714\n",
      "Data columns (total 12 columns):\n",
      " #   Column           Non-Null Count  Dtype  \n",
      "---  ------           --------------  -----  \n",
      " 0   name             16444 non-null  object \n",
      " 1   platform         16444 non-null  object \n",
      " 2   year_of_release  16444 non-null  int64  \n",
      " 3   genre            16444 non-null  object \n",
      " 4   na_sales         16444 non-null  float64\n",
      " 5   eu_sales         16444 non-null  float64\n",
      " 6   jp_sales         16444 non-null  float64\n",
      " 7   other_sales      16444 non-null  float64\n",
      " 8   critic_score     7983 non-null   float64\n",
      " 9   user_score       7463 non-null   float64\n",
      " 10  rating           9768 non-null   object \n",
      " 11  total_sales      16444 non-null  float64\n",
      "dtypes: float64(7), int64(1), object(4)\n",
      "memory usage: 1.6+ MB\n"
     ]
    }
   ],
   "source": [
    "data.drop_duplicates()\n",
    "data.info()"
   ]
  },
  {
   "cell_type": "code",
   "execution_count": 22,
   "id": "ed74e759",
   "metadata": {},
   "outputs": [
    {
     "data": {
      "text/plain": [
       "1"
      ]
     },
     "execution_count": 22,
     "metadata": {},
     "output_type": "execute_result"
    }
   ],
   "source": [
    "data.duplicated(subset=['name', 'platform', 'year_of_release']).sum()"
   ]
  },
  {
   "cell_type": "code",
   "execution_count": 23,
   "id": "e8d3257b",
   "metadata": {},
   "outputs": [
    {
     "data": {
      "text/html": [
       "<div>\n",
       "<style scoped>\n",
       "    .dataframe tbody tr th:only-of-type {\n",
       "        vertical-align: middle;\n",
       "    }\n",
       "\n",
       "    .dataframe tbody tr th {\n",
       "        vertical-align: top;\n",
       "    }\n",
       "\n",
       "    .dataframe thead th {\n",
       "        text-align: right;\n",
       "    }\n",
       "</style>\n",
       "<table border=\"1\" class=\"dataframe\">\n",
       "  <thead>\n",
       "    <tr style=\"text-align: right;\">\n",
       "      <th></th>\n",
       "      <th>name</th>\n",
       "      <th>platform</th>\n",
       "      <th>year_of_release</th>\n",
       "      <th>genre</th>\n",
       "      <th>na_sales</th>\n",
       "      <th>eu_sales</th>\n",
       "      <th>jp_sales</th>\n",
       "      <th>other_sales</th>\n",
       "      <th>critic_score</th>\n",
       "      <th>user_score</th>\n",
       "      <th>rating</th>\n",
       "      <th>total_sales</th>\n",
       "    </tr>\n",
       "  </thead>\n",
       "  <tbody>\n",
       "    <tr>\n",
       "      <th>604</th>\n",
       "      <td>Madden NFL 13</td>\n",
       "      <td>PS3</td>\n",
       "      <td>2012</td>\n",
       "      <td>Sports</td>\n",
       "      <td>2.11</td>\n",
       "      <td>0.22</td>\n",
       "      <td>0.0</td>\n",
       "      <td>0.23</td>\n",
       "      <td>83.0</td>\n",
       "      <td>5.5</td>\n",
       "      <td>E</td>\n",
       "      <td>2.56</td>\n",
       "    </tr>\n",
       "    <tr>\n",
       "      <th>16230</th>\n",
       "      <td>Madden NFL 13</td>\n",
       "      <td>PS3</td>\n",
       "      <td>2012</td>\n",
       "      <td>Sports</td>\n",
       "      <td>0.00</td>\n",
       "      <td>0.01</td>\n",
       "      <td>0.0</td>\n",
       "      <td>0.00</td>\n",
       "      <td>83.0</td>\n",
       "      <td>5.5</td>\n",
       "      <td>E</td>\n",
       "      <td>0.01</td>\n",
       "    </tr>\n",
       "  </tbody>\n",
       "</table>\n",
       "</div>"
      ],
      "text/plain": [
       "                name platform  year_of_release   genre  na_sales  eu_sales  \\\n",
       "604    Madden NFL 13      PS3             2012  Sports      2.11      0.22   \n",
       "16230  Madden NFL 13      PS3             2012  Sports      0.00      0.01   \n",
       "\n",
       "       jp_sales  other_sales  critic_score  user_score rating  total_sales  \n",
       "604         0.0         0.23          83.0         5.5      E         2.56  \n",
       "16230       0.0         0.00          83.0         5.5      E         0.01  "
      ]
     },
     "execution_count": 23,
     "metadata": {},
     "output_type": "execute_result"
    }
   ],
   "source": [
    "data.loc[data.duplicated(subset=['name', 'platform', 'year_of_release'], keep = False)]"
   ]
  },
  {
   "cell_type": "markdown",
   "id": "15ec4c41",
   "metadata": {},
   "source": [
    "Проверка на неявные дубликаты показала, что есть дубликаты, отличающиеся только по столбцу продаж в Европе. Просуммируем и оставим одну строку."
   ]
  },
  {
   "cell_type": "code",
   "execution_count": 24,
   "id": "fa325617",
   "metadata": {},
   "outputs": [],
   "source": [
    "data.loc[604, 'eu_sales'] = 0.23"
   ]
  },
  {
   "cell_type": "code",
   "execution_count": 25,
   "id": "0e6ad4ad",
   "metadata": {},
   "outputs": [
    {
     "data": {
      "text/html": [
       "<div>\n",
       "<style scoped>\n",
       "    .dataframe tbody tr th:only-of-type {\n",
       "        vertical-align: middle;\n",
       "    }\n",
       "\n",
       "    .dataframe tbody tr th {\n",
       "        vertical-align: top;\n",
       "    }\n",
       "\n",
       "    .dataframe thead th {\n",
       "        text-align: right;\n",
       "    }\n",
       "</style>\n",
       "<table border=\"1\" class=\"dataframe\">\n",
       "  <thead>\n",
       "    <tr style=\"text-align: right;\">\n",
       "      <th></th>\n",
       "      <th>name</th>\n",
       "      <th>platform</th>\n",
       "      <th>year_of_release</th>\n",
       "      <th>genre</th>\n",
       "      <th>na_sales</th>\n",
       "      <th>eu_sales</th>\n",
       "      <th>jp_sales</th>\n",
       "      <th>other_sales</th>\n",
       "      <th>critic_score</th>\n",
       "      <th>user_score</th>\n",
       "      <th>rating</th>\n",
       "      <th>total_sales</th>\n",
       "    </tr>\n",
       "  </thead>\n",
       "  <tbody>\n",
       "    <tr>\n",
       "      <th>0</th>\n",
       "      <td>Wii Sports</td>\n",
       "      <td>Wii</td>\n",
       "      <td>2006</td>\n",
       "      <td>Sports</td>\n",
       "      <td>41.36</td>\n",
       "      <td>28.96</td>\n",
       "      <td>3.77</td>\n",
       "      <td>8.45</td>\n",
       "      <td>76.0</td>\n",
       "      <td>8.0</td>\n",
       "      <td>E</td>\n",
       "      <td>82.54</td>\n",
       "    </tr>\n",
       "    <tr>\n",
       "      <th>1</th>\n",
       "      <td>Super Mario Bros.</td>\n",
       "      <td>NES</td>\n",
       "      <td>1985</td>\n",
       "      <td>Platform</td>\n",
       "      <td>29.08</td>\n",
       "      <td>3.58</td>\n",
       "      <td>6.81</td>\n",
       "      <td>0.77</td>\n",
       "      <td>NaN</td>\n",
       "      <td>NaN</td>\n",
       "      <td>NaN</td>\n",
       "      <td>40.24</td>\n",
       "    </tr>\n",
       "    <tr>\n",
       "      <th>2</th>\n",
       "      <td>Mario Kart Wii</td>\n",
       "      <td>Wii</td>\n",
       "      <td>2008</td>\n",
       "      <td>Racing</td>\n",
       "      <td>15.68</td>\n",
       "      <td>12.76</td>\n",
       "      <td>3.79</td>\n",
       "      <td>3.29</td>\n",
       "      <td>82.0</td>\n",
       "      <td>8.3</td>\n",
       "      <td>E</td>\n",
       "      <td>35.52</td>\n",
       "    </tr>\n",
       "    <tr>\n",
       "      <th>3</th>\n",
       "      <td>Wii Sports Resort</td>\n",
       "      <td>Wii</td>\n",
       "      <td>2009</td>\n",
       "      <td>Sports</td>\n",
       "      <td>15.61</td>\n",
       "      <td>10.93</td>\n",
       "      <td>3.28</td>\n",
       "      <td>2.95</td>\n",
       "      <td>80.0</td>\n",
       "      <td>8.0</td>\n",
       "      <td>E</td>\n",
       "      <td>32.77</td>\n",
       "    </tr>\n",
       "    <tr>\n",
       "      <th>4</th>\n",
       "      <td>Pokemon Red/Pokemon Blue</td>\n",
       "      <td>GB</td>\n",
       "      <td>1996</td>\n",
       "      <td>Role-Playing</td>\n",
       "      <td>11.27</td>\n",
       "      <td>8.89</td>\n",
       "      <td>10.22</td>\n",
       "      <td>1.00</td>\n",
       "      <td>NaN</td>\n",
       "      <td>NaN</td>\n",
       "      <td>NaN</td>\n",
       "      <td>31.38</td>\n",
       "    </tr>\n",
       "    <tr>\n",
       "      <th>...</th>\n",
       "      <td>...</td>\n",
       "      <td>...</td>\n",
       "      <td>...</td>\n",
       "      <td>...</td>\n",
       "      <td>...</td>\n",
       "      <td>...</td>\n",
       "      <td>...</td>\n",
       "      <td>...</td>\n",
       "      <td>...</td>\n",
       "      <td>...</td>\n",
       "      <td>...</td>\n",
       "      <td>...</td>\n",
       "    </tr>\n",
       "    <tr>\n",
       "      <th>16438</th>\n",
       "      <td>Samurai Warriors: Sanada Maru</td>\n",
       "      <td>PS3</td>\n",
       "      <td>2016</td>\n",
       "      <td>Action</td>\n",
       "      <td>0.00</td>\n",
       "      <td>0.00</td>\n",
       "      <td>0.01</td>\n",
       "      <td>0.00</td>\n",
       "      <td>NaN</td>\n",
       "      <td>NaN</td>\n",
       "      <td>NaN</td>\n",
       "      <td>0.01</td>\n",
       "    </tr>\n",
       "    <tr>\n",
       "      <th>16439</th>\n",
       "      <td>LMA Manager 2007</td>\n",
       "      <td>X360</td>\n",
       "      <td>2006</td>\n",
       "      <td>Sports</td>\n",
       "      <td>0.00</td>\n",
       "      <td>0.01</td>\n",
       "      <td>0.00</td>\n",
       "      <td>0.00</td>\n",
       "      <td>NaN</td>\n",
       "      <td>NaN</td>\n",
       "      <td>NaN</td>\n",
       "      <td>0.01</td>\n",
       "    </tr>\n",
       "    <tr>\n",
       "      <th>16440</th>\n",
       "      <td>Haitaka no Psychedelica</td>\n",
       "      <td>PSV</td>\n",
       "      <td>2016</td>\n",
       "      <td>Adventure</td>\n",
       "      <td>0.00</td>\n",
       "      <td>0.00</td>\n",
       "      <td>0.01</td>\n",
       "      <td>0.00</td>\n",
       "      <td>NaN</td>\n",
       "      <td>NaN</td>\n",
       "      <td>NaN</td>\n",
       "      <td>0.01</td>\n",
       "    </tr>\n",
       "    <tr>\n",
       "      <th>16441</th>\n",
       "      <td>Spirits &amp; Spells</td>\n",
       "      <td>GBA</td>\n",
       "      <td>2003</td>\n",
       "      <td>Platform</td>\n",
       "      <td>0.01</td>\n",
       "      <td>0.00</td>\n",
       "      <td>0.00</td>\n",
       "      <td>0.00</td>\n",
       "      <td>NaN</td>\n",
       "      <td>NaN</td>\n",
       "      <td>NaN</td>\n",
       "      <td>0.01</td>\n",
       "    </tr>\n",
       "    <tr>\n",
       "      <th>16442</th>\n",
       "      <td>Winning Post 8 2016</td>\n",
       "      <td>PSV</td>\n",
       "      <td>2016</td>\n",
       "      <td>Simulation</td>\n",
       "      <td>0.00</td>\n",
       "      <td>0.00</td>\n",
       "      <td>0.01</td>\n",
       "      <td>0.00</td>\n",
       "      <td>NaN</td>\n",
       "      <td>NaN</td>\n",
       "      <td>NaN</td>\n",
       "      <td>0.01</td>\n",
       "    </tr>\n",
       "  </tbody>\n",
       "</table>\n",
       "<p>16443 rows × 12 columns</p>\n",
       "</div>"
      ],
      "text/plain": [
       "                                name platform  year_of_release         genre  \\\n",
       "0                         Wii Sports      Wii             2006        Sports   \n",
       "1                  Super Mario Bros.      NES             1985      Platform   \n",
       "2                     Mario Kart Wii      Wii             2008        Racing   \n",
       "3                  Wii Sports Resort      Wii             2009        Sports   \n",
       "4           Pokemon Red/Pokemon Blue       GB             1996  Role-Playing   \n",
       "...                              ...      ...              ...           ...   \n",
       "16438  Samurai Warriors: Sanada Maru      PS3             2016        Action   \n",
       "16439               LMA Manager 2007     X360             2006        Sports   \n",
       "16440        Haitaka no Psychedelica      PSV             2016     Adventure   \n",
       "16441               Spirits & Spells      GBA             2003      Platform   \n",
       "16442            Winning Post 8 2016      PSV             2016    Simulation   \n",
       "\n",
       "       na_sales  eu_sales  jp_sales  other_sales  critic_score  user_score  \\\n",
       "0         41.36     28.96      3.77         8.45          76.0         8.0   \n",
       "1         29.08      3.58      6.81         0.77           NaN         NaN   \n",
       "2         15.68     12.76      3.79         3.29          82.0         8.3   \n",
       "3         15.61     10.93      3.28         2.95          80.0         8.0   \n",
       "4         11.27      8.89     10.22         1.00           NaN         NaN   \n",
       "...         ...       ...       ...          ...           ...         ...   \n",
       "16438      0.00      0.00      0.01         0.00           NaN         NaN   \n",
       "16439      0.00      0.01      0.00         0.00           NaN         NaN   \n",
       "16440      0.00      0.00      0.01         0.00           NaN         NaN   \n",
       "16441      0.01      0.00      0.00         0.00           NaN         NaN   \n",
       "16442      0.00      0.00      0.01         0.00           NaN         NaN   \n",
       "\n",
       "      rating  total_sales  \n",
       "0          E        82.54  \n",
       "1        NaN        40.24  \n",
       "2          E        35.52  \n",
       "3          E        32.77  \n",
       "4        NaN        31.38  \n",
       "...      ...          ...  \n",
       "16438    NaN         0.01  \n",
       "16439    NaN         0.01  \n",
       "16440    NaN         0.01  \n",
       "16441    NaN         0.01  \n",
       "16442    NaN         0.01  \n",
       "\n",
       "[16443 rows x 12 columns]"
      ]
     },
     "execution_count": 25,
     "metadata": {},
     "output_type": "execute_result"
    }
   ],
   "source": [
    "data = data.drop(index= [16230])\n",
    "data.reset_index(drop=True)"
   ]
  },
  {
   "cell_type": "code",
   "execution_count": 26,
   "id": "53bb87d5",
   "metadata": {},
   "outputs": [
    {
     "data": {
      "text/html": [
       "<div>\n",
       "<style scoped>\n",
       "    .dataframe tbody tr th:only-of-type {\n",
       "        vertical-align: middle;\n",
       "    }\n",
       "\n",
       "    .dataframe tbody tr th {\n",
       "        vertical-align: top;\n",
       "    }\n",
       "\n",
       "    .dataframe thead th {\n",
       "        text-align: right;\n",
       "    }\n",
       "</style>\n",
       "<table border=\"1\" class=\"dataframe\">\n",
       "  <thead>\n",
       "    <tr style=\"text-align: right;\">\n",
       "      <th></th>\n",
       "      <th>name</th>\n",
       "      <th>platform</th>\n",
       "      <th>year_of_release</th>\n",
       "      <th>genre</th>\n",
       "      <th>na_sales</th>\n",
       "      <th>eu_sales</th>\n",
       "      <th>jp_sales</th>\n",
       "      <th>other_sales</th>\n",
       "      <th>critic_score</th>\n",
       "      <th>user_score</th>\n",
       "      <th>rating</th>\n",
       "      <th>total_sales</th>\n",
       "    </tr>\n",
       "  </thead>\n",
       "  <tbody>\n",
       "  </tbody>\n",
       "</table>\n",
       "</div>"
      ],
      "text/plain": [
       "Empty DataFrame\n",
       "Columns: [name, platform, year_of_release, genre, na_sales, eu_sales, jp_sales, other_sales, critic_score, user_score, rating, total_sales]\n",
       "Index: []"
      ]
     },
     "execution_count": 26,
     "metadata": {},
     "output_type": "execute_result"
    }
   ],
   "source": [
    "data.loc[data.duplicated(subset=['name', 'platform', 'year_of_release'], keep = False)]"
   ]
  },
  {
   "cell_type": "markdown",
   "id": "6c2ef13f-596a-477b-b25f-6d3b032f6362",
   "metadata": {},
   "source": [
    "Дубликаты отсутствуют"
   ]
  },
  {
   "cell_type": "markdown",
   "id": "7ad16be8-28f6-4e35-a07c-497dbf50d73d",
   "metadata": {},
   "source": [
    "**Вывод**\n",
    "\n",
    "В исходном файле 16713 строк. Названия столбцов приведены к нижнему регистру. Проведя анализ на пропуски, в данных были удалены 2 строки с пропусками в названиях игр и 269 строк с пропусками данных в столбце год выпуска. Процент пропусков в столбцах оценок критиков, пользователей и рейтинга очень высок. Однако эти пропуски заменить нечем. Оценки индивидуальны. Аббревиатура 'tbd' в столбце оценка пользователей означает, что оценка не определена, замена на NAN. Изменены типы данных в столбцах оценок пользователей, оценок критиков и год выпуска. Создан столбец с суммарными продажами игр по регионам. Проведена проверка на дубликаты, неявные дубликаты обработаны."
   ]
  },
  {
   "cell_type": "code",
   "execution_count": 27,
   "id": "776f7945",
   "metadata": {},
   "outputs": [
    {
     "name": "stdout",
     "output_type": "stream",
     "text": [
      "<class 'pandas.core.frame.DataFrame'>\n",
      "Int64Index: 16443 entries, 0 to 16714\n",
      "Data columns (total 12 columns):\n",
      " #   Column           Non-Null Count  Dtype  \n",
      "---  ------           --------------  -----  \n",
      " 0   name             16443 non-null  object \n",
      " 1   platform         16443 non-null  object \n",
      " 2   year_of_release  16443 non-null  int64  \n",
      " 3   genre            16443 non-null  object \n",
      " 4   na_sales         16443 non-null  float64\n",
      " 5   eu_sales         16443 non-null  float64\n",
      " 6   jp_sales         16443 non-null  float64\n",
      " 7   other_sales      16443 non-null  float64\n",
      " 8   critic_score     7982 non-null   float64\n",
      " 9   user_score       7462 non-null   float64\n",
      " 10  rating           9767 non-null   object \n",
      " 11  total_sales      16443 non-null  float64\n",
      "dtypes: float64(7), int64(1), object(4)\n",
      "memory usage: 1.6+ MB\n",
      "None\n",
      "-------------------------\n",
      "name [' Beyblade Burst' ' Fire Emblem Fates' \" Frozen: Olaf's Quest\" ...\n",
      " 'uDraw Studio' 'uDraw Studio: Instant Artist'\n",
      " '¡Shin Chan Flipa en colores!']\n",
      "name : кол-во NaN 0 , процент NaN 0.0 %\n",
      "-------------------------\n",
      "platform ['2600' '3DO' '3DS' 'DC' 'DS' 'GB' 'GBA' 'GC' 'GEN' 'GG' 'N64' 'NES' 'NG'\n",
      " 'PC' 'PCFX' 'PS' 'PS2' 'PS3' 'PS4' 'PSP' 'PSV' 'SAT' 'SCD' 'SNES' 'TG16'\n",
      " 'WS' 'Wii' 'WiiU' 'X360' 'XB' 'XOne']\n",
      "platform : кол-во NaN 0 , процент NaN 0.0 %\n",
      "-------------------------\n",
      "year_of_release [1980 1981 1982 1983 1984 1985 1986 1987 1988 1989 1990 1991 1992 1993\n",
      " 1994 1995 1996 1997 1998 1999 2000 2001 2002 2003 2004 2005 2006 2007\n",
      " 2008 2009 2010 2011 2012 2013 2014 2015 2016]\n",
      "year_of_release : кол-во NaN 0 , процент NaN 0.0 %\n",
      "-------------------------\n",
      "genre ['Action' 'Adventure' 'Fighting' 'Misc' 'Platform' 'Puzzle' 'Racing'\n",
      " 'Role-Playing' 'Shooter' 'Simulation' 'Sports' 'Strategy']\n",
      "genre : кол-во NaN 0 , процент NaN 0.0 %\n",
      "-------------------------\n",
      "critic_score [13. 17. 19. 20. 21. 23. 24. 25. 26. 27. 28. 29. 30. 31. 32. 33. 34. 35.\n",
      " 36. 37. 38. 39. 40. 41. 42. 43. 44. 45. 46. 47. 48. 49. 50. 51. 52. 53.\n",
      " 54. 55. 56. 57. 58. 59. 60. 61. 62. 63. 64. 65. 66. 67. 68. 69. 70. 71.\n",
      " 72. 73. 74. 75. 76. 77. 78. 79. 80. 81. 82. 83. 84. 85. 86. 87. 88. 89.\n",
      " 90. 91. 92. 93. 94. 95. 96. 97. 98. nan]\n",
      "critic_score : кол-во NaN 8461 , процент NaN 51.46 %\n",
      "-------------------------\n",
      "user_score [0.  0.2 0.3 0.5 0.6 0.7 0.9 1.  1.1 1.2 1.3 1.4 1.5 1.6 1.7 1.8 1.9 2.\n",
      " 2.1 2.2 2.3 2.4 2.5 2.6 2.7 2.8 2.9 3.  3.1 3.2 3.3 3.4 3.5 3.6 3.7 3.8\n",
      " 3.9 4.  4.1 4.2 4.3 4.4 4.5 4.6 4.7 4.8 4.9 5.  5.1 5.2 5.3 5.4 5.5 5.6\n",
      " 5.7 5.8 5.9 6.  6.1 6.2 6.3 6.4 6.5 6.6 6.7 6.8 6.9 7.  7.1 7.2 7.3 7.4\n",
      " 7.5 7.6 7.7 7.8 7.9 8.  8.1 8.2 8.3 8.4 8.5 8.6 8.7 8.8 8.9 9.  9.1 9.2\n",
      " 9.3 9.4 9.5 9.6 9.7 nan]\n",
      "user_score : кол-во NaN 8981 , процент NaN 54.62 %\n",
      "-------------------------\n",
      "rating ['AO' 'E' 'E10+' 'EC' 'K-A' 'M' 'RP' 'T' nan]\n",
      "rating : кол-во NaN 6676 , процент NaN 40.6 %\n"
     ]
    }
   ],
   "source": [
    "# Комментарий ревьюера 0\n",
    "# Посмотрим, что осталось\n",
    "temp = data.copy() \n",
    "list_c = ['name', 'platform', 'year_of_release', 'genre', 'critic_score', 'user_score', 'rating']\n",
    "print(temp.info())\n",
    "for col_l in list_c:\n",
    "  print('-'* 25)\n",
    "  print(col_l, temp[col_l].sort_values().unique())\n",
    "  print(col_l,': кол-во NaN',temp[col_l].isna().sum(),\n",
    "        ', процент NaN', round(temp[col_l].isna().mean()*100,2),'%') "
   ]
  },
  {
   "cell_type": "code",
   "execution_count": 28,
   "id": "36bc13d5",
   "metadata": {},
   "outputs": [],
   "source": [
    "data['rating'] = data['rating'].fillna('Unknown')"
   ]
  },
  {
   "cell_type": "markdown",
   "id": "7fb75911-fc5e-425a-b13b-062406211844",
   "metadata": {},
   "source": [
    "## 3.Исследовательский анализ данных ##"
   ]
  },
  {
   "cell_type": "markdown",
   "id": "c35405b4-d791-4db5-9122-ea68565b5177",
   "metadata": {},
   "source": [
    "**3.1 Количество выпускаемых игр в разные годы**"
   ]
  },
  {
   "cell_type": "code",
   "execution_count": 31,
   "id": "cf50aa7a",
   "metadata": {
    "scrolled": true
   },
   "outputs": [
    {
     "data": {
      "text/html": [
       "<div>\n",
       "<style scoped>\n",
       "    .dataframe tbody tr th:only-of-type {\n",
       "        vertical-align: middle;\n",
       "    }\n",
       "\n",
       "    .dataframe tbody tr th {\n",
       "        vertical-align: top;\n",
       "    }\n",
       "\n",
       "    .dataframe thead th {\n",
       "        text-align: right;\n",
       "    }\n",
       "</style>\n",
       "<table border=\"1\" class=\"dataframe\">\n",
       "  <thead>\n",
       "    <tr style=\"text-align: right;\">\n",
       "      <th></th>\n",
       "      <th>games</th>\n",
       "    </tr>\n",
       "    <tr>\n",
       "      <th>year_of_release</th>\n",
       "      <th></th>\n",
       "    </tr>\n",
       "  </thead>\n",
       "  <tbody>\n",
       "    <tr>\n",
       "      <th>1980</th>\n",
       "      <td>9</td>\n",
       "    </tr>\n",
       "    <tr>\n",
       "      <th>1981</th>\n",
       "      <td>46</td>\n",
       "    </tr>\n",
       "    <tr>\n",
       "      <th>1982</th>\n",
       "      <td>36</td>\n",
       "    </tr>\n",
       "    <tr>\n",
       "      <th>1983</th>\n",
       "      <td>17</td>\n",
       "    </tr>\n",
       "    <tr>\n",
       "      <th>1984</th>\n",
       "      <td>14</td>\n",
       "    </tr>\n",
       "    <tr>\n",
       "      <th>1985</th>\n",
       "      <td>14</td>\n",
       "    </tr>\n",
       "    <tr>\n",
       "      <th>1986</th>\n",
       "      <td>21</td>\n",
       "    </tr>\n",
       "    <tr>\n",
       "      <th>1987</th>\n",
       "      <td>16</td>\n",
       "    </tr>\n",
       "    <tr>\n",
       "      <th>1988</th>\n",
       "      <td>15</td>\n",
       "    </tr>\n",
       "    <tr>\n",
       "      <th>1989</th>\n",
       "      <td>17</td>\n",
       "    </tr>\n",
       "    <tr>\n",
       "      <th>1990</th>\n",
       "      <td>16</td>\n",
       "    </tr>\n",
       "    <tr>\n",
       "      <th>1991</th>\n",
       "      <td>41</td>\n",
       "    </tr>\n",
       "    <tr>\n",
       "      <th>1992</th>\n",
       "      <td>43</td>\n",
       "    </tr>\n",
       "    <tr>\n",
       "      <th>1993</th>\n",
       "      <td>60</td>\n",
       "    </tr>\n",
       "    <tr>\n",
       "      <th>1994</th>\n",
       "      <td>121</td>\n",
       "    </tr>\n",
       "    <tr>\n",
       "      <th>1995</th>\n",
       "      <td>219</td>\n",
       "    </tr>\n",
       "    <tr>\n",
       "      <th>1996</th>\n",
       "      <td>263</td>\n",
       "    </tr>\n",
       "    <tr>\n",
       "      <th>1997</th>\n",
       "      <td>289</td>\n",
       "    </tr>\n",
       "    <tr>\n",
       "      <th>1998</th>\n",
       "      <td>379</td>\n",
       "    </tr>\n",
       "    <tr>\n",
       "      <th>1999</th>\n",
       "      <td>338</td>\n",
       "    </tr>\n",
       "    <tr>\n",
       "      <th>2000</th>\n",
       "      <td>350</td>\n",
       "    </tr>\n",
       "    <tr>\n",
       "      <th>2001</th>\n",
       "      <td>482</td>\n",
       "    </tr>\n",
       "    <tr>\n",
       "      <th>2002</th>\n",
       "      <td>829</td>\n",
       "    </tr>\n",
       "    <tr>\n",
       "      <th>2003</th>\n",
       "      <td>775</td>\n",
       "    </tr>\n",
       "    <tr>\n",
       "      <th>2004</th>\n",
       "      <td>762</td>\n",
       "    </tr>\n",
       "    <tr>\n",
       "      <th>2005</th>\n",
       "      <td>939</td>\n",
       "    </tr>\n",
       "    <tr>\n",
       "      <th>2006</th>\n",
       "      <td>1006</td>\n",
       "    </tr>\n",
       "    <tr>\n",
       "      <th>2007</th>\n",
       "      <td>1197</td>\n",
       "    </tr>\n",
       "    <tr>\n",
       "      <th>2008</th>\n",
       "      <td>1427</td>\n",
       "    </tr>\n",
       "    <tr>\n",
       "      <th>2009</th>\n",
       "      <td>1426</td>\n",
       "    </tr>\n",
       "    <tr>\n",
       "      <th>2010</th>\n",
       "      <td>1255</td>\n",
       "    </tr>\n",
       "    <tr>\n",
       "      <th>2011</th>\n",
       "      <td>1136</td>\n",
       "    </tr>\n",
       "    <tr>\n",
       "      <th>2012</th>\n",
       "      <td>652</td>\n",
       "    </tr>\n",
       "    <tr>\n",
       "      <th>2013</th>\n",
       "      <td>544</td>\n",
       "    </tr>\n",
       "    <tr>\n",
       "      <th>2014</th>\n",
       "      <td>581</td>\n",
       "    </tr>\n",
       "    <tr>\n",
       "      <th>2015</th>\n",
       "      <td>606</td>\n",
       "    </tr>\n",
       "    <tr>\n",
       "      <th>2016</th>\n",
       "      <td>502</td>\n",
       "    </tr>\n",
       "  </tbody>\n",
       "</table>\n",
       "</div>"
      ],
      "text/plain": [
       "                 games\n",
       "year_of_release       \n",
       "1980                 9\n",
       "1981                46\n",
       "1982                36\n",
       "1983                17\n",
       "1984                14\n",
       "1985                14\n",
       "1986                21\n",
       "1987                16\n",
       "1988                15\n",
       "1989                17\n",
       "1990                16\n",
       "1991                41\n",
       "1992                43\n",
       "1993                60\n",
       "1994               121\n",
       "1995               219\n",
       "1996               263\n",
       "1997               289\n",
       "1998               379\n",
       "1999               338\n",
       "2000               350\n",
       "2001               482\n",
       "2002               829\n",
       "2003               775\n",
       "2004               762\n",
       "2005               939\n",
       "2006              1006\n",
       "2007              1197\n",
       "2008              1427\n",
       "2009              1426\n",
       "2010              1255\n",
       "2011              1136\n",
       "2012               652\n",
       "2013               544\n",
       "2014               581\n",
       "2015               606\n",
       "2016               502"
      ]
     },
     "execution_count": 31,
     "metadata": {},
     "output_type": "execute_result"
    }
   ],
   "source": [
    "data_year = pd.pivot_table(data, index='year_of_release', values='name', aggfunc='count')\n",
    "data_year.columns = ['games']\n",
    "data_year"
   ]
  },
  {
   "cell_type": "code",
   "execution_count": 32,
   "id": "0f2833ce",
   "metadata": {},
   "outputs": [
    {
     "data": {
      "image/png": "[encoded data removed]",
      "text/plain": [
       "<Figure size 432x288 with 1 Axes>"
      ]
     },
     "metadata": {
      "needs_background": "light"
     },
     "output_type": "display_data"
    }
   ],
   "source": [
    "data_year.plot()\n",
    "plt.title('Продажи по годам')\n",
    "plt.xlabel('Год выпуска')\n",
    "plt.ylabel('Количество')\n",
    "plt.show()"
   ]
  },
  {
   "cell_type": "markdown",
   "id": "bca3426e-aadd-4007-b7c5-b706af85d7bb",
   "metadata": {},
   "source": [
    "До 1990 года игр выпускалось немного. С 1995г. началось увеличение количества игр, с 2010г. наблюдается снижение."
   ]
  },
  {
   "cell_type": "markdown",
   "id": "6c752b1a-3341-43e5-9e63-968119b89646",
   "metadata": {},
   "source": [
    "**3.2 Суммы продаж по различным платформам**"
   ]
  },
  {
   "cell_type": "code",
   "execution_count": 33,
   "id": "67563fa6-22cd-4321-aa3a-b58b382ec7d5",
   "metadata": {},
   "outputs": [
    {
     "data": {
      "text/html": [
       "<div>\n",
       "<style scoped>\n",
       "    .dataframe tbody tr th:only-of-type {\n",
       "        vertical-align: middle;\n",
       "    }\n",
       "\n",
       "    .dataframe tbody tr th {\n",
       "        vertical-align: top;\n",
       "    }\n",
       "\n",
       "    .dataframe thead th {\n",
       "        text-align: right;\n",
       "    }\n",
       "</style>\n",
       "<table border=\"1\" class=\"dataframe\">\n",
       "  <thead>\n",
       "    <tr style=\"text-align: right;\">\n",
       "      <th></th>\n",
       "      <th>platform</th>\n",
       "      <th>total_sales</th>\n",
       "    </tr>\n",
       "  </thead>\n",
       "  <tbody>\n",
       "    <tr>\n",
       "      <th>0</th>\n",
       "      <td>PS2</td>\n",
       "      <td>1233.56</td>\n",
       "    </tr>\n",
       "    <tr>\n",
       "      <th>1</th>\n",
       "      <td>X360</td>\n",
       "      <td>961.24</td>\n",
       "    </tr>\n",
       "    <tr>\n",
       "      <th>2</th>\n",
       "      <td>PS3</td>\n",
       "      <td>931.33</td>\n",
       "    </tr>\n",
       "    <tr>\n",
       "      <th>3</th>\n",
       "      <td>Wii</td>\n",
       "      <td>891.18</td>\n",
       "    </tr>\n",
       "    <tr>\n",
       "      <th>4</th>\n",
       "      <td>DS</td>\n",
       "      <td>802.78</td>\n",
       "    </tr>\n",
       "    <tr>\n",
       "      <th>5</th>\n",
       "      <td>PS</td>\n",
       "      <td>727.58</td>\n",
       "    </tr>\n",
       "    <tr>\n",
       "      <th>6</th>\n",
       "      <td>PS4</td>\n",
       "      <td>314.14</td>\n",
       "    </tr>\n",
       "    <tr>\n",
       "      <th>7</th>\n",
       "      <td>GBA</td>\n",
       "      <td>312.88</td>\n",
       "    </tr>\n",
       "    <tr>\n",
       "      <th>8</th>\n",
       "      <td>PSP</td>\n",
       "      <td>289.53</td>\n",
       "    </tr>\n",
       "    <tr>\n",
       "      <th>9</th>\n",
       "      <td>3DS</td>\n",
       "      <td>257.81</td>\n",
       "    </tr>\n",
       "    <tr>\n",
       "      <th>10</th>\n",
       "      <td>PC</td>\n",
       "      <td>255.76</td>\n",
       "    </tr>\n",
       "    <tr>\n",
       "      <th>11</th>\n",
       "      <td>GB</td>\n",
       "      <td>254.43</td>\n",
       "    </tr>\n",
       "    <tr>\n",
       "      <th>12</th>\n",
       "      <td>XB</td>\n",
       "      <td>251.57</td>\n",
       "    </tr>\n",
       "    <tr>\n",
       "      <th>13</th>\n",
       "      <td>NES</td>\n",
       "      <td>251.05</td>\n",
       "    </tr>\n",
       "    <tr>\n",
       "      <th>14</th>\n",
       "      <td>N64</td>\n",
       "      <td>218.01</td>\n",
       "    </tr>\n",
       "    <tr>\n",
       "      <th>15</th>\n",
       "      <td>SNES</td>\n",
       "      <td>200.04</td>\n",
       "    </tr>\n",
       "    <tr>\n",
       "      <th>16</th>\n",
       "      <td>GC</td>\n",
       "      <td>196.73</td>\n",
       "    </tr>\n",
       "    <tr>\n",
       "      <th>17</th>\n",
       "      <td>XOne</td>\n",
       "      <td>159.32</td>\n",
       "    </tr>\n",
       "    <tr>\n",
       "      <th>18</th>\n",
       "      <td>2600</td>\n",
       "      <td>86.48</td>\n",
       "    </tr>\n",
       "    <tr>\n",
       "      <th>19</th>\n",
       "      <td>WiiU</td>\n",
       "      <td>82.19</td>\n",
       "    </tr>\n",
       "    <tr>\n",
       "      <th>20</th>\n",
       "      <td>PSV</td>\n",
       "      <td>53.81</td>\n",
       "    </tr>\n",
       "    <tr>\n",
       "      <th>21</th>\n",
       "      <td>SAT</td>\n",
       "      <td>33.59</td>\n",
       "    </tr>\n",
       "    <tr>\n",
       "      <th>22</th>\n",
       "      <td>GEN</td>\n",
       "      <td>28.35</td>\n",
       "    </tr>\n",
       "    <tr>\n",
       "      <th>23</th>\n",
       "      <td>DC</td>\n",
       "      <td>15.95</td>\n",
       "    </tr>\n",
       "    <tr>\n",
       "      <th>24</th>\n",
       "      <td>SCD</td>\n",
       "      <td>1.86</td>\n",
       "    </tr>\n",
       "    <tr>\n",
       "      <th>25</th>\n",
       "      <td>NG</td>\n",
       "      <td>1.44</td>\n",
       "    </tr>\n",
       "    <tr>\n",
       "      <th>26</th>\n",
       "      <td>WS</td>\n",
       "      <td>1.42</td>\n",
       "    </tr>\n",
       "    <tr>\n",
       "      <th>27</th>\n",
       "      <td>TG16</td>\n",
       "      <td>0.16</td>\n",
       "    </tr>\n",
       "    <tr>\n",
       "      <th>28</th>\n",
       "      <td>3DO</td>\n",
       "      <td>0.10</td>\n",
       "    </tr>\n",
       "    <tr>\n",
       "      <th>29</th>\n",
       "      <td>GG</td>\n",
       "      <td>0.04</td>\n",
       "    </tr>\n",
       "    <tr>\n",
       "      <th>30</th>\n",
       "      <td>PCFX</td>\n",
       "      <td>0.03</td>\n",
       "    </tr>\n",
       "  </tbody>\n",
       "</table>\n",
       "</div>"
      ],
      "text/plain": [
       "   platform  total_sales\n",
       "0       PS2      1233.56\n",
       "1      X360       961.24\n",
       "2       PS3       931.33\n",
       "3       Wii       891.18\n",
       "4        DS       802.78\n",
       "5        PS       727.58\n",
       "6       PS4       314.14\n",
       "7       GBA       312.88\n",
       "8       PSP       289.53\n",
       "9       3DS       257.81\n",
       "10       PC       255.76\n",
       "11       GB       254.43\n",
       "12       XB       251.57\n",
       "13      NES       251.05\n",
       "14      N64       218.01\n",
       "15     SNES       200.04\n",
       "16       GC       196.73\n",
       "17     XOne       159.32\n",
       "18     2600        86.48\n",
       "19     WiiU        82.19\n",
       "20      PSV        53.81\n",
       "21      SAT        33.59\n",
       "22      GEN        28.35\n",
       "23       DC        15.95\n",
       "24      SCD         1.86\n",
       "25       NG         1.44\n",
       "26       WS         1.42\n",
       "27     TG16         0.16\n",
       "28      3DO         0.10\n",
       "29       GG         0.04\n",
       "30     PCFX         0.03"
      ]
     },
     "execution_count": 33,
     "metadata": {},
     "output_type": "execute_result"
    }
   ],
   "source": [
    "data_platform = data.groupby('platform')['total_sales'].sum().sort_values(ascending=False).reset_index()\n",
    "data_platform"
   ]
  },
  {
   "cell_type": "code",
   "execution_count": 34,
   "id": "5b413ddb-0a87-4e63-a906-0816e34956d8",
   "metadata": {},
   "outputs": [
    {
     "data": {
      "image/png": "[encoded data removed]",
      "text/plain": [
       "<Figure size 1080x720 with 1 Axes>"
      ]
     },
     "metadata": {
      "needs_background": "light"
     },
     "output_type": "display_data"
    }
   ],
   "source": [
    "plt.figure(figsize=(15,10))\n",
    "plt.bar(data_platform['platform'], data_platform['total_sales'])\n",
    "plt.title('Продажи по платформам')\n",
    "plt.xlabel(\"Платформа\");\n",
    "plt.ylabel(\"Продажи\");"
   ]
  },
  {
   "cell_type": "markdown",
   "id": "b36c43ba-14e2-4c82-8ca9-529a5af8c55a",
   "metadata": {},
   "source": [
    "По графику видно, что больше всего суммы продаж у 6 платформ: 'PS2', 'X360', 'PS3', 'Wii', 'DS', 'PS'."
   ]
  },
  {
   "cell_type": "code",
   "execution_count": 35,
   "id": "0967f3be-fbd1-4f06-bb7f-2324455c640b",
   "metadata": {},
   "outputs": [
    {
     "data": {
      "text/plain": [
       "['PS2', 'X360', 'PS3', 'Wii', 'DS', 'PS']"
      ]
     },
     "execution_count": 35,
     "metadata": {},
     "output_type": "execute_result"
    }
   ],
   "source": [
    "max_sale = data.pivot_table(index='platform', values='total_sales', aggfunc='sum').sort_values(by='total_sales', ascending=False).reset_index().head(6)['platform'].tolist()\n",
    "max_sale"
   ]
  },
  {
   "cell_type": "code",
   "execution_count": 36,
   "id": "91802fcb-c535-4185-a6ff-cb037f14a021",
   "metadata": {},
   "outputs": [
    {
     "data": {
      "image/png": "[encoded data removed]",
      "text/plain": [
       "<Figure size 720x360 with 1 Axes>"
      ]
     },
     "metadata": {
      "needs_background": "light"
     },
     "output_type": "display_data"
    }
   ],
   "source": [
    "for a in max_sale:\n",
    "    (\n",
    "    data.query('platform == @a')\n",
    "    .pivot_table(index = 'year_of_release', values = 'total_sales', aggfunc = 'sum')\n",
    "    .sort_values('year_of_release', ascending = False)['total_sales']\n",
    "    .plot(figsize = (10, 5), label=a)\n",
    "    )\n",
    "    plt.title('Платформы с максимальными продажами')\n",
    "    plt.xlabel('Год')\n",
    "    plt.ylabel('Суммарные продажи')\n",
    "    plt.legend()"
   ]
  },
  {
   "cell_type": "markdown",
   "id": "ea956b54-3735-4685-9bae-13db61fe3cbf",
   "metadata": {},
   "source": [
    "Пик продаж платформы PS - 1998г., платформы PS2 - 2003-2005гг., платформы DS - 2005-2007гг., платформы Wii - 2010г., платформы Х360 - 2011, платформы PS3 - 2012г. На графике видно, что как только появляется и становится популярной новая платформа, продажи старой резко падают. Характерный период появления новых и исчезновения старых платформ примерно 10 лет. Рост продаж платформ как правило в течении 5 лет."
   ]
  },
  {
   "cell_type": "markdown",
   "id": "f026fcd3-6dd6-4f10-945a-31075cc20e13",
   "metadata": {},
   "source": [
    "**3.3 Выбор актуального периода**"
   ]
  },
  {
   "cell_type": "markdown",
   "id": "6958e67e-2394-4c38-8959-04606ce1e713",
   "metadata": {},
   "source": [
    "Актуальным периодом считаю период, начиная с 2013г., т.к. он не сильно отдален от 2017г. и на рынке присутствуют крупные платформы X360, PS3."
   ]
  },
  {
   "cell_type": "markdown",
   "id": "26124c39-49f5-4921-ab9d-82307e7ec8c4",
   "metadata": {},
   "source": [
    "**3.4 выбор потенциально прибыльных платформ в актуальном периоде**"
   ]
  },
  {
   "cell_type": "code",
   "execution_count": 37,
   "id": "db22937c-feea-4754-b3a3-bd9ca4e2c922",
   "metadata": {},
   "outputs": [
    {
     "name": "stdout",
     "output_type": "stream",
     "text": [
      "<class 'pandas.core.frame.DataFrame'>\n",
      "Int64Index: 2233 entries, 16 to 16714\n",
      "Data columns (total 12 columns):\n",
      " #   Column           Non-Null Count  Dtype  \n",
      "---  ------           --------------  -----  \n",
      " 0   name             2233 non-null   object \n",
      " 1   platform         2233 non-null   object \n",
      " 2   year_of_release  2233 non-null   int64  \n",
      " 3   genre            2233 non-null   object \n",
      " 4   na_sales         2233 non-null   float64\n",
      " 5   eu_sales         2233 non-null   float64\n",
      " 6   jp_sales         2233 non-null   float64\n",
      " 7   other_sales      2233 non-null   float64\n",
      " 8   critic_score     991 non-null    float64\n",
      " 9   user_score       1192 non-null   float64\n",
      " 10  rating           2233 non-null   object \n",
      " 11  total_sales      2233 non-null   float64\n",
      "dtypes: float64(7), int64(1), object(4)\n",
      "memory usage: 226.8+ KB\n"
     ]
    },
    {
     "data": {
      "text/html": [
       "<div>\n",
       "<style scoped>\n",
       "    .dataframe tbody tr th:only-of-type {\n",
       "        vertical-align: middle;\n",
       "    }\n",
       "\n",
       "    .dataframe tbody tr th {\n",
       "        vertical-align: top;\n",
       "    }\n",
       "\n",
       "    .dataframe thead th {\n",
       "        text-align: right;\n",
       "    }\n",
       "</style>\n",
       "<table border=\"1\" class=\"dataframe\">\n",
       "  <thead>\n",
       "    <tr style=\"text-align: right;\">\n",
       "      <th></th>\n",
       "      <th>name</th>\n",
       "      <th>platform</th>\n",
       "      <th>year_of_release</th>\n",
       "      <th>genre</th>\n",
       "      <th>na_sales</th>\n",
       "      <th>eu_sales</th>\n",
       "      <th>jp_sales</th>\n",
       "      <th>other_sales</th>\n",
       "      <th>critic_score</th>\n",
       "      <th>user_score</th>\n",
       "      <th>rating</th>\n",
       "      <th>total_sales</th>\n",
       "    </tr>\n",
       "  </thead>\n",
       "  <tbody>\n",
       "    <tr>\n",
       "      <th>16</th>\n",
       "      <td>Grand Theft Auto V</td>\n",
       "      <td>PS3</td>\n",
       "      <td>2013</td>\n",
       "      <td>Action</td>\n",
       "      <td>7.02</td>\n",
       "      <td>9.09</td>\n",
       "      <td>0.98</td>\n",
       "      <td>3.96</td>\n",
       "      <td>97.0</td>\n",
       "      <td>8.2</td>\n",
       "      <td>M</td>\n",
       "      <td>21.05</td>\n",
       "    </tr>\n",
       "    <tr>\n",
       "      <th>23</th>\n",
       "      <td>Grand Theft Auto V</td>\n",
       "      <td>X360</td>\n",
       "      <td>2013</td>\n",
       "      <td>Action</td>\n",
       "      <td>9.66</td>\n",
       "      <td>5.14</td>\n",
       "      <td>0.06</td>\n",
       "      <td>1.41</td>\n",
       "      <td>97.0</td>\n",
       "      <td>8.1</td>\n",
       "      <td>M</td>\n",
       "      <td>16.27</td>\n",
       "    </tr>\n",
       "    <tr>\n",
       "      <th>31</th>\n",
       "      <td>Call of Duty: Black Ops 3</td>\n",
       "      <td>PS4</td>\n",
       "      <td>2015</td>\n",
       "      <td>Shooter</td>\n",
       "      <td>6.03</td>\n",
       "      <td>5.86</td>\n",
       "      <td>0.36</td>\n",
       "      <td>2.38</td>\n",
       "      <td>NaN</td>\n",
       "      <td>NaN</td>\n",
       "      <td>Unknown</td>\n",
       "      <td>14.63</td>\n",
       "    </tr>\n",
       "    <tr>\n",
       "      <th>33</th>\n",
       "      <td>Pokemon X/Pokemon Y</td>\n",
       "      <td>3DS</td>\n",
       "      <td>2013</td>\n",
       "      <td>Role-Playing</td>\n",
       "      <td>5.28</td>\n",
       "      <td>4.19</td>\n",
       "      <td>4.35</td>\n",
       "      <td>0.78</td>\n",
       "      <td>NaN</td>\n",
       "      <td>NaN</td>\n",
       "      <td>Unknown</td>\n",
       "      <td>14.60</td>\n",
       "    </tr>\n",
       "    <tr>\n",
       "      <th>42</th>\n",
       "      <td>Grand Theft Auto V</td>\n",
       "      <td>PS4</td>\n",
       "      <td>2014</td>\n",
       "      <td>Action</td>\n",
       "      <td>3.96</td>\n",
       "      <td>6.31</td>\n",
       "      <td>0.38</td>\n",
       "      <td>1.97</td>\n",
       "      <td>97.0</td>\n",
       "      <td>8.3</td>\n",
       "      <td>M</td>\n",
       "      <td>12.62</td>\n",
       "    </tr>\n",
       "  </tbody>\n",
       "</table>\n",
       "</div>"
      ],
      "text/plain": [
       "                         name platform  year_of_release         genre  \\\n",
       "16         Grand Theft Auto V      PS3             2013        Action   \n",
       "23         Grand Theft Auto V     X360             2013        Action   \n",
       "31  Call of Duty: Black Ops 3      PS4             2015       Shooter   \n",
       "33        Pokemon X/Pokemon Y      3DS             2013  Role-Playing   \n",
       "42         Grand Theft Auto V      PS4             2014        Action   \n",
       "\n",
       "    na_sales  eu_sales  jp_sales  other_sales  critic_score  user_score  \\\n",
       "16      7.02      9.09      0.98         3.96          97.0         8.2   \n",
       "23      9.66      5.14      0.06         1.41          97.0         8.1   \n",
       "31      6.03      5.86      0.36         2.38           NaN         NaN   \n",
       "33      5.28      4.19      4.35         0.78           NaN         NaN   \n",
       "42      3.96      6.31      0.38         1.97          97.0         8.3   \n",
       "\n",
       "     rating  total_sales  \n",
       "16        M        21.05  \n",
       "23        M        16.27  \n",
       "31  Unknown        14.63  \n",
       "33  Unknown        14.60  \n",
       "42        M        12.62  "
      ]
     },
     "execution_count": 37,
     "metadata": {},
     "output_type": "execute_result"
    }
   ],
   "source": [
    "period = data[data['year_of_release'] >= 2013]\n",
    "period.info()\n",
    "period.head()"
   ]
  },
  {
   "cell_type": "code",
   "execution_count": 38,
   "id": "458fb12e-5880-4948-b5e5-120926514aa1",
   "metadata": {},
   "outputs": [
    {
     "data": {
      "text/html": [
       "<div>\n",
       "<style scoped>\n",
       "    .dataframe tbody tr th:only-of-type {\n",
       "        vertical-align: middle;\n",
       "    }\n",
       "\n",
       "    .dataframe tbody tr th {\n",
       "        vertical-align: top;\n",
       "    }\n",
       "\n",
       "    .dataframe thead th {\n",
       "        text-align: right;\n",
       "    }\n",
       "</style>\n",
       "<table border=\"1\" class=\"dataframe\">\n",
       "  <thead>\n",
       "    <tr style=\"text-align: right;\">\n",
       "      <th></th>\n",
       "      <th>total_sales</th>\n",
       "    </tr>\n",
       "    <tr>\n",
       "      <th>platform</th>\n",
       "      <th></th>\n",
       "    </tr>\n",
       "  </thead>\n",
       "  <tbody>\n",
       "    <tr>\n",
       "      <th>PS4</th>\n",
       "      <td>314.14</td>\n",
       "    </tr>\n",
       "    <tr>\n",
       "      <th>PS3</th>\n",
       "      <td>181.43</td>\n",
       "    </tr>\n",
       "    <tr>\n",
       "      <th>XOne</th>\n",
       "      <td>159.32</td>\n",
       "    </tr>\n",
       "    <tr>\n",
       "      <th>3DS</th>\n",
       "      <td>143.25</td>\n",
       "    </tr>\n",
       "    <tr>\n",
       "      <th>X360</th>\n",
       "      <td>136.80</td>\n",
       "    </tr>\n",
       "    <tr>\n",
       "      <th>WiiU</th>\n",
       "      <td>64.63</td>\n",
       "    </tr>\n",
       "    <tr>\n",
       "      <th>PC</th>\n",
       "      <td>39.43</td>\n",
       "    </tr>\n",
       "    <tr>\n",
       "      <th>PSV</th>\n",
       "      <td>32.99</td>\n",
       "    </tr>\n",
       "    <tr>\n",
       "      <th>Wii</th>\n",
       "      <td>13.66</td>\n",
       "    </tr>\n",
       "    <tr>\n",
       "      <th>PSP</th>\n",
       "      <td>3.50</td>\n",
       "    </tr>\n",
       "    <tr>\n",
       "      <th>DS</th>\n",
       "      <td>1.54</td>\n",
       "    </tr>\n",
       "  </tbody>\n",
       "</table>\n",
       "</div>"
      ],
      "text/plain": [
       "          total_sales\n",
       "platform             \n",
       "PS4            314.14\n",
       "PS3            181.43\n",
       "XOne           159.32\n",
       "3DS            143.25\n",
       "X360           136.80\n",
       "WiiU            64.63\n",
       "PC              39.43\n",
       "PSV             32.99\n",
       "Wii             13.66\n",
       "PSP              3.50\n",
       "DS               1.54"
      ]
     },
     "execution_count": 38,
     "metadata": {},
     "output_type": "execute_result"
    }
   ],
   "source": [
    "period_sales = pd.pivot_table(period, index='platform', values='total_sales', aggfunc = 'sum')\n",
    "period_sales.sort_values('total_sales', ascending=False)"
   ]
  },
  {
   "cell_type": "markdown",
   "id": "76c49d6b-6de9-4c1e-9247-ea0bf8cb851f",
   "metadata": {},
   "source": [
    "Рассматривая отрезок времени с 2013г., лидеры продаж: PS4, PS3, XOne."
   ]
  },
  {
   "cell_type": "code",
   "execution_count": 39,
   "id": "7dd18eb1-b387-45aa-a62a-76c17c77a4ae",
   "metadata": {},
   "outputs": [
    {
     "data": {
      "image/png": "[encoded data removed]",
      "text/plain": [
       "<Figure size 720x360 with 1 Axes>"
      ]
     },
     "metadata": {
      "needs_background": "light"
     },
     "output_type": "display_data"
    }
   ],
   "source": [
    "for b in period['platform'].unique():\n",
    "    (\n",
    "    period.query('platform == @b')\n",
    "    .pivot_table(index = 'year_of_release', values = 'total_sales', aggfunc = 'sum')\n",
    "    .sort_values('year_of_release', ascending = False)['total_sales']\n",
    "    .plot(kind='line', figsize = (10, 5), label=b)\n",
    "    )\n",
    "    plt.title('Платформы за период с 2013г.')\n",
    "    plt.xlabel('Год')\n",
    "    plt.ylabel('Суммарные продажи')\n",
    "    plt.legend()"
   ]
  },
  {
   "cell_type": "markdown",
   "id": "7e38a3d1-d5a6-4754-bed7-6fdc22f28d76",
   "metadata": {},
   "source": [
    "По графику видно, что у всех платформ продажи падают после 2015г. Но только 2 платформы PS4 и XOne имеют негативную тенденцию с 2015г., тогда как у остальных продажи падают на всем изучаемом отрезке времени."
   ]
  },
  {
   "cell_type": "markdown",
   "id": "5c0ea2d6-5f13-4204-934a-8959bf48bd0c",
   "metadata": {},
   "source": [
    "**3.5 Построение «ящика с усами» по глобальным продажам игр в разбивке по платформам**"
   ]
  },
  {
   "cell_type": "code",
   "execution_count": 40,
   "id": "e715e168-ef7d-4fdc-a106-daf7756552ed",
   "metadata": {},
   "outputs": [
    {
     "data": {
      "image/png": "[encoded data removed]",
      "text/plain": [
       "<Figure size 1080x720 with 1 Axes>"
      ]
     },
     "metadata": {
      "needs_background": "light"
     },
     "output_type": "display_data"
    }
   ],
   "source": [
    "plt.figure(figsize=(15,10))\n",
    "sns.boxplot(data=period, x='platform', y='total_sales')\n",
    "plt.ylim(0,2)\n",
    "plt.title('Продажи игр по платформам')\n",
    "plt.xlabel('Платформа')\n",
    "plt.ylabel('Продажи')\n",
    "plt.show()\n"
   ]
  },
  {
   "attachments": {
    "image.png": {
     "image/png": "[encoded data removed]"
    }
   },
   "cell_type": "markdown",
   "id": "99a366fd",
   "metadata": {},
   "source": [
    "<font color='DarkBlue'><b>Комментарий ревьюера</b></font><br>\n",
    "<font color='DarkMagenta'>👉 Здесь уместна <b>вторая</b> диаграмма размаха со всеми максимумами продаж за актуальный период, а не только с масштабированными данными. А так не видим выбросы. Примерно вот так:</font>\n",
    "![image.png](attachment:image.png)"
   ]
  },
  {
   "cell_type": "markdown",
   "id": "b1912a95-ba41-4130-9e10-a8f5341d7ece",
   "metadata": {},
   "source": [
    "Платформа Х360 имеет максимальный медианный показатель. PS4 и XOne имеют похожие показатели. "
   ]
  },
  {
   "cell_type": "markdown",
   "id": "3ba2cdc9-5b35-4121-b8fe-b3e7908bed59",
   "metadata": {},
   "source": [
    "**3.6 Анализ влияния внутри платформ отзывов критиков и пользователей**"
   ]
  },
  {
   "cell_type": "code",
   "execution_count": 41,
   "id": "840f0524-9f4c-48ef-9dbc-6fb467c64ea7",
   "metadata": {},
   "outputs": [
    {
     "data": {
      "text/plain": [
       "['PS4', 'PS3', 'XOne', '3DS', 'X360']"
      ]
     },
     "execution_count": 41,
     "metadata": {},
     "output_type": "execute_result"
    }
   ],
   "source": [
    "top_5 = (period.pivot_table(index='platform', values='total_sales', aggfunc='sum')\n",
    "    .sort_values(by='total_sales', ascending=False)\n",
    "    .reset_index().head(5)['platform'].tolist()\n",
    "    )                         \n",
    "top_5"
   ]
  },
  {
   "cell_type": "markdown",
   "id": "cb7522b6-a894-4df9-b035-683bc874ad58",
   "metadata": {},
   "source": [
    "Топ 5 платформ - PS4, PS3, XOne, 3DS, X360"
   ]
  },
  {
   "cell_type": "code",
   "execution_count": 42,
   "id": "c9e5ad0c-6b10-4738-b9c6-890cd5a6c86c",
   "metadata": {},
   "outputs": [
    {
     "name": "stdout",
     "output_type": "stream",
     "text": [
      "Корреляция между оценками пользователей и продажами по платформе PS4  = -0.031957110204556376\n"
     ]
    },
    {
     "data": {
      "image/png": "[encoded data removed]",
      "text/plain": [
       "<Figure size 720x360 with 1 Axes>"
      ]
     },
     "metadata": {
      "needs_background": "light"
     },
     "output_type": "display_data"
    },
    {
     "name": "stdout",
     "output_type": "stream",
     "text": [
      "Корреляция между оценками пользователей и продажами по платформе PS3  = 0.0023944027357566925\n"
     ]
    },
    {
     "data": {
      "image/png": "[encoded data removed]",
      "text/plain": [
       "<Figure size 720x360 with 1 Axes>"
      ]
     },
     "metadata": {
      "needs_background": "light"
     },
     "output_type": "display_data"
    },
    {
     "name": "stdout",
     "output_type": "stream",
     "text": [
      "Корреляция между оценками пользователей и продажами по платформе XOne  = -0.06892505328279414\n"
     ]
    },
    {
     "data": {
      "image/png": "[encoded data removed]",
      "text/plain": [
       "<Figure size 720x360 with 1 Axes>"
      ]
     },
     "metadata": {
      "needs_background": "light"
     },
     "output_type": "display_data"
    },
    {
     "name": "stdout",
     "output_type": "stream",
     "text": [
      "Корреляция между оценками пользователей и продажами по платформе 3DS  = 0.24150411773563016\n"
     ]
    },
    {
     "data": {
      "image/png": "[encoded data removed]",
      "text/plain": [
       "<Figure size 720x360 with 1 Axes>"
      ]
     },
     "metadata": {
      "needs_background": "light"
     },
     "output_type": "display_data"
    },
    {
     "name": "stdout",
     "output_type": "stream",
     "text": [
      "Корреляция между оценками пользователей и продажами по платформе X360  = -0.011742185147181342\n"
     ]
    },
    {
     "data": {
      "image/png": "[encoded data removed]",
      "text/plain": [
       "<Figure size 720x360 with 1 Axes>"
      ]
     },
     "metadata": {
      "needs_background": "light"
     },
     "output_type": "display_data"
    }
   ],
   "source": [
    "for b in top_5:\n",
    "    (\n",
    "    period.query('platform == @b')\n",
    "        .plot(x='user_score', \n",
    "          y='total_sales', \n",
    "          kind='scatter', \n",
    "          figsize=(10, 5))\n",
    "    )\n",
    "    plt.title(f'Диаграмма рассеяния между оценками пользователей и продажами по платформе {b}')\n",
    "    plt.xlabel('Оценка пользователей')\n",
    "    plt.ylabel('Продажи')\n",
    "    plt.legend([b])\n",
    "    print(f'Корреляция между оценками пользователей и продажами по платформе {b}  =', period.query('platform == @b')['user_score'].corr(period.query('platform == @b')['total_sales']))\n",
    "    plt.show()"
   ]
  },
  {
   "cell_type": "markdown",
   "id": "f73778b7-f111-4de2-9538-4c86b7f10b48",
   "metadata": {},
   "source": [
    "Зависимость между продажами и оценками пользователей выбранных топ-5 платформ отсутствует"
   ]
  },
  {
   "cell_type": "code",
   "execution_count": 43,
   "id": "2ab57f30-0931-482d-854c-cba43e5e875d",
   "metadata": {},
   "outputs": [
    {
     "name": "stdout",
     "output_type": "stream",
     "text": [
      "Корреляция между оценками критиков и продажами по платформе PS4  = 0.40656790206178095\n"
     ]
    },
    {
     "data": {
      "image/png": "[encoded data removed]",
      "text/plain": [
       "<Figure size 720x360 with 1 Axes>"
      ]
     },
     "metadata": {
      "needs_background": "light"
     },
     "output_type": "display_data"
    },
    {
     "name": "stdout",
     "output_type": "stream",
     "text": [
      "Корреляция между оценками критиков и продажами по платформе PS3  = 0.3342853393371919\n"
     ]
    },
    {
     "data": {
      "image/png": "[encoded data removed]",
      "text/plain": [
       "<Figure size 720x360 with 1 Axes>"
      ]
     },
     "metadata": {
      "needs_background": "light"
     },
     "output_type": "display_data"
    },
    {
     "name": "stdout",
     "output_type": "stream",
     "text": [
      "Корреляция между оценками критиков и продажами по платформе XOne  = 0.4169983280084017\n"
     ]
    },
    {
     "data": {
      "image/png": "[encoded data removed]",
      "text/plain": [
       "<Figure size 720x360 with 1 Axes>"
      ]
     },
     "metadata": {
      "needs_background": "light"
     },
     "output_type": "display_data"
    },
    {
     "name": "stdout",
     "output_type": "stream",
     "text": [
      "Корреляция между оценками критиков и продажами по платформе 3DS  = 0.3570566142288103\n"
     ]
    },
    {
     "data": {
      "image/png": "[encoded data removed]",
      "text/plain": [
       "<Figure size 720x360 with 1 Axes>"
      ]
     },
     "metadata": {
      "needs_background": "light"
     },
     "output_type": "display_data"
    },
    {
     "name": "stdout",
     "output_type": "stream",
     "text": [
      "Корреляция между оценками критиков и продажами по платформе X360  = 0.3503445460228664\n"
     ]
    },
    {
     "data": {
      "image/png": "[encoded data removed]",
      "text/plain": [
       "<Figure size 720x360 with 1 Axes>"
      ]
     },
     "metadata": {
      "needs_background": "light"
     },
     "output_type": "display_data"
    }
   ],
   "source": [
    "for b in top_5:\n",
    "    (\n",
    "    period.query('platform == @b')\n",
    "        .plot(x='critic_score', \n",
    "          y='total_sales', \n",
    "          kind='scatter', \n",
    "          figsize=(10, 5))\n",
    "    )\n",
    "    plt.title(f'Диаграмма рассеяния между оценками критиков и продажами по платформе {b}')\n",
    "    plt.xlabel('Оценка критиков')\n",
    "    plt.ylabel('Продажи')\n",
    "    plt.legend([b])\n",
    "    print(f'Корреляция между оценками критиков и продажами по платформе {b}  =', period.query('platform == @b')['critic_score'].corr(period.query('platform == @b')['total_sales']))\n",
    "    plt.show()"
   ]
  },
  {
   "cell_type": "markdown",
   "id": "513b43a6-41de-4db9-b6f6-a9a079e57b83",
   "metadata": {},
   "source": [
    "Оценки критиков имеют более большее влияние на объемы продаж, чем оценки пользователей. Однако и здесь сильной зависимости нет."
   ]
  },
  {
   "cell_type": "markdown",
   "id": "2a0819f7-3fc2-4365-bd59-047d26355a69",
   "metadata": {},
   "source": [
    "**3.7 Распределение игр по жанрам, выбор самых прибыльных жанров**"
   ]
  },
  {
   "cell_type": "code",
   "execution_count": 44,
   "id": "162a71f4-5fb5-427c-aa0b-fae1819e0d38",
   "metadata": {},
   "outputs": [
    {
     "data": {
      "text/html": [
       "<div>\n",
       "<style scoped>\n",
       "    .dataframe tbody tr th:only-of-type {\n",
       "        vertical-align: middle;\n",
       "    }\n",
       "\n",
       "    .dataframe tbody tr th {\n",
       "        vertical-align: top;\n",
       "    }\n",
       "\n",
       "    .dataframe thead th {\n",
       "        text-align: right;\n",
       "    }\n",
       "</style>\n",
       "<table border=\"1\" class=\"dataframe\">\n",
       "  <thead>\n",
       "    <tr style=\"text-align: right;\">\n",
       "      <th></th>\n",
       "      <th>mean</th>\n",
       "      <th>median</th>\n",
       "      <th>sum</th>\n",
       "    </tr>\n",
       "    <tr>\n",
       "      <th>genre</th>\n",
       "      <th></th>\n",
       "      <th></th>\n",
       "      <th></th>\n",
       "    </tr>\n",
       "  </thead>\n",
       "  <tbody>\n",
       "    <tr>\n",
       "      <th>Action</th>\n",
       "      <td>0.420196</td>\n",
       "      <td>0.110</td>\n",
       "      <td>321.87</td>\n",
       "    </tr>\n",
       "    <tr>\n",
       "      <th>Shooter</th>\n",
       "      <td>1.245882</td>\n",
       "      <td>0.450</td>\n",
       "      <td>232.98</td>\n",
       "    </tr>\n",
       "    <tr>\n",
       "      <th>Sports</th>\n",
       "      <td>0.703972</td>\n",
       "      <td>0.240</td>\n",
       "      <td>150.65</td>\n",
       "    </tr>\n",
       "    <tr>\n",
       "      <th>Role-Playing</th>\n",
       "      <td>0.499623</td>\n",
       "      <td>0.125</td>\n",
       "      <td>145.89</td>\n",
       "    </tr>\n",
       "    <tr>\n",
       "      <th>Misc</th>\n",
       "      <td>0.405290</td>\n",
       "      <td>0.100</td>\n",
       "      <td>62.82</td>\n",
       "    </tr>\n",
       "    <tr>\n",
       "      <th>Platform</th>\n",
       "      <td>0.576081</td>\n",
       "      <td>0.225</td>\n",
       "      <td>42.63</td>\n",
       "    </tr>\n",
       "    <tr>\n",
       "      <th>Racing</th>\n",
       "      <td>0.469294</td>\n",
       "      <td>0.120</td>\n",
       "      <td>39.89</td>\n",
       "    </tr>\n",
       "    <tr>\n",
       "      <th>Fighting</th>\n",
       "      <td>0.441375</td>\n",
       "      <td>0.125</td>\n",
       "      <td>35.31</td>\n",
       "    </tr>\n",
       "    <tr>\n",
       "      <th>Adventure</th>\n",
       "      <td>0.096490</td>\n",
       "      <td>0.030</td>\n",
       "      <td>23.64</td>\n",
       "    </tr>\n",
       "    <tr>\n",
       "      <th>Simulation</th>\n",
       "      <td>0.350968</td>\n",
       "      <td>0.100</td>\n",
       "      <td>21.76</td>\n",
       "    </tr>\n",
       "    <tr>\n",
       "      <th>Strategy</th>\n",
       "      <td>0.180000</td>\n",
       "      <td>0.080</td>\n",
       "      <td>10.08</td>\n",
       "    </tr>\n",
       "    <tr>\n",
       "      <th>Puzzle</th>\n",
       "      <td>0.186471</td>\n",
       "      <td>0.060</td>\n",
       "      <td>3.17</td>\n",
       "    </tr>\n",
       "  </tbody>\n",
       "</table>\n",
       "</div>"
      ],
      "text/plain": [
       "                  mean  median     sum\n",
       "genre                                 \n",
       "Action        0.420196   0.110  321.87\n",
       "Shooter       1.245882   0.450  232.98\n",
       "Sports        0.703972   0.240  150.65\n",
       "Role-Playing  0.499623   0.125  145.89\n",
       "Misc          0.405290   0.100   62.82\n",
       "Platform      0.576081   0.225   42.63\n",
       "Racing        0.469294   0.120   39.89\n",
       "Fighting      0.441375   0.125   35.31\n",
       "Adventure     0.096490   0.030   23.64\n",
       "Simulation    0.350968   0.100   21.76\n",
       "Strategy      0.180000   0.080   10.08\n",
       "Puzzle        0.186471   0.060    3.17"
      ]
     },
     "metadata": {},
     "output_type": "display_data"
    }
   ],
   "source": [
    "period_genre = pd.pivot_table(period, index='genre', values='total_sales', aggfunc={'total_sales': ['sum', 'mean', 'median']})\n",
    "display(period_genre.sort_values('sum', ascending=False))"
   ]
  },
  {
   "cell_type": "code",
   "execution_count": 45,
   "id": "e5a524ac-b7f2-47ad-8b2e-e496849c9657",
   "metadata": {},
   "outputs": [
    {
     "data": {
      "image/png": "[encoded data removed]",
      "text/plain": [
       "<Figure size 720x360 with 1 Axes>"
      ]
     },
     "metadata": {
      "needs_background": "light"
     },
     "output_type": "display_data"
    }
   ],
   "source": [
    "(period\n",
    " .pivot_table(index='genre', values='total_sales', aggfunc='sum')\n",
    " .sort_values('total_sales', ascending=False)\n",
    " .plot(kind='bar', y='total_sales', figsize=(10, 5), legend=False)\n",
    ")\n",
    "plt.title('Прибыльность жанров')\n",
    "plt.xlabel('Жанр')\n",
    "plt.ylabel('Продажи')\n",
    "plt.show()"
   ]
  },
  {
   "cell_type": "code",
   "execution_count": 46,
   "id": "e1e52160-2cdf-4664-a5e0-b6932985a92d",
   "metadata": {},
   "outputs": [
    {
     "data": {
      "image/png": "[encoded data removed]",
      "text/plain": [
       "<Figure size 1080x720 with 1 Axes>"
      ]
     },
     "metadata": {
      "needs_background": "light"
     },
     "output_type": "display_data"
    }
   ],
   "source": [
    "plt.figure(figsize=(15,10))\n",
    "sns.boxplot(data=period, x='genre', y='total_sales')\n",
    "plt.ylim(0,4)\n",
    "plt.title('Продажи игр по жанрам')\n",
    "plt.xlabel('Платформа')\n",
    "plt.ylabel('Продажи')\n",
    "plt.show()"
   ]
  },
  {
   "cell_type": "markdown",
   "id": "b0511956-d241-4c41-acf2-8709261717b8",
   "metadata": {},
   "source": [
    "По суммарной выручке лидирует жанр Action, потом следует Shooter и Sports. Однако по медианным значениям лидер - Shooter, а за ним Sports."
   ]
  },
  {
   "cell_type": "markdown",
   "id": "cc1cfe13-a202-4c92-a70d-423861f3a628",
   "metadata": {},
   "source": [
    "**Вывод**\n",
    "\n",
    "До 1990 года игр выпускалось немного. С 1995г. началось увеличение количества игр, с 2010г. наблюдается снижение. Лидеры продаж 6 платформ: 'PS2', 'X360', 'PS3', 'Wii', 'DS', 'PS'. Пик продаж платформы PS - 1998г., платформы PS2 - 2003-2005гг., платформы DS - 2005-2007гг., платформы Wii - 2010г., платформы Х360 - 2011, платформы PS3 - 2012г. Имеется тенденция: как только появляется и становится популярной новая платформа, продажи старой резко падают. Характерный период появления новых и исчезновения старых платформ примерно 10 лет. Рост продаж платформ как правило в течении 5 лет. Актуальным периодом считаю период, начиная с 2013г., т.к. он не сильно отдален от 2017г. и на рынке присутствуют крупные платформы X360, PS3. Рассматривая отрезок времени с 2013г., лидеры продаж: PS4, PS3, XOne. У всех платформ продажи падают после 2015г. Но только 2 платформы PS4 и XOne имеют негативную тенденцию с 2015г., тогда как у остальных продажи падают на всем изучаемом отрезке времени. Платформа Х360 имеет максимальный медианный показатель продаж. PS4 и XOne имеют похожие показатели. Зависимость между продажами и оценками пользователей отсутствует. Оценки критиков имеют более большее влияние на объемы продаж, чем оценки пользователей. Однако и здесь сильной зависимости нет. По суммарной выручке лидирует жанр Action, потом следует Shooter и Sports. Однако по медианным значениям лидер - Shooter, а за ним Sports."
   ]
  },
  {
   "cell_type": "markdown",
   "id": "a2245e6b-4514-4371-9760-d749b50b5dc6",
   "metadata": {},
   "source": [
    "## 4.Портрет пользователя каждого региона ##"
   ]
  },
  {
   "cell_type": "markdown",
   "id": "60de7758-cbd0-4a44-8e95-98e2d2bfbf7c",
   "metadata": {},
   "source": [
    "**Топ-5 платформ**"
   ]
  },
  {
   "cell_type": "code",
   "execution_count": 47,
   "id": "ad340620-aa9a-4efe-a4c1-45ec10f15024",
   "metadata": {},
   "outputs": [],
   "source": [
    "na_platform = period.groupby('platform')['na_sales'].agg(na_sales='sum').nlargest(5, 'na_sales').reset_index()\n",
    "eu_platform = period.groupby('platform')['eu_sales'].agg(eu_sales='sum').nlargest(5, 'eu_sales').reset_index()\n",
    "jp_platform = period.groupby('platform')['jp_sales'].agg(jp_sales='sum').nlargest(5, 'jp_sales').reset_index()"
   ]
  },
  {
   "cell_type": "code",
   "execution_count": 48,
   "id": "ba057194-3837-46d1-a015-d22028a511f6",
   "metadata": {},
   "outputs": [
    {
     "data": {
      "image/png": "[encoded data removed]",
      "text/plain": [
       "<Figure size 1080x360 with 3 Axes>"
      ]
     },
     "metadata": {
      "needs_background": "light"
     },
     "output_type": "display_data"
    }
   ],
   "source": [
    "fig, ax = plt.subplots(1, 3, figsize=(15, 5))\n",
    "fig.suptitle('Топ-5 платформ по регионам')\n",
    "\n",
    "sns.barplot(y='na_sales', x='platform', data=na_platform, ax=ax[0], hue = 'platform', palette='pastel')\n",
    "ax[0].set_title('Северная Америка')\n",
    "ax[0].set_ylabel('Продажи')\n",
    "ax[0].set_xlabel('Платформа')\n",
    "\n",
    "sns.barplot(y='eu_sales', x='platform', data=eu_platform, ax=ax[1], hue = 'platform', palette='pastel')\n",
    "ax[1].set_title('Европа')\n",
    "ax[1].set_ylabel('Продажи')\n",
    "ax[1].set_xlabel('Платформа')\n",
    "\n",
    "sns.barplot(y='jp_sales', x='platform', data=jp_platform, ax=ax[2], hue = 'platform', palette='pastel')\n",
    "ax[2].set_title('Япония')\n",
    "ax[2].set_ylabel('Продажи')\n",
    "ax[2].set_xlabel('Платформа')\n",
    "plt.show()"
   ]
  },
  {
   "cell_type": "code",
   "execution_count": 49,
   "id": "f05de665-1501-4e0e-a2d5-2a33efafe1b8",
   "metadata": {},
   "outputs": [
    {
     "data": {
      "image/png": "[encoded data removed]",
      "text/plain": [
       "<Figure size 864x360 with 3 Axes>"
      ]
     },
     "metadata": {},
     "output_type": "display_data"
    }
   ],
   "source": [
    "fig, ax = plt.subplots(1, 3, figsize=(12, 5))\n",
    "# Сформируем поле для диаграмм\n",
    "\n",
    "ax[0].pie(na_platform['na_sales'],\n",
    "          labels=na_platform['platform'],\n",
    "          shadow=True,\n",
    "          startangle=150,\n",
    "          autopct='%1.f%%',\n",
    "          textprops={'fontsize': 10},\n",
    "          colors=sns.color_palette('tab20'))\n",
    "ax[0].set_title('Северная Америка', fontsize=10, fontweight='normal')\n",
    "\n",
    "ax[1].pie(eu_platform['eu_sales'],\n",
    "       labels=eu_platform['platform'],\n",
    "       shadow=True,\n",
    "       startangle=150,\n",
    "       autopct='%1.f%%',\n",
    "       textprops={'fontsize': 10},\n",
    "       colors=sns.color_palette('tab20'))\n",
    "ax[1].set_title('Европа', fontsize=10, fontweight='normal')\n",
    "\n",
    "ax[2].pie(jp_platform['jp_sales'],\n",
    "       labels=jp_platform['platform'],\n",
    "       shadow=True,\n",
    "       startangle=150,\n",
    "       autopct='%1.f%%',\n",
    "       textprops={'fontsize': 10},\n",
    "       colors=sns.color_palette('tab20'))\n",
    "ax[2].set_title('Япония', fontsize=10, fontweight='normal')\n",
    "plt.suptitle('Топ-5 платформ', fontsize=11, fontweight='bold')\n",
    "plt.show()"
   ]
  },
  {
   "cell_type": "markdown",
   "id": "2bd31283-286c-4f6a-af68-8899cc3f734d",
   "metadata": {},
   "source": [
    "В Европе и Северной Америке по суммарным продажам лидирует платформа PS4 (42% и 28% рынка соответственно). В Японии половину рынка занимает платформа 3DS (50%) "
   ]
  },
  {
   "cell_type": "markdown",
   "id": "6c3c59bc-445e-47f2-a603-3a890e60d017",
   "metadata": {},
   "source": [
    "**Топ-5 жанров**"
   ]
  },
  {
   "cell_type": "code",
   "execution_count": 50,
   "id": "e1701680-26e1-4975-b782-6ff4ea36f0e6",
   "metadata": {},
   "outputs": [],
   "source": [
    "na_genre = period.groupby('genre')['na_sales'].agg(na_sales='sum').nlargest(5, 'na_sales').reset_index()\n",
    "eu_genre = period.groupby('genre')['eu_sales'].agg(eu_sales='sum').nlargest(5, 'eu_sales').reset_index()\n",
    "jp_genre = period.groupby('genre')['jp_sales'].agg(jp_sales='sum').nlargest(5, 'jp_sales').reset_index()"
   ]
  },
  {
   "cell_type": "code",
   "execution_count": 51,
   "id": "fe28489b-fbe1-4cd4-a7a6-72fd6b9f1c7f",
   "metadata": {},
   "outputs": [
    {
     "data": {
      "image/png": "[encoded data removed]",
      "text/plain": [
       "<Figure size 1080x360 with 3 Axes>"
      ]
     },
     "metadata": {
      "needs_background": "light"
     },
     "output_type": "display_data"
    }
   ],
   "source": [
    "fig, ax = plt.subplots(1, 3, figsize=(15, 5))\n",
    "fig.suptitle('Топ-5 жанров по регионам')\n",
    "\n",
    "sns.barplot(y='na_sales', x='genre', data=na_genre, ax=ax[0], hue = 'genre', palette='pastel')\n",
    "ax[0].set_title('Северная Америка')\n",
    "ax[0].set_ylabel('Продажи')\n",
    "ax[0].set_xlabel('Жанры')\n",
    "\n",
    "sns.barplot(y='eu_sales', x='genre', data=eu_genre, ax=ax[1], hue = 'genre', palette='pastel')\n",
    "ax[1].set_title('Европа')\n",
    "ax[1].set_ylabel('Продажи')\n",
    "ax[1].set_xlabel('Жанры')\n",
    "\n",
    "sns.barplot(y='jp_sales', x='genre', data=jp_genre, ax=ax[2], hue = 'genre', palette='pastel')\n",
    "ax[2].set_title('Япония')\n",
    "ax[2].set_ylabel('Продажи')\n",
    "ax[2].set_xlabel('Жанры')\n",
    "plt.show()"
   ]
  },
  {
   "cell_type": "code",
   "execution_count": 52,
   "id": "e438111b-5ddd-4e5f-8b2d-29b917f37da2",
   "metadata": {},
   "outputs": [
    {
     "data": {
      "image/png": "[encoded data removed]",
      "text/plain": [
       "<Figure size 864x360 with 3 Axes>"
      ]
     },
     "metadata": {},
     "output_type": "display_data"
    }
   ],
   "source": [
    "fig, ax = plt.subplots(1, 3, figsize=(12, 5))\n",
    "# Сформируем поле для диаграмм\n",
    "\n",
    "ax[0].pie(na_genre['na_sales'],\n",
    "          labels=na_genre['genre'],\n",
    "          shadow=True,\n",
    "          startangle=150,\n",
    "          autopct='%1.f%%',\n",
    "          textprops={'fontsize': 10},\n",
    "          colors=sns.color_palette('tab20'))\n",
    "ax[0].set_title('Северная Америка', fontsize=10, fontweight='normal')\n",
    "\n",
    "\n",
    "ax[1].pie(eu_genre['eu_sales'],\n",
    "       labels=eu_genre['genre'],\n",
    "       shadow=True,\n",
    "       startangle=150,\n",
    "       autopct='%1.f%%',\n",
    "       textprops={'fontsize': 10},\n",
    "       colors=sns.color_palette('tab20'))\n",
    "ax[1].set_title('Европа', fontsize=10, fontweight='normal')\n",
    "\n",
    "\n",
    "ax[2].pie(jp_genre['jp_sales'],\n",
    "       labels=jp_genre['genre'],\n",
    "       shadow=True,\n",
    "       startangle=150,\n",
    "       autopct='%1.f%%',\n",
    "       textprops={'fontsize': 10},\n",
    "       colors=sns.color_palette('tab20'))\n",
    "ax[2].set_title('Япония', fontsize=10, fontweight='normal')\n",
    "plt.suptitle('Топ-5 жанров', fontsize=11, fontweight='bold')\n",
    "plt.show()"
   ]
  },
  {
   "cell_type": "markdown",
   "id": "e1e8d1db-b474-4eb2-ad85-ff6a6a64a2ce",
   "metadata": {},
   "source": [
    "В Северной Америке и Европе распределение топовых жанров схожи. На первом месте по продажам Action (34% и 36% соответственно), за ним следует Shooter (29% и 27%). В Японии лидирует Role-Playing (44%), на втором месте Action (35%)."
   ]
  },
  {
   "cell_type": "markdown",
   "id": "64b85fd8-f62e-442e-9341-918c5b250c4d",
   "metadata": {},
   "source": [
    "**Рейтинги**"
   ]
  },
  {
   "cell_type": "code",
   "execution_count": 53,
   "id": "e8f09717-73ef-4a0e-a337-ae2e99ffc820",
   "metadata": {},
   "outputs": [],
   "source": [
    "na_rating = period.groupby('rating')['na_sales'].agg(na_sales='sum').sort_values(by = 'na_sales', ascending = False).reset_index()\n",
    "eu_rating = period.groupby('rating')['eu_sales'].agg(eu_sales='sum').sort_values(by = 'eu_sales', ascending = False).reset_index()\n",
    "jp_rating = period.groupby('rating')['jp_sales'].agg(jp_sales='sum').sort_values(by = 'jp_sales', ascending = False).reset_index()"
   ]
  },
  {
   "cell_type": "code",
   "execution_count": 54,
   "id": "0c6bb266-ff23-4f32-b5a6-802fcd7020b4",
   "metadata": {},
   "outputs": [
    {
     "data": {
      "image/png": "[encoded data removed]",
      "text/plain": [
       "<Figure size 1080x360 with 3 Axes>"
      ]
     },
     "metadata": {
      "needs_background": "light"
     },
     "output_type": "display_data"
    }
   ],
   "source": [
    "fig, ax = plt.subplots(1, 3, figsize=(15, 5))\n",
    "fig.suptitle('Рейтинги по регионам')\n",
    "\n",
    "sns.barplot(y='na_sales', x='rating', data=na_rating, ax=ax[0], hue = 'rating', palette='pastel')\n",
    "ax[0].set_title('Северная Америка')\n",
    "ax[0].set_ylabel('Продажи')\n",
    "ax[0].set_xlabel('Рейтинги')\n",
    "\n",
    "sns.barplot(y='eu_sales', x='rating', data=eu_rating, ax=ax[1], hue = 'rating', palette='pastel')\n",
    "ax[1].set_title('Европа')\n",
    "ax[1].set_ylabel('Продажи')\n",
    "ax[1].set_xlabel('Рейтинги')\n",
    "\n",
    "sns.barplot(y='jp_sales', x='rating', data=jp_rating, ax=ax[2], hue = 'rating', palette='pastel')\n",
    "ax[2].set_title('Япония')\n",
    "ax[2].set_ylabel('Продажи')\n",
    "ax[2].set_xlabel('Рейтинги')\n",
    "plt.show()"
   ]
  },
  {
   "cell_type": "code",
   "execution_count": 55,
   "id": "cc3f2130-e287-4d8d-8f7e-bc6331e10e4b",
   "metadata": {},
   "outputs": [
    {
     "data": {
      "image/png": "[encoded data removed]",
      "text/plain": [
       "<Figure size 864x360 with 3 Axes>"
      ]
     },
     "metadata": {},
     "output_type": "display_data"
    }
   ],
   "source": [
    "fig, ax = plt.subplots(1, 3, figsize=(12, 5))\n",
    "# Сформируем поле для диаграмм\n",
    "\n",
    "ax[0].pie(na_rating['na_sales'],\n",
    "          labels=na_rating['rating'],\n",
    "          shadow=True,\n",
    "          startangle=150,\n",
    "          autopct='%1.f%%',\n",
    "          textprops={'fontsize': 10},\n",
    "          colors=sns.color_palette('tab20'))\n",
    "ax[0].set_title('Северная Америка', fontsize=10, fontweight='normal')\n",
    "\n",
    "\n",
    "ax[1].pie(eu_rating['eu_sales'],\n",
    "       labels=eu_rating['rating'],\n",
    "       shadow=True,\n",
    "       startangle=150,\n",
    "       autopct='%1.f%%',\n",
    "       textprops={'fontsize': 10},\n",
    "       colors=sns.color_palette('tab20'))\n",
    "ax[1].set_title('Европа', fontsize=10, fontweight='normal')\n",
    "\n",
    "\n",
    "ax[2].pie(jp_rating['jp_sales'],\n",
    "       labels=jp_rating['rating'],\n",
    "       shadow=True,\n",
    "       startangle=150,\n",
    "       autopct='%1.f%%',\n",
    "       textprops={'fontsize': 10},\n",
    "       colors=sns.color_palette('tab20'))\n",
    "ax[2].set_title('Япония', fontsize=10, fontweight='normal')\n",
    "plt.suptitle('Рейтинги', fontsize=11, fontweight='bold')\n",
    "plt.show()"
   ]
  },
  {
   "cell_type": "markdown",
   "id": "e1465067-e72a-4f25-806e-5e89e8aca5e3",
   "metadata": {},
   "source": [
    "В Северной Америке и Европе лидер по продажам рейтинг М. В Японии 60% игр без установленного возрастного рейтинга."
   ]
  },
  {
   "cell_type": "markdown",
   "id": "9c3960d7-15ac-457b-a607-9770f502ca5f",
   "metadata": {},
   "source": [
    "**Вывод**\n",
    "\n",
    "В Европе и Северной Америке по суммарным продажам лидирует платформа PS4 (42% и 28% рынка соответственно). В Японии половину рынка занимает платформа 3DS (50%). В Северной Америке и Европе распределение топовых жанров схожи. На первом месте по продажам Action (34% и 36% соответственно), за ним следует Shooter (29% и 27%). В Японии лидирует Role-Playing (44%), на втором месте Action (35%). В Северной Америке и Европе лидер по продажам рейтинг М. В Японии 60% игр без установленного возрастного рейтинга.\n",
    "\n",
    "Портрет пользователя Северной Америки: старше 17 лет, предпочитает платформу PS4 и жанр Action.\n",
    "\n",
    "Портрет пользователя Европы: старше 17 лет, предпочитает платформу PS4 и жанр Action.\n",
    "\n",
    "Портрет пользователя Японии: предпочитает платформу 3DS и жанр Role-Playing.\n",
    "\n",
    "Портреты пользователей Северной Америки и Европы очень похожи между собой."
   ]
  },
  {
   "cell_type": "markdown",
   "id": "169badb5-306f-4bdd-9b1e-0810d6a4956a",
   "metadata": {},
   "source": [
    "## 5.Проверка гипотез ##"
   ]
  },
  {
   "cell_type": "markdown",
   "id": "f5664359-8945-425f-a772-b6d63c2491be",
   "metadata": {},
   "source": [
    "**Средние пользовательские рейтинги платформ Xbox One и PC одинаковые**"
   ]
  },
  {
   "cell_type": "code",
   "execution_count": 56,
   "id": "d0779107-e822-41ef-8004-65a07eb686da",
   "metadata": {},
   "outputs": [
    {
     "data": {
      "text/plain": [
       "count    182.000000\n",
       "mean       6.521429\n",
       "std        1.380941\n",
       "min        1.600000\n",
       "25%        5.800000\n",
       "50%        6.800000\n",
       "75%        7.500000\n",
       "max        9.200000\n",
       "Name: user_score, dtype: float64"
      ]
     },
     "execution_count": 56,
     "metadata": {},
     "output_type": "execute_result"
    }
   ],
   "source": [
    "Xone = period.query('platform == \"XOne\"')\n",
    "Xone = Xone[Xone['user_score'].notna()]\n",
    "Xone['user_score'].describe()"
   ]
  },
  {
   "cell_type": "code",
   "execution_count": 57,
   "id": "02bb3f8d-ae89-4bb5-b7a6-69d4bea0d4f7",
   "metadata": {},
   "outputs": [
    {
     "data": {
      "text/plain": [
       "count    155.000000\n",
       "mean       6.269677\n",
       "std        1.742381\n",
       "min        1.400000\n",
       "25%        5.300000\n",
       "50%        6.800000\n",
       "75%        7.600000\n",
       "max        9.300000\n",
       "Name: user_score, dtype: float64"
      ]
     },
     "execution_count": 57,
     "metadata": {},
     "output_type": "execute_result"
    }
   ],
   "source": [
    "PC = period.query('platform == \"PC\"')\n",
    "PC = PC[PC['user_score'].notna()]\n",
    "PC['user_score'].describe()"
   ]
  },
  {
   "cell_type": "markdown",
   "id": "0e152743-930c-4cb8-bdaa-5df045f1d208",
   "metadata": {},
   "source": [
    "Средние значения достаточно близки."
   ]
  },
  {
   "cell_type": "markdown",
   "id": "7ff02442-78f9-40e5-a98e-2a9faaac24bd",
   "metadata": {},
   "source": [
    "Для проверки гипотез буду использовать тест Стьюдента"
   ]
  },
  {
   "cell_type": "markdown",
   "id": "d6ccea37-20ab-466d-bb8b-b82b1520a41b",
   "metadata": {},
   "source": [
    "Гипотезы\n",
    "\n",
    "Н0: Средние пользовательские рейтинги платформ XOne и PC равны\n",
    "\n",
    "Н1: Средние пользовательские рейтинги платформ XOne и PC не равны"
   ]
  },
  {
   "cell_type": "code",
   "execution_count": 58,
   "id": "1ebaf67d-c921-4aeb-96a7-964f7169dd3b",
   "metadata": {},
   "outputs": [
    {
     "name": "stdout",
     "output_type": "stream",
     "text": [
      "p-значение: 0.14012658403611647\n",
      "Не получилось отвергнуть нулевую гипотезу\n"
     ]
    }
   ],
   "source": [
    "alpha = 0.05\n",
    "\n",
    "results = st.ttest_ind(Xone['user_score'], PC['user_score'])\n",
    "\n",
    "print('p-значение:', results.pvalue)\n",
    "\n",
    "if (results.pvalue < alpha):\n",
    "    print(\"Отвергаем нулевую гипотезу\")\n",
    "else:\n",
    "    print(\"Не получилось отвергнуть нулевую гипотезу\")"
   ]
  },
  {
   "cell_type": "markdown",
   "id": "857dff64-7795-4d02-8fab-7ab10409709b",
   "metadata": {},
   "source": [
    "Нулевая гипотеза не отвергнута, следовательно, можно предположить, что средние пользовательские рейтинги XOne и PC равны, при alpha=0.05"
   ]
  },
  {
   "cell_type": "markdown",
   "id": "dc05cf45-2765-4666-b053-34441206b9f2",
   "metadata": {},
   "source": [
    "**Средние пользовательские рейтинги жанров Action и Sports разные**"
   ]
  },
  {
   "cell_type": "code",
   "execution_count": 59,
   "id": "bac86e86-d90a-40dc-b66a-38029ef53d24",
   "metadata": {},
   "outputs": [
    {
     "data": {
      "text/plain": [
       "count    389.000000\n",
       "mean       6.837532\n",
       "std        1.330173\n",
       "min        2.000000\n",
       "25%        6.300000\n",
       "50%        7.100000\n",
       "75%        7.800000\n",
       "max        9.100000\n",
       "Name: user_score, dtype: float64"
      ]
     },
     "execution_count": 59,
     "metadata": {},
     "output_type": "execute_result"
    }
   ],
   "source": [
    "Action = period.query('genre == \"Action\"')\n",
    "Action = Action[Action['user_score'].notna()]\n",
    "Action['user_score'].describe()"
   ]
  },
  {
   "cell_type": "code",
   "execution_count": 60,
   "id": "5c3538b2-2241-41e7-bf1c-a138830307a9",
   "metadata": {},
   "outputs": [
    {
     "data": {
      "text/plain": [
       "count    160.000000\n",
       "mean       5.238125\n",
       "std        1.783427\n",
       "min        0.200000\n",
       "25%        4.100000\n",
       "50%        5.500000\n",
       "75%        6.500000\n",
       "max        8.800000\n",
       "Name: user_score, dtype: float64"
      ]
     },
     "execution_count": 60,
     "metadata": {},
     "output_type": "execute_result"
    }
   ],
   "source": [
    "Sports = period.query('genre == \"Sports\"')\n",
    "Sports = Sports[Sports['user_score'].notna()]\n",
    "Sports['user_score'].describe()"
   ]
  },
  {
   "cell_type": "markdown",
   "id": "990abdfb-07c6-4c1c-a218-041f99c6491d",
   "metadata": {},
   "source": [
    "Средние значения отличаются"
   ]
  },
  {
   "cell_type": "markdown",
   "id": "0ade37b0-69c7-49ea-b37c-5ce511b657d2",
   "metadata": {},
   "source": [
    "Для проверки гипотез буду использовать тест Стьюдента"
   ]
  },
  {
   "cell_type": "markdown",
   "id": "f859f55a-5610-48a3-b16e-610f2d9eab6a",
   "metadata": {},
   "source": [
    "Гипотезы\n",
    "\n",
    "Н0: Средние пользовательские рейтинги платформ Action и Sports равны\n",
    "\n",
    "Н1: Средние пользовательские рейтинги платформ Action и Sports не равны"
   ]
  },
  {
   "cell_type": "code",
   "execution_count": 61,
   "id": "edea7c8a-c90b-4d1b-9ef3-e22e21e5aa93",
   "metadata": {},
   "outputs": [
    {
     "name": "stdout",
     "output_type": "stream",
     "text": [
      "p-значение: 1.0517832389140023e-27\n",
      "Отвергаем нулевую гипотезу\n"
     ]
    }
   ],
   "source": [
    "alpha = 0.05\n",
    "\n",
    "results = st.ttest_ind(Action['user_score'], Sports['user_score'])\n",
    "\n",
    "print('p-значение:', results.pvalue)\n",
    "\n",
    "if (results.pvalue < alpha):\n",
    "    print(\"Отвергаем нулевую гипотезу\")\n",
    "else:\n",
    "    print(\"Не получилось отвергнуть нулевую гипотезу\")"
   ]
  },
  {
   "cell_type": "markdown",
   "id": "dad6cba1-572c-48ee-a067-4eeda6d0b5e3",
   "metadata": {},
   "source": [
    "Нулевая гипотеза отвергнута, следовательно, есть основания предположить, что средние пользовательские рейтинги Action и Sports не равны, при alpha=0.05"
   ]
  },
  {
   "cell_type": "markdown",
   "id": "ffb9b9de-926d-4c55-a217-c998fe30b832",
   "metadata": {},
   "source": [
    "## 6.Общий вывод ##"
   ]
  },
  {
   "cell_type": "markdown",
   "id": "a4903aa8-0585-4930-8e73-ad4b960b1a19",
   "metadata": {},
   "source": [
    "В рамках проекта проведена большая работа. \n",
    "\n",
    "Изучена представленная таблица, названия столбцов приведены к нижнему регистру. Проведя анализ на пропуски, в данных были удалены 2 строки с пропусками в названиях игр и 269 строк с пропусками данных в столбце год выпуска. Процент пропусков в столбцах оценок критиков, пользователей и рейтинга очень высок. Однако эти пропуски заменить нечем. Оценки индивидуальны. Аббревиатура 'tbd' в столбце оценка пользователей означает, что оценка не определена, замена на NAN. Изменены типы данных в столбцах оценок пользователей, оценок критиков и год выпуска. Создан столбец с суммарными продажами игр по регионам. Проверка на дубликаты показала, что дубликаты отсутствуют.\n",
    "\n",
    "В рамках исследовательского анализа вывлены следующие закономерности. До 1990 года игр выпускалось немного. С 1995г. началось увеличение количества игр, с 2010г. наблюдается снижение. Лидеры продаж 6 платформ: 'PS2', 'X360', 'PS3', 'Wii', 'DS', 'PS'. Пик продаж платформы PS - 1998г., платформы PS2 - 2003-2005гг., платформы DS - 2005-2007гг., платформы Wii - 2010г., платформы Х360 - 2011, платформы PS3 - 2012г. Имеется тенденция: как только появляется и становится популярной новая платформа, продажи старой резко падают. Характерный период появления новых и исчезновения старых платформ примерно 10 лет. Рост продаж платформ как правило в течении 5 лет. Актуальным периодом считаю период, начиная с 2013г., т.к. он не сильно отдален от 2017г. и на рынке присутствуют крупные платформы X360, PS3. Рассматривая отрезок времени с 2013г., лидеры продаж: PS4, PS3, XOne. У всех платформ продажи падают после 2015г. Но только 2 платформы PS4 и XOne имеют негативную тенденцию с 2015г., тогда как у остальных продажи падают на всем изучаемом отрезке времени. Платформа Х360 имеет максимальный медианный показатель продаж. PS4 и XOne имеют похожие показатели. Зависимость между продажами и оценками пользователей отсутствует. Оценки критиков имеют более большее влияние на объемы продаж, чем оценки пользователей. Однако и здесь сильной зависимости нет. По суммарной выручке лидирует жанр Action, потом следует Shooter и Sports. Однако по медианным значениям лидер - Shooter, а за ним Sports.\n",
    "\n",
    "Проводя анализ по регионам, можно отметить следующее. В Европе и Северной Америке по суммарным продажам лидирует платформа PS4 (42% и 28% рынка соответственно). В Японии половину рынка занимает платформа 3DS (50%). В Северной Америке и Европе распределение топовых жанров схожи. На первом месте по продажам Action (34% и 36% соответственно), за ним следует Shooter (29% и 27%). В Японии лидирует Role-Playing (44%), на втором месте Action (35%). В Северной Америке и Европе лидер по продажам рейтинг М. В Японии 60% игр без установленного возрастного рейтинга.\n",
    "\n",
    "Портрет пользователя Северной Америки: старше 17 лет, предпочитает платформу PS4 и жанр Action.\n",
    "\n",
    "Портрет пользователя Европы: старше 17 лет, предпочитает платформу PS4 и жанр Action.\n",
    "\n",
    "Портрет пользователя Японии: геймеры предпочитает платформу 3DS и жанр Role-Playing.\n",
    "\n",
    "Портреты пользователей Северной Америки и Европы очень похожи между собой.\n",
    "\n",
    "Проверяя гипотезы, можно предположить следующее: средние пользовательские рейтинги платформ XOne и PC равны и средние пользовательские рейтинги Action и Sports не равны, при alpha=0.05\n",
    "\n",
    "Рекомендации для компании на 2017г.\n",
    "\n",
    "Так как имеется тенденция к общему снижению продаж, выручка в 2017г. вероятно будет ниже, чем в 2016г.\n",
    "\n",
    "Считаю наиболее перспективным для Европы и Северной Америки расходовать на рекламу платформы PS4, игры жанра Action и рассчитывать на геймеров, старше 17 лет. Для Японии - наиболее перспективна платформа Role-Playing, жанр Action."
   ]
  }
 ],
 "metadata": {
  "ExecuteTimeLog": [
   {
    "duration": 1157,
    "start_time": "2025-03-05T19:25:04.928Z"
   },
   {
    "duration": 127,
    "start_time": "2025-03-05T19:25:06.088Z"
   },
   {
    "duration": 0,
    "start_time": "2025-03-05T19:25:06.218Z"
   },
   {
    "duration": 0,
    "start_time": "2025-03-05T19:25:06.219Z"
   },
   {
    "duration": 0,
    "start_time": "2025-03-05T19:25:06.220Z"
   },
   {
    "duration": 0,
    "start_time": "2025-03-05T19:25:06.221Z"
   },
   {
    "duration": 0,
    "start_time": "2025-03-05T19:25:06.222Z"
   },
   {
    "duration": 0,
    "start_time": "2025-03-05T19:25:06.223Z"
   },
   {
    "duration": 0,
    "start_time": "2025-03-05T19:25:06.224Z"
   },
   {
    "duration": 0,
    "start_time": "2025-03-05T19:25:06.225Z"
   },
   {
    "duration": 0,
    "start_time": "2025-03-05T19:25:06.226Z"
   },
   {
    "duration": 0,
    "start_time": "2025-03-05T19:25:06.227Z"
   },
   {
    "duration": 0,
    "start_time": "2025-03-05T19:25:06.228Z"
   },
   {
    "duration": 0,
    "start_time": "2025-03-05T19:25:06.229Z"
   },
   {
    "duration": 0,
    "start_time": "2025-03-05T19:25:06.230Z"
   },
   {
    "duration": 0,
    "start_time": "2025-03-05T19:25:06.231Z"
   },
   {
    "duration": 0,
    "start_time": "2025-03-05T19:25:06.232Z"
   },
   {
    "duration": 0,
    "start_time": "2025-03-05T19:25:06.233Z"
   },
   {
    "duration": 0,
    "start_time": "2025-03-05T19:25:06.234Z"
   },
   {
    "duration": 0,
    "start_time": "2025-03-05T19:25:06.235Z"
   },
   {
    "duration": 0,
    "start_time": "2025-03-05T19:25:06.236Z"
   },
   {
    "duration": 0,
    "start_time": "2025-03-05T19:25:06.236Z"
   },
   {
    "duration": 0,
    "start_time": "2025-03-05T19:25:06.237Z"
   },
   {
    "duration": 0,
    "start_time": "2025-03-05T19:25:06.238Z"
   },
   {
    "duration": 0,
    "start_time": "2025-03-05T19:25:06.239Z"
   },
   {
    "duration": 0,
    "start_time": "2025-03-05T19:25:06.240Z"
   },
   {
    "duration": 0,
    "start_time": "2025-03-05T19:25:06.275Z"
   },
   {
    "duration": 0,
    "start_time": "2025-03-05T19:25:06.277Z"
   },
   {
    "duration": 0,
    "start_time": "2025-03-05T19:25:06.278Z"
   },
   {
    "duration": 0,
    "start_time": "2025-03-05T19:25:06.279Z"
   },
   {
    "duration": 0,
    "start_time": "2025-03-05T19:25:06.280Z"
   },
   {
    "duration": 0,
    "start_time": "2025-03-05T19:25:06.281Z"
   },
   {
    "duration": 0,
    "start_time": "2025-03-05T19:25:06.282Z"
   },
   {
    "duration": 0,
    "start_time": "2025-03-05T19:25:06.284Z"
   },
   {
    "duration": 0,
    "start_time": "2025-03-05T19:25:06.285Z"
   },
   {
    "duration": 0,
    "start_time": "2025-03-05T19:25:06.286Z"
   },
   {
    "duration": 0,
    "start_time": "2025-03-05T19:25:06.287Z"
   },
   {
    "duration": 0,
    "start_time": "2025-03-05T19:25:06.288Z"
   },
   {
    "duration": 0,
    "start_time": "2025-03-05T19:25:06.289Z"
   },
   {
    "duration": 0,
    "start_time": "2025-03-05T19:25:06.290Z"
   },
   {
    "duration": 0,
    "start_time": "2025-03-05T19:25:06.291Z"
   },
   {
    "duration": 0,
    "start_time": "2025-03-05T19:25:06.292Z"
   },
   {
    "duration": 0,
    "start_time": "2025-03-05T19:25:06.294Z"
   },
   {
    "duration": 0,
    "start_time": "2025-03-05T19:25:06.295Z"
   },
   {
    "duration": 0,
    "start_time": "2025-03-05T19:25:06.296Z"
   },
   {
    "duration": 0,
    "start_time": "2025-03-05T19:25:06.297Z"
   },
   {
    "duration": 0,
    "start_time": "2025-03-05T19:25:06.298Z"
   },
   {
    "duration": 0,
    "start_time": "2025-03-05T19:25:06.299Z"
   },
   {
    "duration": 0,
    "start_time": "2025-03-05T19:25:06.300Z"
   },
   {
    "duration": 0,
    "start_time": "2025-03-05T19:25:06.301Z"
   },
   {
    "duration": 160,
    "start_time": "2025-03-05T19:28:44.969Z"
   },
   {
    "duration": 1168,
    "start_time": "2025-03-05T19:29:45.802Z"
   },
   {
    "duration": 92,
    "start_time": "2025-03-05T19:29:46.974Z"
   },
   {
    "duration": 24,
    "start_time": "2025-03-05T19:29:47.068Z"
   },
   {
    "duration": 13,
    "start_time": "2025-03-05T19:29:47.094Z"
   },
   {
    "duration": 3,
    "start_time": "2025-03-05T19:29:47.108Z"
   },
   {
    "duration": 21,
    "start_time": "2025-03-05T19:29:47.112Z"
   },
   {
    "duration": 28,
    "start_time": "2025-03-05T19:29:47.135Z"
   },
   {
    "duration": 12,
    "start_time": "2025-03-05T19:29:47.164Z"
   },
   {
    "duration": 18,
    "start_time": "2025-03-05T19:29:47.177Z"
   },
   {
    "duration": 13,
    "start_time": "2025-03-05T19:29:47.198Z"
   },
   {
    "duration": 10,
    "start_time": "2025-03-05T19:29:47.212Z"
   },
   {
    "duration": 11,
    "start_time": "2025-03-05T19:29:47.223Z"
   },
   {
    "duration": 40,
    "start_time": "2025-03-05T19:29:47.236Z"
   },
   {
    "duration": 7,
    "start_time": "2025-03-05T19:29:47.278Z"
   },
   {
    "duration": 8,
    "start_time": "2025-03-05T19:29:47.287Z"
   },
   {
    "duration": 8,
    "start_time": "2025-03-05T19:29:47.296Z"
   },
   {
    "duration": 14,
    "start_time": "2025-03-05T19:29:47.305Z"
   },
   {
    "duration": 14,
    "start_time": "2025-03-05T19:29:47.321Z"
   },
   {
    "duration": 49,
    "start_time": "2025-03-05T19:29:47.336Z"
   },
   {
    "duration": 12,
    "start_time": "2025-03-05T19:29:47.386Z"
   },
   {
    "duration": 1608,
    "start_time": "2025-03-05T19:29:47.399Z"
   },
   {
    "duration": 0,
    "start_time": "2025-03-05T19:29:49.011Z"
   },
   {
    "duration": 0,
    "start_time": "2025-03-05T19:29:49.012Z"
   },
   {
    "duration": 0,
    "start_time": "2025-03-05T19:29:49.014Z"
   },
   {
    "duration": 0,
    "start_time": "2025-03-05T19:29:49.016Z"
   },
   {
    "duration": 0,
    "start_time": "2025-03-05T19:29:49.017Z"
   },
   {
    "duration": 0,
    "start_time": "2025-03-05T19:29:49.018Z"
   },
   {
    "duration": 0,
    "start_time": "2025-03-05T19:29:49.019Z"
   },
   {
    "duration": 0,
    "start_time": "2025-03-05T19:29:49.021Z"
   },
   {
    "duration": 0,
    "start_time": "2025-03-05T19:29:49.021Z"
   },
   {
    "duration": 0,
    "start_time": "2025-03-05T19:29:49.023Z"
   },
   {
    "duration": 0,
    "start_time": "2025-03-05T19:29:49.024Z"
   },
   {
    "duration": 0,
    "start_time": "2025-03-05T19:29:49.025Z"
   },
   {
    "duration": 0,
    "start_time": "2025-03-05T19:29:49.026Z"
   },
   {
    "duration": 0,
    "start_time": "2025-03-05T19:29:49.027Z"
   },
   {
    "duration": 0,
    "start_time": "2025-03-05T19:29:49.029Z"
   },
   {
    "duration": 0,
    "start_time": "2025-03-05T19:29:49.030Z"
   },
   {
    "duration": 0,
    "start_time": "2025-03-05T19:29:49.031Z"
   },
   {
    "duration": 0,
    "start_time": "2025-03-05T19:29:49.032Z"
   },
   {
    "duration": 0,
    "start_time": "2025-03-05T19:29:49.033Z"
   },
   {
    "duration": 0,
    "start_time": "2025-03-05T19:29:49.035Z"
   },
   {
    "duration": 0,
    "start_time": "2025-03-05T19:29:49.035Z"
   },
   {
    "duration": 1,
    "start_time": "2025-03-05T19:29:49.036Z"
   },
   {
    "duration": 0,
    "start_time": "2025-03-05T19:29:49.038Z"
   },
   {
    "duration": 0,
    "start_time": "2025-03-05T19:29:49.039Z"
   },
   {
    "duration": 0,
    "start_time": "2025-03-05T19:29:49.040Z"
   },
   {
    "duration": 0,
    "start_time": "2025-03-05T19:29:49.041Z"
   },
   {
    "duration": 0,
    "start_time": "2025-03-05T19:29:49.042Z"
   },
   {
    "duration": 0,
    "start_time": "2025-03-05T19:29:49.043Z"
   },
   {
    "duration": 0,
    "start_time": "2025-03-05T19:29:49.044Z"
   },
   {
    "duration": 59,
    "start_time": "2025-03-05T19:36:59.571Z"
   },
   {
    "duration": 1116,
    "start_time": "2025-03-05T19:37:11.734Z"
   },
   {
    "duration": 189,
    "start_time": "2025-03-05T19:37:12.852Z"
   },
   {
    "duration": 24,
    "start_time": "2025-03-05T19:37:13.042Z"
   },
   {
    "duration": 17,
    "start_time": "2025-03-05T19:37:13.068Z"
   },
   {
    "duration": 4,
    "start_time": "2025-03-05T19:37:13.086Z"
   },
   {
    "duration": 26,
    "start_time": "2025-03-05T19:37:13.091Z"
   },
   {
    "duration": 42,
    "start_time": "2025-03-05T19:37:13.118Z"
   },
   {
    "duration": 60,
    "start_time": "2025-03-05T19:37:13.162Z"
   },
   {
    "duration": 5,
    "start_time": "2025-03-05T19:37:13.223Z"
   },
   {
    "duration": 21,
    "start_time": "2025-03-05T19:37:13.230Z"
   },
   {
    "duration": 25,
    "start_time": "2025-03-05T19:37:13.253Z"
   },
   {
    "duration": 10,
    "start_time": "2025-03-05T19:37:13.279Z"
   },
   {
    "duration": 15,
    "start_time": "2025-03-05T19:37:13.291Z"
   },
   {
    "duration": 10,
    "start_time": "2025-03-05T19:37:13.308Z"
   },
   {
    "duration": 13,
    "start_time": "2025-03-05T19:37:13.319Z"
   },
   {
    "duration": 12,
    "start_time": "2025-03-05T19:37:13.333Z"
   },
   {
    "duration": 16,
    "start_time": "2025-03-05T19:37:13.346Z"
   },
   {
    "duration": 12,
    "start_time": "2025-03-05T19:37:13.374Z"
   },
   {
    "duration": 16,
    "start_time": "2025-03-05T19:37:13.387Z"
   },
   {
    "duration": 24,
    "start_time": "2025-03-05T19:37:13.405Z"
   },
   {
    "duration": 11,
    "start_time": "2025-03-05T19:37:13.430Z"
   },
   {
    "duration": 1639,
    "start_time": "2025-03-05T19:37:13.443Z"
   },
   {
    "duration": 0,
    "start_time": "2025-03-05T19:37:15.085Z"
   },
   {
    "duration": 0,
    "start_time": "2025-03-05T19:37:15.087Z"
   },
   {
    "duration": 0,
    "start_time": "2025-03-05T19:37:15.088Z"
   },
   {
    "duration": 0,
    "start_time": "2025-03-05T19:37:15.089Z"
   },
   {
    "duration": 0,
    "start_time": "2025-03-05T19:37:15.090Z"
   },
   {
    "duration": 0,
    "start_time": "2025-03-05T19:37:15.091Z"
   },
   {
    "duration": 0,
    "start_time": "2025-03-05T19:37:15.092Z"
   },
   {
    "duration": 0,
    "start_time": "2025-03-05T19:37:15.093Z"
   },
   {
    "duration": 0,
    "start_time": "2025-03-05T19:37:15.094Z"
   },
   {
    "duration": 0,
    "start_time": "2025-03-05T19:37:15.095Z"
   },
   {
    "duration": 0,
    "start_time": "2025-03-05T19:37:15.096Z"
   },
   {
    "duration": 0,
    "start_time": "2025-03-05T19:37:15.097Z"
   },
   {
    "duration": 0,
    "start_time": "2025-03-05T19:37:15.098Z"
   },
   {
    "duration": 0,
    "start_time": "2025-03-05T19:37:15.099Z"
   },
   {
    "duration": 0,
    "start_time": "2025-03-05T19:37:15.100Z"
   },
   {
    "duration": 0,
    "start_time": "2025-03-05T19:37:15.101Z"
   },
   {
    "duration": 0,
    "start_time": "2025-03-05T19:37:15.102Z"
   },
   {
    "duration": 0,
    "start_time": "2025-03-05T19:37:15.103Z"
   },
   {
    "duration": 0,
    "start_time": "2025-03-05T19:37:15.104Z"
   },
   {
    "duration": 0,
    "start_time": "2025-03-05T19:37:15.104Z"
   },
   {
    "duration": 0,
    "start_time": "2025-03-05T19:37:15.106Z"
   },
   {
    "duration": 0,
    "start_time": "2025-03-05T19:37:15.107Z"
   },
   {
    "duration": 0,
    "start_time": "2025-03-05T19:37:15.108Z"
   },
   {
    "duration": 0,
    "start_time": "2025-03-05T19:37:15.109Z"
   },
   {
    "duration": 0,
    "start_time": "2025-03-05T19:37:15.109Z"
   },
   {
    "duration": 0,
    "start_time": "2025-03-05T19:37:15.110Z"
   },
   {
    "duration": 0,
    "start_time": "2025-03-05T19:37:15.111Z"
   },
   {
    "duration": 0,
    "start_time": "2025-03-05T19:37:15.112Z"
   },
   {
    "duration": 0,
    "start_time": "2025-03-05T19:37:15.113Z"
   },
   {
    "duration": 0,
    "start_time": "2025-03-05T19:37:15.113Z"
   },
   {
    "duration": 74,
    "start_time": "2025-03-05T19:42:35.521Z"
   },
   {
    "duration": 1242,
    "start_time": "2025-03-05T19:44:51.354Z"
   },
   {
    "duration": 126,
    "start_time": "2025-03-05T19:44:52.598Z"
   },
   {
    "duration": 0,
    "start_time": "2025-03-05T19:44:52.727Z"
   },
   {
    "duration": 0,
    "start_time": "2025-03-05T19:44:52.728Z"
   },
   {
    "duration": 0,
    "start_time": "2025-03-05T19:44:52.729Z"
   },
   {
    "duration": 0,
    "start_time": "2025-03-05T19:44:52.731Z"
   },
   {
    "duration": 0,
    "start_time": "2025-03-05T19:44:52.732Z"
   },
   {
    "duration": 0,
    "start_time": "2025-03-05T19:44:52.733Z"
   },
   {
    "duration": 0,
    "start_time": "2025-03-05T19:44:52.734Z"
   },
   {
    "duration": 0,
    "start_time": "2025-03-05T19:44:52.735Z"
   },
   {
    "duration": 0,
    "start_time": "2025-03-05T19:44:52.736Z"
   },
   {
    "duration": 0,
    "start_time": "2025-03-05T19:44:52.737Z"
   },
   {
    "duration": 0,
    "start_time": "2025-03-05T19:44:52.738Z"
   },
   {
    "duration": 0,
    "start_time": "2025-03-05T19:44:52.739Z"
   },
   {
    "duration": 0,
    "start_time": "2025-03-05T19:44:52.740Z"
   },
   {
    "duration": 0,
    "start_time": "2025-03-05T19:44:52.741Z"
   },
   {
    "duration": 0,
    "start_time": "2025-03-05T19:44:52.742Z"
   },
   {
    "duration": 0,
    "start_time": "2025-03-05T19:44:52.743Z"
   },
   {
    "duration": 0,
    "start_time": "2025-03-05T19:44:52.744Z"
   },
   {
    "duration": 0,
    "start_time": "2025-03-05T19:44:52.745Z"
   },
   {
    "duration": 0,
    "start_time": "2025-03-05T19:44:52.746Z"
   },
   {
    "duration": 0,
    "start_time": "2025-03-05T19:44:52.747Z"
   },
   {
    "duration": 0,
    "start_time": "2025-03-05T19:44:52.775Z"
   },
   {
    "duration": 0,
    "start_time": "2025-03-05T19:44:52.776Z"
   },
   {
    "duration": 0,
    "start_time": "2025-03-05T19:44:52.777Z"
   },
   {
    "duration": 0,
    "start_time": "2025-03-05T19:44:52.778Z"
   },
   {
    "duration": 0,
    "start_time": "2025-03-05T19:44:52.779Z"
   },
   {
    "duration": 0,
    "start_time": "2025-03-05T19:44:52.780Z"
   },
   {
    "duration": 0,
    "start_time": "2025-03-05T19:44:52.781Z"
   },
   {
    "duration": 0,
    "start_time": "2025-03-05T19:44:52.782Z"
   },
   {
    "duration": 0,
    "start_time": "2025-03-05T19:44:52.782Z"
   },
   {
    "duration": 0,
    "start_time": "2025-03-05T19:44:52.784Z"
   },
   {
    "duration": 0,
    "start_time": "2025-03-05T19:44:52.785Z"
   },
   {
    "duration": 0,
    "start_time": "2025-03-05T19:44:52.786Z"
   },
   {
    "duration": 0,
    "start_time": "2025-03-05T19:44:52.787Z"
   },
   {
    "duration": 0,
    "start_time": "2025-03-05T19:44:52.788Z"
   },
   {
    "duration": 0,
    "start_time": "2025-03-05T19:44:52.789Z"
   },
   {
    "duration": 0,
    "start_time": "2025-03-05T19:44:52.790Z"
   },
   {
    "duration": 0,
    "start_time": "2025-03-05T19:44:52.791Z"
   },
   {
    "duration": 0,
    "start_time": "2025-03-05T19:44:52.792Z"
   },
   {
    "duration": 0,
    "start_time": "2025-03-05T19:44:52.793Z"
   },
   {
    "duration": 0,
    "start_time": "2025-03-05T19:44:52.794Z"
   },
   {
    "duration": 0,
    "start_time": "2025-03-05T19:44:52.795Z"
   },
   {
    "duration": 0,
    "start_time": "2025-03-05T19:44:52.796Z"
   },
   {
    "duration": 0,
    "start_time": "2025-03-05T19:44:52.797Z"
   },
   {
    "duration": 0,
    "start_time": "2025-03-05T19:44:52.798Z"
   },
   {
    "duration": 0,
    "start_time": "2025-03-05T19:44:52.799Z"
   },
   {
    "duration": 0,
    "start_time": "2025-03-05T19:44:52.800Z"
   },
   {
    "duration": 0,
    "start_time": "2025-03-05T19:44:52.801Z"
   },
   {
    "duration": 0,
    "start_time": "2025-03-05T19:44:52.802Z"
   },
   {
    "duration": 0,
    "start_time": "2025-03-05T19:44:52.803Z"
   },
   {
    "duration": 0,
    "start_time": "2025-03-05T19:44:52.804Z"
   },
   {
    "duration": 61,
    "start_time": "2025-03-07T13:40:06.447Z"
   },
   {
    "duration": 1431,
    "start_time": "2025-03-07T13:40:17.948Z"
   },
   {
    "duration": 104,
    "start_time": "2025-03-07T13:40:19.381Z"
   },
   {
    "duration": 55,
    "start_time": "2025-03-07T13:40:21.797Z"
   },
   {
    "duration": 23,
    "start_time": "2025-03-07T13:40:28.764Z"
   },
   {
    "duration": 15,
    "start_time": "2025-03-07T13:40:29.902Z"
   },
   {
    "duration": 3,
    "start_time": "2025-03-07T13:40:32.980Z"
   },
   {
    "duration": 20,
    "start_time": "2025-03-07T13:40:34.266Z"
   },
   {
    "duration": 12,
    "start_time": "2025-03-07T13:40:35.114Z"
   },
   {
    "duration": 64,
    "start_time": "2025-03-07T13:40:36.112Z"
   },
   {
    "duration": 5,
    "start_time": "2025-03-07T13:40:36.181Z"
   },
   {
    "duration": 18,
    "start_time": "2025-03-07T13:40:55.450Z"
   },
   {
    "duration": 24,
    "start_time": "2025-03-07T13:40:59.710Z"
   },
   {
    "duration": 17,
    "start_time": "2025-03-07T13:41:01.836Z"
   },
   {
    "duration": 21,
    "start_time": "2025-03-07T13:41:03.019Z"
   },
   {
    "duration": 17,
    "start_time": "2025-03-07T13:41:04.529Z"
   },
   {
    "duration": 11,
    "start_time": "2025-03-07T13:41:05.056Z"
   },
   {
    "duration": 10,
    "start_time": "2025-03-07T13:41:05.564Z"
   },
   {
    "duration": 9,
    "start_time": "2025-03-07T13:41:06.106Z"
   },
   {
    "duration": 14,
    "start_time": "2025-03-07T13:41:07.219Z"
   },
   {
    "duration": 20,
    "start_time": "2025-03-07T13:41:08.844Z"
   },
   {
    "duration": 39,
    "start_time": "2025-03-07T13:41:11.140Z"
   },
   {
    "duration": 81,
    "start_time": "2025-03-07T13:41:15.108Z"
   },
   {
    "duration": 12,
    "start_time": "2025-03-07T13:41:19.383Z"
   },
   {
    "duration": 1208,
    "start_time": "2025-03-07T13:41:19.964Z"
   },
   {
    "duration": 12,
    "start_time": "2025-03-07T13:41:52.010Z"
   },
   {
    "duration": 284,
    "start_time": "2025-03-07T13:41:53.264Z"
   },
   {
    "duration": 12,
    "start_time": "2025-03-07T13:41:59.426Z"
   },
   {
    "duration": 293,
    "start_time": "2025-03-07T13:42:00.697Z"
   },
   {
    "duration": 24,
    "start_time": "2025-03-07T13:42:03.859Z"
   },
   {
    "duration": 14,
    "start_time": "2025-03-07T13:42:04.703Z"
   },
   {
    "duration": 15,
    "start_time": "2025-03-07T13:43:42.117Z"
   },
   {
    "duration": 11,
    "start_time": "2025-03-07T13:55:28.924Z"
   },
   {
    "duration": 11,
    "start_time": "2025-03-07T14:01:24.033Z"
   },
   {
    "duration": 11,
    "start_time": "2025-03-07T14:02:24.280Z"
   },
   {
    "duration": 1293,
    "start_time": "2025-03-07T14:02:46.375Z"
   },
   {
    "duration": 18,
    "start_time": "2025-03-07T14:03:54.286Z"
   },
   {
    "duration": 442,
    "start_time": "2025-03-07T14:03:56.133Z"
   },
   {
    "duration": 360,
    "start_time": "2025-03-07T14:04:01.214Z"
   },
   {
    "duration": 12,
    "start_time": "2025-03-07T14:04:09.214Z"
   },
   {
    "duration": 871,
    "start_time": "2025-03-07T14:04:11.774Z"
   },
   {
    "duration": 543,
    "start_time": "2025-03-07T14:04:25.585Z"
   },
   {
    "duration": 889,
    "start_time": "2025-03-07T14:05:21.115Z"
   },
   {
    "duration": 596,
    "start_time": "2025-03-07T14:05:29.972Z"
   },
   {
    "duration": 25,
    "start_time": "2025-03-07T14:06:01.980Z"
   },
   {
    "duration": 263,
    "start_time": "2025-03-07T14:06:03.086Z"
   },
   {
    "duration": 310,
    "start_time": "2025-03-07T14:06:04.834Z"
   },
   {
    "duration": 16,
    "start_time": "2025-03-07T14:06:12.234Z"
   },
   {
    "duration": 288,
    "start_time": "2025-03-07T14:06:14.035Z"
   },
   {
    "duration": 322,
    "start_time": "2025-03-07T14:06:30.481Z"
   },
   {
    "duration": 15,
    "start_time": "2025-03-07T14:06:33.294Z"
   },
   {
    "duration": 268,
    "start_time": "2025-03-07T14:06:33.944Z"
   },
   {
    "duration": 302,
    "start_time": "2025-03-07T14:06:35.274Z"
   },
   {
    "duration": 14,
    "start_time": "2025-03-07T14:06:37.555Z"
   },
   {
    "duration": 339,
    "start_time": "2025-03-07T14:06:39.491Z"
   },
   {
    "duration": 744,
    "start_time": "2025-03-07T14:07:01.840Z"
   },
   {
    "duration": 755,
    "start_time": "2025-03-07T14:07:26.184Z"
   },
   {
    "duration": 297,
    "start_time": "2025-03-07T14:07:30.484Z"
   },
   {
    "duration": 16,
    "start_time": "2025-03-07T14:07:33.219Z"
   },
   {
    "duration": 875,
    "start_time": "2025-03-07T14:07:36.257Z"
   },
   {
    "duration": 311,
    "start_time": "2025-03-07T14:07:40.439Z"
   },
   {
    "duration": 19,
    "start_time": "2025-03-07T14:07:45.464Z"
   },
   {
    "duration": 259,
    "start_time": "2025-03-07T14:07:46.563Z"
   },
   {
    "duration": 588,
    "start_time": "2025-03-07T14:08:04.522Z"
   },
   {
    "duration": 362,
    "start_time": "2025-03-07T14:08:15.006Z"
   },
   {
    "duration": 12,
    "start_time": "2025-03-07T14:08:21.739Z"
   },
   {
    "duration": 11,
    "start_time": "2025-03-07T14:08:22.713Z"
   },
   {
    "duration": 6,
    "start_time": "2025-03-07T14:08:26.270Z"
   },
   {
    "duration": 15,
    "start_time": "2025-03-07T14:08:31.766Z"
   },
   {
    "duration": 14,
    "start_time": "2025-03-07T14:08:32.696Z"
   },
   {
    "duration": 5,
    "start_time": "2025-03-07T14:08:37.224Z"
   },
   {
    "duration": 908,
    "start_time": "2025-03-07T14:10:14.095Z"
   },
   {
    "duration": 679,
    "start_time": "2025-03-07T14:11:09.653Z"
   },
   {
    "duration": 52,
    "start_time": "2025-03-09T05:16:56.250Z"
   },
   {
    "duration": 1471,
    "start_time": "2025-03-09T05:17:01.563Z"
   },
   {
    "duration": 60,
    "start_time": "2025-03-09T05:17:05.919Z"
   },
   {
    "duration": 26,
    "start_time": "2025-03-09T05:17:12.302Z"
   },
   {
    "duration": 16,
    "start_time": "2025-03-09T05:17:13.246Z"
   },
   {
    "duration": 3,
    "start_time": "2025-03-09T05:17:16.101Z"
   },
   {
    "duration": 21,
    "start_time": "2025-03-09T05:17:20.630Z"
   },
   {
    "duration": 11,
    "start_time": "2025-03-09T05:17:22.426Z"
   },
   {
    "duration": 69,
    "start_time": "2025-03-09T05:17:32.535Z"
   },
   {
    "duration": 6,
    "start_time": "2025-03-09T05:17:33.592Z"
   },
   {
    "duration": 22,
    "start_time": "2025-03-09T05:17:36.022Z"
   },
   {
    "duration": 18,
    "start_time": "2025-03-09T05:17:49.436Z"
   },
   {
    "duration": 12,
    "start_time": "2025-03-09T05:17:52.955Z"
   },
   {
    "duration": 15,
    "start_time": "2025-03-09T05:17:54.827Z"
   },
   {
    "duration": 12,
    "start_time": "2025-03-09T05:17:57.347Z"
   },
   {
    "duration": 8,
    "start_time": "2025-03-09T05:17:58.053Z"
   },
   {
    "duration": 8,
    "start_time": "2025-03-09T05:17:58.664Z"
   },
   {
    "duration": 10,
    "start_time": "2025-03-09T05:17:59.196Z"
   },
   {
    "duration": 14,
    "start_time": "2025-03-09T05:18:00.588Z"
   },
   {
    "duration": 18,
    "start_time": "2025-03-09T05:40:54.844Z"
   },
   {
    "duration": 26,
    "start_time": "2025-03-09T05:40:57.293Z"
   },
   {
    "duration": 9,
    "start_time": "2025-03-09T05:55:23.971Z"
   },
   {
    "duration": 20,
    "start_time": "2025-03-09T05:56:26.981Z"
   },
   {
    "duration": 82,
    "start_time": "2025-03-09T06:00:50.219Z"
   },
   {
    "duration": 4,
    "start_time": "2025-03-09T06:01:32.666Z"
   },
   {
    "duration": 20,
    "start_time": "2025-03-09T06:01:53.447Z"
   },
   {
    "duration": 87,
    "start_time": "2025-03-09T06:02:29.902Z"
   },
   {
    "duration": 27,
    "start_time": "2025-03-09T06:06:24.834Z"
   },
   {
    "duration": 16,
    "start_time": "2025-03-09T06:06:33.568Z"
   },
   {
    "duration": 9,
    "start_time": "2025-03-09T07:22:08.589Z"
   },
   {
    "duration": 14,
    "start_time": "2025-03-09T07:22:20.026Z"
   },
   {
    "duration": 161,
    "start_time": "2025-03-09T07:23:00.701Z"
   },
   {
    "duration": 2,
    "start_time": "2025-03-09T07:23:41.482Z"
   },
   {
    "duration": 14,
    "start_time": "2025-03-09T07:26:43.518Z"
   },
   {
    "duration": 170,
    "start_time": "2025-03-09T07:27:02.652Z"
   },
   {
    "duration": 157,
    "start_time": "2025-03-09T07:27:47.623Z"
   },
   {
    "duration": 13,
    "start_time": "2025-03-09T07:27:51.492Z"
   },
   {
    "duration": 303,
    "start_time": "2025-03-09T07:27:53.037Z"
   },
   {
    "duration": 14,
    "start_time": "2025-03-09T07:27:55.799Z"
   },
   {
    "duration": 290,
    "start_time": "2025-03-09T07:27:57.779Z"
   },
   {
    "duration": 25,
    "start_time": "2025-03-09T07:28:20.158Z"
   },
   {
    "duration": 15,
    "start_time": "2025-03-09T07:28:22.096Z"
   },
   {
    "duration": 537,
    "start_time": "2025-03-09T07:28:24.422Z"
   },
   {
    "duration": 304,
    "start_time": "2025-03-09T07:28:30.657Z"
   },
   {
    "duration": 12,
    "start_time": "2025-03-09T07:28:36.052Z"
   },
   {
    "duration": 979,
    "start_time": "2025-03-09T07:28:38.638Z"
   },
   {
    "duration": 547,
    "start_time": "2025-03-09T07:28:50.061Z"
   },
   {
    "duration": 7,
    "start_time": "2025-03-09T07:37:07.039Z"
   },
   {
    "duration": 14,
    "start_time": "2025-03-09T07:37:10.086Z"
   },
   {
    "duration": 568,
    "start_time": "2025-03-09T07:37:50.050Z"
   },
   {
    "duration": 485,
    "start_time": "2025-03-09T07:38:25.651Z"
   },
   {
    "duration": 22,
    "start_time": "2025-03-09T07:41:29.823Z"
   },
   {
    "duration": 201,
    "start_time": "2025-03-09T07:41:30.582Z"
   },
   {
    "duration": 330,
    "start_time": "2025-03-09T07:41:31.494Z"
   },
   {
    "duration": 16,
    "start_time": "2025-03-09T07:41:35.312Z"
   },
   {
    "duration": 906,
    "start_time": "2025-03-09T07:41:36.082Z"
   },
   {
    "duration": 324,
    "start_time": "2025-03-09T07:41:37.395Z"
   },
   {
    "duration": 17,
    "start_time": "2025-03-09T07:41:39.905Z"
   },
   {
    "duration": 961,
    "start_time": "2025-03-09T07:41:40.709Z"
   },
   {
    "duration": 361,
    "start_time": "2025-03-09T07:41:41.763Z"
   },
   {
    "duration": 14,
    "start_time": "2025-03-09T07:41:44.717Z"
   },
   {
    "duration": 698,
    "start_time": "2025-03-09T07:41:45.969Z"
   },
   {
    "duration": 291,
    "start_time": "2025-03-09T07:41:52.712Z"
   },
   {
    "duration": 13,
    "start_time": "2025-03-09T07:41:59.069Z"
   },
   {
    "duration": 11,
    "start_time": "2025-03-09T07:41:59.962Z"
   },
   {
    "duration": 6,
    "start_time": "2025-03-09T07:42:02.636Z"
   },
   {
    "duration": 12,
    "start_time": "2025-03-09T07:42:05.470Z"
   },
   {
    "duration": 12,
    "start_time": "2025-03-09T07:42:06.159Z"
   },
   {
    "duration": 6,
    "start_time": "2025-03-09T07:42:09.016Z"
   },
   {
    "duration": 50,
    "start_time": "2025-03-09T12:28:00.497Z"
   },
   {
    "duration": 1426,
    "start_time": "2025-03-09T12:28:47.534Z"
   },
   {
    "duration": 104,
    "start_time": "2025-03-09T12:28:48.963Z"
   },
   {
    "duration": 62,
    "start_time": "2025-03-09T12:28:49.421Z"
   },
   {
    "duration": 24,
    "start_time": "2025-03-09T12:28:55.635Z"
   },
   {
    "duration": 14,
    "start_time": "2025-03-09T12:28:56.691Z"
   },
   {
    "duration": 3,
    "start_time": "2025-03-09T12:28:58.517Z"
   },
   {
    "duration": 21,
    "start_time": "2025-03-09T12:28:59.559Z"
   },
   {
    "duration": 12,
    "start_time": "2025-03-09T12:29:00.130Z"
   },
   {
    "duration": 66,
    "start_time": "2025-03-09T12:29:01.172Z"
   },
   {
    "duration": 6,
    "start_time": "2025-03-09T12:29:01.794Z"
   },
   {
    "duration": 20,
    "start_time": "2025-03-09T12:29:02.780Z"
   },
   {
    "duration": 17,
    "start_time": "2025-03-09T12:29:04.241Z"
   },
   {
    "duration": 11,
    "start_time": "2025-03-09T12:29:05.786Z"
   },
   {
    "duration": 13,
    "start_time": "2025-03-09T12:29:06.888Z"
   },
   {
    "duration": 10,
    "start_time": "2025-03-09T12:29:08.017Z"
   },
   {
    "duration": 8,
    "start_time": "2025-03-09T12:29:08.518Z"
   },
   {
    "duration": 7,
    "start_time": "2025-03-09T12:29:09.224Z"
   },
   {
    "duration": 8,
    "start_time": "2025-03-09T12:29:09.733Z"
   },
   {
    "duration": 14,
    "start_time": "2025-03-09T12:29:10.729Z"
   },
   {
    "duration": 17,
    "start_time": "2025-03-09T12:29:14.488Z"
   },
   {
    "duration": 26,
    "start_time": "2025-03-09T12:29:16.460Z"
   },
   {
    "duration": 9,
    "start_time": "2025-03-09T12:29:18.098Z"
   },
   {
    "duration": 17,
    "start_time": "2025-03-09T12:29:18.617Z"
   },
   {
    "duration": 4,
    "start_time": "2025-03-09T12:29:19.922Z"
   },
   {
    "duration": 24,
    "start_time": "2025-03-09T12:29:20.688Z"
   },
   {
    "duration": 14,
    "start_time": "2025-03-09T12:29:23.099Z"
   },
   {
    "duration": 13,
    "start_time": "2025-03-09T12:29:35.705Z"
   },
   {
    "duration": 86,
    "start_time": "2025-03-09T12:29:38.256Z"
   },
   {
    "duration": 2,
    "start_time": "2025-03-09T12:29:42.582Z"
   },
   {
    "duration": 4,
    "start_time": "2025-03-09T12:29:42.883Z"
   },
   {
    "duration": 15,
    "start_time": "2025-03-09T12:29:44.776Z"
   },
   {
    "duration": 165,
    "start_time": "2025-03-09T12:29:45.494Z"
   },
   {
    "duration": 13,
    "start_time": "2025-03-09T12:29:48.724Z"
   },
   {
    "duration": 278,
    "start_time": "2025-03-09T12:29:49.451Z"
   },
   {
    "duration": 13,
    "start_time": "2025-03-09T12:29:51.196Z"
   },
   {
    "duration": 298,
    "start_time": "2025-03-09T12:29:51.869Z"
   },
   {
    "duration": 33,
    "start_time": "2025-03-09T12:31:43.736Z"
   },
   {
    "duration": 16,
    "start_time": "2025-03-09T12:31:44.486Z"
   },
   {
    "duration": 546,
    "start_time": "2025-03-09T12:31:45.786Z"
   },
   {
    "duration": 297,
    "start_time": "2025-03-09T12:31:48.438Z"
   },
   {
    "duration": 11,
    "start_time": "2025-03-09T12:31:50.687Z"
   },
   {
    "duration": 1017,
    "start_time": "2025-03-09T12:31:52.050Z"
   },
   {
    "duration": 507,
    "start_time": "2025-03-09T12:31:54.244Z"
   },
   {
    "duration": 19,
    "start_time": "2025-03-09T12:41:40.143Z"
   },
   {
    "duration": 16,
    "start_time": "2025-03-09T12:41:53.858Z"
   },
   {
    "duration": 4,
    "start_time": "2025-03-09T12:46:29.362Z"
   },
   {
    "duration": 4,
    "start_time": "2025-03-09T12:49:56.721Z"
   },
   {
    "duration": 4,
    "start_time": "2025-03-09T12:49:57.269Z"
   },
   {
    "duration": 3,
    "start_time": "2025-03-09T12:49:57.802Z"
   },
   {
    "duration": 14,
    "start_time": "2025-03-09T12:50:22.160Z"
   },
   {
    "duration": 480,
    "start_time": "2025-03-09T12:50:37.438Z"
   },
   {
    "duration": 1072,
    "start_time": "2025-03-09T12:50:52.935Z"
   },
   {
    "duration": 462,
    "start_time": "2025-03-09T12:50:59.844Z"
   },
   {
    "duration": 14,
    "start_time": "2025-03-09T12:51:26.397Z"
   },
   {
    "duration": 15,
    "start_time": "2025-03-09T12:51:29.193Z"
   },
   {
    "duration": 25,
    "start_time": "2025-03-09T12:51:31.619Z"
   },
   {
    "duration": 9,
    "start_time": "2025-03-09T12:51:33.696Z"
   },
   {
    "duration": 13,
    "start_time": "2025-03-09T12:51:34.449Z"
   },
   {
    "duration": 4,
    "start_time": "2025-03-09T12:51:48.791Z"
   },
   {
    "duration": 14,
    "start_time": "2025-03-09T12:51:50.957Z"
   },
   {
    "duration": 4,
    "start_time": "2025-03-09T12:52:10.392Z"
   },
   {
    "duration": 12,
    "start_time": "2025-03-09T12:52:11.280Z"
   },
   {
    "duration": 19,
    "start_time": "2025-03-09T12:52:17.136Z"
   },
   {
    "duration": 3,
    "start_time": "2025-03-09T12:53:49.976Z"
   },
   {
    "duration": 62,
    "start_time": "2025-03-09T12:53:50.958Z"
   },
   {
    "duration": 52,
    "start_time": "2025-03-09T12:53:53.363Z"
   },
   {
    "duration": 22,
    "start_time": "2025-03-09T12:53:55.144Z"
   },
   {
    "duration": 15,
    "start_time": "2025-03-09T12:53:56.102Z"
   },
   {
    "duration": 3,
    "start_time": "2025-03-09T12:53:58.875Z"
   },
   {
    "duration": 30,
    "start_time": "2025-03-09T12:54:00.406Z"
   },
   {
    "duration": 12,
    "start_time": "2025-03-09T12:54:01.201Z"
   },
   {
    "duration": 24,
    "start_time": "2025-03-09T12:54:03.828Z"
   },
   {
    "duration": 6,
    "start_time": "2025-03-09T12:54:04.570Z"
   },
   {
    "duration": 19,
    "start_time": "2025-03-09T12:54:06.525Z"
   },
   {
    "duration": 16,
    "start_time": "2025-03-09T12:54:08.902Z"
   },
   {
    "duration": 12,
    "start_time": "2025-03-09T12:54:12.187Z"
   },
   {
    "duration": 13,
    "start_time": "2025-03-09T12:54:14.289Z"
   },
   {
    "duration": 12,
    "start_time": "2025-03-09T12:54:17.031Z"
   },
   {
    "duration": 5,
    "start_time": "2025-03-09T12:54:18.067Z"
   },
   {
    "duration": 5,
    "start_time": "2025-03-09T12:54:18.807Z"
   },
   {
    "duration": 6,
    "start_time": "2025-03-09T12:54:19.681Z"
   },
   {
    "duration": 22,
    "start_time": "2025-03-09T12:54:21.705Z"
   },
   {
    "duration": 17,
    "start_time": "2025-03-09T12:54:28.025Z"
   },
   {
    "duration": 27,
    "start_time": "2025-03-09T12:54:30.874Z"
   },
   {
    "duration": 9,
    "start_time": "2025-03-09T12:54:35.301Z"
   },
   {
    "duration": 18,
    "start_time": "2025-03-09T12:54:36.640Z"
   },
   {
    "duration": 4,
    "start_time": "2025-03-09T12:54:40.633Z"
   },
   {
    "duration": 26,
    "start_time": "2025-03-09T12:54:41.945Z"
   },
   {
    "duration": 15,
    "start_time": "2025-03-09T12:54:43.765Z"
   },
   {
    "duration": 81,
    "start_time": "2025-03-09T12:54:48.134Z"
   },
   {
    "duration": 3,
    "start_time": "2025-03-09T12:54:52.665Z"
   },
   {
    "duration": 3,
    "start_time": "2025-03-09T12:54:53.526Z"
   },
   {
    "duration": 15,
    "start_time": "2025-03-09T12:54:57.041Z"
   },
   {
    "duration": 153,
    "start_time": "2025-03-09T12:54:58.209Z"
   },
   {
    "duration": 15,
    "start_time": "2025-03-09T12:55:02.582Z"
   },
   {
    "duration": 303,
    "start_time": "2025-03-09T12:55:03.591Z"
   },
   {
    "duration": 15,
    "start_time": "2025-03-09T12:55:06.060Z"
   },
   {
    "duration": 299,
    "start_time": "2025-03-09T12:55:07.618Z"
   },
   {
    "duration": 26,
    "start_time": "2025-03-09T12:55:12.732Z"
   },
   {
    "duration": 14,
    "start_time": "2025-03-09T12:55:13.565Z"
   },
   {
    "duration": 558,
    "start_time": "2025-03-09T12:55:15.992Z"
   },
   {
    "duration": 333,
    "start_time": "2025-03-09T12:55:19.831Z"
   },
   {
    "duration": 18,
    "start_time": "2025-03-09T12:55:23.547Z"
   },
   {
    "duration": 977,
    "start_time": "2025-03-09T12:55:27.109Z"
   },
   {
    "duration": 1084,
    "start_time": "2025-03-09T12:55:29.737Z"
   },
   {
    "duration": 20,
    "start_time": "2025-03-09T12:55:43.912Z"
   },
   {
    "duration": 184,
    "start_time": "2025-03-09T12:57:02.835Z"
   },
   {
    "duration": 323,
    "start_time": "2025-03-09T12:57:03.765Z"
   },
   {
    "duration": 16,
    "start_time": "2025-03-09T12:57:07.732Z"
   },
   {
    "duration": 840,
    "start_time": "2025-03-09T12:57:08.413Z"
   },
   {
    "duration": 404,
    "start_time": "2025-03-09T12:57:09.255Z"
   },
   {
    "duration": 15,
    "start_time": "2025-03-09T12:57:11.926Z"
   },
   {
    "duration": 823,
    "start_time": "2025-03-09T12:57:12.676Z"
   },
   {
    "duration": 325,
    "start_time": "2025-03-09T12:57:13.504Z"
   },
   {
    "duration": 14,
    "start_time": "2025-03-09T12:57:15.089Z"
   },
   {
    "duration": 642,
    "start_time": "2025-03-09T12:57:15.929Z"
   },
   {
    "duration": 375,
    "start_time": "2025-03-09T12:57:16.733Z"
   },
   {
    "duration": 11,
    "start_time": "2025-03-09T12:57:20.370Z"
   },
   {
    "duration": 10,
    "start_time": "2025-03-09T12:57:21.152Z"
   },
   {
    "duration": 5,
    "start_time": "2025-03-09T12:57:25.309Z"
   },
   {
    "duration": 12,
    "start_time": "2025-03-09T12:57:27.782Z"
   },
   {
    "duration": 11,
    "start_time": "2025-03-09T12:57:28.609Z"
   },
   {
    "duration": 4,
    "start_time": "2025-03-09T12:57:31.867Z"
   },
   {
    "duration": 1001,
    "start_time": "2025-03-09T13:03:49.383Z"
   },
   {
    "duration": 21,
    "start_time": "2025-03-09T13:04:12.686Z"
   },
   {
    "duration": 187,
    "start_time": "2025-03-09T13:04:15.183Z"
   },
   {
    "duration": 314,
    "start_time": "2025-03-09T13:04:23.894Z"
   },
   {
    "duration": 4,
    "start_time": "2025-03-09T13:06:13.431Z"
   },
   {
    "duration": 3,
    "start_time": "2025-03-09T13:06:14.302Z"
   },
   {
    "duration": 14,
    "start_time": "2025-03-09T13:06:15.683Z"
   },
   {
    "duration": 17,
    "start_time": "2025-03-09T13:06:19.222Z"
   },
   {
    "duration": 25,
    "start_time": "2025-03-09T13:06:21.385Z"
   },
   {
    "duration": 9,
    "start_time": "2025-03-09T13:06:23.610Z"
   },
   {
    "duration": 3,
    "start_time": "2025-03-09T13:16:02.182Z"
   },
   {
    "duration": 55,
    "start_time": "2025-03-09T13:16:02.450Z"
   },
   {
    "duration": 43,
    "start_time": "2025-03-09T13:16:03.378Z"
   },
   {
    "duration": 20,
    "start_time": "2025-03-09T13:16:04.382Z"
   },
   {
    "duration": 14,
    "start_time": "2025-03-09T13:16:04.924Z"
   },
   {
    "duration": 3,
    "start_time": "2025-03-09T13:16:06.870Z"
   },
   {
    "duration": 23,
    "start_time": "2025-03-09T13:16:07.868Z"
   },
   {
    "duration": 11,
    "start_time": "2025-03-09T13:16:08.858Z"
   },
   {
    "duration": 26,
    "start_time": "2025-03-09T13:16:10.208Z"
   },
   {
    "duration": 6,
    "start_time": "2025-03-09T13:16:10.880Z"
   },
   {
    "duration": 18,
    "start_time": "2025-03-09T13:16:11.961Z"
   },
   {
    "duration": 16,
    "start_time": "2025-03-09T13:16:14.072Z"
   },
   {
    "duration": 12,
    "start_time": "2025-03-09T13:16:16.381Z"
   },
   {
    "duration": 20,
    "start_time": "2025-03-09T13:16:17.633Z"
   },
   {
    "duration": 12,
    "start_time": "2025-03-09T13:16:18.853Z"
   },
   {
    "duration": 4,
    "start_time": "2025-03-09T13:16:23.229Z"
   },
   {
    "duration": 13,
    "start_time": "2025-03-09T13:16:24.055Z"
   },
   {
    "duration": 5,
    "start_time": "2025-03-09T13:16:48.099Z"
   },
   {
    "duration": 4,
    "start_time": "2025-03-09T13:17:29.774Z"
   },
   {
    "duration": 15,
    "start_time": "2025-03-09T13:17:49.287Z"
   },
   {
    "duration": 18,
    "start_time": "2025-03-09T13:17:52.642Z"
   },
   {
    "duration": 25,
    "start_time": "2025-03-09T13:17:55.164Z"
   },
   {
    "duration": 11,
    "start_time": "2025-03-09T13:17:57.354Z"
   },
   {
    "duration": 19,
    "start_time": "2025-03-09T13:17:58.328Z"
   },
   {
    "duration": 6,
    "start_time": "2025-03-09T13:17:59.851Z"
   },
   {
    "duration": 28,
    "start_time": "2025-03-09T13:18:00.554Z"
   },
   {
    "duration": 20,
    "start_time": "2025-03-09T13:18:01.397Z"
   },
   {
    "duration": 96,
    "start_time": "2025-03-09T13:18:04.896Z"
   },
   {
    "duration": 3,
    "start_time": "2025-03-09T13:18:07.901Z"
   },
   {
    "duration": 3,
    "start_time": "2025-03-09T13:18:08.210Z"
   },
   {
    "duration": 15,
    "start_time": "2025-03-09T13:18:09.772Z"
   },
   {
    "duration": 160,
    "start_time": "2025-03-09T13:18:10.628Z"
   },
   {
    "duration": 14,
    "start_time": "2025-03-09T13:18:13.156Z"
   },
   {
    "duration": 281,
    "start_time": "2025-03-09T13:18:13.812Z"
   },
   {
    "duration": 14,
    "start_time": "2025-03-09T13:18:15.458Z"
   },
   {
    "duration": 375,
    "start_time": "2025-03-09T13:18:16.466Z"
   },
   {
    "duration": 25,
    "start_time": "2025-03-09T13:18:20.720Z"
   },
   {
    "duration": 15,
    "start_time": "2025-03-09T13:18:21.547Z"
   },
   {
    "duration": 451,
    "start_time": "2025-03-09T13:18:23.748Z"
   },
   {
    "duration": 309,
    "start_time": "2025-03-09T13:18:25.811Z"
   },
   {
    "duration": 14,
    "start_time": "2025-03-09T13:18:28.114Z"
   },
   {
    "duration": 1077,
    "start_time": "2025-03-09T13:18:29.953Z"
   },
   {
    "duration": 996,
    "start_time": "2025-03-09T13:18:31.785Z"
   },
   {
    "duration": 3,
    "start_time": "2025-03-09T13:22:25.639Z"
   },
   {
    "duration": 55,
    "start_time": "2025-03-09T13:22:25.644Z"
   },
   {
    "duration": 0,
    "start_time": "2025-03-09T13:22:25.701Z"
   },
   {
    "duration": 0,
    "start_time": "2025-03-09T13:22:25.703Z"
   },
   {
    "duration": 0,
    "start_time": "2025-03-09T13:22:25.704Z"
   },
   {
    "duration": 0,
    "start_time": "2025-03-09T13:22:25.705Z"
   },
   {
    "duration": 0,
    "start_time": "2025-03-09T13:22:25.706Z"
   },
   {
    "duration": 0,
    "start_time": "2025-03-09T13:22:25.707Z"
   },
   {
    "duration": 0,
    "start_time": "2025-03-09T13:22:25.709Z"
   },
   {
    "duration": 0,
    "start_time": "2025-03-09T13:22:25.710Z"
   },
   {
    "duration": 0,
    "start_time": "2025-03-09T13:22:25.712Z"
   },
   {
    "duration": 0,
    "start_time": "2025-03-09T13:22:25.713Z"
   },
   {
    "duration": 0,
    "start_time": "2025-03-09T13:22:25.715Z"
   },
   {
    "duration": 10,
    "start_time": "2025-03-09T13:22:25.718Z"
   },
   {
    "duration": 12,
    "start_time": "2025-03-09T13:22:25.730Z"
   },
   {
    "duration": 4,
    "start_time": "2025-03-09T13:22:25.744Z"
   },
   {
    "duration": 14,
    "start_time": "2025-03-09T13:22:25.804Z"
   },
   {
    "duration": 0,
    "start_time": "2025-03-09T13:22:25.821Z"
   },
   {
    "duration": 0,
    "start_time": "2025-03-09T13:22:25.822Z"
   },
   {
    "duration": 0,
    "start_time": "2025-03-09T13:22:25.823Z"
   },
   {
    "duration": 0,
    "start_time": "2025-03-09T13:22:25.825Z"
   },
   {
    "duration": 0,
    "start_time": "2025-03-09T13:22:25.826Z"
   },
   {
    "duration": 0,
    "start_time": "2025-03-09T13:22:25.827Z"
   },
   {
    "duration": 0,
    "start_time": "2025-03-09T13:22:25.828Z"
   },
   {
    "duration": 0,
    "start_time": "2025-03-09T13:22:25.829Z"
   },
   {
    "duration": 0,
    "start_time": "2025-03-09T13:22:25.831Z"
   },
   {
    "duration": 0,
    "start_time": "2025-03-09T13:22:25.831Z"
   },
   {
    "duration": 0,
    "start_time": "2025-03-09T13:22:25.832Z"
   },
   {
    "duration": 0,
    "start_time": "2025-03-09T13:22:25.834Z"
   },
   {
    "duration": 0,
    "start_time": "2025-03-09T13:22:25.834Z"
   },
   {
    "duration": 0,
    "start_time": "2025-03-09T13:22:25.836Z"
   },
   {
    "duration": 0,
    "start_time": "2025-03-09T13:22:25.837Z"
   },
   {
    "duration": 0,
    "start_time": "2025-03-09T13:22:25.838Z"
   },
   {
    "duration": 0,
    "start_time": "2025-03-09T13:22:25.839Z"
   },
   {
    "duration": 0,
    "start_time": "2025-03-09T13:22:25.840Z"
   },
   {
    "duration": 0,
    "start_time": "2025-03-09T13:22:25.841Z"
   },
   {
    "duration": 0,
    "start_time": "2025-03-09T13:22:25.842Z"
   },
   {
    "duration": 0,
    "start_time": "2025-03-09T13:22:25.843Z"
   },
   {
    "duration": 0,
    "start_time": "2025-03-09T13:22:25.844Z"
   },
   {
    "duration": 0,
    "start_time": "2025-03-09T13:22:25.845Z"
   },
   {
    "duration": 957,
    "start_time": "2025-03-09T13:22:25.903Z"
   },
   {
    "duration": 1083,
    "start_time": "2025-03-09T13:22:26.862Z"
   },
   {
    "duration": 20,
    "start_time": "2025-03-09T13:22:27.947Z"
   },
   {
    "duration": 200,
    "start_time": "2025-03-09T13:22:27.969Z"
   },
   {
    "duration": 322,
    "start_time": "2025-03-09T13:22:28.170Z"
   },
   {
    "duration": 22,
    "start_time": "2025-03-09T13:22:28.494Z"
   },
   {
    "duration": 809,
    "start_time": "2025-03-09T13:22:28.519Z"
   },
   {
    "duration": 406,
    "start_time": "2025-03-09T13:22:29.330Z"
   },
   {
    "duration": 16,
    "start_time": "2025-03-09T13:22:29.737Z"
   },
   {
    "duration": 873,
    "start_time": "2025-03-09T13:22:29.755Z"
   },
   {
    "duration": 354,
    "start_time": "2025-03-09T13:22:30.630Z"
   },
   {
    "duration": 21,
    "start_time": "2025-03-09T13:22:30.986Z"
   },
   {
    "duration": 676,
    "start_time": "2025-03-09T13:22:31.009Z"
   },
   {
    "duration": 376,
    "start_time": "2025-03-09T13:22:31.686Z"
   },
   {
    "duration": 11,
    "start_time": "2025-03-09T13:22:32.064Z"
   },
   {
    "duration": 31,
    "start_time": "2025-03-09T13:22:32.077Z"
   },
   {
    "duration": 24,
    "start_time": "2025-03-09T13:22:32.110Z"
   },
   {
    "duration": 29,
    "start_time": "2025-03-09T13:22:32.136Z"
   },
   {
    "duration": 18,
    "start_time": "2025-03-09T13:22:32.166Z"
   },
   {
    "duration": 10,
    "start_time": "2025-03-09T13:22:32.185Z"
   },
   {
    "duration": 43,
    "start_time": "2025-03-09T13:23:17.709Z"
   },
   {
    "duration": 22,
    "start_time": "2025-03-09T13:23:20.860Z"
   },
   {
    "duration": 17,
    "start_time": "2025-03-09T13:23:21.857Z"
   },
   {
    "duration": 3,
    "start_time": "2025-03-09T13:23:24.197Z"
   },
   {
    "duration": 22,
    "start_time": "2025-03-09T13:23:25.527Z"
   },
   {
    "duration": 12,
    "start_time": "2025-03-09T13:23:26.292Z"
   },
   {
    "duration": 26,
    "start_time": "2025-03-09T13:23:28.106Z"
   },
   {
    "duration": 7,
    "start_time": "2025-03-09T13:23:28.934Z"
   },
   {
    "duration": 20,
    "start_time": "2025-03-09T13:23:30.264Z"
   },
   {
    "duration": 16,
    "start_time": "2025-03-09T13:23:32.819Z"
   },
   {
    "duration": 13,
    "start_time": "2025-03-09T13:23:39.849Z"
   },
   {
    "duration": 13,
    "start_time": "2025-03-09T13:23:41.473Z"
   },
   {
    "duration": 11,
    "start_time": "2025-03-09T13:23:42.757Z"
   },
   {
    "duration": 4,
    "start_time": "2025-03-09T13:23:44.987Z"
   },
   {
    "duration": 17,
    "start_time": "2025-03-09T13:23:46.448Z"
   },
   {
    "duration": 3,
    "start_time": "2025-03-09T13:25:55.142Z"
   },
   {
    "duration": 6,
    "start_time": "2025-03-09T13:25:57.318Z"
   },
   {
    "duration": 15,
    "start_time": "2025-03-09T13:25:59.511Z"
   },
   {
    "duration": 17,
    "start_time": "2025-03-09T13:26:07.105Z"
   },
   {
    "duration": 26,
    "start_time": "2025-03-09T13:26:09.176Z"
   },
   {
    "duration": 11,
    "start_time": "2025-03-09T13:26:11.156Z"
   },
   {
    "duration": 31,
    "start_time": "2025-03-09T13:26:11.818Z"
   },
   {
    "duration": 4,
    "start_time": "2025-03-09T13:26:13.152Z"
   },
   {
    "duration": 28,
    "start_time": "2025-03-09T13:26:15.935Z"
   },
   {
    "duration": 15,
    "start_time": "2025-03-09T13:26:16.858Z"
   },
   {
    "duration": 83,
    "start_time": "2025-03-09T13:26:19.645Z"
   },
   {
    "duration": 3,
    "start_time": "2025-03-09T13:26:22.797Z"
   },
   {
    "duration": 2,
    "start_time": "2025-03-09T13:26:23.347Z"
   },
   {
    "duration": 15,
    "start_time": "2025-03-09T13:26:24.921Z"
   },
   {
    "duration": 162,
    "start_time": "2025-03-09T13:26:25.524Z"
   },
   {
    "duration": 14,
    "start_time": "2025-03-09T13:26:28.675Z"
   },
   {
    "duration": 304,
    "start_time": "2025-03-09T13:26:29.294Z"
   },
   {
    "duration": 13,
    "start_time": "2025-03-09T13:26:30.639Z"
   },
   {
    "duration": 287,
    "start_time": "2025-03-09T13:26:31.243Z"
   },
   {
    "duration": 24,
    "start_time": "2025-03-09T13:26:35.397Z"
   },
   {
    "duration": 15,
    "start_time": "2025-03-09T13:26:35.993Z"
   },
   {
    "duration": 507,
    "start_time": "2025-03-09T13:26:37.414Z"
   },
   {
    "duration": 310,
    "start_time": "2025-03-09T13:26:40.566Z"
   },
   {
    "duration": 13,
    "start_time": "2025-03-09T13:26:42.629Z"
   },
   {
    "duration": 1053,
    "start_time": "2025-03-09T13:26:43.934Z"
   },
   {
    "duration": 997,
    "start_time": "2025-03-09T13:26:47.550Z"
   },
   {
    "duration": 20,
    "start_time": "2025-03-09T13:30:28.782Z"
   },
   {
    "duration": 186,
    "start_time": "2025-03-09T13:30:29.893Z"
   },
   {
    "duration": 465,
    "start_time": "2025-03-09T13:30:37.504Z"
   },
   {
    "duration": 17,
    "start_time": "2025-03-09T13:30:41.960Z"
   },
   {
    "duration": 845,
    "start_time": "2025-03-09T13:30:42.727Z"
   },
   {
    "duration": 319,
    "start_time": "2025-03-09T13:30:44.712Z"
   },
   {
    "duration": 18,
    "start_time": "2025-03-09T13:30:49.322Z"
   },
   {
    "duration": 856,
    "start_time": "2025-03-09T13:30:50.174Z"
   },
   {
    "duration": 474,
    "start_time": "2025-03-09T13:30:51.032Z"
   },
   {
    "duration": 15,
    "start_time": "2025-03-09T13:30:56.917Z"
   },
   {
    "duration": 699,
    "start_time": "2025-03-09T13:30:58.896Z"
   },
   {
    "duration": 294,
    "start_time": "2025-03-09T13:31:00.874Z"
   },
   {
    "duration": 5,
    "start_time": "2025-03-09T15:06:59.150Z"
   },
   {
    "duration": 3,
    "start_time": "2025-03-09T15:07:49.708Z"
   },
   {
    "duration": 2,
    "start_time": "2025-03-09T15:07:50.567Z"
   },
   {
    "duration": 5,
    "start_time": "2025-03-09T15:08:08.418Z"
   },
   {
    "duration": 2,
    "start_time": "2025-03-09T15:08:12.073Z"
   },
   {
    "duration": 3,
    "start_time": "2025-03-09T15:08:12.667Z"
   },
   {
    "duration": 14,
    "start_time": "2025-03-09T15:08:14.816Z"
   },
   {
    "duration": 159,
    "start_time": "2025-03-09T15:08:15.674Z"
   },
   {
    "duration": 13,
    "start_time": "2025-03-09T15:08:18.196Z"
   },
   {
    "duration": 276,
    "start_time": "2025-03-09T15:08:19.138Z"
   },
   {
    "duration": 13,
    "start_time": "2025-03-09T15:08:21.443Z"
   },
   {
    "duration": 275,
    "start_time": "2025-03-09T15:08:22.895Z"
   },
   {
    "duration": 25,
    "start_time": "2025-03-09T15:08:27.294Z"
   },
   {
    "duration": 14,
    "start_time": "2025-03-09T15:08:27.969Z"
   },
   {
    "duration": 543,
    "start_time": "2025-03-09T15:08:29.443Z"
   },
   {
    "duration": 297,
    "start_time": "2025-03-09T15:08:32.156Z"
   },
   {
    "duration": 13,
    "start_time": "2025-03-09T15:08:53.705Z"
   },
   {
    "duration": 917,
    "start_time": "2025-03-09T15:08:56.189Z"
   },
   {
    "duration": 1044,
    "start_time": "2025-03-09T15:09:00.202Z"
   },
   {
    "duration": 18,
    "start_time": "2025-03-09T15:09:28.904Z"
   },
   {
    "duration": 185,
    "start_time": "2025-03-09T15:09:30.688Z"
   },
   {
    "duration": 325,
    "start_time": "2025-03-09T15:09:47.328Z"
   },
   {
    "duration": 16,
    "start_time": "2025-03-09T15:10:02.185Z"
   },
   {
    "duration": 827,
    "start_time": "2025-03-09T15:10:03.140Z"
   },
   {
    "duration": 403,
    "start_time": "2025-03-09T15:10:06.457Z"
   },
   {
    "duration": 15,
    "start_time": "2025-03-09T15:10:09.471Z"
   },
   {
    "duration": 832,
    "start_time": "2025-03-09T15:10:10.539Z"
   },
   {
    "duration": 331,
    "start_time": "2025-03-09T15:10:11.844Z"
   },
   {
    "duration": 17,
    "start_time": "2025-03-09T15:10:17.611Z"
   },
   {
    "duration": 840,
    "start_time": "2025-03-09T15:10:19.584Z"
   },
   {
    "duration": 419,
    "start_time": "2025-03-09T15:10:33.994Z"
   },
   {
    "duration": 11,
    "start_time": "2025-03-09T15:11:08.317Z"
   },
   {
    "duration": 12,
    "start_time": "2025-03-09T15:11:10.636Z"
   },
   {
    "duration": 5,
    "start_time": "2025-03-09T15:11:15.847Z"
   },
   {
    "duration": 12,
    "start_time": "2025-03-09T15:11:19.372Z"
   },
   {
    "duration": 11,
    "start_time": "2025-03-09T15:11:24.033Z"
   },
   {
    "duration": 5,
    "start_time": "2025-03-09T15:11:30.903Z"
   },
   {
    "duration": 2,
    "start_time": "2025-03-09T15:16:06.661Z"
   },
   {
    "duration": 3,
    "start_time": "2025-03-09T15:59:35.874Z"
   },
   {
    "duration": 2,
    "start_time": "2025-03-09T15:59:37.281Z"
   },
   {
    "duration": 47,
    "start_time": "2025-03-09T15:59:39.367Z"
   },
   {
    "duration": 20,
    "start_time": "2025-03-09T15:59:43.212Z"
   },
   {
    "duration": 15,
    "start_time": "2025-03-09T15:59:44.563Z"
   },
   {
    "duration": 6,
    "start_time": "2025-03-09T15:59:49.836Z"
   },
   {
    "duration": 19,
    "start_time": "2025-03-09T15:59:52.959Z"
   },
   {
    "duration": 11,
    "start_time": "2025-03-09T15:59:55.443Z"
   },
   {
    "duration": 23,
    "start_time": "2025-03-09T15:59:58.637Z"
   },
   {
    "duration": 6,
    "start_time": "2025-03-09T16:00:01.256Z"
   },
   {
    "duration": 17,
    "start_time": "2025-03-09T16:00:04.032Z"
   },
   {
    "duration": 24,
    "start_time": "2025-03-09T16:00:07.002Z"
   },
   {
    "duration": 16,
    "start_time": "2025-03-09T16:00:11.508Z"
   },
   {
    "duration": 13,
    "start_time": "2025-03-09T16:00:13.865Z"
   },
   {
    "duration": 18,
    "start_time": "2025-03-09T16:00:16.903Z"
   },
   {
    "duration": 4,
    "start_time": "2025-03-09T16:00:17.919Z"
   },
   {
    "duration": 3,
    "start_time": "2025-03-09T16:00:20.716Z"
   },
   {
    "duration": 7,
    "start_time": "2025-03-09T16:00:22.613Z"
   },
   {
    "duration": 14,
    "start_time": "2025-03-09T16:00:25.525Z"
   },
   {
    "duration": 16,
    "start_time": "2025-03-09T16:00:43.573Z"
   },
   {
    "duration": 25,
    "start_time": "2025-03-09T16:00:59.429Z"
   },
   {
    "duration": 15,
    "start_time": "2025-03-09T16:01:03.504Z"
   },
   {
    "duration": 18,
    "start_time": "2025-03-09T16:01:05.150Z"
   },
   {
    "duration": 3,
    "start_time": "2025-03-09T16:01:18.696Z"
   },
   {
    "duration": 24,
    "start_time": "2025-03-09T16:01:26.188Z"
   },
   {
    "duration": 15,
    "start_time": "2025-03-09T16:01:32.658Z"
   },
   {
    "duration": 83,
    "start_time": "2025-03-09T16:01:47.323Z"
   },
   {
    "duration": 5,
    "start_time": "2025-03-09T16:01:55.164Z"
   },
   {
    "duration": 2,
    "start_time": "2025-03-09T16:01:58.334Z"
   },
   {
    "duration": 2,
    "start_time": "2025-03-09T16:01:59.626Z"
   },
   {
    "duration": 14,
    "start_time": "2025-03-09T16:02:04.729Z"
   },
   {
    "duration": 155,
    "start_time": "2025-03-09T16:02:06.987Z"
   },
   {
    "duration": 15,
    "start_time": "2025-03-09T16:02:22.810Z"
   },
   {
    "duration": 290,
    "start_time": "2025-03-09T16:02:26.197Z"
   },
   {
    "duration": 12,
    "start_time": "2025-03-09T16:02:52.845Z"
   },
   {
    "duration": 334,
    "start_time": "2025-03-09T16:02:57.528Z"
   },
   {
    "duration": 25,
    "start_time": "2025-03-09T16:03:46.148Z"
   },
   {
    "duration": 19,
    "start_time": "2025-03-09T16:04:06.401Z"
   },
   {
    "duration": 478,
    "start_time": "2025-03-09T16:04:18.597Z"
   },
   {
    "duration": 331,
    "start_time": "2025-03-09T16:04:38.151Z"
   },
   {
    "duration": 12,
    "start_time": "2025-03-09T16:05:20.355Z"
   },
   {
    "duration": 1047,
    "start_time": "2025-03-09T16:05:27.900Z"
   },
   {
    "duration": 1007,
    "start_time": "2025-03-09T16:05:45.451Z"
   },
   {
    "duration": 20,
    "start_time": "2025-03-09T16:06:05.465Z"
   },
   {
    "duration": 194,
    "start_time": "2025-03-09T16:06:08.084Z"
   },
   {
    "duration": 437,
    "start_time": "2025-03-09T16:06:21.881Z"
   },
   {
    "duration": 15,
    "start_time": "2025-03-09T16:07:57.244Z"
   },
   {
    "duration": 829,
    "start_time": "2025-03-09T16:07:59.008Z"
   },
   {
    "duration": 320,
    "start_time": "2025-03-09T16:08:08.661Z"
   },
   {
    "duration": 16,
    "start_time": "2025-03-09T16:08:34.140Z"
   },
   {
    "duration": 801,
    "start_time": "2025-03-09T16:08:35.259Z"
   },
   {
    "duration": 425,
    "start_time": "2025-03-09T16:08:40.848Z"
   },
   {
    "duration": 14,
    "start_time": "2025-03-09T16:08:54.874Z"
   },
   {
    "duration": 803,
    "start_time": "2025-03-09T16:09:00.849Z"
   },
   {
    "duration": 312,
    "start_time": "2025-03-09T16:09:11.335Z"
   },
   {
    "duration": 11,
    "start_time": "2025-03-09T16:12:20.467Z"
   },
   {
    "duration": 16,
    "start_time": "2025-03-09T16:12:22.361Z"
   },
   {
    "duration": 5,
    "start_time": "2025-03-09T16:12:33.426Z"
   },
   {
    "duration": 12,
    "start_time": "2025-03-09T16:12:53.330Z"
   },
   {
    "duration": 10,
    "start_time": "2025-03-09T16:13:04.073Z"
   },
   {
    "duration": 5,
    "start_time": "2025-03-09T16:13:25.990Z"
   },
   {
    "duration": 1198,
    "start_time": "2025-03-09T16:57:57.569Z"
   },
   {
    "duration": 3,
    "start_time": "2025-03-09T16:57:58.769Z"
   },
   {
    "duration": 64,
    "start_time": "2025-03-09T16:57:58.773Z"
   },
   {
    "duration": 24,
    "start_time": "2025-03-09T16:57:58.839Z"
   },
   {
    "duration": 14,
    "start_time": "2025-03-09T16:57:58.865Z"
   },
   {
    "duration": 11,
    "start_time": "2025-03-09T16:57:58.880Z"
   },
   {
    "duration": 39,
    "start_time": "2025-03-09T16:57:58.892Z"
   },
   {
    "duration": 22,
    "start_time": "2025-03-09T16:57:58.933Z"
   },
   {
    "duration": 61,
    "start_time": "2025-03-09T16:57:58.957Z"
   },
   {
    "duration": 5,
    "start_time": "2025-03-09T16:57:59.020Z"
   },
   {
    "duration": 23,
    "start_time": "2025-03-09T16:57:59.027Z"
   },
   {
    "duration": 24,
    "start_time": "2025-03-09T16:57:59.051Z"
   },
   {
    "duration": 17,
    "start_time": "2025-03-09T16:57:59.077Z"
   },
   {
    "duration": 13,
    "start_time": "2025-03-09T16:57:59.097Z"
   },
   {
    "duration": 10,
    "start_time": "2025-03-09T16:57:59.111Z"
   },
   {
    "duration": 4,
    "start_time": "2025-03-09T16:57:59.123Z"
   },
   {
    "duration": 56,
    "start_time": "2025-03-09T16:57:59.128Z"
   },
   {
    "duration": 176,
    "start_time": "2025-03-09T16:57:59.186Z"
   },
   {
    "duration": 39,
    "start_time": "2025-03-09T16:57:59.364Z"
   },
   {
    "duration": 49,
    "start_time": "2025-03-09T16:57:59.404Z"
   },
   {
    "duration": 26,
    "start_time": "2025-03-09T16:57:59.454Z"
   },
   {
    "duration": 8,
    "start_time": "2025-03-09T16:57:59.481Z"
   },
   {
    "duration": 30,
    "start_time": "2025-03-09T16:57:59.491Z"
   },
   {
    "duration": 7,
    "start_time": "2025-03-09T16:57:59.522Z"
   },
   {
    "duration": 96,
    "start_time": "2025-03-09T16:57:59.531Z"
   },
   {
    "duration": 67,
    "start_time": "2025-03-09T16:57:59.628Z"
   },
   {
    "duration": 132,
    "start_time": "2025-03-09T16:57:59.697Z"
   },
   {
    "duration": 4,
    "start_time": "2025-03-09T16:57:59.831Z"
   },
   {
    "duration": 114,
    "start_time": "2025-03-09T16:57:59.836Z"
   },
   {
    "duration": 178,
    "start_time": "2025-03-09T16:57:59.952Z"
   },
   {
    "duration": 280,
    "start_time": "2025-03-09T16:58:00.131Z"
   },
   {
    "duration": 168,
    "start_time": "2025-03-09T16:58:00.413Z"
   },
   {
    "duration": 13,
    "start_time": "2025-03-09T16:58:00.583Z"
   },
   {
    "duration": 287,
    "start_time": "2025-03-09T16:58:00.598Z"
   },
   {
    "duration": 14,
    "start_time": "2025-03-09T16:58:00.886Z"
   },
   {
    "duration": 433,
    "start_time": "2025-03-09T16:58:00.902Z"
   },
   {
    "duration": 146,
    "start_time": "2025-03-09T16:58:01.337Z"
   },
   {
    "duration": 90,
    "start_time": "2025-03-09T16:58:01.485Z"
   },
   {
    "duration": 511,
    "start_time": "2025-03-09T16:58:01.577Z"
   },
   {
    "duration": 299,
    "start_time": "2025-03-09T16:58:02.090Z"
   },
   {
    "duration": 14,
    "start_time": "2025-03-09T16:58:02.393Z"
   },
   {
    "duration": 901,
    "start_time": "2025-03-09T16:58:02.408Z"
   },
   {
    "duration": 985,
    "start_time": "2025-03-09T16:58:03.311Z"
   },
   {
    "duration": 19,
    "start_time": "2025-03-09T16:58:04.297Z"
   },
   {
    "duration": 191,
    "start_time": "2025-03-09T16:58:04.318Z"
   },
   {
    "duration": 314,
    "start_time": "2025-03-09T16:58:04.510Z"
   },
   {
    "duration": 16,
    "start_time": "2025-03-09T16:58:04.825Z"
   },
   {
    "duration": 819,
    "start_time": "2025-03-09T16:58:04.843Z"
   },
   {
    "duration": 334,
    "start_time": "2025-03-09T16:58:05.664Z"
   },
   {
    "duration": 17,
    "start_time": "2025-03-09T16:58:06.001Z"
   },
   {
    "duration": 907,
    "start_time": "2025-03-09T16:58:06.020Z"
   },
   {
    "duration": 320,
    "start_time": "2025-03-09T16:58:06.928Z"
   },
   {
    "duration": 22,
    "start_time": "2025-03-09T16:58:07.249Z"
   },
   {
    "duration": 898,
    "start_time": "2025-03-09T16:58:07.273Z"
   },
   {
    "duration": 398,
    "start_time": "2025-03-09T16:58:08.173Z"
   },
   {
    "duration": 12,
    "start_time": "2025-03-09T16:58:08.573Z"
   },
   {
    "duration": 32,
    "start_time": "2025-03-09T16:58:08.587Z"
   },
   {
    "duration": 8,
    "start_time": "2025-03-09T16:58:08.621Z"
   },
   {
    "duration": 16,
    "start_time": "2025-03-09T16:58:08.630Z"
   },
   {
    "duration": 40,
    "start_time": "2025-03-09T16:58:08.648Z"
   },
   {
    "duration": 19,
    "start_time": "2025-03-09T16:58:08.689Z"
   },
   {
    "duration": 26,
    "start_time": "2025-03-09T17:29:55.391Z"
   }
  ],
  "kernelspec": {
   "display_name": "Python 3 (ipykernel)",
   "language": "python",
   "name": "python3"
  },
  "language_info": {
   "codemirror_mode": {
    "name": "ipython",
    "version": 3
   },
   "file_extension": ".py",
   "mimetype": "text/x-python",
   "name": "python",
   "nbconvert_exporter": "python",
   "pygments_lexer": "ipython3",
   "version": "3.12.4"
  },
  "toc": {
   "base_numbering": 1,
   "nav_menu": {},
   "number_sections": true,
   "sideBar": true,
   "skip_h1_title": true,
   "title_cell": "Table of Contents",
   "title_sidebar": "Contents",
   "toc_cell": false,
   "toc_position": {
    "height": "calc(100% - 180px)",
    "left": "10px",
    "top": "150px",
    "width": "165px"
   },
   "toc_section_display": true,
   "toc_window_display": true
  }
 },
 "nbformat": 4,
 "nbformat_minor": 5
}
