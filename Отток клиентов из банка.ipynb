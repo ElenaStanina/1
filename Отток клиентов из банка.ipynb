{
 "cells": [
  {
   "cell_type": "markdown",
   "metadata": {},
   "source": [
    "# Выпускной проект: анализ оттока клиентов банка ##"
   ]
  },
  {
   "cell_type": "markdown",
   "metadata": {},
   "source": [
    "**Материалы**"
   ]
  },
  {
   "cell_type": "markdown",
   "metadata": {},
   "source": [
    "https://disk.yandex.ru/i/0Bj9yx3ogHGy5w"
   ]
  },
  {
   "cell_type": "markdown",
   "metadata": {},
   "source": [
    "**Цель проекта**\n",
    "\n",
    "Выявить сегменты клиентов, которые склонны уходить из банка"
   ]
  },
  {
   "cell_type": "markdown",
   "metadata": {},
   "source": [
    "**Задача проекта**\n",
    "\n",
    "Анализ клиентов регионального банка "
   ]
  },
  {
   "cell_type": "markdown",
   "metadata": {},
   "source": [
    "**Описание данных**\n",
    "\n",
    "Файл /datasets/bank_scrooge.csv\n",
    "\n",
    "Датасет содержит данные о клиентах банка «Метанпром». Банк располагается в\n",
    "Ярославле и областных городах: Ростов Великий и Рыбинск.\n",
    "Колонки:\n",
    "\n",
    "**USERID** — идентификатор пользователя\n",
    "\n",
    "**score** — баллы кредитного скоринга\n",
    "\n",
    "**city** — город\n",
    "\n",
    "**gender** — пол\n",
    "\n",
    "**age** — возраст\n",
    "\n",
    "**equity** — количество баллов собственности\n",
    "\n",
    "**balance** — баланс на счёте\n",
    "\n",
    "**products** — количество продуктов, которыми пользуется клиент\n",
    "\n",
    "**credit_card** — есть ли кредитная карта\n",
    "\n",
    "**last_activity** — активный клиент\n",
    "\n",
    "**EST_SALARY** — оценочный доход клиента\n",
    "\n",
    "**сhurn** — признак оттока"
   ]
  },
  {
   "cell_type": "markdown",
   "metadata": {},
   "source": [
    "**Декомпозиция проекта**:\n",
    "\n",
    "1. Загрузка данных и импорт необходимых библиотек\n",
    "\n",
    "2. Предобработка данных:\n",
    "\n",
    "     2.1 проверка и приведение к корректному типу данных\n",
    "     \n",
    "     2.2 приведение к \"змеиному\" регистру названий столбцов\n",
    "     \n",
    "     2.3 проверка на наличие пропусков\n",
    "     \n",
    "     2.4 проверка на наличие дубликатов\n",
    "     \n",
    "     2.5 проверка значений на наличие выбросов\n",
    "     \n",
    "3. Исследовательский анализ данных:\n",
    "\n",
    "     3.1 определить интервалы значений характеристик, соответствующих наиболее высокому оттоку\n",
    "     \n",
    "     3.2 сравнение ушедших и оставшихся клиентов по каждому признаку\n",
    "     \n",
    "     3.3 выделение сегиентов клиентов по высокоотточным группам и определение оттока в этих сегментах\n",
    "\n",
    "4. Статистический анализ данных:\n",
    "\n",
    "     4.1 выдвижение гипотезы о различии дохода между ушедшими и оставшимися клиентами и ее проверка\n",
    "     \n",
    "     4.2 выдвижение гипотезы о различии баланса между ушедшими и оставшимися клиентами и ее проверка\n",
    "\n",
    "5. Итоговый вывод"
   ]
  },
  {
   "cell_type": "markdown",
   "metadata": {},
   "source": [
    "# 1.Загрузка данных и импорт необходимых библиотек ##"
   ]
  },
  {
   "cell_type": "code",
   "execution_count": 1,
   "metadata": {},
   "outputs": [],
   "source": [
    "import pandas as pd\n",
    "import numpy as np\n",
    "import matplotlib.pyplot as plt\n",
    "import seaborn as sns\n",
    "from scipy import stats as st"
   ]
  },
  {
   "cell_type": "code",
   "execution_count": 2,
   "metadata": {},
   "outputs": [],
   "source": [
    "data = pd.read_csv('https://code.s3.yandex.net/datasets/bank_scrooge.csv')"
   ]
  },
  {
   "cell_type": "code",
   "execution_count": 3,
   "metadata": {},
   "outputs": [
    {
     "data": {
      "text/html": [
       "<div>\n",
       "<style scoped>\n",
       "    .dataframe tbody tr th:only-of-type {\n",
       "        vertical-align: middle;\n",
       "    }\n",
       "\n",
       "    .dataframe tbody tr th {\n",
       "        vertical-align: top;\n",
       "    }\n",
       "\n",
       "    .dataframe thead th {\n",
       "        text-align: right;\n",
       "    }\n",
       "</style>\n",
       "<table border=\"1\" class=\"dataframe\">\n",
       "  <thead>\n",
       "    <tr style=\"text-align: right;\">\n",
       "      <th></th>\n",
       "      <th>USERID</th>\n",
       "      <th>score</th>\n",
       "      <th>city</th>\n",
       "      <th>gender</th>\n",
       "      <th>age</th>\n",
       "      <th>equity</th>\n",
       "      <th>balance</th>\n",
       "      <th>products</th>\n",
       "      <th>credit_card</th>\n",
       "      <th>last_activity</th>\n",
       "      <th>EST_SALARY</th>\n",
       "      <th>churn</th>\n",
       "    </tr>\n",
       "  </thead>\n",
       "  <tbody>\n",
       "    <tr>\n",
       "      <th>0</th>\n",
       "      <td>183012</td>\n",
       "      <td>850.0</td>\n",
       "      <td>Рыбинск</td>\n",
       "      <td>Ж</td>\n",
       "      <td>25.0</td>\n",
       "      <td>1</td>\n",
       "      <td>59214.82</td>\n",
       "      <td>2</td>\n",
       "      <td>0</td>\n",
       "      <td>1</td>\n",
       "      <td>75719.14</td>\n",
       "      <td>1</td>\n",
       "    </tr>\n",
       "    <tr>\n",
       "      <th>1</th>\n",
       "      <td>146556</td>\n",
       "      <td>861.0</td>\n",
       "      <td>Рыбинск</td>\n",
       "      <td>Ж</td>\n",
       "      <td>37.0</td>\n",
       "      <td>5</td>\n",
       "      <td>850594.33</td>\n",
       "      <td>3</td>\n",
       "      <td>1</td>\n",
       "      <td>0</td>\n",
       "      <td>86621.77</td>\n",
       "      <td>0</td>\n",
       "    </tr>\n",
       "    <tr>\n",
       "      <th>2</th>\n",
       "      <td>120722</td>\n",
       "      <td>892.0</td>\n",
       "      <td>Рыбинск</td>\n",
       "      <td>Ж</td>\n",
       "      <td>30.0</td>\n",
       "      <td>0</td>\n",
       "      <td>NaN</td>\n",
       "      <td>1</td>\n",
       "      <td>1</td>\n",
       "      <td>1</td>\n",
       "      <td>107683.34</td>\n",
       "      <td>0</td>\n",
       "    </tr>\n",
       "    <tr>\n",
       "      <th>3</th>\n",
       "      <td>225363</td>\n",
       "      <td>866.0</td>\n",
       "      <td>Ярославль</td>\n",
       "      <td>Ж</td>\n",
       "      <td>51.0</td>\n",
       "      <td>5</td>\n",
       "      <td>1524746.26</td>\n",
       "      <td>2</td>\n",
       "      <td>0</td>\n",
       "      <td>1</td>\n",
       "      <td>174423.53</td>\n",
       "      <td>1</td>\n",
       "    </tr>\n",
       "    <tr>\n",
       "      <th>4</th>\n",
       "      <td>157978</td>\n",
       "      <td>730.0</td>\n",
       "      <td>Ярославль</td>\n",
       "      <td>М</td>\n",
       "      <td>34.0</td>\n",
       "      <td>5</td>\n",
       "      <td>174.00</td>\n",
       "      <td>1</td>\n",
       "      <td>1</td>\n",
       "      <td>0</td>\n",
       "      <td>67353.16</td>\n",
       "      <td>1</td>\n",
       "    </tr>\n",
       "    <tr>\n",
       "      <th>5</th>\n",
       "      <td>202305</td>\n",
       "      <td>856.0</td>\n",
       "      <td>Рыбинск</td>\n",
       "      <td>М</td>\n",
       "      <td>56.0</td>\n",
       "      <td>4</td>\n",
       "      <td>863687.24</td>\n",
       "      <td>3</td>\n",
       "      <td>1</td>\n",
       "      <td>0</td>\n",
       "      <td>156619.80</td>\n",
       "      <td>0</td>\n",
       "    </tr>\n",
       "    <tr>\n",
       "      <th>6</th>\n",
       "      <td>177259</td>\n",
       "      <td>807.0</td>\n",
       "      <td>Ярославль</td>\n",
       "      <td>Ж</td>\n",
       "      <td>39.0</td>\n",
       "      <td>3</td>\n",
       "      <td>405042.44</td>\n",
       "      <td>3</td>\n",
       "      <td>0</td>\n",
       "      <td>1</td>\n",
       "      <td>103838.32</td>\n",
       "      <td>0</td>\n",
       "    </tr>\n",
       "    <tr>\n",
       "      <th>7</th>\n",
       "      <td>218868</td>\n",
       "      <td>825.0</td>\n",
       "      <td>Ярославль</td>\n",
       "      <td>Ж</td>\n",
       "      <td>38.0</td>\n",
       "      <td>4</td>\n",
       "      <td>458145.40</td>\n",
       "      <td>2</td>\n",
       "      <td>1</td>\n",
       "      <td>1</td>\n",
       "      <td>68085.48</td>\n",
       "      <td>0</td>\n",
       "    </tr>\n",
       "    <tr>\n",
       "      <th>8</th>\n",
       "      <td>211686</td>\n",
       "      <td>923.0</td>\n",
       "      <td>Ярославль</td>\n",
       "      <td>М</td>\n",
       "      <td>54.0</td>\n",
       "      <td>5</td>\n",
       "      <td>1206337.87</td>\n",
       "      <td>2</td>\n",
       "      <td>1</td>\n",
       "      <td>0</td>\n",
       "      <td>155371.79</td>\n",
       "      <td>0</td>\n",
       "    </tr>\n",
       "    <tr>\n",
       "      <th>9</th>\n",
       "      <td>133130</td>\n",
       "      <td>906.0</td>\n",
       "      <td>Ярославль</td>\n",
       "      <td>Ж</td>\n",
       "      <td>67.0</td>\n",
       "      <td>0</td>\n",
       "      <td>NaN</td>\n",
       "      <td>1</td>\n",
       "      <td>0</td>\n",
       "      <td>1</td>\n",
       "      <td>238055.53</td>\n",
       "      <td>0</td>\n",
       "    </tr>\n",
       "    <tr>\n",
       "      <th>10</th>\n",
       "      <td>148929</td>\n",
       "      <td>927.0</td>\n",
       "      <td>Ростов</td>\n",
       "      <td>М</td>\n",
       "      <td>52.0</td>\n",
       "      <td>0</td>\n",
       "      <td>NaN</td>\n",
       "      <td>1</td>\n",
       "      <td>1</td>\n",
       "      <td>1</td>\n",
       "      <td>196820.07</td>\n",
       "      <td>0</td>\n",
       "    </tr>\n",
       "    <tr>\n",
       "      <th>11</th>\n",
       "      <td>172184</td>\n",
       "      <td>921.0</td>\n",
       "      <td>Ростов</td>\n",
       "      <td>М</td>\n",
       "      <td>41.0</td>\n",
       "      <td>0</td>\n",
       "      <td>NaN</td>\n",
       "      <td>1</td>\n",
       "      <td>1</td>\n",
       "      <td>1</td>\n",
       "      <td>217469.48</td>\n",
       "      <td>0</td>\n",
       "    </tr>\n",
       "    <tr>\n",
       "      <th>12</th>\n",
       "      <td>132970</td>\n",
       "      <td>845.0</td>\n",
       "      <td>Ярославль</td>\n",
       "      <td>Ж</td>\n",
       "      <td>31.0</td>\n",
       "      <td>3</td>\n",
       "      <td>591928.52</td>\n",
       "      <td>2</td>\n",
       "      <td>1</td>\n",
       "      <td>1</td>\n",
       "      <td>112697.16</td>\n",
       "      <td>1</td>\n",
       "    </tr>\n",
       "    <tr>\n",
       "      <th>13</th>\n",
       "      <td>166357</td>\n",
       "      <td>837.0</td>\n",
       "      <td>Рыбинск</td>\n",
       "      <td>Ж</td>\n",
       "      <td>28.0</td>\n",
       "      <td>4</td>\n",
       "      <td>302249.22</td>\n",
       "      <td>2</td>\n",
       "      <td>0</td>\n",
       "      <td>1</td>\n",
       "      <td>30950.94</td>\n",
       "      <td>0</td>\n",
       "    </tr>\n",
       "    <tr>\n",
       "      <th>14</th>\n",
       "      <td>172138</td>\n",
       "      <td>815.0</td>\n",
       "      <td>Ярославль</td>\n",
       "      <td>М</td>\n",
       "      <td>35.0</td>\n",
       "      <td>5</td>\n",
       "      <td>547499.87</td>\n",
       "      <td>2</td>\n",
       "      <td>1</td>\n",
       "      <td>1</td>\n",
       "      <td>105883.26</td>\n",
       "      <td>0</td>\n",
       "    </tr>\n",
       "    <tr>\n",
       "      <th>15</th>\n",
       "      <td>120260</td>\n",
       "      <td>731.0</td>\n",
       "      <td>Рыбинск</td>\n",
       "      <td>М</td>\n",
       "      <td>42.0</td>\n",
       "      <td>3</td>\n",
       "      <td>1480548.47</td>\n",
       "      <td>3</td>\n",
       "      <td>1</td>\n",
       "      <td>0</td>\n",
       "      <td>160974.43</td>\n",
       "      <td>0</td>\n",
       "    </tr>\n",
       "    <tr>\n",
       "      <th>16</th>\n",
       "      <td>123335</td>\n",
       "      <td>829.0</td>\n",
       "      <td>Ярославль</td>\n",
       "      <td>М</td>\n",
       "      <td>45.0</td>\n",
       "      <td>5</td>\n",
       "      <td>507842.84</td>\n",
       "      <td>1</td>\n",
       "      <td>1</td>\n",
       "      <td>1</td>\n",
       "      <td>169330.64</td>\n",
       "      <td>0</td>\n",
       "    </tr>\n",
       "    <tr>\n",
       "      <th>17</th>\n",
       "      <td>214277</td>\n",
       "      <td>793.0</td>\n",
       "      <td>Ярославль</td>\n",
       "      <td>М</td>\n",
       "      <td>53.0</td>\n",
       "      <td>3</td>\n",
       "      <td>627034.50</td>\n",
       "      <td>2</td>\n",
       "      <td>1</td>\n",
       "      <td>0</td>\n",
       "      <td>183430.19</td>\n",
       "      <td>0</td>\n",
       "    </tr>\n",
       "    <tr>\n",
       "      <th>18</th>\n",
       "      <td>136651</td>\n",
       "      <td>876.0</td>\n",
       "      <td>Ярославль</td>\n",
       "      <td>М</td>\n",
       "      <td>40.0</td>\n",
       "      <td>5</td>\n",
       "      <td>2307947.36</td>\n",
       "      <td>2</td>\n",
       "      <td>0</td>\n",
       "      <td>0</td>\n",
       "      <td>287010.61</td>\n",
       "      <td>0</td>\n",
       "    </tr>\n",
       "    <tr>\n",
       "      <th>19</th>\n",
       "      <td>127034</td>\n",
       "      <td>922.0</td>\n",
       "      <td>Рыбинск</td>\n",
       "      <td>Ж</td>\n",
       "      <td>53.0</td>\n",
       "      <td>0</td>\n",
       "      <td>NaN</td>\n",
       "      <td>1</td>\n",
       "      <td>0</td>\n",
       "      <td>0</td>\n",
       "      <td>147094.82</td>\n",
       "      <td>0</td>\n",
       "    </tr>\n",
       "  </tbody>\n",
       "</table>\n",
       "</div>"
      ],
      "text/plain": [
       "    USERID  score       city gender   age  equity     balance  products  \\\n",
       "0   183012  850.0    Рыбинск      Ж  25.0       1    59214.82         2   \n",
       "1   146556  861.0    Рыбинск      Ж  37.0       5   850594.33         3   \n",
       "2   120722  892.0    Рыбинск      Ж  30.0       0         NaN         1   \n",
       "3   225363  866.0  Ярославль      Ж  51.0       5  1524746.26         2   \n",
       "4   157978  730.0  Ярославль      М  34.0       5      174.00         1   \n",
       "5   202305  856.0    Рыбинск      М  56.0       4   863687.24         3   \n",
       "6   177259  807.0  Ярославль      Ж  39.0       3   405042.44         3   \n",
       "7   218868  825.0  Ярославль      Ж  38.0       4   458145.40         2   \n",
       "8   211686  923.0  Ярославль      М  54.0       5  1206337.87         2   \n",
       "9   133130  906.0  Ярославль      Ж  67.0       0         NaN         1   \n",
       "10  148929  927.0     Ростов      М  52.0       0         NaN         1   \n",
       "11  172184  921.0     Ростов      М  41.0       0         NaN         1   \n",
       "12  132970  845.0  Ярославль      Ж  31.0       3   591928.52         2   \n",
       "13  166357  837.0    Рыбинск      Ж  28.0       4   302249.22         2   \n",
       "14  172138  815.0  Ярославль      М  35.0       5   547499.87         2   \n",
       "15  120260  731.0    Рыбинск      М  42.0       3  1480548.47         3   \n",
       "16  123335  829.0  Ярославль      М  45.0       5   507842.84         1   \n",
       "17  214277  793.0  Ярославль      М  53.0       3   627034.50         2   \n",
       "18  136651  876.0  Ярославль      М  40.0       5  2307947.36         2   \n",
       "19  127034  922.0    Рыбинск      Ж  53.0       0         NaN         1   \n",
       "\n",
       "    credit_card  last_activity  EST_SALARY  churn  \n",
       "0             0              1    75719.14      1  \n",
       "1             1              0    86621.77      0  \n",
       "2             1              1   107683.34      0  \n",
       "3             0              1   174423.53      1  \n",
       "4             1              0    67353.16      1  \n",
       "5             1              0   156619.80      0  \n",
       "6             0              1   103838.32      0  \n",
       "7             1              1    68085.48      0  \n",
       "8             1              0   155371.79      0  \n",
       "9             0              1   238055.53      0  \n",
       "10            1              1   196820.07      0  \n",
       "11            1              1   217469.48      0  \n",
       "12            1              1   112697.16      1  \n",
       "13            0              1    30950.94      0  \n",
       "14            1              1   105883.26      0  \n",
       "15            1              0   160974.43      0  \n",
       "16            1              1   169330.64      0  \n",
       "17            1              0   183430.19      0  \n",
       "18            0              0   287010.61      0  \n",
       "19            0              0   147094.82      0  "
      ]
     },
     "execution_count": 3,
     "metadata": {},
     "output_type": "execute_result"
    }
   ],
   "source": [
    "data.head(20)"
   ]
  },
  {
   "cell_type": "markdown",
   "metadata": {},
   "source": [
    "# 2.Предобработка данных ##"
   ]
  },
  {
   "cell_type": "markdown",
   "metadata": {},
   "source": [
    "**2.1 Проверка и приведение к корректному типу данных**"
   ]
  },
  {
   "cell_type": "code",
   "execution_count": 4,
   "metadata": {},
   "outputs": [
    {
     "name": "stdout",
     "output_type": "stream",
     "text": [
      "<class 'pandas.core.frame.DataFrame'>\n",
      "RangeIndex: 10000 entries, 0 to 9999\n",
      "Data columns (total 12 columns):\n",
      " #   Column         Non-Null Count  Dtype  \n",
      "---  ------         --------------  -----  \n",
      " 0   USERID         10000 non-null  int64  \n",
      " 1   score          10000 non-null  float64\n",
      " 2   city           10000 non-null  object \n",
      " 3   gender         10000 non-null  object \n",
      " 4   age            9974 non-null   float64\n",
      " 5   equity         10000 non-null  int64  \n",
      " 6   balance        7705 non-null   float64\n",
      " 7   products       10000 non-null  int64  \n",
      " 8   credit_card    10000 non-null  int64  \n",
      " 9   last_activity  10000 non-null  int64  \n",
      " 10  EST_SALARY     10000 non-null  float64\n",
      " 11  churn          10000 non-null  int64  \n",
      "dtypes: float64(4), int64(6), object(2)\n",
      "memory usage: 937.6+ KB\n"
     ]
    }
   ],
   "source": [
    "data.info()"
   ]
  },
  {
   "cell_type": "markdown",
   "metadata": {},
   "source": [
    "Тип данных в столбцах адекватен содержанию"
   ]
  },
  {
   "cell_type": "markdown",
   "metadata": {},
   "source": [
    "**2.2 Приведение к \"змеиному\" регистру названий столбцов**"
   ]
  },
  {
   "cell_type": "code",
   "execution_count": 5,
   "metadata": {},
   "outputs": [],
   "source": [
    "data.columns = data.columns.str.lower()"
   ]
  },
  {
   "cell_type": "code",
   "execution_count": 6,
   "metadata": {},
   "outputs": [
    {
     "data": {
      "text/html": [
       "<div>\n",
       "<style scoped>\n",
       "    .dataframe tbody tr th:only-of-type {\n",
       "        vertical-align: middle;\n",
       "    }\n",
       "\n",
       "    .dataframe tbody tr th {\n",
       "        vertical-align: top;\n",
       "    }\n",
       "\n",
       "    .dataframe thead th {\n",
       "        text-align: right;\n",
       "    }\n",
       "</style>\n",
       "<table border=\"1\" class=\"dataframe\">\n",
       "  <thead>\n",
       "    <tr style=\"text-align: right;\">\n",
       "      <th></th>\n",
       "      <th>userid</th>\n",
       "      <th>score</th>\n",
       "      <th>city</th>\n",
       "      <th>gender</th>\n",
       "      <th>age</th>\n",
       "      <th>equity</th>\n",
       "      <th>balance</th>\n",
       "      <th>products</th>\n",
       "      <th>credit_card</th>\n",
       "      <th>last_activity</th>\n",
       "      <th>est_salary</th>\n",
       "      <th>churn</th>\n",
       "    </tr>\n",
       "  </thead>\n",
       "  <tbody>\n",
       "    <tr>\n",
       "      <th>0</th>\n",
       "      <td>183012</td>\n",
       "      <td>850.0</td>\n",
       "      <td>Рыбинск</td>\n",
       "      <td>Ж</td>\n",
       "      <td>25.0</td>\n",
       "      <td>1</td>\n",
       "      <td>59214.82</td>\n",
       "      <td>2</td>\n",
       "      <td>0</td>\n",
       "      <td>1</td>\n",
       "      <td>75719.14</td>\n",
       "      <td>1</td>\n",
       "    </tr>\n",
       "    <tr>\n",
       "      <th>1</th>\n",
       "      <td>146556</td>\n",
       "      <td>861.0</td>\n",
       "      <td>Рыбинск</td>\n",
       "      <td>Ж</td>\n",
       "      <td>37.0</td>\n",
       "      <td>5</td>\n",
       "      <td>850594.33</td>\n",
       "      <td>3</td>\n",
       "      <td>1</td>\n",
       "      <td>0</td>\n",
       "      <td>86621.77</td>\n",
       "      <td>0</td>\n",
       "    </tr>\n",
       "    <tr>\n",
       "      <th>2</th>\n",
       "      <td>120722</td>\n",
       "      <td>892.0</td>\n",
       "      <td>Рыбинск</td>\n",
       "      <td>Ж</td>\n",
       "      <td>30.0</td>\n",
       "      <td>0</td>\n",
       "      <td>NaN</td>\n",
       "      <td>1</td>\n",
       "      <td>1</td>\n",
       "      <td>1</td>\n",
       "      <td>107683.34</td>\n",
       "      <td>0</td>\n",
       "    </tr>\n",
       "    <tr>\n",
       "      <th>3</th>\n",
       "      <td>225363</td>\n",
       "      <td>866.0</td>\n",
       "      <td>Ярославль</td>\n",
       "      <td>Ж</td>\n",
       "      <td>51.0</td>\n",
       "      <td>5</td>\n",
       "      <td>1524746.26</td>\n",
       "      <td>2</td>\n",
       "      <td>0</td>\n",
       "      <td>1</td>\n",
       "      <td>174423.53</td>\n",
       "      <td>1</td>\n",
       "    </tr>\n",
       "    <tr>\n",
       "      <th>4</th>\n",
       "      <td>157978</td>\n",
       "      <td>730.0</td>\n",
       "      <td>Ярославль</td>\n",
       "      <td>М</td>\n",
       "      <td>34.0</td>\n",
       "      <td>5</td>\n",
       "      <td>174.00</td>\n",
       "      <td>1</td>\n",
       "      <td>1</td>\n",
       "      <td>0</td>\n",
       "      <td>67353.16</td>\n",
       "      <td>1</td>\n",
       "    </tr>\n",
       "  </tbody>\n",
       "</table>\n",
       "</div>"
      ],
      "text/plain": [
       "   userid  score       city gender   age  equity     balance  products  \\\n",
       "0  183012  850.0    Рыбинск      Ж  25.0       1    59214.82         2   \n",
       "1  146556  861.0    Рыбинск      Ж  37.0       5   850594.33         3   \n",
       "2  120722  892.0    Рыбинск      Ж  30.0       0         NaN         1   \n",
       "3  225363  866.0  Ярославль      Ж  51.0       5  1524746.26         2   \n",
       "4  157978  730.0  Ярославль      М  34.0       5      174.00         1   \n",
       "\n",
       "   credit_card  last_activity  est_salary  churn  \n",
       "0            0              1    75719.14      1  \n",
       "1            1              0    86621.77      0  \n",
       "2            1              1   107683.34      0  \n",
       "3            0              1   174423.53      1  \n",
       "4            1              0    67353.16      1  "
      ]
     },
     "execution_count": 6,
     "metadata": {},
     "output_type": "execute_result"
    }
   ],
   "source": [
    "data.head()"
   ]
  },
  {
   "cell_type": "markdown",
   "metadata": {},
   "source": [
    "Названия столбцов приведены к \"змеиному\" регистру"
   ]
  },
  {
   "cell_type": "markdown",
   "metadata": {},
   "source": [
    "**2.3 Проверка на наличие пропусков**"
   ]
  },
  {
   "cell_type": "code",
   "execution_count": 7,
   "metadata": {},
   "outputs": [
    {
     "data": {
      "text/html": [
       "<div>\n",
       "<style scoped>\n",
       "    .dataframe tbody tr th:only-of-type {\n",
       "        vertical-align: middle;\n",
       "    }\n",
       "\n",
       "    .dataframe tbody tr th {\n",
       "        vertical-align: top;\n",
       "    }\n",
       "\n",
       "    .dataframe thead th {\n",
       "        text-align: right;\n",
       "    }\n",
       "</style>\n",
       "<table border=\"1\" class=\"dataframe\">\n",
       "  <thead>\n",
       "    <tr style=\"text-align: right;\">\n",
       "      <th></th>\n",
       "      <th>userid</th>\n",
       "      <th>score</th>\n",
       "      <th>age</th>\n",
       "      <th>equity</th>\n",
       "      <th>balance</th>\n",
       "      <th>products</th>\n",
       "      <th>credit_card</th>\n",
       "      <th>last_activity</th>\n",
       "      <th>est_salary</th>\n",
       "      <th>churn</th>\n",
       "    </tr>\n",
       "  </thead>\n",
       "  <tbody>\n",
       "    <tr>\n",
       "      <th>count</th>\n",
       "      <td>10000.00000</td>\n",
       "      <td>10000.000000</td>\n",
       "      <td>9974.000000</td>\n",
       "      <td>10000.000000</td>\n",
       "      <td>7.705000e+03</td>\n",
       "      <td>10000.000000</td>\n",
       "      <td>10000.000000</td>\n",
       "      <td>10000.000000</td>\n",
       "      <td>1.000000e+04</td>\n",
       "      <td>10000.000000</td>\n",
       "    </tr>\n",
       "    <tr>\n",
       "      <th>mean</th>\n",
       "      <td>171814.71260</td>\n",
       "      <td>848.699400</td>\n",
       "      <td>42.734409</td>\n",
       "      <td>2.627600</td>\n",
       "      <td>8.277943e+05</td>\n",
       "      <td>1.870100</td>\n",
       "      <td>0.680400</td>\n",
       "      <td>0.523500</td>\n",
       "      <td>1.478669e+05</td>\n",
       "      <td>0.182000</td>\n",
       "    </tr>\n",
       "    <tr>\n",
       "      <th>std</th>\n",
       "      <td>33708.23812</td>\n",
       "      <td>65.448519</td>\n",
       "      <td>12.179971</td>\n",
       "      <td>1.980836</td>\n",
       "      <td>1.980614e+06</td>\n",
       "      <td>0.792647</td>\n",
       "      <td>0.466345</td>\n",
       "      <td>0.499472</td>\n",
       "      <td>1.393885e+05</td>\n",
       "      <td>0.385864</td>\n",
       "    </tr>\n",
       "    <tr>\n",
       "      <th>min</th>\n",
       "      <td>94561.00000</td>\n",
       "      <td>642.000000</td>\n",
       "      <td>18.000000</td>\n",
       "      <td>0.000000</td>\n",
       "      <td>0.000000e+00</td>\n",
       "      <td>0.000000</td>\n",
       "      <td>0.000000</td>\n",
       "      <td>0.000000</td>\n",
       "      <td>2.546300e+03</td>\n",
       "      <td>0.000000</td>\n",
       "    </tr>\n",
       "    <tr>\n",
       "      <th>25%</th>\n",
       "      <td>142810.25000</td>\n",
       "      <td>802.000000</td>\n",
       "      <td>33.000000</td>\n",
       "      <td>0.000000</td>\n",
       "      <td>2.955542e+05</td>\n",
       "      <td>1.000000</td>\n",
       "      <td>0.000000</td>\n",
       "      <td>0.000000</td>\n",
       "      <td>7.525190e+04</td>\n",
       "      <td>0.000000</td>\n",
       "    </tr>\n",
       "    <tr>\n",
       "      <th>50%</th>\n",
       "      <td>172728.00000</td>\n",
       "      <td>853.000000</td>\n",
       "      <td>40.000000</td>\n",
       "      <td>3.000000</td>\n",
       "      <td>5.242722e+05</td>\n",
       "      <td>2.000000</td>\n",
       "      <td>1.000000</td>\n",
       "      <td>1.000000</td>\n",
       "      <td>1.196581e+05</td>\n",
       "      <td>0.000000</td>\n",
       "    </tr>\n",
       "    <tr>\n",
       "      <th>75%</th>\n",
       "      <td>201261.75000</td>\n",
       "      <td>900.000000</td>\n",
       "      <td>51.000000</td>\n",
       "      <td>4.000000</td>\n",
       "      <td>9.807058e+05</td>\n",
       "      <td>2.000000</td>\n",
       "      <td>1.000000</td>\n",
       "      <td>1.000000</td>\n",
       "      <td>1.745005e+05</td>\n",
       "      <td>0.000000</td>\n",
       "    </tr>\n",
       "    <tr>\n",
       "      <th>max</th>\n",
       "      <td>229145.00000</td>\n",
       "      <td>1000.000000</td>\n",
       "      <td>86.000000</td>\n",
       "      <td>9.000000</td>\n",
       "      <td>1.191136e+08</td>\n",
       "      <td>5.000000</td>\n",
       "      <td>1.000000</td>\n",
       "      <td>1.000000</td>\n",
       "      <td>1.395064e+06</td>\n",
       "      <td>1.000000</td>\n",
       "    </tr>\n",
       "  </tbody>\n",
       "</table>\n",
       "</div>"
      ],
      "text/plain": [
       "             userid         score          age        equity       balance  \\\n",
       "count   10000.00000  10000.000000  9974.000000  10000.000000  7.705000e+03   \n",
       "mean   171814.71260    848.699400    42.734409      2.627600  8.277943e+05   \n",
       "std     33708.23812     65.448519    12.179971      1.980836  1.980614e+06   \n",
       "min     94561.00000    642.000000    18.000000      0.000000  0.000000e+00   \n",
       "25%    142810.25000    802.000000    33.000000      0.000000  2.955542e+05   \n",
       "50%    172728.00000    853.000000    40.000000      3.000000  5.242722e+05   \n",
       "75%    201261.75000    900.000000    51.000000      4.000000  9.807058e+05   \n",
       "max    229145.00000   1000.000000    86.000000      9.000000  1.191136e+08   \n",
       "\n",
       "           products   credit_card  last_activity    est_salary         churn  \n",
       "count  10000.000000  10000.000000   10000.000000  1.000000e+04  10000.000000  \n",
       "mean       1.870100      0.680400       0.523500  1.478669e+05      0.182000  \n",
       "std        0.792647      0.466345       0.499472  1.393885e+05      0.385864  \n",
       "min        0.000000      0.000000       0.000000  2.546300e+03      0.000000  \n",
       "25%        1.000000      0.000000       0.000000  7.525190e+04      0.000000  \n",
       "50%        2.000000      1.000000       1.000000  1.196581e+05      0.000000  \n",
       "75%        2.000000      1.000000       1.000000  1.745005e+05      0.000000  \n",
       "max        5.000000      1.000000       1.000000  1.395064e+06      1.000000  "
      ]
     },
     "execution_count": 7,
     "metadata": {},
     "output_type": "execute_result"
    }
   ],
   "source": [
    "data.describe()"
   ]
  },
  {
   "cell_type": "markdown",
   "metadata": {},
   "source": [
    "Обнаружены клиенты, у которых количество продуктов равно 0. "
   ]
  },
  {
   "cell_type": "code",
   "execution_count": 8,
   "metadata": {},
   "outputs": [
    {
     "data": {
      "text/html": [
       "<div>\n",
       "<style scoped>\n",
       "    .dataframe tbody tr th:only-of-type {\n",
       "        vertical-align: middle;\n",
       "    }\n",
       "\n",
       "    .dataframe tbody tr th {\n",
       "        vertical-align: top;\n",
       "    }\n",
       "\n",
       "    .dataframe thead th {\n",
       "        text-align: right;\n",
       "    }\n",
       "</style>\n",
       "<table border=\"1\" class=\"dataframe\">\n",
       "  <thead>\n",
       "    <tr style=\"text-align: right;\">\n",
       "      <th></th>\n",
       "      <th>userid</th>\n",
       "      <th>score</th>\n",
       "      <th>city</th>\n",
       "      <th>gender</th>\n",
       "      <th>age</th>\n",
       "      <th>equity</th>\n",
       "      <th>balance</th>\n",
       "      <th>products</th>\n",
       "      <th>credit_card</th>\n",
       "      <th>last_activity</th>\n",
       "      <th>est_salary</th>\n",
       "      <th>churn</th>\n",
       "    </tr>\n",
       "  </thead>\n",
       "  <tbody>\n",
       "    <tr>\n",
       "      <th>8957</th>\n",
       "      <td>147837</td>\n",
       "      <td>962.0</td>\n",
       "      <td>Рыбинск</td>\n",
       "      <td>Ж</td>\n",
       "      <td>79.0</td>\n",
       "      <td>3</td>\n",
       "      <td>NaN</td>\n",
       "      <td>0</td>\n",
       "      <td>0</td>\n",
       "      <td>0</td>\n",
       "      <td>25063.96</td>\n",
       "      <td>1</td>\n",
       "    </tr>\n",
       "  </tbody>\n",
       "</table>\n",
       "</div>"
      ],
      "text/plain": [
       "      userid  score     city gender   age  equity  balance  products  \\\n",
       "8957  147837  962.0  Рыбинск      Ж  79.0       3      NaN         0   \n",
       "\n",
       "      credit_card  last_activity  est_salary  churn  \n",
       "8957            0              0    25063.96      1  "
      ]
     },
     "execution_count": 8,
     "metadata": {},
     "output_type": "execute_result"
    }
   ],
   "source": [
    "data[data['products']==0]"
   ]
  },
  {
   "cell_type": "markdown",
   "metadata": {},
   "source": [
    "Удалим данную строку"
   ]
  },
  {
   "cell_type": "code",
   "execution_count": 9,
   "metadata": {},
   "outputs": [
    {
     "data": {
      "text/html": [
       "<div>\n",
       "<style scoped>\n",
       "    .dataframe tbody tr th:only-of-type {\n",
       "        vertical-align: middle;\n",
       "    }\n",
       "\n",
       "    .dataframe tbody tr th {\n",
       "        vertical-align: top;\n",
       "    }\n",
       "\n",
       "    .dataframe thead th {\n",
       "        text-align: right;\n",
       "    }\n",
       "</style>\n",
       "<table border=\"1\" class=\"dataframe\">\n",
       "  <thead>\n",
       "    <tr style=\"text-align: right;\">\n",
       "      <th></th>\n",
       "      <th>userid</th>\n",
       "      <th>score</th>\n",
       "      <th>age</th>\n",
       "      <th>equity</th>\n",
       "      <th>balance</th>\n",
       "      <th>products</th>\n",
       "      <th>credit_card</th>\n",
       "      <th>last_activity</th>\n",
       "      <th>est_salary</th>\n",
       "      <th>churn</th>\n",
       "    </tr>\n",
       "  </thead>\n",
       "  <tbody>\n",
       "    <tr>\n",
       "      <th>count</th>\n",
       "      <td>10000.00000</td>\n",
       "      <td>10000.000000</td>\n",
       "      <td>9974.000000</td>\n",
       "      <td>10000.000000</td>\n",
       "      <td>7.705000e+03</td>\n",
       "      <td>10000.000000</td>\n",
       "      <td>10000.000000</td>\n",
       "      <td>10000.000000</td>\n",
       "      <td>1.000000e+04</td>\n",
       "      <td>10000.000000</td>\n",
       "    </tr>\n",
       "    <tr>\n",
       "      <th>mean</th>\n",
       "      <td>171814.71260</td>\n",
       "      <td>848.699400</td>\n",
       "      <td>42.734409</td>\n",
       "      <td>2.627600</td>\n",
       "      <td>8.277943e+05</td>\n",
       "      <td>1.870100</td>\n",
       "      <td>0.680400</td>\n",
       "      <td>0.523500</td>\n",
       "      <td>1.478669e+05</td>\n",
       "      <td>0.182000</td>\n",
       "    </tr>\n",
       "    <tr>\n",
       "      <th>std</th>\n",
       "      <td>33708.23812</td>\n",
       "      <td>65.448519</td>\n",
       "      <td>12.179971</td>\n",
       "      <td>1.980836</td>\n",
       "      <td>1.980614e+06</td>\n",
       "      <td>0.792647</td>\n",
       "      <td>0.466345</td>\n",
       "      <td>0.499472</td>\n",
       "      <td>1.393885e+05</td>\n",
       "      <td>0.385864</td>\n",
       "    </tr>\n",
       "    <tr>\n",
       "      <th>min</th>\n",
       "      <td>94561.00000</td>\n",
       "      <td>642.000000</td>\n",
       "      <td>18.000000</td>\n",
       "      <td>0.000000</td>\n",
       "      <td>0.000000e+00</td>\n",
       "      <td>0.000000</td>\n",
       "      <td>0.000000</td>\n",
       "      <td>0.000000</td>\n",
       "      <td>2.546300e+03</td>\n",
       "      <td>0.000000</td>\n",
       "    </tr>\n",
       "    <tr>\n",
       "      <th>25%</th>\n",
       "      <td>142810.25000</td>\n",
       "      <td>802.000000</td>\n",
       "      <td>33.000000</td>\n",
       "      <td>0.000000</td>\n",
       "      <td>2.955542e+05</td>\n",
       "      <td>1.000000</td>\n",
       "      <td>0.000000</td>\n",
       "      <td>0.000000</td>\n",
       "      <td>7.525190e+04</td>\n",
       "      <td>0.000000</td>\n",
       "    </tr>\n",
       "    <tr>\n",
       "      <th>50%</th>\n",
       "      <td>172728.00000</td>\n",
       "      <td>853.000000</td>\n",
       "      <td>40.000000</td>\n",
       "      <td>3.000000</td>\n",
       "      <td>5.242722e+05</td>\n",
       "      <td>2.000000</td>\n",
       "      <td>1.000000</td>\n",
       "      <td>1.000000</td>\n",
       "      <td>1.196581e+05</td>\n",
       "      <td>0.000000</td>\n",
       "    </tr>\n",
       "    <tr>\n",
       "      <th>75%</th>\n",
       "      <td>201261.75000</td>\n",
       "      <td>900.000000</td>\n",
       "      <td>51.000000</td>\n",
       "      <td>4.000000</td>\n",
       "      <td>9.807058e+05</td>\n",
       "      <td>2.000000</td>\n",
       "      <td>1.000000</td>\n",
       "      <td>1.000000</td>\n",
       "      <td>1.745005e+05</td>\n",
       "      <td>0.000000</td>\n",
       "    </tr>\n",
       "    <tr>\n",
       "      <th>max</th>\n",
       "      <td>229145.00000</td>\n",
       "      <td>1000.000000</td>\n",
       "      <td>86.000000</td>\n",
       "      <td>9.000000</td>\n",
       "      <td>1.191136e+08</td>\n",
       "      <td>5.000000</td>\n",
       "      <td>1.000000</td>\n",
       "      <td>1.000000</td>\n",
       "      <td>1.395064e+06</td>\n",
       "      <td>1.000000</td>\n",
       "    </tr>\n",
       "  </tbody>\n",
       "</table>\n",
       "</div>"
      ],
      "text/plain": [
       "             userid         score          age        equity       balance  \\\n",
       "count   10000.00000  10000.000000  9974.000000  10000.000000  7.705000e+03   \n",
       "mean   171814.71260    848.699400    42.734409      2.627600  8.277943e+05   \n",
       "std     33708.23812     65.448519    12.179971      1.980836  1.980614e+06   \n",
       "min     94561.00000    642.000000    18.000000      0.000000  0.000000e+00   \n",
       "25%    142810.25000    802.000000    33.000000      0.000000  2.955542e+05   \n",
       "50%    172728.00000    853.000000    40.000000      3.000000  5.242722e+05   \n",
       "75%    201261.75000    900.000000    51.000000      4.000000  9.807058e+05   \n",
       "max    229145.00000   1000.000000    86.000000      9.000000  1.191136e+08   \n",
       "\n",
       "           products   credit_card  last_activity    est_salary         churn  \n",
       "count  10000.000000  10000.000000   10000.000000  1.000000e+04  10000.000000  \n",
       "mean       1.870100      0.680400       0.523500  1.478669e+05      0.182000  \n",
       "std        0.792647      0.466345       0.499472  1.393885e+05      0.385864  \n",
       "min        0.000000      0.000000       0.000000  2.546300e+03      0.000000  \n",
       "25%        1.000000      0.000000       0.000000  7.525190e+04      0.000000  \n",
       "50%        2.000000      1.000000       1.000000  1.196581e+05      0.000000  \n",
       "75%        2.000000      1.000000       1.000000  1.745005e+05      0.000000  \n",
       "max        5.000000      1.000000       1.000000  1.395064e+06      1.000000  "
      ]
     },
     "execution_count": 9,
     "metadata": {},
     "output_type": "execute_result"
    }
   ],
   "source": [
    "data = data[data['products'].notna()]\n",
    "data.describe()"
   ]
  },
  {
   "cell_type": "code",
   "execution_count": 10,
   "metadata": {},
   "outputs": [
    {
     "data": {
      "text/html": [
       "<style  type=\"text/css\" >\n",
       "#T_37091_row0_col0,#T_37091_row0_col1,#T_37091_row1_col0,#T_37091_row1_col1,#T_37091_row2_col0,#T_37091_row2_col1,#T_37091_row3_col0,#T_37091_row3_col1,#T_37091_row5_col0,#T_37091_row5_col1,#T_37091_row7_col0,#T_37091_row7_col1,#T_37091_row8_col0,#T_37091_row8_col1,#T_37091_row9_col0,#T_37091_row9_col1,#T_37091_row10_col0,#T_37091_row10_col1,#T_37091_row11_col0,#T_37091_row11_col1{\n",
       "            background-color:  #3b4cc0;\n",
       "            color:  #f1f1f1;\n",
       "        }#T_37091_row4_col0,#T_37091_row4_col1{\n",
       "            background-color:  #3d50c3;\n",
       "            color:  #f1f1f1;\n",
       "        }#T_37091_row6_col0,#T_37091_row6_col1{\n",
       "            background-color:  #b40426;\n",
       "            color:  #f1f1f1;\n",
       "        }</style><table id=\"T_37091_\" ><thead>    <tr>        <th class=\"blank level0\" ></th>        <th class=\"col_heading level0 col0\" >Кол-во пропусков</th>        <th class=\"col_heading level0 col1\" >Доля пропусков</th>    </tr></thead><tbody>\n",
       "                <tr>\n",
       "                        <th id=\"T_37091_level0_row0\" class=\"row_heading level0 row0\" >userid</th>\n",
       "                        <td id=\"T_37091_row0_col0\" class=\"data row0 col0\" >0</td>\n",
       "                        <td id=\"T_37091_row0_col1\" class=\"data row0 col1\" >0.000000</td>\n",
       "            </tr>\n",
       "            <tr>\n",
       "                        <th id=\"T_37091_level0_row1\" class=\"row_heading level0 row1\" >score</th>\n",
       "                        <td id=\"T_37091_row1_col0\" class=\"data row1 col0\" >0</td>\n",
       "                        <td id=\"T_37091_row1_col1\" class=\"data row1 col1\" >0.000000</td>\n",
       "            </tr>\n",
       "            <tr>\n",
       "                        <th id=\"T_37091_level0_row2\" class=\"row_heading level0 row2\" >city</th>\n",
       "                        <td id=\"T_37091_row2_col0\" class=\"data row2 col0\" >0</td>\n",
       "                        <td id=\"T_37091_row2_col1\" class=\"data row2 col1\" >0.000000</td>\n",
       "            </tr>\n",
       "            <tr>\n",
       "                        <th id=\"T_37091_level0_row3\" class=\"row_heading level0 row3\" >gender</th>\n",
       "                        <td id=\"T_37091_row3_col0\" class=\"data row3 col0\" >0</td>\n",
       "                        <td id=\"T_37091_row3_col1\" class=\"data row3 col1\" >0.000000</td>\n",
       "            </tr>\n",
       "            <tr>\n",
       "                        <th id=\"T_37091_level0_row4\" class=\"row_heading level0 row4\" >age</th>\n",
       "                        <td id=\"T_37091_row4_col0\" class=\"data row4 col0\" >26</td>\n",
       "                        <td id=\"T_37091_row4_col1\" class=\"data row4 col1\" >0.002600</td>\n",
       "            </tr>\n",
       "            <tr>\n",
       "                        <th id=\"T_37091_level0_row5\" class=\"row_heading level0 row5\" >equity</th>\n",
       "                        <td id=\"T_37091_row5_col0\" class=\"data row5 col0\" >0</td>\n",
       "                        <td id=\"T_37091_row5_col1\" class=\"data row5 col1\" >0.000000</td>\n",
       "            </tr>\n",
       "            <tr>\n",
       "                        <th id=\"T_37091_level0_row6\" class=\"row_heading level0 row6\" >balance</th>\n",
       "                        <td id=\"T_37091_row6_col0\" class=\"data row6 col0\" >2295</td>\n",
       "                        <td id=\"T_37091_row6_col1\" class=\"data row6 col1\" >0.229500</td>\n",
       "            </tr>\n",
       "            <tr>\n",
       "                        <th id=\"T_37091_level0_row7\" class=\"row_heading level0 row7\" >products</th>\n",
       "                        <td id=\"T_37091_row7_col0\" class=\"data row7 col0\" >0</td>\n",
       "                        <td id=\"T_37091_row7_col1\" class=\"data row7 col1\" >0.000000</td>\n",
       "            </tr>\n",
       "            <tr>\n",
       "                        <th id=\"T_37091_level0_row8\" class=\"row_heading level0 row8\" >credit_card</th>\n",
       "                        <td id=\"T_37091_row8_col0\" class=\"data row8 col0\" >0</td>\n",
       "                        <td id=\"T_37091_row8_col1\" class=\"data row8 col1\" >0.000000</td>\n",
       "            </tr>\n",
       "            <tr>\n",
       "                        <th id=\"T_37091_level0_row9\" class=\"row_heading level0 row9\" >last_activity</th>\n",
       "                        <td id=\"T_37091_row9_col0\" class=\"data row9 col0\" >0</td>\n",
       "                        <td id=\"T_37091_row9_col1\" class=\"data row9 col1\" >0.000000</td>\n",
       "            </tr>\n",
       "            <tr>\n",
       "                        <th id=\"T_37091_level0_row10\" class=\"row_heading level0 row10\" >est_salary</th>\n",
       "                        <td id=\"T_37091_row10_col0\" class=\"data row10 col0\" >0</td>\n",
       "                        <td id=\"T_37091_row10_col1\" class=\"data row10 col1\" >0.000000</td>\n",
       "            </tr>\n",
       "            <tr>\n",
       "                        <th id=\"T_37091_level0_row11\" class=\"row_heading level0 row11\" >churn</th>\n",
       "                        <td id=\"T_37091_row11_col0\" class=\"data row11 col0\" >0</td>\n",
       "                        <td id=\"T_37091_row11_col1\" class=\"data row11 col1\" >0.000000</td>\n",
       "            </tr>\n",
       "    </tbody></table>"
      ],
      "text/plain": [
       "<pandas.io.formats.style.Styler at 0x7f1bce268ee0>"
      ]
     },
     "execution_count": 10,
     "metadata": {},
     "output_type": "execute_result"
    }
   ],
   "source": [
    "temp = data.copy()          \n",
    "missing = (pd.DataFrame({'Кол-во пропусков': temp.isnull().sum(), 'Доля пропусков': temp.isnull().mean().round(4)})\n",
    "           .style.background_gradient(cmap='coolwarm'))\n",
    "missing"
   ]
  },
  {
   "cell_type": "code",
   "execution_count": 11,
   "metadata": {},
   "outputs": [
    {
     "data": {
      "text/html": [
       "<div>\n",
       "<style scoped>\n",
       "    .dataframe tbody tr th:only-of-type {\n",
       "        vertical-align: middle;\n",
       "    }\n",
       "\n",
       "    .dataframe tbody tr th {\n",
       "        vertical-align: top;\n",
       "    }\n",
       "\n",
       "    .dataframe thead th {\n",
       "        text-align: right;\n",
       "    }\n",
       "</style>\n",
       "<table border=\"1\" class=\"dataframe\">\n",
       "  <thead>\n",
       "    <tr style=\"text-align: right;\">\n",
       "      <th></th>\n",
       "      <th>userid</th>\n",
       "      <th>score</th>\n",
       "      <th>city</th>\n",
       "      <th>gender</th>\n",
       "      <th>age</th>\n",
       "      <th>equity</th>\n",
       "      <th>balance</th>\n",
       "      <th>products</th>\n",
       "      <th>credit_card</th>\n",
       "      <th>last_activity</th>\n",
       "      <th>est_salary</th>\n",
       "      <th>churn</th>\n",
       "    </tr>\n",
       "  </thead>\n",
       "  <tbody>\n",
       "    <tr>\n",
       "      <th>1247</th>\n",
       "      <td>228075</td>\n",
       "      <td>932.0</td>\n",
       "      <td>Ярославль</td>\n",
       "      <td>М</td>\n",
       "      <td>NaN</td>\n",
       "      <td>5</td>\n",
       "      <td>7601719.20</td>\n",
       "      <td>2</td>\n",
       "      <td>1</td>\n",
       "      <td>1</td>\n",
       "      <td>408121.16</td>\n",
       "      <td>0</td>\n",
       "    </tr>\n",
       "    <tr>\n",
       "      <th>2165</th>\n",
       "      <td>187635</td>\n",
       "      <td>692.0</td>\n",
       "      <td>Рыбинск</td>\n",
       "      <td>Ж</td>\n",
       "      <td>NaN</td>\n",
       "      <td>0</td>\n",
       "      <td>NaN</td>\n",
       "      <td>1</td>\n",
       "      <td>1</td>\n",
       "      <td>1</td>\n",
       "      <td>160368.82</td>\n",
       "      <td>0</td>\n",
       "    </tr>\n",
       "    <tr>\n",
       "      <th>2444</th>\n",
       "      <td>221156</td>\n",
       "      <td>913.0</td>\n",
       "      <td>Ярославль</td>\n",
       "      <td>М</td>\n",
       "      <td>NaN</td>\n",
       "      <td>0</td>\n",
       "      <td>NaN</td>\n",
       "      <td>1</td>\n",
       "      <td>1</td>\n",
       "      <td>1</td>\n",
       "      <td>135693.24</td>\n",
       "      <td>0</td>\n",
       "    </tr>\n",
       "    <tr>\n",
       "      <th>3091</th>\n",
       "      <td>138660</td>\n",
       "      <td>836.0</td>\n",
       "      <td>Ростов</td>\n",
       "      <td>Ж</td>\n",
       "      <td>NaN</td>\n",
       "      <td>5</td>\n",
       "      <td>294315.53</td>\n",
       "      <td>2</td>\n",
       "      <td>0</td>\n",
       "      <td>1</td>\n",
       "      <td>63310.22</td>\n",
       "      <td>1</td>\n",
       "    </tr>\n",
       "    <tr>\n",
       "      <th>4912</th>\n",
       "      <td>210674</td>\n",
       "      <td>834.0</td>\n",
       "      <td>Рыбинск</td>\n",
       "      <td>М</td>\n",
       "      <td>NaN</td>\n",
       "      <td>1</td>\n",
       "      <td>238330.52</td>\n",
       "      <td>2</td>\n",
       "      <td>0</td>\n",
       "      <td>1</td>\n",
       "      <td>93775.06</td>\n",
       "      <td>0</td>\n",
       "    </tr>\n",
       "    <tr>\n",
       "      <th>5470</th>\n",
       "      <td>218868</td>\n",
       "      <td>827.0</td>\n",
       "      <td>Рыбинск</td>\n",
       "      <td>Ж</td>\n",
       "      <td>NaN</td>\n",
       "      <td>4</td>\n",
       "      <td>448959.07</td>\n",
       "      <td>2</td>\n",
       "      <td>1</td>\n",
       "      <td>1</td>\n",
       "      <td>67835.95</td>\n",
       "      <td>0</td>\n",
       "    </tr>\n",
       "    <tr>\n",
       "      <th>5495</th>\n",
       "      <td>151662</td>\n",
       "      <td>884.0</td>\n",
       "      <td>Рыбинск</td>\n",
       "      <td>Ж</td>\n",
       "      <td>NaN</td>\n",
       "      <td>0</td>\n",
       "      <td>NaN</td>\n",
       "      <td>1</td>\n",
       "      <td>1</td>\n",
       "      <td>1</td>\n",
       "      <td>137500.77</td>\n",
       "      <td>0</td>\n",
       "    </tr>\n",
       "    <tr>\n",
       "      <th>7236</th>\n",
       "      <td>210135</td>\n",
       "      <td>908.0</td>\n",
       "      <td>Рыбинск</td>\n",
       "      <td>Ж</td>\n",
       "      <td>NaN</td>\n",
       "      <td>4</td>\n",
       "      <td>1120340.31</td>\n",
       "      <td>3</td>\n",
       "      <td>1</td>\n",
       "      <td>1</td>\n",
       "      <td>85002.15</td>\n",
       "      <td>0</td>\n",
       "    </tr>\n",
       "    <tr>\n",
       "      <th>7248</th>\n",
       "      <td>219343</td>\n",
       "      <td>920.0</td>\n",
       "      <td>Рыбинск</td>\n",
       "      <td>Ж</td>\n",
       "      <td>NaN</td>\n",
       "      <td>0</td>\n",
       "      <td>NaN</td>\n",
       "      <td>1</td>\n",
       "      <td>1</td>\n",
       "      <td>0</td>\n",
       "      <td>159248.67</td>\n",
       "      <td>0</td>\n",
       "    </tr>\n",
       "    <tr>\n",
       "      <th>7345</th>\n",
       "      <td>184913</td>\n",
       "      <td>829.0</td>\n",
       "      <td>Ярославль</td>\n",
       "      <td>Ж</td>\n",
       "      <td>NaN</td>\n",
       "      <td>3</td>\n",
       "      <td>188648.77</td>\n",
       "      <td>2</td>\n",
       "      <td>0</td>\n",
       "      <td>1</td>\n",
       "      <td>75206.90</td>\n",
       "      <td>0</td>\n",
       "    </tr>\n",
       "    <tr>\n",
       "      <th>7409</th>\n",
       "      <td>214031</td>\n",
       "      <td>777.0</td>\n",
       "      <td>Ярославль</td>\n",
       "      <td>М</td>\n",
       "      <td>NaN</td>\n",
       "      <td>2</td>\n",
       "      <td>171510.23</td>\n",
       "      <td>1</td>\n",
       "      <td>1</td>\n",
       "      <td>1</td>\n",
       "      <td>75409.63</td>\n",
       "      <td>0</td>\n",
       "    </tr>\n",
       "    <tr>\n",
       "      <th>8015</th>\n",
       "      <td>198635</td>\n",
       "      <td>670.0</td>\n",
       "      <td>Ярославль</td>\n",
       "      <td>Ж</td>\n",
       "      <td>NaN</td>\n",
       "      <td>0</td>\n",
       "      <td>NaN</td>\n",
       "      <td>1</td>\n",
       "      <td>1</td>\n",
       "      <td>1</td>\n",
       "      <td>168699.33</td>\n",
       "      <td>0</td>\n",
       "    </tr>\n",
       "    <tr>\n",
       "      <th>8070</th>\n",
       "      <td>226550</td>\n",
       "      <td>940.0</td>\n",
       "      <td>Рыбинск</td>\n",
       "      <td>М</td>\n",
       "      <td>NaN</td>\n",
       "      <td>0</td>\n",
       "      <td>NaN</td>\n",
       "      <td>1</td>\n",
       "      <td>0</td>\n",
       "      <td>1</td>\n",
       "      <td>147696.95</td>\n",
       "      <td>0</td>\n",
       "    </tr>\n",
       "    <tr>\n",
       "      <th>8293</th>\n",
       "      <td>216848</td>\n",
       "      <td>930.0</td>\n",
       "      <td>Ярославль</td>\n",
       "      <td>М</td>\n",
       "      <td>NaN</td>\n",
       "      <td>0</td>\n",
       "      <td>NaN</td>\n",
       "      <td>1</td>\n",
       "      <td>1</td>\n",
       "      <td>1</td>\n",
       "      <td>199542.51</td>\n",
       "      <td>0</td>\n",
       "    </tr>\n",
       "    <tr>\n",
       "      <th>8385</th>\n",
       "      <td>206759</td>\n",
       "      <td>915.0</td>\n",
       "      <td>Рыбинск</td>\n",
       "      <td>М</td>\n",
       "      <td>NaN</td>\n",
       "      <td>0</td>\n",
       "      <td>NaN</td>\n",
       "      <td>1</td>\n",
       "      <td>1</td>\n",
       "      <td>0</td>\n",
       "      <td>71179.53</td>\n",
       "      <td>0</td>\n",
       "    </tr>\n",
       "    <tr>\n",
       "      <th>8449</th>\n",
       "      <td>210898</td>\n",
       "      <td>805.0</td>\n",
       "      <td>Ярославль</td>\n",
       "      <td>Ж</td>\n",
       "      <td>NaN</td>\n",
       "      <td>0</td>\n",
       "      <td>NaN</td>\n",
       "      <td>1</td>\n",
       "      <td>0</td>\n",
       "      <td>1</td>\n",
       "      <td>922080.25</td>\n",
       "      <td>0</td>\n",
       "    </tr>\n",
       "    <tr>\n",
       "      <th>8632</th>\n",
       "      <td>221197</td>\n",
       "      <td>893.0</td>\n",
       "      <td>Ярославль</td>\n",
       "      <td>М</td>\n",
       "      <td>NaN</td>\n",
       "      <td>0</td>\n",
       "      <td>NaN</td>\n",
       "      <td>1</td>\n",
       "      <td>1</td>\n",
       "      <td>0</td>\n",
       "      <td>173929.92</td>\n",
       "      <td>0</td>\n",
       "    </tr>\n",
       "    <tr>\n",
       "      <th>8785</th>\n",
       "      <td>127440</td>\n",
       "      <td>663.0</td>\n",
       "      <td>Ярославль</td>\n",
       "      <td>М</td>\n",
       "      <td>NaN</td>\n",
       "      <td>0</td>\n",
       "      <td>NaN</td>\n",
       "      <td>1</td>\n",
       "      <td>1</td>\n",
       "      <td>1</td>\n",
       "      <td>117197.56</td>\n",
       "      <td>0</td>\n",
       "    </tr>\n",
       "    <tr>\n",
       "      <th>9104</th>\n",
       "      <td>222480</td>\n",
       "      <td>776.0</td>\n",
       "      <td>Рыбинск</td>\n",
       "      <td>Ж</td>\n",
       "      <td>NaN</td>\n",
       "      <td>5</td>\n",
       "      <td>796735.09</td>\n",
       "      <td>1</td>\n",
       "      <td>1</td>\n",
       "      <td>1</td>\n",
       "      <td>55073.63</td>\n",
       "      <td>0</td>\n",
       "    </tr>\n",
       "    <tr>\n",
       "      <th>9301</th>\n",
       "      <td>202983</td>\n",
       "      <td>942.0</td>\n",
       "      <td>Рыбинск</td>\n",
       "      <td>Ж</td>\n",
       "      <td>NaN</td>\n",
       "      <td>0</td>\n",
       "      <td>NaN</td>\n",
       "      <td>1</td>\n",
       "      <td>1</td>\n",
       "      <td>1</td>\n",
       "      <td>163804.73</td>\n",
       "      <td>0</td>\n",
       "    </tr>\n",
       "    <tr>\n",
       "      <th>9380</th>\n",
       "      <td>187459</td>\n",
       "      <td>894.0</td>\n",
       "      <td>Рыбинск</td>\n",
       "      <td>М</td>\n",
       "      <td>NaN</td>\n",
       "      <td>0</td>\n",
       "      <td>NaN</td>\n",
       "      <td>1</td>\n",
       "      <td>1</td>\n",
       "      <td>0</td>\n",
       "      <td>178012.28</td>\n",
       "      <td>0</td>\n",
       "    </tr>\n",
       "    <tr>\n",
       "      <th>9457</th>\n",
       "      <td>141945</td>\n",
       "      <td>929.0</td>\n",
       "      <td>Ярославль</td>\n",
       "      <td>М</td>\n",
       "      <td>NaN</td>\n",
       "      <td>0</td>\n",
       "      <td>NaN</td>\n",
       "      <td>1</td>\n",
       "      <td>1</td>\n",
       "      <td>0</td>\n",
       "      <td>381868.89</td>\n",
       "      <td>0</td>\n",
       "    </tr>\n",
       "    <tr>\n",
       "      <th>9632</th>\n",
       "      <td>185829</td>\n",
       "      <td>927.0</td>\n",
       "      <td>Ярославль</td>\n",
       "      <td>М</td>\n",
       "      <td>NaN</td>\n",
       "      <td>0</td>\n",
       "      <td>NaN</td>\n",
       "      <td>1</td>\n",
       "      <td>1</td>\n",
       "      <td>0</td>\n",
       "      <td>231254.86</td>\n",
       "      <td>0</td>\n",
       "    </tr>\n",
       "    <tr>\n",
       "      <th>9634</th>\n",
       "      <td>221809</td>\n",
       "      <td>917.0</td>\n",
       "      <td>Ярославль</td>\n",
       "      <td>М</td>\n",
       "      <td>NaN</td>\n",
       "      <td>0</td>\n",
       "      <td>NaN</td>\n",
       "      <td>1</td>\n",
       "      <td>1</td>\n",
       "      <td>1</td>\n",
       "      <td>192644.15</td>\n",
       "      <td>0</td>\n",
       "    </tr>\n",
       "    <tr>\n",
       "      <th>9667</th>\n",
       "      <td>163657</td>\n",
       "      <td>849.0</td>\n",
       "      <td>Ярославль</td>\n",
       "      <td>М</td>\n",
       "      <td>NaN</td>\n",
       "      <td>4</td>\n",
       "      <td>1254013.85</td>\n",
       "      <td>2</td>\n",
       "      <td>1</td>\n",
       "      <td>1</td>\n",
       "      <td>119106.67</td>\n",
       "      <td>0</td>\n",
       "    </tr>\n",
       "    <tr>\n",
       "      <th>9819</th>\n",
       "      <td>140934</td>\n",
       "      <td>832.0</td>\n",
       "      <td>Рыбинск</td>\n",
       "      <td>Ж</td>\n",
       "      <td>NaN</td>\n",
       "      <td>3</td>\n",
       "      <td>385763.16</td>\n",
       "      <td>2</td>\n",
       "      <td>0</td>\n",
       "      <td>1</td>\n",
       "      <td>59651.35</td>\n",
       "      <td>0</td>\n",
       "    </tr>\n",
       "  </tbody>\n",
       "</table>\n",
       "</div>"
      ],
      "text/plain": [
       "      userid  score       city gender  age  equity     balance  products  \\\n",
       "1247  228075  932.0  Ярославль      М  NaN       5  7601719.20         2   \n",
       "2165  187635  692.0    Рыбинск      Ж  NaN       0         NaN         1   \n",
       "2444  221156  913.0  Ярославль      М  NaN       0         NaN         1   \n",
       "3091  138660  836.0     Ростов      Ж  NaN       5   294315.53         2   \n",
       "4912  210674  834.0    Рыбинск      М  NaN       1   238330.52         2   \n",
       "5470  218868  827.0    Рыбинск      Ж  NaN       4   448959.07         2   \n",
       "5495  151662  884.0    Рыбинск      Ж  NaN       0         NaN         1   \n",
       "7236  210135  908.0    Рыбинск      Ж  NaN       4  1120340.31         3   \n",
       "7248  219343  920.0    Рыбинск      Ж  NaN       0         NaN         1   \n",
       "7345  184913  829.0  Ярославль      Ж  NaN       3   188648.77         2   \n",
       "7409  214031  777.0  Ярославль      М  NaN       2   171510.23         1   \n",
       "8015  198635  670.0  Ярославль      Ж  NaN       0         NaN         1   \n",
       "8070  226550  940.0    Рыбинск      М  NaN       0         NaN         1   \n",
       "8293  216848  930.0  Ярославль      М  NaN       0         NaN         1   \n",
       "8385  206759  915.0    Рыбинск      М  NaN       0         NaN         1   \n",
       "8449  210898  805.0  Ярославль      Ж  NaN       0         NaN         1   \n",
       "8632  221197  893.0  Ярославль      М  NaN       0         NaN         1   \n",
       "8785  127440  663.0  Ярославль      М  NaN       0         NaN         1   \n",
       "9104  222480  776.0    Рыбинск      Ж  NaN       5   796735.09         1   \n",
       "9301  202983  942.0    Рыбинск      Ж  NaN       0         NaN         1   \n",
       "9380  187459  894.0    Рыбинск      М  NaN       0         NaN         1   \n",
       "9457  141945  929.0  Ярославль      М  NaN       0         NaN         1   \n",
       "9632  185829  927.0  Ярославль      М  NaN       0         NaN         1   \n",
       "9634  221809  917.0  Ярославль      М  NaN       0         NaN         1   \n",
       "9667  163657  849.0  Ярославль      М  NaN       4  1254013.85         2   \n",
       "9819  140934  832.0    Рыбинск      Ж  NaN       3   385763.16         2   \n",
       "\n",
       "      credit_card  last_activity  est_salary  churn  \n",
       "1247            1              1   408121.16      0  \n",
       "2165            1              1   160368.82      0  \n",
       "2444            1              1   135693.24      0  \n",
       "3091            0              1    63310.22      1  \n",
       "4912            0              1    93775.06      0  \n",
       "5470            1              1    67835.95      0  \n",
       "5495            1              1   137500.77      0  \n",
       "7236            1              1    85002.15      0  \n",
       "7248            1              0   159248.67      0  \n",
       "7345            0              1    75206.90      0  \n",
       "7409            1              1    75409.63      0  \n",
       "8015            1              1   168699.33      0  \n",
       "8070            0              1   147696.95      0  \n",
       "8293            1              1   199542.51      0  \n",
       "8385            1              0    71179.53      0  \n",
       "8449            0              1   922080.25      0  \n",
       "8632            1              0   173929.92      0  \n",
       "8785            1              1   117197.56      0  \n",
       "9104            1              1    55073.63      0  \n",
       "9301            1              1   163804.73      0  \n",
       "9380            1              0   178012.28      0  \n",
       "9457            1              0   381868.89      0  \n",
       "9632            1              0   231254.86      0  \n",
       "9634            1              1   192644.15      0  \n",
       "9667            1              1   119106.67      0  \n",
       "9819            0              1    59651.35      0  "
      ]
     },
     "metadata": {},
     "output_type": "display_data"
    }
   ],
   "source": [
    "display (data[data['age'].isna()])"
   ]
  },
  {
   "cell_type": "markdown",
   "metadata": {},
   "source": [
    "Количество пропусков в столбце возраста крайне мало. Считаю, что можно удать данные строки."
   ]
  },
  {
   "cell_type": "code",
   "execution_count": 12,
   "metadata": {},
   "outputs": [
    {
     "name": "stdout",
     "output_type": "stream",
     "text": [
      "<class 'pandas.core.frame.DataFrame'>\n",
      "Int64Index: 9974 entries, 0 to 9999\n",
      "Data columns (total 12 columns):\n",
      " #   Column         Non-Null Count  Dtype  \n",
      "---  ------         --------------  -----  \n",
      " 0   userid         9974 non-null   int64  \n",
      " 1   score          9974 non-null   float64\n",
      " 2   city           9974 non-null   object \n",
      " 3   gender         9974 non-null   object \n",
      " 4   age            9974 non-null   float64\n",
      " 5   equity         9974 non-null   int64  \n",
      " 6   balance        7695 non-null   float64\n",
      " 7   products       9974 non-null   int64  \n",
      " 8   credit_card    9974 non-null   int64  \n",
      " 9   last_activity  9974 non-null   int64  \n",
      " 10  est_salary     9974 non-null   float64\n",
      " 11  churn          9974 non-null   int64  \n",
      "dtypes: float64(4), int64(6), object(2)\n",
      "memory usage: 1013.0+ KB\n"
     ]
    }
   ],
   "source": [
    "data = data[data['age'].notna()]\n",
    "data.info()"
   ]
  },
  {
   "cell_type": "markdown",
   "metadata": {},
   "source": [
    "Пропусков в столбце баланса очень много (23% от всех данных). Оставим как есть."
   ]
  },
  {
   "cell_type": "markdown",
   "metadata": {},
   "source": [
    "**2.4 Проверка на наличие дубликатов**"
   ]
  },
  {
   "cell_type": "code",
   "execution_count": 13,
   "metadata": {},
   "outputs": [
    {
     "data": {
      "text/plain": [
       "0"
      ]
     },
     "execution_count": 13,
     "metadata": {},
     "output_type": "execute_result"
    }
   ],
   "source": [
    "data.duplicated().sum()"
   ]
  },
  {
   "cell_type": "markdown",
   "metadata": {},
   "source": [
    "Полные дубликаты в датасете отсутствуют"
   ]
  },
  {
   "cell_type": "code",
   "execution_count": 14,
   "metadata": {},
   "outputs": [
    {
     "data": {
      "text/plain": [
       "50"
      ]
     },
     "execution_count": 14,
     "metadata": {},
     "output_type": "execute_result"
    }
   ],
   "source": [
    "data.duplicated(subset=['userid']).sum()"
   ]
  },
  {
   "cell_type": "code",
   "execution_count": 15,
   "metadata": {},
   "outputs": [
    {
     "data": {
      "text/html": [
       "<div>\n",
       "<style scoped>\n",
       "    .dataframe tbody tr th:only-of-type {\n",
       "        vertical-align: middle;\n",
       "    }\n",
       "\n",
       "    .dataframe tbody tr th {\n",
       "        vertical-align: top;\n",
       "    }\n",
       "\n",
       "    .dataframe thead th {\n",
       "        text-align: right;\n",
       "    }\n",
       "</style>\n",
       "<table border=\"1\" class=\"dataframe\">\n",
       "  <thead>\n",
       "    <tr style=\"text-align: right;\">\n",
       "      <th></th>\n",
       "      <th>userid</th>\n",
       "      <th>score</th>\n",
       "      <th>city</th>\n",
       "      <th>gender</th>\n",
       "      <th>age</th>\n",
       "      <th>equity</th>\n",
       "      <th>balance</th>\n",
       "      <th>products</th>\n",
       "      <th>credit_card</th>\n",
       "      <th>last_activity</th>\n",
       "      <th>est_salary</th>\n",
       "      <th>churn</th>\n",
       "    </tr>\n",
       "  </thead>\n",
       "  <tbody>\n",
       "    <tr>\n",
       "      <th>58</th>\n",
       "      <td>164676</td>\n",
       "      <td>860.0</td>\n",
       "      <td>Ярославль</td>\n",
       "      <td>М</td>\n",
       "      <td>37.0</td>\n",
       "      <td>5</td>\n",
       "      <td>648594.03</td>\n",
       "      <td>2</td>\n",
       "      <td>1</td>\n",
       "      <td>1</td>\n",
       "      <td>213586.86</td>\n",
       "      <td>1</td>\n",
       "    </tr>\n",
       "    <tr>\n",
       "      <th>150</th>\n",
       "      <td>185748</td>\n",
       "      <td>850.0</td>\n",
       "      <td>Рыбинск</td>\n",
       "      <td>М</td>\n",
       "      <td>36.0</td>\n",
       "      <td>5</td>\n",
       "      <td>1203376.67</td>\n",
       "      <td>2</td>\n",
       "      <td>0</td>\n",
       "      <td>1</td>\n",
       "      <td>89401.82</td>\n",
       "      <td>1</td>\n",
       "    </tr>\n",
       "    <tr>\n",
       "      <th>161</th>\n",
       "      <td>197364</td>\n",
       "      <td>928.0</td>\n",
       "      <td>Рыбинск</td>\n",
       "      <td>Ж</td>\n",
       "      <td>53.0</td>\n",
       "      <td>6</td>\n",
       "      <td>1347183.86</td>\n",
       "      <td>2</td>\n",
       "      <td>0</td>\n",
       "      <td>1</td>\n",
       "      <td>168189.49</td>\n",
       "      <td>1</td>\n",
       "    </tr>\n",
       "    <tr>\n",
       "      <th>231</th>\n",
       "      <td>190253</td>\n",
       "      <td>823.0</td>\n",
       "      <td>Рыбинск</td>\n",
       "      <td>М</td>\n",
       "      <td>37.0</td>\n",
       "      <td>4</td>\n",
       "      <td>373348.39</td>\n",
       "      <td>2</td>\n",
       "      <td>0</td>\n",
       "      <td>1</td>\n",
       "      <td>131947.92</td>\n",
       "      <td>1</td>\n",
       "    </tr>\n",
       "    <tr>\n",
       "      <th>690</th>\n",
       "      <td>152479</td>\n",
       "      <td>768.0</td>\n",
       "      <td>Рыбинск</td>\n",
       "      <td>Ж</td>\n",
       "      <td>42.0</td>\n",
       "      <td>0</td>\n",
       "      <td>126787.79</td>\n",
       "      <td>4</td>\n",
       "      <td>1</td>\n",
       "      <td>1</td>\n",
       "      <td>143233.23</td>\n",
       "      <td>1</td>\n",
       "    </tr>\n",
       "    <tr>\n",
       "      <th>...</th>\n",
       "      <td>...</td>\n",
       "      <td>...</td>\n",
       "      <td>...</td>\n",
       "      <td>...</td>\n",
       "      <td>...</td>\n",
       "      <td>...</td>\n",
       "      <td>...</td>\n",
       "      <td>...</td>\n",
       "      <td>...</td>\n",
       "      <td>...</td>\n",
       "      <td>...</td>\n",
       "      <td>...</td>\n",
       "    </tr>\n",
       "    <tr>\n",
       "      <th>9659</th>\n",
       "      <td>195884</td>\n",
       "      <td>767.0</td>\n",
       "      <td>Рыбинск</td>\n",
       "      <td>Ж</td>\n",
       "      <td>45.0</td>\n",
       "      <td>1</td>\n",
       "      <td>335652.56</td>\n",
       "      <td>3</td>\n",
       "      <td>1</td>\n",
       "      <td>1</td>\n",
       "      <td>100197.67</td>\n",
       "      <td>0</td>\n",
       "    </tr>\n",
       "    <tr>\n",
       "      <th>9775</th>\n",
       "      <td>124450</td>\n",
       "      <td>758.0</td>\n",
       "      <td>Рыбинск</td>\n",
       "      <td>Ж</td>\n",
       "      <td>36.0</td>\n",
       "      <td>0</td>\n",
       "      <td>73574.07</td>\n",
       "      <td>2</td>\n",
       "      <td>0</td>\n",
       "      <td>1</td>\n",
       "      <td>79963.59</td>\n",
       "      <td>0</td>\n",
       "    </tr>\n",
       "    <tr>\n",
       "      <th>9785</th>\n",
       "      <td>168998</td>\n",
       "      <td>895.0</td>\n",
       "      <td>Рыбинск</td>\n",
       "      <td>М</td>\n",
       "      <td>44.0</td>\n",
       "      <td>0</td>\n",
       "      <td>282653.53</td>\n",
       "      <td>3</td>\n",
       "      <td>0</td>\n",
       "      <td>0</td>\n",
       "      <td>255296.47</td>\n",
       "      <td>0</td>\n",
       "    </tr>\n",
       "    <tr>\n",
       "      <th>9880</th>\n",
       "      <td>217412</td>\n",
       "      <td>886.0</td>\n",
       "      <td>Ярославль</td>\n",
       "      <td>Ж</td>\n",
       "      <td>35.0</td>\n",
       "      <td>3</td>\n",
       "      <td>1026172.14</td>\n",
       "      <td>2</td>\n",
       "      <td>1</td>\n",
       "      <td>0</td>\n",
       "      <td>53099.16</td>\n",
       "      <td>0</td>\n",
       "    </tr>\n",
       "    <tr>\n",
       "      <th>9970</th>\n",
       "      <td>175730</td>\n",
       "      <td>816.0</td>\n",
       "      <td>Рыбинск</td>\n",
       "      <td>М</td>\n",
       "      <td>36.0</td>\n",
       "      <td>4</td>\n",
       "      <td>477892.07</td>\n",
       "      <td>3</td>\n",
       "      <td>1</td>\n",
       "      <td>0</td>\n",
       "      <td>81100.60</td>\n",
       "      <td>0</td>\n",
       "    </tr>\n",
       "  </tbody>\n",
       "</table>\n",
       "<p>100 rows × 12 columns</p>\n",
       "</div>"
      ],
      "text/plain": [
       "      userid  score       city gender   age  equity     balance  products  \\\n",
       "58    164676  860.0  Ярославль      М  37.0       5   648594.03         2   \n",
       "150   185748  850.0    Рыбинск      М  36.0       5  1203376.67         2   \n",
       "161   197364  928.0    Рыбинск      Ж  53.0       6  1347183.86         2   \n",
       "231   190253  823.0    Рыбинск      М  37.0       4   373348.39         2   \n",
       "690   152479  768.0    Рыбинск      Ж  42.0       0   126787.79         4   \n",
       "...      ...    ...        ...    ...   ...     ...         ...       ...   \n",
       "9659  195884  767.0    Рыбинск      Ж  45.0       1   335652.56         3   \n",
       "9775  124450  758.0    Рыбинск      Ж  36.0       0    73574.07         2   \n",
       "9785  168998  895.0    Рыбинск      М  44.0       0   282653.53         3   \n",
       "9880  217412  886.0  Ярославль      Ж  35.0       3  1026172.14         2   \n",
       "9970  175730  816.0    Рыбинск      М  36.0       4   477892.07         3   \n",
       "\n",
       "      credit_card  last_activity  est_salary  churn  \n",
       "58              1              1   213586.86      1  \n",
       "150             0              1    89401.82      1  \n",
       "161             0              1   168189.49      1  \n",
       "231             0              1   131947.92      1  \n",
       "690             1              1   143233.23      1  \n",
       "...           ...            ...         ...    ...  \n",
       "9659            1              1   100197.67      0  \n",
       "9775            0              1    79963.59      0  \n",
       "9785            0              0   255296.47      0  \n",
       "9880            1              0    53099.16      0  \n",
       "9970            1              0    81100.60      0  \n",
       "\n",
       "[100 rows x 12 columns]"
      ]
     },
     "execution_count": 15,
     "metadata": {},
     "output_type": "execute_result"
    }
   ],
   "source": [
    "data.loc[data.duplicated(subset=['userid'], keep = False)]"
   ]
  },
  {
   "cell_type": "code",
   "execution_count": 16,
   "metadata": {},
   "outputs": [
    {
     "data": {
      "text/plain": [
       "0"
      ]
     },
     "execution_count": 16,
     "metadata": {},
     "output_type": "execute_result"
    }
   ],
   "source": [
    "data.duplicated(subset=['userid', 'age', 'city']).sum()"
   ]
  },
  {
   "cell_type": "code",
   "execution_count": 17,
   "metadata": {},
   "outputs": [
    {
     "data": {
      "text/html": [
       "<div>\n",
       "<style scoped>\n",
       "    .dataframe tbody tr th:only-of-type {\n",
       "        vertical-align: middle;\n",
       "    }\n",
       "\n",
       "    .dataframe tbody tr th {\n",
       "        vertical-align: top;\n",
       "    }\n",
       "\n",
       "    .dataframe thead th {\n",
       "        text-align: right;\n",
       "    }\n",
       "</style>\n",
       "<table border=\"1\" class=\"dataframe\">\n",
       "  <thead>\n",
       "    <tr style=\"text-align: right;\">\n",
       "      <th></th>\n",
       "      <th>userid</th>\n",
       "      <th>score</th>\n",
       "      <th>city</th>\n",
       "      <th>gender</th>\n",
       "      <th>age</th>\n",
       "      <th>equity</th>\n",
       "      <th>balance</th>\n",
       "      <th>products</th>\n",
       "      <th>credit_card</th>\n",
       "      <th>last_activity</th>\n",
       "      <th>est_salary</th>\n",
       "      <th>churn</th>\n",
       "    </tr>\n",
       "  </thead>\n",
       "  <tbody>\n",
       "    <tr>\n",
       "      <th>58</th>\n",
       "      <td>164676</td>\n",
       "      <td>860.0</td>\n",
       "      <td>Ярославль</td>\n",
       "      <td>М</td>\n",
       "      <td>37.0</td>\n",
       "      <td>5</td>\n",
       "      <td>648594.03</td>\n",
       "      <td>2</td>\n",
       "      <td>1</td>\n",
       "      <td>1</td>\n",
       "      <td>213586.86</td>\n",
       "      <td>1</td>\n",
       "    </tr>\n",
       "    <tr>\n",
       "      <th>7271</th>\n",
       "      <td>164676</td>\n",
       "      <td>790.0</td>\n",
       "      <td>Рыбинск</td>\n",
       "      <td>Ж</td>\n",
       "      <td>77.0</td>\n",
       "      <td>1</td>\n",
       "      <td>111202.01</td>\n",
       "      <td>1</td>\n",
       "      <td>1</td>\n",
       "      <td>0</td>\n",
       "      <td>32835.45</td>\n",
       "      <td>0</td>\n",
       "    </tr>\n",
       "  </tbody>\n",
       "</table>\n",
       "</div>"
      ],
      "text/plain": [
       "      userid  score       city gender   age  equity    balance  products  \\\n",
       "58    164676  860.0  Ярославль      М  37.0       5  648594.03         2   \n",
       "7271  164676  790.0    Рыбинск      Ж  77.0       1  111202.01         1   \n",
       "\n",
       "      credit_card  last_activity  est_salary  churn  \n",
       "58              1              1   213586.86      1  \n",
       "7271            1              0    32835.45      0  "
      ]
     },
     "execution_count": 17,
     "metadata": {},
     "output_type": "execute_result"
    }
   ],
   "source": [
    "data.loc[data['userid'] == 164676]"
   ]
  },
  {
   "cell_type": "code",
   "execution_count": 18,
   "metadata": {},
   "outputs": [
    {
     "data": {
      "text/html": [
       "<div>\n",
       "<style scoped>\n",
       "    .dataframe tbody tr th:only-of-type {\n",
       "        vertical-align: middle;\n",
       "    }\n",
       "\n",
       "    .dataframe tbody tr th {\n",
       "        vertical-align: top;\n",
       "    }\n",
       "\n",
       "    .dataframe thead th {\n",
       "        text-align: right;\n",
       "    }\n",
       "</style>\n",
       "<table border=\"1\" class=\"dataframe\">\n",
       "  <thead>\n",
       "    <tr style=\"text-align: right;\">\n",
       "      <th></th>\n",
       "      <th>userid</th>\n",
       "      <th>score</th>\n",
       "      <th>city</th>\n",
       "      <th>gender</th>\n",
       "      <th>age</th>\n",
       "      <th>equity</th>\n",
       "      <th>balance</th>\n",
       "      <th>products</th>\n",
       "      <th>credit_card</th>\n",
       "      <th>last_activity</th>\n",
       "      <th>est_salary</th>\n",
       "      <th>churn</th>\n",
       "    </tr>\n",
       "  </thead>\n",
       "  <tbody>\n",
       "    <tr>\n",
       "      <th>150</th>\n",
       "      <td>185748</td>\n",
       "      <td>850.0</td>\n",
       "      <td>Рыбинск</td>\n",
       "      <td>М</td>\n",
       "      <td>36.0</td>\n",
       "      <td>5</td>\n",
       "      <td>1203376.67</td>\n",
       "      <td>2</td>\n",
       "      <td>0</td>\n",
       "      <td>1</td>\n",
       "      <td>89401.82</td>\n",
       "      <td>1</td>\n",
       "    </tr>\n",
       "    <tr>\n",
       "      <th>3106</th>\n",
       "      <td>185748</td>\n",
       "      <td>912.0</td>\n",
       "      <td>Ярославль</td>\n",
       "      <td>Ж</td>\n",
       "      <td>47.0</td>\n",
       "      <td>5</td>\n",
       "      <td>1598218.98</td>\n",
       "      <td>2</td>\n",
       "      <td>0</td>\n",
       "      <td>0</td>\n",
       "      <td>180256.98</td>\n",
       "      <td>0</td>\n",
       "    </tr>\n",
       "  </tbody>\n",
       "</table>\n",
       "</div>"
      ],
      "text/plain": [
       "      userid  score       city gender   age  equity     balance  products  \\\n",
       "150   185748  850.0    Рыбинск      М  36.0       5  1203376.67         2   \n",
       "3106  185748  912.0  Ярославль      Ж  47.0       5  1598218.98         2   \n",
       "\n",
       "      credit_card  last_activity  est_salary  churn  \n",
       "150             0              1    89401.82      1  \n",
       "3106            0              0   180256.98      0  "
      ]
     },
     "execution_count": 18,
     "metadata": {},
     "output_type": "execute_result"
    }
   ],
   "source": [
    "data.loc[data['userid'] == 185748]"
   ]
  },
  {
   "cell_type": "code",
   "execution_count": 19,
   "metadata": {},
   "outputs": [
    {
     "data": {
      "text/html": [
       "<div>\n",
       "<style scoped>\n",
       "    .dataframe tbody tr th:only-of-type {\n",
       "        vertical-align: middle;\n",
       "    }\n",
       "\n",
       "    .dataframe tbody tr th {\n",
       "        vertical-align: top;\n",
       "    }\n",
       "\n",
       "    .dataframe thead th {\n",
       "        text-align: right;\n",
       "    }\n",
       "</style>\n",
       "<table border=\"1\" class=\"dataframe\">\n",
       "  <thead>\n",
       "    <tr style=\"text-align: right;\">\n",
       "      <th></th>\n",
       "      <th>userid</th>\n",
       "      <th>score</th>\n",
       "      <th>city</th>\n",
       "      <th>gender</th>\n",
       "      <th>age</th>\n",
       "      <th>equity</th>\n",
       "      <th>balance</th>\n",
       "      <th>products</th>\n",
       "      <th>credit_card</th>\n",
       "      <th>last_activity</th>\n",
       "      <th>est_salary</th>\n",
       "      <th>churn</th>\n",
       "    </tr>\n",
       "  </thead>\n",
       "  <tbody>\n",
       "    <tr>\n",
       "      <th>2226</th>\n",
       "      <td>195884</td>\n",
       "      <td>906.0</td>\n",
       "      <td>Ярославль</td>\n",
       "      <td>М</td>\n",
       "      <td>49.0</td>\n",
       "      <td>6</td>\n",
       "      <td>1354552.83</td>\n",
       "      <td>2</td>\n",
       "      <td>0</td>\n",
       "      <td>0</td>\n",
       "      <td>270678.42</td>\n",
       "      <td>1</td>\n",
       "    </tr>\n",
       "    <tr>\n",
       "      <th>9659</th>\n",
       "      <td>195884</td>\n",
       "      <td>767.0</td>\n",
       "      <td>Рыбинск</td>\n",
       "      <td>Ж</td>\n",
       "      <td>45.0</td>\n",
       "      <td>1</td>\n",
       "      <td>335652.56</td>\n",
       "      <td>3</td>\n",
       "      <td>1</td>\n",
       "      <td>1</td>\n",
       "      <td>100197.67</td>\n",
       "      <td>0</td>\n",
       "    </tr>\n",
       "  </tbody>\n",
       "</table>\n",
       "</div>"
      ],
      "text/plain": [
       "      userid  score       city gender   age  equity     balance  products  \\\n",
       "2226  195884  906.0  Ярославль      М  49.0       6  1354552.83         2   \n",
       "9659  195884  767.0    Рыбинск      Ж  45.0       1   335652.56         3   \n",
       "\n",
       "      credit_card  last_activity  est_salary  churn  \n",
       "2226            0              0   270678.42      1  \n",
       "9659            1              1   100197.67      0  "
      ]
     },
     "execution_count": 19,
     "metadata": {},
     "output_type": "execute_result"
    }
   ],
   "source": [
    "data.loc[data['userid'] == 195884]"
   ]
  },
  {
   "cell_type": "markdown",
   "metadata": {},
   "source": [
    "Посмотрев несколько дублей по идентификатору пользователя понятно, что они получились из-за слияния баз данных Ярославля и Рыбинска и имеют различные данные в остальных столбцах. Считаю возможным их оставить."
   ]
  },
  {
   "cell_type": "markdown",
   "metadata": {},
   "source": [
    "**2.5 Проверка значений на наличие выбросов**"
   ]
  },
  {
   "cell_type": "code",
   "execution_count": 20,
   "metadata": {},
   "outputs": [
    {
     "data": {
      "text/html": [
       "<div>\n",
       "<style scoped>\n",
       "    .dataframe tbody tr th:only-of-type {\n",
       "        vertical-align: middle;\n",
       "    }\n",
       "\n",
       "    .dataframe tbody tr th {\n",
       "        vertical-align: top;\n",
       "    }\n",
       "\n",
       "    .dataframe thead th {\n",
       "        text-align: right;\n",
       "    }\n",
       "</style>\n",
       "<table border=\"1\" class=\"dataframe\">\n",
       "  <thead>\n",
       "    <tr style=\"text-align: right;\">\n",
       "      <th></th>\n",
       "      <th>userid</th>\n",
       "      <th>score</th>\n",
       "      <th>age</th>\n",
       "      <th>equity</th>\n",
       "      <th>balance</th>\n",
       "      <th>products</th>\n",
       "      <th>credit_card</th>\n",
       "      <th>last_activity</th>\n",
       "      <th>est_salary</th>\n",
       "      <th>churn</th>\n",
       "    </tr>\n",
       "  </thead>\n",
       "  <tbody>\n",
       "    <tr>\n",
       "      <th>count</th>\n",
       "      <td>9974.000000</td>\n",
       "      <td>9974.000000</td>\n",
       "      <td>9974.000000</td>\n",
       "      <td>9974.000000</td>\n",
       "      <td>7.695000e+03</td>\n",
       "      <td>9974.000000</td>\n",
       "      <td>9974.000000</td>\n",
       "      <td>9974.000000</td>\n",
       "      <td>9.974000e+03</td>\n",
       "      <td>9974.000000</td>\n",
       "    </tr>\n",
       "    <tr>\n",
       "      <th>mean</th>\n",
       "      <td>171755.218669</td>\n",
       "      <td>848.682575</td>\n",
       "      <td>42.734409</td>\n",
       "      <td>2.630840</td>\n",
       "      <td>8.272456e+05</td>\n",
       "      <td>1.871466</td>\n",
       "      <td>0.680168</td>\n",
       "      <td>0.522859</td>\n",
       "      <td>1.477868e+05</td>\n",
       "      <td>0.182374</td>\n",
       "    </tr>\n",
       "    <tr>\n",
       "      <th>std</th>\n",
       "      <td>33695.527126</td>\n",
       "      <td>65.399720</td>\n",
       "      <td>12.179971</td>\n",
       "      <td>1.979965</td>\n",
       "      <td>1.980327e+06</td>\n",
       "      <td>0.792729</td>\n",
       "      <td>0.466435</td>\n",
       "      <td>0.499502</td>\n",
       "      <td>1.392855e+05</td>\n",
       "      <td>0.386172</td>\n",
       "    </tr>\n",
       "    <tr>\n",
       "      <th>min</th>\n",
       "      <td>94561.000000</td>\n",
       "      <td>642.000000</td>\n",
       "      <td>18.000000</td>\n",
       "      <td>0.000000</td>\n",
       "      <td>0.000000e+00</td>\n",
       "      <td>0.000000</td>\n",
       "      <td>0.000000</td>\n",
       "      <td>0.000000</td>\n",
       "      <td>2.546300e+03</td>\n",
       "      <td>0.000000</td>\n",
       "    </tr>\n",
       "    <tr>\n",
       "      <th>25%</th>\n",
       "      <td>142760.000000</td>\n",
       "      <td>802.000000</td>\n",
       "      <td>33.000000</td>\n",
       "      <td>0.000000</td>\n",
       "      <td>2.956987e+05</td>\n",
       "      <td>1.000000</td>\n",
       "      <td>0.000000</td>\n",
       "      <td>0.000000</td>\n",
       "      <td>7.525166e+04</td>\n",
       "      <td>0.000000</td>\n",
       "    </tr>\n",
       "    <tr>\n",
       "      <th>50%</th>\n",
       "      <td>172643.000000</td>\n",
       "      <td>853.000000</td>\n",
       "      <td>40.000000</td>\n",
       "      <td>3.000000</td>\n",
       "      <td>5.242953e+05</td>\n",
       "      <td>2.000000</td>\n",
       "      <td>1.000000</td>\n",
       "      <td>1.000000</td>\n",
       "      <td>1.196268e+05</td>\n",
       "      <td>0.000000</td>\n",
       "    </tr>\n",
       "    <tr>\n",
       "      <th>75%</th>\n",
       "      <td>201163.750000</td>\n",
       "      <td>900.000000</td>\n",
       "      <td>51.000000</td>\n",
       "      <td>4.000000</td>\n",
       "      <td>9.800512e+05</td>\n",
       "      <td>2.000000</td>\n",
       "      <td>1.000000</td>\n",
       "      <td>1.000000</td>\n",
       "      <td>1.744998e+05</td>\n",
       "      <td>0.000000</td>\n",
       "    </tr>\n",
       "    <tr>\n",
       "      <th>max</th>\n",
       "      <td>229145.000000</td>\n",
       "      <td>1000.000000</td>\n",
       "      <td>86.000000</td>\n",
       "      <td>9.000000</td>\n",
       "      <td>1.191136e+08</td>\n",
       "      <td>5.000000</td>\n",
       "      <td>1.000000</td>\n",
       "      <td>1.000000</td>\n",
       "      <td>1.395064e+06</td>\n",
       "      <td>1.000000</td>\n",
       "    </tr>\n",
       "  </tbody>\n",
       "</table>\n",
       "</div>"
      ],
      "text/plain": [
       "              userid        score          age       equity       balance  \\\n",
       "count    9974.000000  9974.000000  9974.000000  9974.000000  7.695000e+03   \n",
       "mean   171755.218669   848.682575    42.734409     2.630840  8.272456e+05   \n",
       "std     33695.527126    65.399720    12.179971     1.979965  1.980327e+06   \n",
       "min     94561.000000   642.000000    18.000000     0.000000  0.000000e+00   \n",
       "25%    142760.000000   802.000000    33.000000     0.000000  2.956987e+05   \n",
       "50%    172643.000000   853.000000    40.000000     3.000000  5.242953e+05   \n",
       "75%    201163.750000   900.000000    51.000000     4.000000  9.800512e+05   \n",
       "max    229145.000000  1000.000000    86.000000     9.000000  1.191136e+08   \n",
       "\n",
       "          products  credit_card  last_activity    est_salary        churn  \n",
       "count  9974.000000  9974.000000    9974.000000  9.974000e+03  9974.000000  \n",
       "mean      1.871466     0.680168       0.522859  1.477868e+05     0.182374  \n",
       "std       0.792729     0.466435       0.499502  1.392855e+05     0.386172  \n",
       "min       0.000000     0.000000       0.000000  2.546300e+03     0.000000  \n",
       "25%       1.000000     0.000000       0.000000  7.525166e+04     0.000000  \n",
       "50%       2.000000     1.000000       1.000000  1.196268e+05     0.000000  \n",
       "75%       2.000000     1.000000       1.000000  1.744998e+05     0.000000  \n",
       "max       5.000000     1.000000       1.000000  1.395064e+06     1.000000  "
      ]
     },
     "execution_count": 20,
     "metadata": {},
     "output_type": "execute_result"
    }
   ],
   "source": [
    "data.describe()"
   ]
  },
  {
   "cell_type": "markdown",
   "metadata": {},
   "source": [
    "Выбросов значений не обнаружила"
   ]
  },
  {
   "cell_type": "markdown",
   "metadata": {},
   "source": [
    "# 3.Исследовательский анализ данных ##"
   ]
  },
  {
   "cell_type": "markdown",
   "metadata": {},
   "source": [
    "**3.1 Определение интервалов значений характеристик, соответствующих наиболее высокому оттоку**"
   ]
  },
  {
   "cell_type": "code",
   "execution_count": 21,
   "metadata": {},
   "outputs": [
    {
     "data": {
      "image/png": "[encoded data removed]",
      "text/plain": [
       "<Figure size 720x360 with 1 Axes>"
      ]
     },
     "metadata": {
      "needs_background": "light"
     },
     "output_type": "display_data"
    },
    {
     "data": {
      "image/png": "[encoded data removed]",
      "text/plain": [
       "<Figure size 720x360 with 1 Axes>"
      ]
     },
     "metadata": {
      "needs_background": "light"
     },
     "output_type": "display_data"
    },
    {
     "data": {
      "image/png": "[encoded data removed]",
      "text/plain": [
       "<Figure size 720x360 with 1 Axes>"
      ]
     },
     "metadata": {
      "needs_background": "light"
     },
     "output_type": "display_data"
    },
    {
     "data": {
      "image/png": "[encoded data removed]",
      "text/plain": [
       "<Figure size 720x360 with 1 Axes>"
      ]
     },
     "metadata": {
      "needs_background": "light"
     },
     "output_type": "display_data"
    }
   ],
   "source": [
    "cont_index = ['score', 'age', 'balance', 'est_salary']\n",
    "\n",
    "for index in cont_index:\n",
    "    plt.figure(figsize=(10, 5))\n",
    "    sns.histplot(data, x=index, hue=\"churn\", stat=\"density\", common_norm=False, palette=\"flag\")\n",
    "    plt.title(f'Распределение {index} по Churn')\n",
    "    plt.legend(['Отток', 'Нет оттока'])\n",
    "    plt.ylabel('Плотность')\n",
    "    \n",
    "    if index == 'balance':\n",
    "        plt.xlim(0, 10000000)\n",
    "    elif index == 'est_salary':\n",
    "        plt.xlim(0, 500000)\n",
    "        \n",
    "    plt.tight_layout()\n",
    "    plt.show()"
   ]
  },
  {
   "cell_type": "markdown",
   "metadata": {},
   "source": [
    "По баллам кредитного скоринга максимальный отток в диапазоне от 850 до 900 баллов.\n",
    "\n",
    "По возрасту максимальный отток с 28 до 35 лет.\n",
    "\n",
    "Максимальный отток наблюдается у клиентов с балансом от 0,8 до 1,5 млн.\n",
    "\n",
    "Максимальный отток среди клиентов с оценочным доходом от 100 000 до 120 000."
   ]
  },
  {
   "cell_type": "code",
   "execution_count": 22,
   "metadata": {},
   "outputs": [
    {
     "data": {
      "image/png": "[encoded data removed]",
      "text/plain": [
       "<Figure size 720x360 with 1 Axes>"
      ]
     },
     "metadata": {
      "needs_background": "light"
     },
     "output_type": "display_data"
    },
    {
     "data": {
      "image/png": "[encoded data removed]",
      "text/plain": [
       "<Figure size 720x360 with 1 Axes>"
      ]
     },
     "metadata": {
      "needs_background": "light"
     },
     "output_type": "display_data"
    },
    {
     "data": {
      "image/png": "[encoded data removed]",
      "text/plain": [
       "<Figure size 720x360 with 1 Axes>"
      ]
     },
     "metadata": {
      "needs_background": "light"
     },
     "output_type": "display_data"
    },
    {
     "data": {
      "image/png": "[encoded data removed]",
      "text/plain": [
       "<Figure size 720x360 with 1 Axes>"
      ]
     },
     "metadata": {
      "needs_background": "light"
     },
     "output_type": "display_data"
    },
    {
     "data": {
      "image/png": "[encoded data removed]",
      "text/plain": [
       "<Figure size 720x360 with 1 Axes>"
      ]
     },
     "metadata": {
      "needs_background": "light"
     },
     "output_type": "display_data"
    },
    {
     "data": {
      "image/png": "[encoded data removed]",
      "text/plain": [
       "<Figure size 720x360 with 1 Axes>"
      ]
     },
     "metadata": {
      "needs_background": "light"
     },
     "output_type": "display_data"
    }
   ],
   "source": [
    "cat_index = ['city', 'gender', 'equity', 'products', 'credit_card', 'last_activity']\n",
    "\n",
    "for index in cat_index:\n",
    "    plt.figure(figsize=(10, 5))\n",
    "    sns.histplot(data, x=index, hue=\"churn\", stat=\"density\", common_norm=False, palette=\"flag\", discrete=True)\n",
    "    plt.title(f'Распределение {index} по Churn')\n",
    "    plt.legend(['Отток', 'Нет оттока'])\n",
    "    \n",
    "    \n",
    "    plt.show()"
   ]
  },
  {
   "cell_type": "markdown",
   "metadata": {},
   "source": [
    "Выше всего отток клиентов в Ярославле.\n",
    "\n",
    "Мужчины чаще покидают банк.\n",
    "\n",
    "Чаще уходят клиенты с баллами собственности 4-5.\n",
    "\n",
    "Чаще покидают банк клиенты, имеющие 2 банковских продукта, не имеющие кредитную карту, и имеющие статус \"активный клиент\".\n",
    "\n"
   ]
  },
  {
   "cell_type": "code",
   "execution_count": 23,
   "metadata": {},
   "outputs": [
    {
     "data": {
      "image/png": "[encoded data removed]",
      "text/plain": [
       "<Figure size 1152x576 with 2 Axes>"
      ]
     },
     "metadata": {
      "needs_background": "light"
     },
     "output_type": "display_data"
    }
   ],
   "source": [
    "plt.figure(figsize=(16,8))\n",
    "sns.heatmap (data.corr(), annot=True, vmin=-1, vmax=1, center= 0, cmap= 'vlag', linewidths=1);"
   ]
  },
  {
   "cell_type": "markdown",
   "metadata": {},
   "source": [
    "Наблюдается умеренная зависимость между количеством баллов собственности и количеством банковских продуктов, между балансом клиента и оценочным доходом, между показателем оттока и количеством банковских продуктов. "
   ]
  },
  {
   "cell_type": "code",
   "execution_count": 24,
   "metadata": {},
   "outputs": [],
   "source": [
    "data_corr = data.corr()"
   ]
  },
  {
   "cell_type": "code",
   "execution_count": 25,
   "metadata": {},
   "outputs": [
    {
     "data": {
      "text/plain": [
       "<AxesSubplot:>"
      ]
     },
     "execution_count": 25,
     "metadata": {},
     "output_type": "execute_result"
    },
    {
     "data": {
      "image/png": "[encoded data removed]",
      "text/plain": [
       "<Figure size 432x288 with 2 Axes>"
      ]
     },
     "metadata": {
      "needs_background": "light"
     },
     "output_type": "display_data"
    }
   ],
   "source": [
    "sns.heatmap(data_corr.loc[:,['churn']].drop('churn').sort_values('churn'), annot=True, fmt=\".0%\", cmap=\"vlag\", center=0)"
   ]
  },
  {
   "cell_type": "markdown",
   "metadata": {},
   "source": [
    "Выше всего корреляция с признаком оттока у банковских продуктов, баллов собственности и признака \"активный клиент\". Низкая отрицательная корреляция с признаком оттока у показателя наличия кредитной карты и возраста."
   ]
  },
  {
   "cell_type": "markdown",
   "metadata": {},
   "source": [
    "**3.2 Сравнение ушедших и оставшихся клиентов по каждому признаку**"
   ]
  },
  {
   "cell_type": "markdown",
   "metadata": {},
   "source": [
    "**3.2.1 Баллы кредитного скоринга.** Максимальный отток клиентов, имеющих баллы в диапазоне от 850 до 900 баллов. Максимум оставшихся клиентов с баллами от 770 до 820 и еще пик в районе 920-930 баллов\n",
    "\n",
    "**3.2.2 Возраст.** Максимальный отток с 28 до 35 лет. Максимум оставшихся клиентов в возрасте от 35 до 45 лет\n",
    "\n",
    "**3.2.3 Баланс.** Максимальный отток наблюдается у клиентов с балансом от 0,8 до 1,5 млн. Наибольшее число оставшихся клиентов с балансом от 0,3 до 0,5 млн.\n",
    "\n",
    "**3.2.4 Оценочный доход.** Максимальный отток среди клиентов с оценочным доходом от 100 000 до 120 000. Оценочный доход большинства оставшихся клиентов в диапазоне от 60 000 до 100 000.\n",
    "\n",
    "**3.2.5 Город.** Выше всего отток клиентов в Ярославле. Больше оставшихся клиентов в Рыбинске\n",
    "\n",
    "**3.2.6 Пол.** Мужчины чаще покидают банк, остается больше женщин.\n",
    "\n",
    "**3.2.7 Баллы собственности.** Чаще уходят клиенты с баллами собственности 4-5, большинство оставшихся с нулевым баллом собсвенности.\n",
    "\n",
    "**3.2.8 Банковские продукты.** Чаще покидают банк клиенты, имеющие 2 банковских продукта. Остаются больше клиентов с 1 банковским продуктом.\n",
    "\n",
    "**3.2.9 Кредитная карта.** Чаще покидают банк клиенты, не имеющие кредитную карту, соответственно больше остается клиентов с кредитной картой.\n",
    "\n",
    "**3.2.10 Активный клиент.** Чаще покидают банк клиенты, имеющие статус \"активный клиент\". Реже -\"неактивные\" клиенты.\n"
   ]
  },
  {
   "cell_type": "markdown",
   "metadata": {},
   "source": [
    "**3.3 Выделение сегментов клиентов по высокоотточным группам и определение оттока в этих сегментах**"
   ]
  },
  {
   "cell_type": "markdown",
   "metadata": {},
   "source": [
    "**Сегмент 1**"
   ]
  },
  {
   "cell_type": "code",
   "execution_count": 26,
   "metadata": {},
   "outputs": [
    {
     "data": {
      "text/html": [
       "<div>\n",
       "<style scoped>\n",
       "    .dataframe tbody tr th:only-of-type {\n",
       "        vertical-align: middle;\n",
       "    }\n",
       "\n",
       "    .dataframe tbody tr th {\n",
       "        vertical-align: top;\n",
       "    }\n",
       "\n",
       "    .dataframe thead th {\n",
       "        text-align: right;\n",
       "    }\n",
       "</style>\n",
       "<table border=\"1\" class=\"dataframe\">\n",
       "  <thead>\n",
       "    <tr style=\"text-align: right;\">\n",
       "      <th></th>\n",
       "      <th>churn</th>\n",
       "    </tr>\n",
       "  </thead>\n",
       "  <tbody>\n",
       "    <tr>\n",
       "      <th>mean</th>\n",
       "      <td>0.347249</td>\n",
       "    </tr>\n",
       "    <tr>\n",
       "      <th>count</th>\n",
       "      <td>1054.000000</td>\n",
       "    </tr>\n",
       "  </tbody>\n",
       "</table>\n",
       "</div>"
      ],
      "text/plain": [
       "             churn\n",
       "mean      0.347249\n",
       "count  1054.000000"
      ]
     },
     "metadata": {},
     "output_type": "display_data"
    }
   ],
   "source": [
    "display(data.query ('850 <= score<= 900 and credit_card==0').agg({'churn':['mean','count']}))"
   ]
  },
  {
   "cell_type": "markdown",
   "metadata": {},
   "source": [
    "Баллы кредитного скоринга: 850 - 900\n",
    "\n",
    "Наличие кредитной карты: нет\n",
    "\n",
    "Количество клиентов: 1054\n",
    "\n",
    "Уровень отточности: 35%"
   ]
  },
  {
   "cell_type": "markdown",
   "metadata": {},
   "source": [
    "**Сегмент 2**"
   ]
  },
  {
   "cell_type": "code",
   "execution_count": 27,
   "metadata": {},
   "outputs": [
    {
     "data": {
      "text/html": [
       "<div>\n",
       "<style scoped>\n",
       "    .dataframe tbody tr th:only-of-type {\n",
       "        vertical-align: middle;\n",
       "    }\n",
       "\n",
       "    .dataframe tbody tr th {\n",
       "        vertical-align: top;\n",
       "    }\n",
       "\n",
       "    .dataframe thead th {\n",
       "        text-align: right;\n",
       "    }\n",
       "</style>\n",
       "<table border=\"1\" class=\"dataframe\">\n",
       "  <thead>\n",
       "    <tr style=\"text-align: right;\">\n",
       "      <th></th>\n",
       "      <th>churn</th>\n",
       "    </tr>\n",
       "  </thead>\n",
       "  <tbody>\n",
       "    <tr>\n",
       "      <th>mean</th>\n",
       "      <td>0.35346</td>\n",
       "    </tr>\n",
       "    <tr>\n",
       "      <th>count</th>\n",
       "      <td>1474.00000</td>\n",
       "    </tr>\n",
       "  </tbody>\n",
       "</table>\n",
       "</div>"
      ],
      "text/plain": [
       "            churn\n",
       "mean      0.35346\n",
       "count  1474.00000"
      ]
     },
     "metadata": {},
     "output_type": "display_data"
    }
   ],
   "source": [
    "display(data.query ('4<=equity<=5 and credit_card==0').agg({'churn':['mean','count']}))"
   ]
  },
  {
   "cell_type": "markdown",
   "metadata": {},
   "source": [
    "Баллы собственности: 4 - 5\n",
    "\n",
    "Наличие кредитной карты: нет\n",
    "\n",
    "Количество клиентов: 1474\n",
    "\n",
    "Уровень отточности: 35%"
   ]
  },
  {
   "cell_type": "markdown",
   "metadata": {},
   "source": [
    "**Сегмент 3**"
   ]
  },
  {
   "cell_type": "code",
   "execution_count": 28,
   "metadata": {},
   "outputs": [
    {
     "data": {
      "text/html": [
       "<div>\n",
       "<style scoped>\n",
       "    .dataframe tbody tr th:only-of-type {\n",
       "        vertical-align: middle;\n",
       "    }\n",
       "\n",
       "    .dataframe tbody tr th {\n",
       "        vertical-align: top;\n",
       "    }\n",
       "\n",
       "    .dataframe thead th {\n",
       "        text-align: right;\n",
       "    }\n",
       "</style>\n",
       "<table border=\"1\" class=\"dataframe\">\n",
       "  <thead>\n",
       "    <tr style=\"text-align: right;\">\n",
       "      <th></th>\n",
       "      <th>churn</th>\n",
       "    </tr>\n",
       "  </thead>\n",
       "  <tbody>\n",
       "    <tr>\n",
       "      <th>mean</th>\n",
       "      <td>0.407792</td>\n",
       "    </tr>\n",
       "    <tr>\n",
       "      <th>count</th>\n",
       "      <td>385.000000</td>\n",
       "    </tr>\n",
       "  </tbody>\n",
       "</table>\n",
       "</div>"
      ],
      "text/plain": [
       "            churn\n",
       "mean     0.407792\n",
       "count  385.000000"
      ]
     },
     "metadata": {},
     "output_type": "display_data"
    }
   ],
   "source": [
    "display(data.query ('28 <= age <= 35 and 800000 <=balance<=1500000').agg({'churn':['mean','count']}))"
   ]
  },
  {
   "cell_type": "markdown",
   "metadata": {},
   "source": [
    "Возраст: 28-35 лет\n",
    "\n",
    "Баланс: от 850 000 до 1 500 000\n",
    "\n",
    "Количество клиентов: 385\n",
    "\n",
    "Уровень отточности: 41%"
   ]
  },
  {
   "cell_type": "markdown",
   "metadata": {},
   "source": [
    "**Сегмент 4**"
   ]
  },
  {
   "cell_type": "code",
   "execution_count": 29,
   "metadata": {},
   "outputs": [
    {
     "data": {
      "text/html": [
       "<div>\n",
       "<style scoped>\n",
       "    .dataframe tbody tr th:only-of-type {\n",
       "        vertical-align: middle;\n",
       "    }\n",
       "\n",
       "    .dataframe tbody tr th {\n",
       "        vertical-align: top;\n",
       "    }\n",
       "\n",
       "    .dataframe thead th {\n",
       "        text-align: right;\n",
       "    }\n",
       "</style>\n",
       "<table border=\"1\" class=\"dataframe\">\n",
       "  <thead>\n",
       "    <tr style=\"text-align: right;\">\n",
       "      <th></th>\n",
       "      <th>churn</th>\n",
       "    </tr>\n",
       "  </thead>\n",
       "  <tbody>\n",
       "    <tr>\n",
       "      <th>mean</th>\n",
       "      <td>0.309593</td>\n",
       "    </tr>\n",
       "    <tr>\n",
       "      <th>count</th>\n",
       "      <td>1376.000000</td>\n",
       "    </tr>\n",
       "  </tbody>\n",
       "</table>\n",
       "</div>"
      ],
      "text/plain": [
       "             churn\n",
       "mean      0.309593\n",
       "count  1376.000000"
      ]
     },
     "metadata": {},
     "output_type": "display_data"
    }
   ],
   "source": [
    "display(data.query ('28 <= age <= 35 and last_activity==1').agg({'churn':['mean','count']}))"
   ]
  },
  {
   "cell_type": "markdown",
   "metadata": {},
   "source": [
    "Возраст: 28-35 лет\n",
    "\n",
    "Активность: активен\n",
    "\n",
    "Количество клиентов: 1376\n",
    "\n",
    "Уровень отточности: 31%"
   ]
  },
  {
   "cell_type": "markdown",
   "metadata": {},
   "source": [
    "**Сегмент 5**"
   ]
  },
  {
   "cell_type": "code",
   "execution_count": 30,
   "metadata": {},
   "outputs": [
    {
     "data": {
      "text/html": [
       "<div>\n",
       "<style scoped>\n",
       "    .dataframe tbody tr th:only-of-type {\n",
       "        vertical-align: middle;\n",
       "    }\n",
       "\n",
       "    .dataframe tbody tr th {\n",
       "        vertical-align: top;\n",
       "    }\n",
       "\n",
       "    .dataframe thead th {\n",
       "        text-align: right;\n",
       "    }\n",
       "</style>\n",
       "<table border=\"1\" class=\"dataframe\">\n",
       "  <thead>\n",
       "    <tr style=\"text-align: right;\">\n",
       "      <th></th>\n",
       "      <th>churn</th>\n",
       "    </tr>\n",
       "  </thead>\n",
       "  <tbody>\n",
       "    <tr>\n",
       "      <th>mean</th>\n",
       "      <td>0.276999</td>\n",
       "    </tr>\n",
       "    <tr>\n",
       "      <th>count</th>\n",
       "      <td>2639.000000</td>\n",
       "    </tr>\n",
       "  </tbody>\n",
       "</table>\n",
       "</div>"
      ],
      "text/plain": [
       "             churn\n",
       "mean      0.276999\n",
       "count  2639.000000"
      ]
     },
     "metadata": {},
     "output_type": "display_data"
    }
   ],
   "source": [
    "display(data.query ('products ==2 and last_activity==1').agg({'churn':['mean','count']}))"
   ]
  },
  {
   "cell_type": "markdown",
   "metadata": {},
   "source": [
    "Банковские продукты: 2\n",
    "\n",
    "Активность: активен\n",
    "\n",
    "Количество клиентов: 2639\n",
    "\n",
    "Уровень отточности: 28%"
   ]
  },
  {
   "cell_type": "markdown",
   "metadata": {},
   "source": [
    "**Сегмент 6**"
   ]
  },
  {
   "cell_type": "code",
   "execution_count": 31,
   "metadata": {},
   "outputs": [
    {
     "data": {
      "text/html": [
       "<div>\n",
       "<style scoped>\n",
       "    .dataframe tbody tr th:only-of-type {\n",
       "        vertical-align: middle;\n",
       "    }\n",
       "\n",
       "    .dataframe tbody tr th {\n",
       "        vertical-align: top;\n",
       "    }\n",
       "\n",
       "    .dataframe thead th {\n",
       "        text-align: right;\n",
       "    }\n",
       "</style>\n",
       "<table border=\"1\" class=\"dataframe\">\n",
       "  <thead>\n",
       "    <tr style=\"text-align: right;\">\n",
       "      <th></th>\n",
       "      <th>churn</th>\n",
       "    </tr>\n",
       "  </thead>\n",
       "  <tbody>\n",
       "    <tr>\n",
       "      <th>mean</th>\n",
       "      <td>0.28436</td>\n",
       "    </tr>\n",
       "    <tr>\n",
       "      <th>count</th>\n",
       "      <td>422.00000</td>\n",
       "    </tr>\n",
       "  </tbody>\n",
       "</table>\n",
       "</div>"
      ],
      "text/plain": [
       "           churn\n",
       "mean     0.28436\n",
       "count  422.00000"
      ]
     },
     "metadata": {},
     "output_type": "display_data"
    }
   ],
   "source": [
    "display(data.query ('4<=equity<=5 and 100000<=est_salary<=120000').agg({'churn':['mean','count']}))"
   ]
  },
  {
   "cell_type": "markdown",
   "metadata": {},
   "source": [
    "Баллы собственности: 4-5\n",
    "\n",
    "Оценочный доход: 100 000 - 120 000\n",
    "\n",
    "Количество клиентов: 422\n",
    "\n",
    "Уровень отточности: 28%"
   ]
  },
  {
   "cell_type": "markdown",
   "metadata": {},
   "source": [
    "Сегментация показала, что наиболее высокоотточные сегменты - это активные молодые люди в возрасте 28-35.\n",
    "\n",
    "Рекомендация: предложить этой группе клиентов выгодный кредит, интересные сопутствующие банковские услуги.\n",
    "\n",
    "Также особенно заметно, что в любых комбинациях высокоотточная граппа - это клиенты, не имеющие кредитной карты.\n",
    "\n",
    "Рекомендация: предложить и заинтересовать в использовании кредитную карту."
   ]
  },
  {
   "cell_type": "markdown",
   "metadata": {},
   "source": [
    "# 4. Статистический анализ данных ##"
   ]
  },
  {
   "cell_type": "markdown",
   "metadata": {},
   "source": [
    "**4.1 Выдвижение гипотезы о различии дохода между ушедшими и оставшимися клиентами и ее проверка**"
   ]
  },
  {
   "cell_type": "markdown",
   "metadata": {},
   "source": [
    "Сформулируем нулевую и альтернативную гипотезы.\n",
    "\n",
    "H₀: доходы оставшихся и отточных клиентов равны\n",
    "\n",
    "H₁: доходы оставшихся и отточных клиентов не равны"
   ]
  },
  {
   "cell_type": "code",
   "execution_count": 32,
   "metadata": {},
   "outputs": [
    {
     "name": "stdout",
     "output_type": "stream",
     "text": [
      "0.8647861589211189\n",
      "Не получилось отвергнуть нулевую гипотезу\n"
     ]
    }
   ],
   "source": [
    "results = st.ttest_ind (\n",
    "    data[data['churn']==0]['est_salary'],\n",
    "    data[data['churn']==1]['est_salary'])\n",
    "\n",
    "alpha = 0.05\n",
    "\n",
    "print (results.pvalue) \n",
    "\n",
    "if results.pvalue < alpha:\n",
    "    print ('Отвергаем нулевую гипотезу')\n",
    "else:\n",
    "    print ('Не получилось отвергнуть нулевую гипотезу')"
   ]
  },
  {
   "cell_type": "markdown",
   "metadata": {},
   "source": [
    "Нулевая гипотеза не отвергнута, следовательно можно предположить, что доходы оставшихся и отточных клиентов равны при alpha = 0.05."
   ]
  },
  {
   "cell_type": "markdown",
   "metadata": {},
   "source": [
    "**4.2 Выдвижение гипотезы о различии баланса между ушедшими и оставшимися клиентами и ее проверка**"
   ]
  },
  {
   "cell_type": "markdown",
   "metadata": {},
   "source": [
    "Для проверки гипотез удалим пропуски в столбце баланса"
   ]
  },
  {
   "cell_type": "code",
   "execution_count": 33,
   "metadata": {},
   "outputs": [
    {
     "name": "stdout",
     "output_type": "stream",
     "text": [
      "<class 'pandas.core.frame.DataFrame'>\n",
      "Int64Index: 7695 entries, 0 to 9999\n",
      "Data columns (total 12 columns):\n",
      " #   Column         Non-Null Count  Dtype  \n",
      "---  ------         --------------  -----  \n",
      " 0   userid         7695 non-null   int64  \n",
      " 1   score          7695 non-null   float64\n",
      " 2   city           7695 non-null   object \n",
      " 3   gender         7695 non-null   object \n",
      " 4   age            7695 non-null   float64\n",
      " 5   equity         7695 non-null   int64  \n",
      " 6   balance        7695 non-null   float64\n",
      " 7   products       7695 non-null   int64  \n",
      " 8   credit_card    7695 non-null   int64  \n",
      " 9   last_activity  7695 non-null   int64  \n",
      " 10  est_salary     7695 non-null   float64\n",
      " 11  churn          7695 non-null   int64  \n",
      "dtypes: float64(4), int64(6), object(2)\n",
      "memory usage: 781.5+ KB\n"
     ]
    }
   ],
   "source": [
    "data_1 = data[data['balance'].notna()]\n",
    "data_1.info()"
   ]
  },
  {
   "cell_type": "markdown",
   "metadata": {},
   "source": [
    "Сформулируем нулевую и альтернативную гипотезы.\n",
    "\n",
    "H₀: баланс оставшихся и отточных клиентов равен\n",
    "\n",
    "H₁: баланс оставшихся и отточных клиентов не равен"
   ]
  },
  {
   "cell_type": "code",
   "execution_count": 34,
   "metadata": {},
   "outputs": [
    {
     "name": "stdout",
     "output_type": "stream",
     "text": [
      "4.3764190272075795e-14\n",
      "Отвергаем нулевую гипотезу\n"
     ]
    }
   ],
   "source": [
    "results = st.ttest_ind (\n",
    "    data_1[data_1['churn']==0]['balance'],\n",
    "    data_1[data_1['churn']==1]['balance'])\n",
    "\n",
    "alpha = 0.05\n",
    "\n",
    "print (results.pvalue) \n",
    "\n",
    "if results.pvalue < alpha:\n",
    "    print ('Отвергаем нулевую гипотезу')\n",
    "else:\n",
    "    print ('Не получилось отвергнуть нулевую гипотезу')"
   ]
  },
  {
   "cell_type": "markdown",
   "metadata": {},
   "source": [
    "Нулевая гипотеза отвергнута, следовательно можно предположить, что балансы оставшихся и отточных клиентов различаются при alpha = 0.05."
   ]
  },
  {
   "cell_type": "markdown",
   "metadata": {},
   "source": [
    "# 5.Итоговый вывод ##"
   ]
  },
  {
   "cell_type": "markdown",
   "metadata": {},
   "source": [
    "В рамках проведенного анализа были выявлены группы высокоотточных клиентов по всем заявленным параметрам.\n",
    "\n",
    "**Баллы кредитного скоринга.** Максимальный отток клиентов, имеющих баллы в диапазоне от 850 до 900 баллов.\n",
    "\n",
    "**Возраст.** Максимальный отток с 28 до 35 лет.\n",
    "\n",
    "**Баланс.** Максимальный отток наблюдается у клиентов с балансом от 0,8 до 1,5 млн.\n",
    "\n",
    "**Оценочный доход.** Максимальный отток среди клиентов с оценочным доходом от 100 000 до 120 000.\n",
    "\n",
    "**Город.** Выше всего отток клиентов в Ярославле. \n",
    "\n",
    "**Пол.** Мужчины чаще покидают банк.\n",
    "\n",
    "**Баллы собственности.** Чаще уходят клиенты с баллами собственности 4-5.\n",
    "\n",
    "**Банковские продукты.** Чаще покидают банк клиенты, имеющие 2 банковских продукта.\n",
    "\n",
    "**Кредитная карта.** Чаще покидают банк клиенты, не имеющие кредитной карты.\n",
    "\n",
    "**Активный клиент.** Чаще покидают банк клиенты, имеющие статус \"активный клиент\".\n",
    "\n",
    "\n",
    "\n",
    "По этим же параметрам сформированы группы максимально оставшихся клиентов.\n",
    "\n",
    "**Баллы кредитного скоринга.** Максимум оставшихся клиентов с баллами от 770 до 820 и еще пик в районе 920-930 баллов\n",
    "\n",
    "**Возраст.** Максимум оставшихся клиентов в возрасте от 35 до 45 лет.\n",
    "\n",
    "**Баланс.** Наибольшее число оставшихся клиентов с балансом от 0,3 до 0,5 млн.\n",
    "\n",
    "**Оценочный доход.** Оценочный доход большинства оставшихся клиентов в диапазоне от 60 000 до 100 000.\n",
    "\n",
    "**Город.** Больше оставшихся клиентов в Рыбинске\n",
    "\n",
    "**Пол.** Остается больше женщин.\n",
    "\n",
    "**Баллы собственности.** Большинство оставшихся с нулевым баллом собсвенности.\n",
    "\n",
    "**Банковские продукты.** Остаются больше клиентов с 1 банковским продуктом.\n",
    "\n",
    "**Кредитная карта.** Больше остается клиентов с кредитной картой.\n",
    "\n",
    "**Активный клиент.** Редко покидают банк \"неактивные\" клиенты.\n",
    "\n",
    "\n",
    "Проведенная в рамках анализа сегментация по высокоотточным группам параметров показала, что наиболее высокоотточные сегменты - это активные молодые люди в возрасте 28-35.\n",
    "\n",
    "Рекомендация: предложить этой группе клиентов выгодный кредит, интересные сопутствующие банковские услуги.\n",
    "\n",
    "Также особенно заметно, что в любых комбинациях высокоотточная граппа - это клиенты, не имеющие кредитной карты.\n",
    "\n",
    "Рекомендация: предложить и заинтересовать в использовании кредитной карты.\n",
    "\n",
    "Проведен статистический анализ следующих гипотез:\n",
    "Гипотеза о различии доходов оставшихся и отточных клиентов: не подтвердилась\n",
    "Гипотеза о различии баланса отточных и оставшихся клиентов: подтвердилась\n"
   ]
  },
  {
   "cell_type": "code",
   "execution_count": null,
   "metadata": {},
   "outputs": [],
   "source": []
  }
 ],
 "metadata": {
  "ExecuteTimeLog": [
   {
    "duration": 1281,
    "start_time": "2025-03-25T14:13:54.409Z"
   },
   {
    "duration": 137,
    "start_time": "2025-03-25T14:14:06.081Z"
   },
   {
    "duration": 21,
    "start_time": "2025-03-25T14:14:16.474Z"
   },
   {
    "duration": 13,
    "start_time": "2025-03-25T14:14:28.846Z"
   },
   {
    "duration": 94,
    "start_time": "2025-03-25T14:14:44.380Z"
   },
   {
    "duration": 3,
    "start_time": "2025-03-25T14:15:20.070Z"
   },
   {
    "duration": 12,
    "start_time": "2025-03-25T14:15:31.977Z"
   },
   {
    "duration": 39,
    "start_time": "2025-03-25T14:16:06.726Z"
   },
   {
    "duration": 13,
    "start_time": "2025-03-25T14:16:31.489Z"
   },
   {
    "duration": 5,
    "start_time": "2025-03-25T14:17:03.881Z"
   },
   {
    "duration": 5,
    "start_time": "2025-03-25T14:17:11.227Z"
   },
   {
    "duration": 38,
    "start_time": "2025-03-25T14:17:28.232Z"
   },
   {
    "duration": 54,
    "start_time": "2025-03-25T14:17:45.694Z"
   },
   {
    "duration": 19,
    "start_time": "2025-03-25T14:18:05.809Z"
   },
   {
    "duration": 14,
    "start_time": "2025-03-25T14:19:29.234Z"
   },
   {
    "duration": 10,
    "start_time": "2025-03-25T14:20:01.809Z"
   },
   {
    "duration": 6,
    "start_time": "2025-03-25T14:20:26.209Z"
   },
   {
    "duration": 21,
    "start_time": "2025-03-25T14:20:38.084Z"
   },
   {
    "duration": 7,
    "start_time": "2025-03-25T14:20:52.494Z"
   },
   {
    "duration": 13,
    "start_time": "2025-03-25T14:21:03.006Z"
   },
   {
    "duration": 12,
    "start_time": "2025-03-25T14:21:13.544Z"
   },
   {
    "duration": 15,
    "start_time": "2025-03-25T14:21:22.656Z"
   },
   {
    "duration": 36,
    "start_time": "2025-03-25T14:29:06.553Z"
   },
   {
    "duration": 102,
    "start_time": "2025-03-25T14:36:20.729Z"
   },
   {
    "duration": 19,
    "start_time": "2025-03-25T14:36:55.306Z"
   },
   {
    "duration": 15,
    "start_time": "2025-03-25T14:37:20.757Z"
   },
   {
    "duration": 8,
    "start_time": "2025-03-25T14:37:41.226Z"
   },
   {
    "duration": 9,
    "start_time": "2025-03-25T14:39:32.665Z"
   },
   {
    "duration": 9,
    "start_time": "2025-03-25T14:39:39.701Z"
   },
   {
    "duration": 13,
    "start_time": "2025-03-25T14:40:38.146Z"
   },
   {
    "duration": 13,
    "start_time": "2025-03-25T14:43:55.869Z"
   },
   {
    "duration": 14,
    "start_time": "2025-03-25T14:44:27.087Z"
   },
   {
    "duration": 9,
    "start_time": "2025-03-25T14:45:22.396Z"
   },
   {
    "duration": 91,
    "start_time": "2025-03-25T14:48:18.583Z"
   },
   {
    "duration": 97,
    "start_time": "2025-03-25T14:49:07.893Z"
   },
   {
    "duration": 91,
    "start_time": "2025-03-25T14:49:21.131Z"
   },
   {
    "duration": 9,
    "start_time": "2025-03-25T14:49:35.592Z"
   },
   {
    "duration": 178,
    "start_time": "2025-03-25T14:51:46.221Z"
   },
   {
    "duration": 171,
    "start_time": "2025-03-25T14:52:00.033Z"
   },
   {
    "duration": 98,
    "start_time": "2025-03-25T14:56:45.401Z"
   },
   {
    "duration": 9,
    "start_time": "2025-03-25T14:57:11.636Z"
   },
   {
    "duration": 9,
    "start_time": "2025-03-25T14:57:21.056Z"
   },
   {
    "duration": 9,
    "start_time": "2025-03-25T14:58:29.062Z"
   },
   {
    "duration": 141,
    "start_time": "2025-03-25T15:06:13.794Z"
   },
   {
    "duration": 124,
    "start_time": "2025-03-25T15:06:33.337Z"
   },
   {
    "duration": 9,
    "start_time": "2025-03-25T15:09:10.619Z"
   },
   {
    "duration": 9,
    "start_time": "2025-03-25T15:09:21.600Z"
   },
   {
    "duration": 9,
    "start_time": "2025-03-25T15:09:50.320Z"
   },
   {
    "duration": 10003,
    "start_time": "2025-03-25T15:14:41.792Z"
   },
   {
    "duration": 4180,
    "start_time": "2025-03-25T15:16:30.593Z"
   },
   {
    "duration": 3906,
    "start_time": "2025-03-25T15:17:23.682Z"
   },
   {
    "duration": 3938,
    "start_time": "2025-03-25T15:18:52.221Z"
   },
   {
    "duration": 3948,
    "start_time": "2025-03-25T15:19:32.855Z"
   },
   {
    "duration": 10198,
    "start_time": "2025-03-25T15:20:31.962Z"
   },
   {
    "duration": 10351,
    "start_time": "2025-03-25T15:20:51.318Z"
   },
   {
    "duration": 49,
    "start_time": "2025-03-25T17:46:28.939Z"
   },
   {
    "duration": 1282,
    "start_time": "2025-03-25T17:46:42.313Z"
   },
   {
    "duration": 73,
    "start_time": "2025-03-25T17:46:43.597Z"
   },
   {
    "duration": 22,
    "start_time": "2025-03-25T17:46:43.671Z"
   },
   {
    "duration": 13,
    "start_time": "2025-03-25T17:46:43.694Z"
   },
   {
    "duration": 4,
    "start_time": "2025-03-25T17:46:45.003Z"
   },
   {
    "duration": 12,
    "start_time": "2025-03-25T17:46:45.211Z"
   },
   {
    "duration": 36,
    "start_time": "2025-03-25T17:46:45.816Z"
   },
   {
    "duration": 12,
    "start_time": "2025-03-25T17:46:46.324Z"
   },
   {
    "duration": 38,
    "start_time": "2025-03-25T17:46:46.844Z"
   },
   {
    "duration": 53,
    "start_time": "2025-03-25T17:46:47.137Z"
   },
   {
    "duration": 19,
    "start_time": "2025-03-25T17:46:47.794Z"
   },
   {
    "duration": 14,
    "start_time": "2025-03-25T17:46:48.372Z"
   },
   {
    "duration": 10,
    "start_time": "2025-03-25T17:46:49.477Z"
   },
   {
    "duration": 5,
    "start_time": "2025-03-25T17:46:50.993Z"
   },
   {
    "duration": 20,
    "start_time": "2025-03-25T17:46:51.313Z"
   },
   {
    "duration": 6,
    "start_time": "2025-03-25T17:46:51.457Z"
   },
   {
    "duration": 12,
    "start_time": "2025-03-25T17:46:51.579Z"
   },
   {
    "duration": 12,
    "start_time": "2025-03-25T17:46:52.032Z"
   },
   {
    "duration": 12,
    "start_time": "2025-03-25T17:46:52.336Z"
   },
   {
    "duration": 37,
    "start_time": "2025-03-25T17:46:53.125Z"
   },
   {
    "duration": 10067,
    "start_time": "2025-03-25T17:46:54.077Z"
   },
   {
    "duration": 9914,
    "start_time": "2025-03-25T17:47:33.194Z"
   },
   {
    "duration": 9763,
    "start_time": "2025-03-25T17:47:54.410Z"
   },
   {
    "duration": 10210,
    "start_time": "2025-03-25T17:48:45.213Z"
   },
   {
    "duration": 9638,
    "start_time": "2025-03-25T17:49:28.008Z"
   },
   {
    "duration": 9970,
    "start_time": "2025-03-25T17:51:20.690Z"
   },
   {
    "duration": 166,
    "start_time": "2025-03-25T17:57:27.742Z"
   },
   {
    "duration": 1818,
    "start_time": "2025-03-25T17:57:43.262Z"
   },
   {
    "duration": 2095,
    "start_time": "2025-03-25T17:58:06.851Z"
   },
   {
    "duration": 2259,
    "start_time": "2025-03-25T17:58:19.448Z"
   },
   {
    "duration": 1877,
    "start_time": "2025-03-25T17:58:44.563Z"
   },
   {
    "duration": 2002,
    "start_time": "2025-03-25T17:59:52.342Z"
   },
   {
    "duration": 1314,
    "start_time": "2025-03-26T15:15:42.559Z"
   },
   {
    "duration": 95,
    "start_time": "2025-03-26T15:15:43.926Z"
   },
   {
    "duration": 31,
    "start_time": "2025-03-26T15:15:45.640Z"
   },
   {
    "duration": 13,
    "start_time": "2025-03-26T15:15:45.756Z"
   },
   {
    "duration": 11,
    "start_time": "2025-03-26T15:21:54.578Z"
   },
   {
    "duration": 5,
    "start_time": "2025-03-26T15:21:56.518Z"
   },
   {
    "duration": 18,
    "start_time": "2025-03-26T15:21:57.091Z"
   },
   {
    "duration": 35,
    "start_time": "2025-03-26T15:21:58.291Z"
   },
   {
    "duration": 13,
    "start_time": "2025-03-26T15:21:59.412Z"
   },
   {
    "duration": 40,
    "start_time": "2025-03-26T15:22:00.586Z"
   },
   {
    "duration": 54,
    "start_time": "2025-03-26T15:22:01.330Z"
   },
   {
    "duration": 18,
    "start_time": "2025-03-26T15:22:01.863Z"
   },
   {
    "duration": 14,
    "start_time": "2025-03-26T15:22:03.054Z"
   },
   {
    "duration": 11,
    "start_time": "2025-03-26T15:22:05.706Z"
   },
   {
    "duration": 6,
    "start_time": "2025-03-26T15:22:06.843Z"
   },
   {
    "duration": 21,
    "start_time": "2025-03-26T15:22:07.371Z"
   },
   {
    "duration": 6,
    "start_time": "2025-03-26T15:22:07.912Z"
   },
   {
    "duration": 12,
    "start_time": "2025-03-26T15:22:08.451Z"
   },
   {
    "duration": 11,
    "start_time": "2025-03-26T15:22:09.002Z"
   },
   {
    "duration": 12,
    "start_time": "2025-03-26T15:22:09.521Z"
   },
   {
    "duration": 36,
    "start_time": "2025-03-26T15:22:11.182Z"
   },
   {
    "duration": 9658,
    "start_time": "2025-03-26T15:22:12.964Z"
   },
   {
    "duration": 4,
    "start_time": "2025-03-26T15:23:09.463Z"
   },
   {
    "duration": 1795,
    "start_time": "2025-03-26T15:23:12.652Z"
   },
   {
    "duration": 2,
    "start_time": "2025-03-26T15:23:46.702Z"
   },
   {
    "duration": 1879,
    "start_time": "2025-03-26T15:23:50.143Z"
   },
   {
    "duration": 4,
    "start_time": "2025-03-26T15:29:23.762Z"
   },
   {
    "duration": 1945,
    "start_time": "2025-03-26T15:29:28.981Z"
   },
   {
    "duration": 1871,
    "start_time": "2025-03-26T15:39:43.850Z"
   },
   {
    "duration": 1766,
    "start_time": "2025-03-26T15:39:53.352Z"
   },
   {
    "duration": 1087,
    "start_time": "2025-03-26T15:41:06.886Z"
   },
   {
    "duration": 358,
    "start_time": "2025-03-26T16:03:51.618Z"
   },
   {
    "duration": 95,
    "start_time": "2025-03-26T16:29:24.321Z"
   },
   {
    "duration": 17,
    "start_time": "2025-03-26T16:30:27.585Z"
   },
   {
    "duration": 821,
    "start_time": "2025-03-26T16:31:43.979Z"
   },
   {
    "duration": 962,
    "start_time": "2025-03-26T16:32:15.014Z"
   },
   {
    "duration": 875,
    "start_time": "2025-03-26T16:33:20.095Z"
   },
   {
    "duration": 7,
    "start_time": "2025-03-26T16:34:10.681Z"
   },
   {
    "duration": 303,
    "start_time": "2025-03-26T16:34:20.676Z"
   },
   {
    "duration": 1587,
    "start_time": "2025-03-27T15:26:05.028Z"
   },
   {
    "duration": 125,
    "start_time": "2025-03-27T15:31:22.207Z"
   },
   {
    "duration": 7,
    "start_time": "2025-03-27T15:34:48.472Z"
   },
   {
    "duration": 98,
    "start_time": "2025-03-27T15:34:49.568Z"
   },
   {
    "duration": 28,
    "start_time": "2025-03-27T15:34:50.304Z"
   },
   {
    "duration": 23,
    "start_time": "2025-03-27T15:34:52.407Z"
   },
   {
    "duration": 5,
    "start_time": "2025-03-27T15:34:54.243Z"
   },
   {
    "duration": 15,
    "start_time": "2025-03-27T15:34:54.798Z"
   },
   {
    "duration": 41,
    "start_time": "2025-03-27T15:34:56.601Z"
   },
   {
    "duration": 15,
    "start_time": "2025-03-27T15:34:57.744Z"
   },
   {
    "duration": 40,
    "start_time": "2025-03-27T15:34:58.941Z"
   },
   {
    "duration": 82,
    "start_time": "2025-03-27T15:34:59.832Z"
   },
   {
    "duration": 23,
    "start_time": "2025-03-27T15:35:00.901Z"
   },
   {
    "duration": 16,
    "start_time": "2025-03-27T15:35:01.508Z"
   },
   {
    "duration": 13,
    "start_time": "2025-03-27T15:35:04.212Z"
   },
   {
    "duration": 5,
    "start_time": "2025-03-27T15:35:05.774Z"
   },
   {
    "duration": 24,
    "start_time": "2025-03-27T15:35:06.314Z"
   },
   {
    "duration": 7,
    "start_time": "2025-03-27T15:35:07.018Z"
   },
   {
    "duration": 18,
    "start_time": "2025-03-27T15:35:07.604Z"
   },
   {
    "duration": 14,
    "start_time": "2025-03-27T15:35:08.209Z"
   },
   {
    "duration": 14,
    "start_time": "2025-03-27T15:35:08.836Z"
   },
   {
    "duration": 47,
    "start_time": "2025-03-27T15:35:10.840Z"
   },
   {
    "duration": 10965,
    "start_time": "2025-03-27T15:35:14.075Z"
   },
   {
    "duration": 1142,
    "start_time": "2025-03-27T15:35:25.042Z"
   },
   {
    "duration": 999,
    "start_time": "2025-03-27T15:35:26.186Z"
   },
   {
    "duration": 1283,
    "start_time": "2025-03-28T04:35:41.521Z"
   },
   {
    "duration": 102,
    "start_time": "2025-03-28T04:35:42.806Z"
   },
   {
    "duration": 28,
    "start_time": "2025-03-28T04:35:42.961Z"
   },
   {
    "duration": 11,
    "start_time": "2025-03-28T04:35:44.589Z"
   },
   {
    "duration": 3,
    "start_time": "2025-03-28T04:35:46.221Z"
   },
   {
    "duration": 18,
    "start_time": "2025-03-28T04:35:46.755Z"
   },
   {
    "duration": 36,
    "start_time": "2025-03-28T04:35:48.285Z"
   },
   {
    "duration": 22,
    "start_time": "2025-03-28T04:35:49.360Z"
   },
   {
    "duration": 36,
    "start_time": "2025-03-28T04:35:50.511Z"
   },
   {
    "duration": 63,
    "start_time": "2025-03-28T04:35:51.061Z"
   },
   {
    "duration": 30,
    "start_time": "2025-03-28T04:35:51.641Z"
   },
   {
    "duration": 12,
    "start_time": "2025-03-28T04:35:52.930Z"
   },
   {
    "duration": 18,
    "start_time": "2025-03-28T04:35:54.554Z"
   },
   {
    "duration": 10,
    "start_time": "2025-03-28T04:35:55.567Z"
   },
   {
    "duration": 23,
    "start_time": "2025-03-28T04:35:56.109Z"
   },
   {
    "duration": 5,
    "start_time": "2025-03-28T04:35:56.646Z"
   },
   {
    "duration": 11,
    "start_time": "2025-03-28T04:35:57.206Z"
   },
   {
    "duration": 11,
    "start_time": "2025-03-28T04:35:57.709Z"
   },
   {
    "duration": 11,
    "start_time": "2025-03-28T04:35:58.283Z"
   },
   {
    "duration": 43,
    "start_time": "2025-03-28T04:35:59.774Z"
   },
   {
    "duration": 10367,
    "start_time": "2025-03-28T04:36:02.100Z"
   },
   {
    "duration": 1049,
    "start_time": "2025-03-28T04:36:12.470Z"
   },
   {
    "duration": 925,
    "start_time": "2025-03-28T04:36:13.520Z"
   },
   {
    "duration": 6,
    "start_time": "2025-03-28T04:36:14.447Z"
   },
   {
    "duration": 424,
    "start_time": "2025-03-28T04:36:14.455Z"
   },
   {
    "duration": 131,
    "start_time": "2025-03-28T04:44:30.558Z"
   },
   {
    "duration": 7,
    "start_time": "2025-03-28T04:45:08.009Z"
   },
   {
    "duration": 21,
    "start_time": "2025-03-28T04:45:19.819Z"
   },
   {
    "duration": 10,
    "start_time": "2025-03-28T04:46:33.212Z"
   },
   {
    "duration": 13,
    "start_time": "2025-03-28T04:59:17.354Z"
   },
   {
    "duration": 14,
    "start_time": "2025-03-28T04:59:33.175Z"
   },
   {
    "duration": 10,
    "start_time": "2025-03-28T05:05:14.803Z"
   },
   {
    "duration": 11,
    "start_time": "2025-03-28T05:08:03.687Z"
   },
   {
    "duration": 10,
    "start_time": "2025-03-28T05:09:25.121Z"
   },
   {
    "duration": 10,
    "start_time": "2025-03-28T05:10:32.649Z"
   },
   {
    "duration": 10,
    "start_time": "2025-03-28T05:11:59.787Z"
   },
   {
    "duration": 9,
    "start_time": "2025-03-28T05:13:20.787Z"
   },
   {
    "duration": 11,
    "start_time": "2025-03-28T05:49:20.510Z"
   },
   {
    "duration": 10,
    "start_time": "2025-03-28T05:49:39.610Z"
   },
   {
    "duration": 11,
    "start_time": "2025-03-28T05:50:42.694Z"
   },
   {
    "duration": 27,
    "start_time": "2025-03-28T05:52:33.320Z"
   },
   {
    "duration": 9,
    "start_time": "2025-03-28T05:53:08.203Z"
   },
   {
    "duration": 11,
    "start_time": "2025-03-28T05:54:20.146Z"
   },
   {
    "duration": 11,
    "start_time": "2025-03-28T05:56:09.966Z"
   },
   {
    "duration": 10,
    "start_time": "2025-03-28T05:56:44.639Z"
   },
   {
    "duration": 11,
    "start_time": "2025-03-28T05:57:47.019Z"
   },
   {
    "duration": 10,
    "start_time": "2025-03-28T05:58:20.846Z"
   },
   {
    "duration": 11,
    "start_time": "2025-03-28T06:02:52.993Z"
   },
   {
    "duration": 11,
    "start_time": "2025-03-28T06:03:46.817Z"
   },
   {
    "duration": 11,
    "start_time": "2025-03-28T06:04:02.017Z"
   },
   {
    "duration": 10,
    "start_time": "2025-03-28T06:07:58.161Z"
   },
   {
    "duration": 29,
    "start_time": "2025-03-28T06:08:37.579Z"
   },
   {
    "duration": 94,
    "start_time": "2025-03-28T06:09:01.307Z"
   },
   {
    "duration": 10,
    "start_time": "2025-03-28T06:09:15.655Z"
   },
   {
    "duration": 12,
    "start_time": "2025-03-28T06:10:52.016Z"
   },
   {
    "duration": 11,
    "start_time": "2025-03-28T06:17:23.658Z"
   },
   {
    "duration": 11,
    "start_time": "2025-03-28T06:51:50.713Z"
   },
   {
    "duration": 11,
    "start_time": "2025-03-28T06:54:46.012Z"
   },
   {
    "duration": 11,
    "start_time": "2025-03-28T07:08:28.446Z"
   },
   {
    "duration": 7,
    "start_time": "2025-03-28T07:25:05.145Z"
   },
   {
    "duration": 7,
    "start_time": "2025-03-28T07:30:36.697Z"
   },
   {
    "duration": 7,
    "start_time": "2025-03-28T07:30:51.228Z"
   },
   {
    "duration": 8,
    "start_time": "2025-03-28T07:32:21.919Z"
   },
   {
    "duration": 2184,
    "start_time": "2025-03-28T08:13:32.242Z"
   },
   {
    "duration": 20,
    "start_time": "2025-03-28T08:13:43.362Z"
   },
   {
    "duration": 7,
    "start_time": "2025-03-28T08:14:30.480Z"
   },
   {
    "duration": 7,
    "start_time": "2025-03-28T08:18:33.631Z"
   },
   {
    "duration": 1262,
    "start_time": "2025-03-28T10:59:57.845Z"
   },
   {
    "duration": 1134,
    "start_time": "2025-03-28T11:00:09.513Z"
   },
   {
    "duration": 1047,
    "start_time": "2025-03-28T11:00:27.116Z"
   },
   {
    "duration": 3,
    "start_time": "2025-03-28T11:58:20.179Z"
   },
   {
    "duration": 127,
    "start_time": "2025-03-28T11:58:20.951Z"
   },
   {
    "duration": 16,
    "start_time": "2025-03-28T11:58:21.794Z"
   },
   {
    "duration": 12,
    "start_time": "2025-03-28T11:58:24.604Z"
   },
   {
    "duration": 3,
    "start_time": "2025-03-28T11:58:26.505Z"
   },
   {
    "duration": 12,
    "start_time": "2025-03-28T11:58:27.339Z"
   },
   {
    "duration": 37,
    "start_time": "2025-03-28T11:58:29.371Z"
   },
   {
    "duration": 13,
    "start_time": "2025-03-28T11:58:30.614Z"
   },
   {
    "duration": 37,
    "start_time": "2025-03-28T11:58:31.852Z"
   },
   {
    "duration": 18,
    "start_time": "2025-03-28T11:58:32.514Z"
   },
   {
    "duration": 19,
    "start_time": "2025-03-28T11:58:33.303Z"
   },
   {
    "duration": 11,
    "start_time": "2025-03-28T11:58:34.569Z"
   },
   {
    "duration": 11,
    "start_time": "2025-03-28T11:58:37.047Z"
   },
   {
    "duration": 6,
    "start_time": "2025-03-28T11:58:38.461Z"
   },
   {
    "duration": 20,
    "start_time": "2025-03-28T11:58:39.197Z"
   },
   {
    "duration": 7,
    "start_time": "2025-03-28T11:58:39.912Z"
   },
   {
    "duration": 12,
    "start_time": "2025-03-28T11:58:40.690Z"
   },
   {
    "duration": 11,
    "start_time": "2025-03-28T11:58:41.421Z"
   },
   {
    "duration": 12,
    "start_time": "2025-03-28T11:58:42.170Z"
   },
   {
    "duration": 34,
    "start_time": "2025-03-28T11:58:44.316Z"
   },
   {
    "duration": 9428,
    "start_time": "2025-03-28T11:58:47.624Z"
   },
   {
    "duration": 1455,
    "start_time": "2025-03-28T11:59:01.432Z"
   },
   {
    "duration": 872,
    "start_time": "2025-03-28T11:59:08.004Z"
   },
   {
    "duration": 7,
    "start_time": "2025-03-28T11:59:11.049Z"
   },
   {
    "duration": 322,
    "start_time": "2025-03-28T11:59:12.209Z"
   },
   {
    "duration": 11,
    "start_time": "2025-03-28T11:59:17.606Z"
   },
   {
    "duration": 10,
    "start_time": "2025-03-28T11:59:22.041Z"
   },
   {
    "duration": 10,
    "start_time": "2025-03-28T11:59:32.122Z"
   },
   {
    "duration": 10,
    "start_time": "2025-03-28T11:59:40.981Z"
   },
   {
    "duration": 10,
    "start_time": "2025-03-28T11:59:47.143Z"
   },
   {
    "duration": 11,
    "start_time": "2025-03-28T11:59:50.070Z"
   },
   {
    "duration": 8,
    "start_time": "2025-03-28T11:59:55.363Z"
   },
   {
    "duration": 12,
    "start_time": "2025-03-28T11:59:59.048Z"
   },
   {
    "duration": 8,
    "start_time": "2025-03-28T12:00:03.690Z"
   },
   {
    "duration": 1404,
    "start_time": "2025-03-29T07:13:47.471Z"
   },
   {
    "duration": 142,
    "start_time": "2025-03-29T07:13:48.878Z"
   },
   {
    "duration": 26,
    "start_time": "2025-03-29T07:13:49.022Z"
   },
   {
    "duration": 12,
    "start_time": "2025-03-29T07:13:49.049Z"
   },
   {
    "duration": 3,
    "start_time": "2025-03-29T07:13:49.063Z"
   },
   {
    "duration": 16,
    "start_time": "2025-03-29T07:13:49.067Z"
   },
   {
    "duration": 45,
    "start_time": "2025-03-29T07:13:49.084Z"
   },
   {
    "duration": 14,
    "start_time": "2025-03-29T07:13:49.131Z"
   },
   {
    "duration": 45,
    "start_time": "2025-03-29T07:13:49.146Z"
   },
   {
    "duration": 55,
    "start_time": "2025-03-29T07:13:49.192Z"
   },
   {
    "duration": 33,
    "start_time": "2025-03-29T07:13:49.249Z"
   },
   {
    "duration": 18,
    "start_time": "2025-03-29T07:13:49.283Z"
   },
   {
    "duration": 9,
    "start_time": "2025-03-29T07:13:49.303Z"
   },
   {
    "duration": 6,
    "start_time": "2025-03-29T07:13:49.314Z"
   },
   {
    "duration": 19,
    "start_time": "2025-03-29T07:13:49.322Z"
   },
   {
    "duration": 28,
    "start_time": "2025-03-29T07:13:49.342Z"
   },
   {
    "duration": 11,
    "start_time": "2025-03-29T07:13:49.372Z"
   },
   {
    "duration": 13,
    "start_time": "2025-03-29T07:13:49.384Z"
   },
   {
    "duration": 17,
    "start_time": "2025-03-29T07:13:49.399Z"
   },
   {
    "duration": 52,
    "start_time": "2025-03-29T07:13:49.417Z"
   },
   {
    "duration": 9829,
    "start_time": "2025-03-29T07:13:49.471Z"
   },
   {
    "duration": 1729,
    "start_time": "2025-03-29T07:13:59.302Z"
   },
   {
    "duration": 641,
    "start_time": "2025-03-29T07:14:01.033Z"
   },
   {
    "duration": 6,
    "start_time": "2025-03-29T07:14:01.675Z"
   },
   {
    "duration": 271,
    "start_time": "2025-03-29T07:14:01.682Z"
   },
   {
    "duration": 21,
    "start_time": "2025-03-29T07:14:01.955Z"
   },
   {
    "duration": 20,
    "start_time": "2025-03-29T07:14:01.978Z"
   },
   {
    "duration": 15,
    "start_time": "2025-03-29T07:14:01.999Z"
   },
   {
    "duration": 27,
    "start_time": "2025-03-29T07:14:02.016Z"
   },
   {
    "duration": 28,
    "start_time": "2025-03-29T07:14:02.044Z"
   },
   {
    "duration": 16,
    "start_time": "2025-03-29T07:14:02.074Z"
   },
   {
    "duration": 7,
    "start_time": "2025-03-29T07:14:02.091Z"
   },
   {
    "duration": 11,
    "start_time": "2025-03-29T07:14:02.099Z"
   },
   {
    "duration": 6,
    "start_time": "2025-03-29T07:14:02.111Z"
   }
  ],
  "kernelspec": {
   "display_name": "Python 3 (ipykernel)",
   "language": "python",
   "name": "python3"
  },
  "language_info": {
   "codemirror_mode": {
    "name": "ipython",
    "version": 3
   },
   "file_extension": ".py",
   "mimetype": "text/x-python",
   "name": "python",
   "nbconvert_exporter": "python",
   "pygments_lexer": "ipython3",
   "version": "3.12.4"
  },
  "toc": {
   "base_numbering": 1,
   "nav_menu": {},
   "number_sections": true,
   "sideBar": true,
   "skip_h1_title": true,
   "title_cell": "Table of Contents",
   "title_sidebar": "Contents",
   "toc_cell": false,
   "toc_position": {},
   "toc_section_display": true,
   "toc_window_display": false
  }
 },
 "nbformat": 4,
 "nbformat_minor": 4
}
