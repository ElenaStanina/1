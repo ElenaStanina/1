{
 "cells": [
  {
   "cell_type": "markdown",
   "metadata": {},
   "source": [
    "# **Проект: принятие решений в бизнесе**"
   ]
  },
  {
   "cell_type": "markdown",
   "metadata": {},
   "source": [
    "**Описание проекта**\n",
    "\n",
    "Я — аналитик крупного интернет-магазина. Вместе с отделом маркетинга мы подготовили список гипотез для увеличения выручки.\n",
    "Необходимо приоритизировать гипотезы, запустить A/B-тест и проанализировать результаты. "
   ]
  },
  {
   "cell_type": "markdown",
   "metadata": {},
   "source": [
    "**Цель проекта**\n",
    "\n",
    "Помочь бизнесу принять решение с целью увеличения выручки"
   ]
  },
  {
   "cell_type": "markdown",
   "metadata": {},
   "source": [
    "**Задачи проекта**\n",
    "1. Приоритизация гипотез приприменении фрейморка ICE и RICE\n",
    "\n",
    "2. Анализ А/B-теста\n",
    "\n",
    "3. Принятие решения по результатам теста "
   ]
  },
  {
   "cell_type": "markdown",
   "metadata": {},
   "source": [
    "**Ход исследования**\n",
    "1. Применение фреймворка ICE для приоритизации гипотез. Отсортируйте их по убыванию приоритета.\n",
    "2. Применение фреймворка RICE для приоритизации гипотез. Отсортируйте их по убыванию приоритета.\n",
    "3. Построение графика кумулятивной выручки по группам. Выводы и предположения.\n",
    "4. Построение графика кумулятивного среднего чека по группам. Выводы и предположения.\n",
    "5. Построение графика относительного изменения кумулятивного среднего чека группы B к группе A. Выводы и предположения.\n",
    "6. Построение графика кумулятивного среднего количества заказов на посетителя по группам. Выводы и предположения.\n",
    "7. Построение графика относительного изменения кумулятивного среднего количества заказов на посетителя группы B к группе A. Выводы и предположения.\n",
    "8. Построение точечного графика количества заказов по пользователям. Выводы и предположения.\n",
    "9. Определение 95-го и 99-го перцентилей количества заказов на пользователя. Определение границы аномальных пользователей.\n",
    "10. Построение точечного графика стоимостей заказов. Выводы и предположения.\n",
    "11. Определение 95-го и 99-го перцентилей стоимости заказов. Определение границы аномальных заказов.\n",
    "12. Определение статистической значимости различий в среднем количестве заказов на посетителя между группами по «сырым» данным. Выводы и предположения.\n",
    "13. Определение статистической значимости различий в среднем чеке заказа между группами по «сырым» данным. Выводы и предположения.\n",
    "14. Определение статистической значимости различий в среднем количестве заказов на посетителя между группами по «очищенным» данным. Выводы и предположения.\n",
    "15. Определение статистической значимости различий в среднем чеке заказа между группами по «очищенным» данным. Выводы и предположения.\n",
    "16. Принятие решения по результатам теста "
   ]
  },
  {
   "cell_type": "markdown",
   "metadata": {},
   "source": [
    "**Описание данных**\n",
    "\n",
    "Файл /datasets/hypothesis.csv \n",
    "\n",
    "**Hypothesis** — краткое описание гипотезы;\n",
    "\n",
    "**Reach** — охват пользователей по 10-балльной шкале;\n",
    "\n",
    "**Impact** — влияние на пользователей по 10-балльной шкале;\n",
    "\n",
    "**Confidence** — уверенность в гипотезе по 10-балльной шкале;\n",
    "\n",
    "**Efforts** — затраты ресурсов на проверку гипотезы по 10-балльной шкале. Чем больше значение Efforts, тем дороже проверка гипотезы.\n",
    "\n",
    "Файл /datasets/orders.csv \n",
    "\n",
    "**transactionId** — идентификатор заказа;\n",
    "\n",
    "**visitorId** — идентификатор пользователя, совершившего заказ;\n",
    "\n",
    "**date** — дата, когда был совершён заказ;\n",
    "\n",
    "**revenue** — выручка заказа;\n",
    "\n",
    "**group** — группа A/B-теста, в которую попал заказ.\n",
    "\n",
    "Файл /datasets/visitors.csv\n",
    "\n",
    "**date** — дата;\n",
    "\n",
    "**group** — группа A/B-теста;\n",
    "\n",
    "**visitors** — количество пользователей в указанную дату в указанной группе A/B-теста"
   ]
  },
  {
   "cell_type": "markdown",
   "metadata": {},
   "source": [
    "## Приоритизация гипотез"
   ]
  },
  {
   "cell_type": "code",
   "execution_count": 27,
   "metadata": {},
   "outputs": [],
   "source": [
    "import pandas as pd\n",
    "import datetime as dt\n",
    "import numpy as np\n",
    "import matplotlib.pyplot as plt\n",
    "import scipy.stats as stats"
   ]
  },
  {
   "cell_type": "code",
   "execution_count": 28,
   "metadata": {},
   "outputs": [
    {
     "name": "stdout",
     "output_type": "stream",
     "text": [
      "<class 'pandas.core.frame.DataFrame'>\n",
      "RangeIndex: 9 entries, 0 to 8\n",
      "Data columns (total 5 columns):\n",
      " #   Column      Non-Null Count  Dtype \n",
      "---  ------      --------------  ----- \n",
      " 0   Hypothesis  9 non-null      object\n",
      " 1   Reach       9 non-null      int64 \n",
      " 2   Impact      9 non-null      int64 \n",
      " 3   Confidence  9 non-null      int64 \n",
      " 4   Efforts     9 non-null      int64 \n",
      "dtypes: int64(4), object(1)\n",
      "memory usage: 488.0+ bytes\n"
     ]
    },
    {
     "data": {
      "text/html": [
       "<div>\n",
       "<style scoped>\n",
       "    .dataframe tbody tr th:only-of-type {\n",
       "        vertical-align: middle;\n",
       "    }\n",
       "\n",
       "    .dataframe tbody tr th {\n",
       "        vertical-align: top;\n",
       "    }\n",
       "\n",
       "    .dataframe thead th {\n",
       "        text-align: right;\n",
       "    }\n",
       "</style>\n",
       "<table border=\"1\" class=\"dataframe\">\n",
       "  <thead>\n",
       "    <tr style=\"text-align: right;\">\n",
       "      <th></th>\n",
       "      <th>Hypothesis</th>\n",
       "      <th>Reach</th>\n",
       "      <th>Impact</th>\n",
       "      <th>Confidence</th>\n",
       "      <th>Efforts</th>\n",
       "    </tr>\n",
       "  </thead>\n",
       "  <tbody>\n",
       "    <tr>\n",
       "      <th>0</th>\n",
       "      <td>Добавить два новых канала привлечения трафика, что позволит привлекать на 30% больше пользователей</td>\n",
       "      <td>3</td>\n",
       "      <td>10</td>\n",
       "      <td>8</td>\n",
       "      <td>6</td>\n",
       "    </tr>\n",
       "    <tr>\n",
       "      <th>1</th>\n",
       "      <td>Запустить собственную службу доставки, что сократит срок доставки заказов</td>\n",
       "      <td>2</td>\n",
       "      <td>5</td>\n",
       "      <td>4</td>\n",
       "      <td>10</td>\n",
       "    </tr>\n",
       "    <tr>\n",
       "      <th>2</th>\n",
       "      <td>Добавить блоки рекомендаций товаров на сайт интернет магазина, чтобы повысить конверсию и средний чек заказа</td>\n",
       "      <td>8</td>\n",
       "      <td>3</td>\n",
       "      <td>7</td>\n",
       "      <td>3</td>\n",
       "    </tr>\n",
       "    <tr>\n",
       "      <th>3</th>\n",
       "      <td>Изменить структура категорий, что увеличит конверсию, т.к. пользователи быстрее найдут нужный товар</td>\n",
       "      <td>8</td>\n",
       "      <td>3</td>\n",
       "      <td>3</td>\n",
       "      <td>8</td>\n",
       "    </tr>\n",
       "    <tr>\n",
       "      <th>4</th>\n",
       "      <td>Изменить цвет фона главной страницы, чтобы увеличить вовлеченность пользователей</td>\n",
       "      <td>3</td>\n",
       "      <td>1</td>\n",
       "      <td>1</td>\n",
       "      <td>1</td>\n",
       "    </tr>\n",
       "    <tr>\n",
       "      <th>5</th>\n",
       "      <td>Добавить страницу отзывов клиентов о магазине, что позволит увеличить количество заказов</td>\n",
       "      <td>3</td>\n",
       "      <td>2</td>\n",
       "      <td>2</td>\n",
       "      <td>3</td>\n",
       "    </tr>\n",
       "    <tr>\n",
       "      <th>6</th>\n",
       "      <td>Показать на главной странице баннеры с актуальными акциями и распродажами, чтобы увеличить конверсию</td>\n",
       "      <td>5</td>\n",
       "      <td>3</td>\n",
       "      <td>8</td>\n",
       "      <td>3</td>\n",
       "    </tr>\n",
       "    <tr>\n",
       "      <th>7</th>\n",
       "      <td>Добавить форму подписки на все основные страницы, чтобы собрать базу клиентов для email-рассылок</td>\n",
       "      <td>10</td>\n",
       "      <td>7</td>\n",
       "      <td>8</td>\n",
       "      <td>5</td>\n",
       "    </tr>\n",
       "    <tr>\n",
       "      <th>8</th>\n",
       "      <td>Запустить акцию, дающую скидку на товар в день рождения</td>\n",
       "      <td>1</td>\n",
       "      <td>9</td>\n",
       "      <td>9</td>\n",
       "      <td>5</td>\n",
       "    </tr>\n",
       "  </tbody>\n",
       "</table>\n",
       "</div>"
      ],
      "text/plain": [
       "                                                                                                     Hypothesis  \\\n",
       "0            Добавить два новых канала привлечения трафика, что позволит привлекать на 30% больше пользователей   \n",
       "1                                     Запустить собственную службу доставки, что сократит срок доставки заказов   \n",
       "2  Добавить блоки рекомендаций товаров на сайт интернет магазина, чтобы повысить конверсию и средний чек заказа   \n",
       "3           Изменить структура категорий, что увеличит конверсию, т.к. пользователи быстрее найдут нужный товар   \n",
       "4                              Изменить цвет фона главной страницы, чтобы увеличить вовлеченность пользователей   \n",
       "5                      Добавить страницу отзывов клиентов о магазине, что позволит увеличить количество заказов   \n",
       "6          Показать на главной странице баннеры с актуальными акциями и распродажами, чтобы увеличить конверсию   \n",
       "7              Добавить форму подписки на все основные страницы, чтобы собрать базу клиентов для email-рассылок   \n",
       "8                                                       Запустить акцию, дающую скидку на товар в день рождения   \n",
       "\n",
       "   Reach  Impact  Confidence  Efforts  \n",
       "0      3      10           8        6  \n",
       "1      2       5           4       10  \n",
       "2      8       3           7        3  \n",
       "3      8       3           3        8  \n",
       "4      3       1           1        1  \n",
       "5      3       2           2        3  \n",
       "6      5       3           8        3  \n",
       "7     10       7           8        5  \n",
       "8      1       9           9        5  "
      ]
     },
     "execution_count": 28,
     "metadata": {},
     "output_type": "execute_result"
    }
   ],
   "source": [
    "data = pd.read_csv('/datasets/hypothesis.csv', sep=',')\n",
    "data.info()\n",
    "data.head(10)"
   ]
  },
  {
   "cell_type": "code",
   "execution_count": 29,
   "metadata": {},
   "outputs": [
    {
     "data": {
      "text/html": [
       "<div>\n",
       "<style scoped>\n",
       "    .dataframe tbody tr th:only-of-type {\n",
       "        vertical-align: middle;\n",
       "    }\n",
       "\n",
       "    .dataframe tbody tr th {\n",
       "        vertical-align: top;\n",
       "    }\n",
       "\n",
       "    .dataframe thead th {\n",
       "        text-align: right;\n",
       "    }\n",
       "</style>\n",
       "<table border=\"1\" class=\"dataframe\">\n",
       "  <thead>\n",
       "    <tr style=\"text-align: right;\">\n",
       "      <th></th>\n",
       "      <th>hypothesis</th>\n",
       "      <th>reach</th>\n",
       "      <th>impact</th>\n",
       "      <th>confidence</th>\n",
       "      <th>efforts</th>\n",
       "    </tr>\n",
       "  </thead>\n",
       "  <tbody>\n",
       "    <tr>\n",
       "      <th>0</th>\n",
       "      <td>Добавить два новых канала привлечения трафика, что позволит привлекать на 30% больше пользователей</td>\n",
       "      <td>3</td>\n",
       "      <td>10</td>\n",
       "      <td>8</td>\n",
       "      <td>6</td>\n",
       "    </tr>\n",
       "    <tr>\n",
       "      <th>1</th>\n",
       "      <td>Запустить собственную службу доставки, что сократит срок доставки заказов</td>\n",
       "      <td>2</td>\n",
       "      <td>5</td>\n",
       "      <td>4</td>\n",
       "      <td>10</td>\n",
       "    </tr>\n",
       "    <tr>\n",
       "      <th>2</th>\n",
       "      <td>Добавить блоки рекомендаций товаров на сайт интернет магазина, чтобы повысить конверсию и средний чек заказа</td>\n",
       "      <td>8</td>\n",
       "      <td>3</td>\n",
       "      <td>7</td>\n",
       "      <td>3</td>\n",
       "    </tr>\n",
       "    <tr>\n",
       "      <th>3</th>\n",
       "      <td>Изменить структура категорий, что увеличит конверсию, т.к. пользователи быстрее найдут нужный товар</td>\n",
       "      <td>8</td>\n",
       "      <td>3</td>\n",
       "      <td>3</td>\n",
       "      <td>8</td>\n",
       "    </tr>\n",
       "    <tr>\n",
       "      <th>4</th>\n",
       "      <td>Изменить цвет фона главной страницы, чтобы увеличить вовлеченность пользователей</td>\n",
       "      <td>3</td>\n",
       "      <td>1</td>\n",
       "      <td>1</td>\n",
       "      <td>1</td>\n",
       "    </tr>\n",
       "    <tr>\n",
       "      <th>5</th>\n",
       "      <td>Добавить страницу отзывов клиентов о магазине, что позволит увеличить количество заказов</td>\n",
       "      <td>3</td>\n",
       "      <td>2</td>\n",
       "      <td>2</td>\n",
       "      <td>3</td>\n",
       "    </tr>\n",
       "    <tr>\n",
       "      <th>6</th>\n",
       "      <td>Показать на главной странице баннеры с актуальными акциями и распродажами, чтобы увеличить конверсию</td>\n",
       "      <td>5</td>\n",
       "      <td>3</td>\n",
       "      <td>8</td>\n",
       "      <td>3</td>\n",
       "    </tr>\n",
       "    <tr>\n",
       "      <th>7</th>\n",
       "      <td>Добавить форму подписки на все основные страницы, чтобы собрать базу клиентов для email-рассылок</td>\n",
       "      <td>10</td>\n",
       "      <td>7</td>\n",
       "      <td>8</td>\n",
       "      <td>5</td>\n",
       "    </tr>\n",
       "    <tr>\n",
       "      <th>8</th>\n",
       "      <td>Запустить акцию, дающую скидку на товар в день рождения</td>\n",
       "      <td>1</td>\n",
       "      <td>9</td>\n",
       "      <td>9</td>\n",
       "      <td>5</td>\n",
       "    </tr>\n",
       "  </tbody>\n",
       "</table>\n",
       "</div>"
      ],
      "text/plain": [
       "                                                                                                     hypothesis  \\\n",
       "0            Добавить два новых канала привлечения трафика, что позволит привлекать на 30% больше пользователей   \n",
       "1                                     Запустить собственную службу доставки, что сократит срок доставки заказов   \n",
       "2  Добавить блоки рекомендаций товаров на сайт интернет магазина, чтобы повысить конверсию и средний чек заказа   \n",
       "3           Изменить структура категорий, что увеличит конверсию, т.к. пользователи быстрее найдут нужный товар   \n",
       "4                              Изменить цвет фона главной страницы, чтобы увеличить вовлеченность пользователей   \n",
       "5                      Добавить страницу отзывов клиентов о магазине, что позволит увеличить количество заказов   \n",
       "6          Показать на главной странице баннеры с актуальными акциями и распродажами, чтобы увеличить конверсию   \n",
       "7              Добавить форму подписки на все основные страницы, чтобы собрать базу клиентов для email-рассылок   \n",
       "8                                                       Запустить акцию, дающую скидку на товар в день рождения   \n",
       "\n",
       "   reach  impact  confidence  efforts  \n",
       "0      3      10           8        6  \n",
       "1      2       5           4       10  \n",
       "2      8       3           7        3  \n",
       "3      8       3           3        8  \n",
       "4      3       1           1        1  \n",
       "5      3       2           2        3  \n",
       "6      5       3           8        3  \n",
       "7     10       7           8        5  \n",
       "8      1       9           9        5  "
      ]
     },
     "execution_count": 29,
     "metadata": {},
     "output_type": "execute_result"
    }
   ],
   "source": [
    "data.columns = data.columns.str.lower()\n",
    "pd.set_option('max_colwidth', 120)\n",
    "data.head(10)"
   ]
  },
  {
   "cell_type": "code",
   "execution_count": 30,
   "metadata": {},
   "outputs": [
    {
     "name": "stdout",
     "output_type": "stream",
     "text": [
      "                                                                                                     hypothesis  \\\n",
      "8                                                       Запустить акцию, дающую скидку на товар в день рождения   \n",
      "0            Добавить два новых канала привлечения трафика, что позволит привлекать на 30% больше пользователей   \n",
      "7              Добавить форму подписки на все основные страницы, чтобы собрать базу клиентов для email-рассылок   \n",
      "6          Показать на главной странице баннеры с актуальными акциями и распродажами, чтобы увеличить конверсию   \n",
      "2  Добавить блоки рекомендаций товаров на сайт интернет магазина, чтобы повысить конверсию и средний чек заказа   \n",
      "1                                     Запустить собственную службу доставки, что сократит срок доставки заказов   \n",
      "5                      Добавить страницу отзывов клиентов о магазине, что позволит увеличить количество заказов   \n",
      "3           Изменить структура категорий, что увеличит конверсию, т.к. пользователи быстрее найдут нужный товар   \n",
      "4                              Изменить цвет фона главной страницы, чтобы увеличить вовлеченность пользователей   \n",
      "\n",
      "         ICE  \n",
      "8  16.200000  \n",
      "0  13.333333  \n",
      "7  11.200000  \n",
      "6   8.000000  \n",
      "2   7.000000  \n",
      "1   2.000000  \n",
      "5   1.333333  \n",
      "3   1.125000  \n",
      "4   1.000000  \n"
     ]
    }
   ],
   "source": [
    "data['ICE'] = (data['impact'] * data['confidence']) / data['efforts']\n",
    "data['ICE'].astype('float')\n",
    "print(data[['hypothesis', 'ICE']].sort_values(by = 'ICE', ascending = False))"
   ]
  },
  {
   "cell_type": "markdown",
   "metadata": {},
   "source": [
    "Наиболее перспективные гипотезы по ICE: 8 - запустить акцию, дающую скидку на товар в день рождения, \n",
    "\n",
    "              0 - добавить два новых канала привлечения трафика, что позволит привлекать на 30% больше пользователей, \n",
    "              \n",
    "              7 - добавить форму подписки на все основные страницы, чтобы собрать базу клиентов для email-рассылок, \n",
    "              \n",
    "              6 - показать на главной странице баннеры с актуальными акциями и распродажами, чтобы увеличить конверсию"
   ]
  },
  {
   "cell_type": "code",
   "execution_count": 31,
   "metadata": {},
   "outputs": [
    {
     "name": "stdout",
     "output_type": "stream",
     "text": [
      "                                                                                                     hypothesis  \\\n",
      "7              Добавить форму подписки на все основные страницы, чтобы собрать базу клиентов для email-рассылок   \n",
      "2  Добавить блоки рекомендаций товаров на сайт интернет магазина, чтобы повысить конверсию и средний чек заказа   \n",
      "0            Добавить два новых канала привлечения трафика, что позволит привлекать на 30% больше пользователей   \n",
      "6          Показать на главной странице баннеры с актуальными акциями и распродажами, чтобы увеличить конверсию   \n",
      "8                                                       Запустить акцию, дающую скидку на товар в день рождения   \n",
      "3           Изменить структура категорий, что увеличит конверсию, т.к. пользователи быстрее найдут нужный товар   \n",
      "1                                     Запустить собственную службу доставки, что сократит срок доставки заказов   \n",
      "5                      Добавить страницу отзывов клиентов о магазине, что позволит увеличить количество заказов   \n",
      "4                              Изменить цвет фона главной страницы, чтобы увеличить вовлеченность пользователей   \n",
      "\n",
      "    RICE  \n",
      "7  112.0  \n",
      "2   56.0  \n",
      "0   40.0  \n",
      "6   40.0  \n",
      "8   16.2  \n",
      "3    9.0  \n",
      "1    4.0  \n",
      "5    4.0  \n",
      "4    3.0  \n"
     ]
    }
   ],
   "source": [
    "data['RICE'] = (data['reach'] * data['impact'] * data['confidence']) / data['efforts']\n",
    "print(data[['hypothesis', 'RICE']].sort_values(by='RICE', ascending = False))"
   ]
  },
  {
   "cell_type": "markdown",
   "metadata": {},
   "source": [
    "Наиболее перспективные гипотезы по RICE: \n",
    "\n",
    "     7 - добавить форму подписки на все основные страницы, чтобы собрать базу клиентов для email-рассылок, \n",
    "     \n",
    "     2 - добавить блоки рекомендаций товаров на сайт интернет магазина, чтобы повысить конверсию и средний чек заказа, \n",
    "     \n",
    "     0 - добавить два новых канала привлечения трафика, что позволит привлекать на 30% больше пользователей, \n",
    "     \n",
    "     6 - показать на главной странице баннеры с актуальными акциями и распродажами, чтобы увеличить конверсию\n"
   ]
  },
  {
   "cell_type": "markdown",
   "metadata": {},
   "source": [
    "На первом месте по RICE стоит гипотеза 7 (добавить форму подписки на все основные страницы, чтобы собрать базу клиентов для email-рассылок). Фрейморк RICE учитывает параметр REACH, а он у 7-й гипотезы - максимален. 7-я гипотеза затронет наибольшее количество пользователей."
   ]
  },
  {
   "cell_type": "markdown",
   "metadata": {},
   "source": [
    "## Анализ A/B-теста"
   ]
  },
  {
   "cell_type": "code",
   "execution_count": 32,
   "metadata": {},
   "outputs": [
    {
     "name": "stdout",
     "output_type": "stream",
     "text": [
      "<class 'pandas.core.frame.DataFrame'>\n",
      "RangeIndex: 1197 entries, 0 to 1196\n",
      "Data columns (total 5 columns):\n",
      " #   Column         Non-Null Count  Dtype \n",
      "---  ------         --------------  ----- \n",
      " 0   transactionId  1197 non-null   int64 \n",
      " 1   visitorId      1197 non-null   int64 \n",
      " 2   date           1197 non-null   object\n",
      " 3   revenue        1197 non-null   int64 \n",
      " 4   group          1197 non-null   object\n",
      "dtypes: int64(3), object(2)\n",
      "memory usage: 46.9+ KB\n",
      "   transactionId   visitorId        date  revenue group\n",
      "0     3667963787  3312258926  2019-08-15     1650     B\n",
      "1     2804400009  3642806036  2019-08-15      730     B\n",
      "2     2961555356  4069496402  2019-08-15      400     A\n",
      "3     3797467345  1196621759  2019-08-15     9759     B\n",
      "4     2282983706  2322279887  2019-08-15     2308     B\n",
      "5      182168103   935554773  2019-08-15     2210     B\n",
      "6      398296753  2900797465  2019-08-15     1860     B\n",
      "7     2626614568    78758296  2019-08-15     1044     A\n",
      "8     1576988021   295230930  2019-08-15    13710     A\n",
      "9     1506739906  1882260405  2019-08-15     1855     B\n"
     ]
    }
   ],
   "source": [
    "orders = pd.read_csv('/datasets/orders.csv', sep=',')\n",
    "orders.info()\n",
    "print(orders.head(10))"
   ]
  },
  {
   "cell_type": "code",
   "execution_count": 33,
   "metadata": {},
   "outputs": [
    {
     "data": {
      "text/html": [
       "<div>\n",
       "<style scoped>\n",
       "    .dataframe tbody tr th:only-of-type {\n",
       "        vertical-align: middle;\n",
       "    }\n",
       "\n",
       "    .dataframe tbody tr th {\n",
       "        vertical-align: top;\n",
       "    }\n",
       "\n",
       "    .dataframe thead th {\n",
       "        text-align: right;\n",
       "    }\n",
       "</style>\n",
       "<table border=\"1\" class=\"dataframe\">\n",
       "  <thead>\n",
       "    <tr style=\"text-align: right;\">\n",
       "      <th></th>\n",
       "      <th>transactionId</th>\n",
       "      <th>visitorId</th>\n",
       "      <th>revenue</th>\n",
       "    </tr>\n",
       "  </thead>\n",
       "  <tbody>\n",
       "    <tr>\n",
       "      <th>count</th>\n",
       "      <td>1.197000e+03</td>\n",
       "      <td>1.197000e+03</td>\n",
       "      <td>1.197000e+03</td>\n",
       "    </tr>\n",
       "    <tr>\n",
       "      <th>mean</th>\n",
       "      <td>2.155621e+09</td>\n",
       "      <td>2.165960e+09</td>\n",
       "      <td>8.348006e+03</td>\n",
       "    </tr>\n",
       "    <tr>\n",
       "      <th>std</th>\n",
       "      <td>1.229085e+09</td>\n",
       "      <td>1.236014e+09</td>\n",
       "      <td>3.919113e+04</td>\n",
       "    </tr>\n",
       "    <tr>\n",
       "      <th>min</th>\n",
       "      <td>1.062393e+06</td>\n",
       "      <td>5.114589e+06</td>\n",
       "      <td>5.000000e+01</td>\n",
       "    </tr>\n",
       "    <tr>\n",
       "      <th>25%</th>\n",
       "      <td>1.166776e+09</td>\n",
       "      <td>1.111826e+09</td>\n",
       "      <td>1.220000e+03</td>\n",
       "    </tr>\n",
       "    <tr>\n",
       "      <th>50%</th>\n",
       "      <td>2.145194e+09</td>\n",
       "      <td>2.217985e+09</td>\n",
       "      <td>2.978000e+03</td>\n",
       "    </tr>\n",
       "    <tr>\n",
       "      <th>75%</th>\n",
       "      <td>3.237740e+09</td>\n",
       "      <td>3.177606e+09</td>\n",
       "      <td>8.290000e+03</td>\n",
       "    </tr>\n",
       "    <tr>\n",
       "      <th>max</th>\n",
       "      <td>4.293856e+09</td>\n",
       "      <td>4.283872e+09</td>\n",
       "      <td>1.294500e+06</td>\n",
       "    </tr>\n",
       "  </tbody>\n",
       "</table>\n",
       "</div>"
      ],
      "text/plain": [
       "       transactionId     visitorId       revenue\n",
       "count   1.197000e+03  1.197000e+03  1.197000e+03\n",
       "mean    2.155621e+09  2.165960e+09  8.348006e+03\n",
       "std     1.229085e+09  1.236014e+09  3.919113e+04\n",
       "min     1.062393e+06  5.114589e+06  5.000000e+01\n",
       "25%     1.166776e+09  1.111826e+09  1.220000e+03\n",
       "50%     2.145194e+09  2.217985e+09  2.978000e+03\n",
       "75%     3.237740e+09  3.177606e+09  8.290000e+03\n",
       "max     4.293856e+09  4.283872e+09  1.294500e+06"
      ]
     },
     "execution_count": 33,
     "metadata": {},
     "output_type": "execute_result"
    }
   ],
   "source": [
    "orders.describe()"
   ]
  },
  {
   "cell_type": "code",
   "execution_count": 34,
   "metadata": {},
   "outputs": [
    {
     "data": {
      "text/html": [
       "<div>\n",
       "<style scoped>\n",
       "    .dataframe tbody tr th:only-of-type {\n",
       "        vertical-align: middle;\n",
       "    }\n",
       "\n",
       "    .dataframe tbody tr th {\n",
       "        vertical-align: top;\n",
       "    }\n",
       "\n",
       "    .dataframe thead th {\n",
       "        text-align: right;\n",
       "    }\n",
       "</style>\n",
       "<table border=\"1\" class=\"dataframe\">\n",
       "  <thead>\n",
       "    <tr style=\"text-align: right;\">\n",
       "      <th></th>\n",
       "      <th>transaction_id</th>\n",
       "      <th>visitor_id</th>\n",
       "      <th>date</th>\n",
       "      <th>revenue</th>\n",
       "      <th>group</th>\n",
       "    </tr>\n",
       "  </thead>\n",
       "  <tbody>\n",
       "    <tr>\n",
       "      <th>0</th>\n",
       "      <td>3667963787</td>\n",
       "      <td>3312258926</td>\n",
       "      <td>2019-08-15</td>\n",
       "      <td>1650</td>\n",
       "      <td>B</td>\n",
       "    </tr>\n",
       "    <tr>\n",
       "      <th>1</th>\n",
       "      <td>2804400009</td>\n",
       "      <td>3642806036</td>\n",
       "      <td>2019-08-15</td>\n",
       "      <td>730</td>\n",
       "      <td>B</td>\n",
       "    </tr>\n",
       "    <tr>\n",
       "      <th>2</th>\n",
       "      <td>2961555356</td>\n",
       "      <td>4069496402</td>\n",
       "      <td>2019-08-15</td>\n",
       "      <td>400</td>\n",
       "      <td>A</td>\n",
       "    </tr>\n",
       "    <tr>\n",
       "      <th>3</th>\n",
       "      <td>3797467345</td>\n",
       "      <td>1196621759</td>\n",
       "      <td>2019-08-15</td>\n",
       "      <td>9759</td>\n",
       "      <td>B</td>\n",
       "    </tr>\n",
       "    <tr>\n",
       "      <th>4</th>\n",
       "      <td>2282983706</td>\n",
       "      <td>2322279887</td>\n",
       "      <td>2019-08-15</td>\n",
       "      <td>2308</td>\n",
       "      <td>B</td>\n",
       "    </tr>\n",
       "    <tr>\n",
       "      <th>5</th>\n",
       "      <td>182168103</td>\n",
       "      <td>935554773</td>\n",
       "      <td>2019-08-15</td>\n",
       "      <td>2210</td>\n",
       "      <td>B</td>\n",
       "    </tr>\n",
       "    <tr>\n",
       "      <th>6</th>\n",
       "      <td>398296753</td>\n",
       "      <td>2900797465</td>\n",
       "      <td>2019-08-15</td>\n",
       "      <td>1860</td>\n",
       "      <td>B</td>\n",
       "    </tr>\n",
       "    <tr>\n",
       "      <th>7</th>\n",
       "      <td>2626614568</td>\n",
       "      <td>78758296</td>\n",
       "      <td>2019-08-15</td>\n",
       "      <td>1044</td>\n",
       "      <td>A</td>\n",
       "    </tr>\n",
       "    <tr>\n",
       "      <th>8</th>\n",
       "      <td>1576988021</td>\n",
       "      <td>295230930</td>\n",
       "      <td>2019-08-15</td>\n",
       "      <td>13710</td>\n",
       "      <td>A</td>\n",
       "    </tr>\n",
       "    <tr>\n",
       "      <th>9</th>\n",
       "      <td>1506739906</td>\n",
       "      <td>1882260405</td>\n",
       "      <td>2019-08-15</td>\n",
       "      <td>1855</td>\n",
       "      <td>B</td>\n",
       "    </tr>\n",
       "  </tbody>\n",
       "</table>\n",
       "</div>"
      ],
      "text/plain": [
       "   transaction_id  visitor_id        date  revenue group\n",
       "0      3667963787  3312258926  2019-08-15     1650     B\n",
       "1      2804400009  3642806036  2019-08-15      730     B\n",
       "2      2961555356  4069496402  2019-08-15      400     A\n",
       "3      3797467345  1196621759  2019-08-15     9759     B\n",
       "4      2282983706  2322279887  2019-08-15     2308     B\n",
       "5       182168103   935554773  2019-08-15     2210     B\n",
       "6       398296753  2900797465  2019-08-15     1860     B\n",
       "7      2626614568    78758296  2019-08-15     1044     A\n",
       "8      1576988021   295230930  2019-08-15    13710     A\n",
       "9      1506739906  1882260405  2019-08-15     1855     B"
      ]
     },
     "execution_count": 34,
     "metadata": {},
     "output_type": "execute_result"
    }
   ],
   "source": [
    "orders.columns = orders.columns.str.lower()\n",
    "orders = orders.rename(columns={'transactionid': 'transaction_id', 'visitorid': 'visitor_id'}) \n",
    "orders.head(10)"
   ]
  },
  {
   "cell_type": "code",
   "execution_count": 35,
   "metadata": {},
   "outputs": [],
   "source": [
    "orders['date'] = orders['date'].map(\n",
    "    lambda x: dt.datetime.strptime(x, '%Y-%m-%d')\n",
    ")"
   ]
  },
  {
   "cell_type": "code",
   "execution_count": 36,
   "metadata": {},
   "outputs": [
    {
     "name": "stdout",
     "output_type": "stream",
     "text": [
      "<class 'pandas.core.frame.DataFrame'>\n",
      "RangeIndex: 62 entries, 0 to 61\n",
      "Data columns (total 3 columns):\n",
      " #   Column    Non-Null Count  Dtype \n",
      "---  ------    --------------  ----- \n",
      " 0   date      62 non-null     object\n",
      " 1   group     62 non-null     object\n",
      " 2   visitors  62 non-null     int64 \n",
      "dtypes: int64(1), object(2)\n",
      "memory usage: 1.6+ KB\n"
     ]
    },
    {
     "data": {
      "text/html": [
       "<div>\n",
       "<style scoped>\n",
       "    .dataframe tbody tr th:only-of-type {\n",
       "        vertical-align: middle;\n",
       "    }\n",
       "\n",
       "    .dataframe tbody tr th {\n",
       "        vertical-align: top;\n",
       "    }\n",
       "\n",
       "    .dataframe thead th {\n",
       "        text-align: right;\n",
       "    }\n",
       "</style>\n",
       "<table border=\"1\" class=\"dataframe\">\n",
       "  <thead>\n",
       "    <tr style=\"text-align: right;\">\n",
       "      <th></th>\n",
       "      <th>date</th>\n",
       "      <th>group</th>\n",
       "      <th>visitors</th>\n",
       "    </tr>\n",
       "  </thead>\n",
       "  <tbody>\n",
       "    <tr>\n",
       "      <th>0</th>\n",
       "      <td>2019-08-01</td>\n",
       "      <td>A</td>\n",
       "      <td>719</td>\n",
       "    </tr>\n",
       "    <tr>\n",
       "      <th>1</th>\n",
       "      <td>2019-08-02</td>\n",
       "      <td>A</td>\n",
       "      <td>619</td>\n",
       "    </tr>\n",
       "    <tr>\n",
       "      <th>2</th>\n",
       "      <td>2019-08-03</td>\n",
       "      <td>A</td>\n",
       "      <td>507</td>\n",
       "    </tr>\n",
       "    <tr>\n",
       "      <th>3</th>\n",
       "      <td>2019-08-04</td>\n",
       "      <td>A</td>\n",
       "      <td>717</td>\n",
       "    </tr>\n",
       "    <tr>\n",
       "      <th>4</th>\n",
       "      <td>2019-08-05</td>\n",
       "      <td>A</td>\n",
       "      <td>756</td>\n",
       "    </tr>\n",
       "    <tr>\n",
       "      <th>5</th>\n",
       "      <td>2019-08-06</td>\n",
       "      <td>A</td>\n",
       "      <td>667</td>\n",
       "    </tr>\n",
       "    <tr>\n",
       "      <th>6</th>\n",
       "      <td>2019-08-07</td>\n",
       "      <td>A</td>\n",
       "      <td>644</td>\n",
       "    </tr>\n",
       "    <tr>\n",
       "      <th>7</th>\n",
       "      <td>2019-08-08</td>\n",
       "      <td>A</td>\n",
       "      <td>610</td>\n",
       "    </tr>\n",
       "    <tr>\n",
       "      <th>8</th>\n",
       "      <td>2019-08-09</td>\n",
       "      <td>A</td>\n",
       "      <td>617</td>\n",
       "    </tr>\n",
       "    <tr>\n",
       "      <th>9</th>\n",
       "      <td>2019-08-10</td>\n",
       "      <td>A</td>\n",
       "      <td>406</td>\n",
       "    </tr>\n",
       "  </tbody>\n",
       "</table>\n",
       "</div>"
      ],
      "text/plain": [
       "         date group  visitors\n",
       "0  2019-08-01     A       719\n",
       "1  2019-08-02     A       619\n",
       "2  2019-08-03     A       507\n",
       "3  2019-08-04     A       717\n",
       "4  2019-08-05     A       756\n",
       "5  2019-08-06     A       667\n",
       "6  2019-08-07     A       644\n",
       "7  2019-08-08     A       610\n",
       "8  2019-08-09     A       617\n",
       "9  2019-08-10     A       406"
      ]
     },
     "execution_count": 36,
     "metadata": {},
     "output_type": "execute_result"
    }
   ],
   "source": [
    "visitors = pd.read_csv('/datasets/visitors.csv', sep=',')\n",
    "visitors.info()\n",
    "visitors.head(10)"
   ]
  },
  {
   "cell_type": "code",
   "execution_count": 37,
   "metadata": {},
   "outputs": [],
   "source": [
    "visitors['date'] = visitors['date'].map(\n",
    "    lambda x: dt.datetime.strptime(x, '%Y-%m-%d')\n",
    ")"
   ]
  },
  {
   "cell_type": "markdown",
   "metadata": {},
   "source": [
    "### График кумулятивной выручки по группам"
   ]
  },
  {
   "cell_type": "code",
   "execution_count": 38,
   "metadata": {},
   "outputs": [
    {
     "name": "stdout",
     "output_type": "stream",
     "text": [
      "        date group  orders  buyers  revenue  visitors\n",
      "0 2019-08-01     A      24      20   148579       719\n",
      "1 2019-08-01     B      21      20   101217       713\n",
      "2 2019-08-02     A      44      38   242401      1338\n",
      "3 2019-08-02     B      45      43   266748      1294\n",
      "4 2019-08-03     A      68      62   354874      1845\n"
     ]
    }
   ],
   "source": [
    "datesGroups = orders[['date', 'group']].drop_duplicates()\n",
    "ordersAggregated = datesGroups.apply(lambda x: orders[np.logical_and(orders['date'] <= x['date'], orders['group'] == x['group'])].agg({\n",
    "'date' : 'max',\n",
    "'group' : 'max',\n",
    "'transaction_id' : pd.Series.nunique,\n",
    "'visitor_id' : pd.Series.nunique,\n",
    "'revenue' : 'sum'}), axis=1).sort_values(by=['date','group']) \n",
    "\n",
    "visitorsAggregated = datesGroups.apply(lambda x: visitors[np.logical_and(visitors['date'] <= x['date'], visitors['group'] == x['group'])].agg({'date' : 'max', 'group' : 'max', 'visitors' : 'sum'}), axis=1).sort_values(by=['date','group'])\n",
    "\n",
    "cumulativeData = ordersAggregated.merge(visitorsAggregated, left_on=['date', 'group'], right_on=['date', 'group'])\n",
    "cumulativeData.columns = ['date', 'group', 'orders', 'buyers', 'revenue', 'visitors']\n",
    "print(cumulativeData.head(5))"
   ]
  },
  {
   "cell_type": "code",
   "execution_count": 39,
   "metadata": {},
   "outputs": [
    {
     "data": {
      "image/png": "[encoded data removed]",
      "text/plain": [
       "<Figure size 1080x720 with 1 Axes>"
      ]
     },
     "metadata": {
      "needs_background": "light"
     },
     "output_type": "display_data"
    }
   ],
   "source": [
    "cumulativeRevenueA = cumulativeData[cumulativeData['group']=='A'][['date','revenue', 'orders']]\n",
    "\n",
    "cumulativeRevenueB = cumulativeData[cumulativeData['group']=='B'][['date','revenue', 'orders']]  \n",
    "plt.figure(figsize=(15, 10))\n",
    "plt.plot(cumulativeRevenueA['date'], cumulativeRevenueA['revenue'], label='A')     \n",
    "plt.plot(cumulativeRevenueB['date'], cumulativeRevenueB['revenue'], label='B')\n",
    "plt.grid(visible=True)\n",
    "plt.title('Графики кумулятивной выручки по дням и группам A/B-теста', fontsize=14)\n",
    "plt.xlabel('Дата', fontsize=12)\n",
    "plt.ylabel('Выручка, ₽', fontsize=12)\n",
    "plt.legend()\n",
    "plt.show()"
   ]
  },
  {
   "cell_type": "markdown",
   "metadata": {},
   "source": [
    "Во второй половине теста сегмент В вырвался вперед и стал лидировать. Возможно, что на это повляли аномально большие заказы."
   ]
  },
  {
   "cell_type": "markdown",
   "metadata": {},
   "source": [
    "### График кумулятивного среднего чека по группам "
   ]
  },
  {
   "cell_type": "code",
   "execution_count": 40,
   "metadata": {},
   "outputs": [
    {
     "data": {
      "image/png": "[encoded data removed]",
      "text/plain": [
       "<Figure size 1080x720 with 1 Axes>"
      ]
     },
     "metadata": {
      "needs_background": "light"
     },
     "output_type": "display_data"
    }
   ],
   "source": [
    "plt.figure(figsize=(15, 10))\n",
    "plt.plot(cumulativeRevenueA['date'], cumulativeRevenueA['revenue']/cumulativeRevenueA['orders'], label='A')\n",
    "plt.plot(cumulativeRevenueB['date'], cumulativeRevenueB['revenue']/cumulativeRevenueB['orders'], label='B')\n",
    "plt.grid(visible=True)\n",
    "plt.title('Графики кумулятивного среднего чека по дням и группам A/B-теста', fontsize=14)\n",
    "plt.xlabel('Дата', fontsize=12)\n",
    "plt.ylabel('Средний чек, ₽', fontsize=12)\n",
    "plt.legend()\n",
    "plt.show()"
   ]
  },
  {
   "cell_type": "markdown",
   "metadata": {},
   "source": [
    "Похожая картинка и на графике кумулятиного среднего чека по группам. Во второй половине теста сегмент В вырвался вперед. Скорее всего на это повлияли аномально большие заказы."
   ]
  },
  {
   "cell_type": "markdown",
   "metadata": {},
   "source": [
    "### График относительного изменения кумулятивного среднего чека группы B к группе A "
   ]
  },
  {
   "cell_type": "code",
   "execution_count": 41,
   "metadata": {},
   "outputs": [
    {
     "data": {
      "image/png": "[encoded data removed]",
      "text/plain": [
       "<Figure size 1080x720 with 1 Axes>"
      ]
     },
     "metadata": {
      "needs_background": "light"
     },
     "output_type": "display_data"
    }
   ],
   "source": [
    "mergedCumulativeRevenue = cumulativeRevenueA.merge(cumulativeRevenueB, left_on='date', right_on='date', how='left', suffixes=['A', 'B'])\n",
    "plt.figure(figsize=(15, 10))\n",
    "# cтроим отношение средних чеков\n",
    "plt.plot(mergedCumulativeRevenue['date'], (mergedCumulativeRevenue['revenueB']/mergedCumulativeRevenue['ordersB'])/(mergedCumulativeRevenue['revenueA']/mergedCumulativeRevenue['ordersA'])-1)\n",
    "\n",
    "# добавляем ось X\n",
    "plt.axhline(y=0, color='black', linestyle='--')\n",
    "plt.grid(visible=True)\n",
    "plt.title('График относительного изменения кумулятивного среднего чека группы B к группе A', fontsize=14)\n",
    "plt.xlabel('Дата', fontsize=12)\n",
    "plt.ylabel('Отношение средних чеков', fontsize=12)\n",
    "\n",
    "plt.show()"
   ]
  },
  {
   "cell_type": "markdown",
   "metadata": {},
   "source": [
    "Результаты теста резко менялись несколько раз. Возможно в эти даты были аномально большие заказы."
   ]
  },
  {
   "cell_type": "markdown",
   "metadata": {},
   "source": [
    "### График кумулятивного среднего количества заказов на посетителя по группам"
   ]
  },
  {
   "cell_type": "code",
   "execution_count": 42,
   "metadata": {},
   "outputs": [
    {
     "data": {
      "image/png": "[encoded data removed]",
      "text/plain": [
       "<Figure size 1080x720 with 1 Axes>"
      ]
     },
     "metadata": {
      "needs_background": "light"
     },
     "output_type": "display_data"
    }
   ],
   "source": [
    "# считаем среднее количество заказов на посетителя\n",
    "cumulativeData['conversion'] = cumulativeData['orders']/cumulativeData['visitors']\n",
    "\n",
    "# отделяем данные по группе A\n",
    "cumulativeDataA = cumulativeData[cumulativeData['group']=='A']\n",
    "\n",
    "# отделяем данные по группе B\n",
    "cumulativeDataB = cumulativeData[cumulativeData['group']=='B']\n",
    "\n",
    "# строим графики\n",
    "plt.figure(figsize=(15, 10))\n",
    "plt.plot(cumulativeDataA['date'], cumulativeDataA['conversion'], label='A')\n",
    "plt.plot(cumulativeDataB['date'], cumulativeDataB['conversion'], label='B')\n",
    "plt.grid(axis = 'y')\n",
    "plt.title('Графики кумулятивного среднего количества заказов по дням и группам A/B-теста', fontsize=14)\n",
    "plt.xlabel('Дата', fontsize=12)\n",
    "plt.ylabel('Среднее количество заказов', fontsize=12)\n",
    "plt.legend()\n",
    "plt.show()\n"
   ]
  },
  {
   "cell_type": "markdown",
   "metadata": {},
   "source": [
    "В начале теста сегмент А имел большее кумулятивное среднее количество заказов, однако впоследствии сегмент В выровнялся и зафиксировался примерно на одном значении, большем значения сегмента А."
   ]
  },
  {
   "cell_type": "markdown",
   "metadata": {},
   "source": [
    "### График относительного изменения кумулятивного среднего количества заказов на посетителя группы B к группе A"
   ]
  },
  {
   "cell_type": "code",
   "execution_count": 43,
   "metadata": {},
   "outputs": [
    {
     "data": {
      "image/png": "[encoded data removed]",
      "text/plain": [
       "<Figure size 1080x720 with 1 Axes>"
      ]
     },
     "metadata": {
      "needs_background": "light"
     },
     "output_type": "display_data"
    }
   ],
   "source": [
    "mergedCumulativeConversions = cumulativeDataA[['date','conversion']].merge(cumulativeDataB[['date','conversion']], left_on='date', right_on='date', how='left', suffixes=['A', 'B'])\n",
    "plt.figure(figsize=(15, 10))\n",
    "plt.plot(mergedCumulativeConversions['date'], mergedCumulativeConversions['conversionB']/mergedCumulativeConversions['conversionA']-1, label=\"Относительный прирост кумулятивного среднего количества заказов на посетителя группы B относительно группы A\")\n",
    "plt.axhline(y=0, color='black', linestyle='--')\n",
    "plt.axhline(y=0.15, color='grey', linestyle='--')\n",
    "plt.grid(visible=True)\n",
    "plt.title('График относительного изменения кумулятивного среднего количества заказов на посетителя группы B к группе A', fontsize=14)\n",
    "plt.xlabel('Дата', fontsize=12)\n",
    "plt.ylabel('Соотношение', fontsize=12)\n",
    "\n",
    "plt.show()"
   ]
  },
  {
   "cell_type": "markdown",
   "metadata": {},
   "source": [
    "В начале теста сегмент В проигрывал А, но потом вырвался вперед и стабилизировался на уровне 10-20%"
   ]
  },
  {
   "cell_type": "markdown",
   "metadata": {},
   "source": [
    "### Точечный график количества заказов по пользователям"
   ]
  },
  {
   "cell_type": "code",
   "execution_count": 44,
   "metadata": {},
   "outputs": [
    {
     "name": "stdout",
     "output_type": "stream",
     "text": [
      "         user_id  orders\n",
      "1023  4256040402      11\n",
      "591   2458001652      11\n",
      "569   2378935119       9\n",
      "487   2038680547       8\n",
      "44     199603092       5\n",
      "744   3062433592       5\n",
      "55     237748145       5\n",
      "917   3803269165       5\n",
      "299   1230306981       5\n",
      "897   3717692402       5\n"
     ]
    },
    {
     "data": {
      "image/png": "[encoded data removed]",
      "text/plain": [
       "<Figure size 1080x720 with 1 Axes>"
      ]
     },
     "metadata": {
      "needs_background": "light"
     },
     "output_type": "display_data"
    }
   ],
   "source": [
    "ordersByUsers = (\n",
    "    orders.groupby('visitor_id', as_index=False)\n",
    "    .agg({'transaction_id': 'nunique'})\n",
    ")\n",
    "\n",
    "ordersByUsers.columns = ['user_id', 'orders']\n",
    "\n",
    "print(ordersByUsers.sort_values(by='orders', ascending=False).head(10))\n",
    "\n",
    "# серия из чисел от 0 до количества наблюдений в ordersByUsers\n",
    "x_values = pd.Series(range(0, len(ordersByUsers)))\n",
    "plt.figure(figsize=(15, 10))\n",
    "plt.scatter(x_values, ordersByUsers['orders']) \n",
    "plt.title('Точечный график количества заказов по пользователям', fontsize=14)\n",
    "plt.ylabel('Количество заказов', fontsize=12)\n",
    "\n",
    "plt.show()"
   ]
  },
  {
   "cell_type": "markdown",
   "metadata": {},
   "source": [
    "Основная масса пользователей сделало 1 заказ. Однако есть группа пользователей, совершивших от 2 до 4 заказов."
   ]
  },
  {
   "cell_type": "markdown",
   "metadata": {},
   "source": [
    " ### 95-й и 99-й перцентили количества заказов на пользователя. Граница для определения аномальных пользователей."
   ]
  },
  {
   "cell_type": "code",
   "execution_count": 45,
   "metadata": {},
   "outputs": [
    {
     "name": "stdout",
     "output_type": "stream",
     "text": [
      "[2. 4.]\n"
     ]
    }
   ],
   "source": [
    "print(np.percentile(ordersByUsers['orders'], [95, 99])) "
   ]
  },
  {
   "cell_type": "markdown",
   "metadata": {},
   "source": [
    "Не более 5% пользователей совершили более 2 заказов и не более 1% - более 4. Соответственно будем считать нижней границей 4 заказа на одного пользователя. Все остальное - аномальное количество. "
   ]
  },
  {
   "cell_type": "markdown",
   "metadata": {},
   "source": [
    "### Точечный график стоимостей заказов"
   ]
  },
  {
   "cell_type": "code",
   "execution_count": 46,
   "metadata": {},
   "outputs": [
    {
     "name": "stdout",
     "output_type": "stream",
     "text": [
      "      transaction_id  visitor_id       date  revenue group\n",
      "425        590470918  1920142716 2019-08-19  1294500     B\n",
      "1196      3936777065  2108080724 2019-08-15   202740     B\n",
      "858        192721366  1316129916 2019-08-27    93940     A\n",
      "1136       666610489  1307669133 2019-08-13    92550     A\n",
      "744       3668308183   888512513 2019-08-27    86620     B\n",
      "682       1216533772  4266935830 2019-08-29    78990     B\n",
      "662       1811671147  4266935830 2019-08-29    78990     A\n",
      "743       3603576309  4133034833 2019-08-09    67990     A\n",
      "1103      1348774318  1164614297 2019-08-12    66350     A\n",
      "1099       316924019   148427295 2019-08-12    65710     A\n"
     ]
    },
    {
     "data": {
      "image/png": "[encoded data removed]",
      "text/plain": [
       "<Figure size 1080x720 with 1 Axes>"
      ]
     },
     "metadata": {
      "needs_background": "light"
     },
     "output_type": "display_data"
    }
   ],
   "source": [
    "print(orders.sort_values(by='revenue', ascending=False).head(10))\n",
    "\n",
    "x_values = pd.Series(range(0, len(orders['revenue'])))\n",
    "plt.figure(figsize=(15, 10))\n",
    "plt.scatter(x_values, orders['revenue'], alpha=0.5) \n",
    "plt.title('Точечный график стоимостей заказов', fontsize=14)\n",
    "plt.ylabel('Стоимость, ₽', fontsize=12)\n",
    "plt.ylim(0, 210000)\n",
    "plt.show()\n"
   ]
  },
  {
   "cell_type": "markdown",
   "metadata": {},
   "source": [
    "Основная масса заказов лежит в диапазоне до 75000 руб."
   ]
  },
  {
   "cell_type": "markdown",
   "metadata": {},
   "source": [
    "### 95-й и 99-й перцентили стоимости заказов. Граница для определения аномальных заказов"
   ]
  },
  {
   "cell_type": "code",
   "execution_count": 47,
   "metadata": {},
   "outputs": [
    {
     "name": "stdout",
     "output_type": "stream",
     "text": [
      "[28000.  58233.2]\n"
     ]
    }
   ],
   "source": [
    "print(np.percentile(orders['revenue'], [95, 99])) "
   ]
  },
  {
   "cell_type": "markdown",
   "metadata": {},
   "source": [
    "Стоимость более 28000 руб. имеют не более 5% заказов, стоимость более 58233,2 руб. - не более 1% заказа"
   ]
  },
  {
   "cell_type": "markdown",
   "metadata": {},
   "source": [
    "### Cтатистическая значимость различий в среднем количестве заказов на посетителя между группами по «сырым» данным"
   ]
  },
  {
   "cell_type": "code",
   "execution_count": 48,
   "metadata": {},
   "outputs": [
    {
     "name": "stdout",
     "output_type": "stream",
     "text": [
      "        date  ordersPerDateA  revenuePerDateA  ordersPerDateB  \\\n",
      "0 2019-08-01              24           148579              21   \n",
      "1 2019-08-02              20            93822              24   \n",
      "2 2019-08-03              24           112473              16   \n",
      "3 2019-08-04              16            70825              17   \n",
      "4 2019-08-05              25           124218              23   \n",
      "\n",
      "   revenuePerDateB  ordersCummulativeA  revenueCummulativeA  \\\n",
      "0           101217                  24               148579   \n",
      "1           165531                  44               242401   \n",
      "2           114248                  68               354874   \n",
      "3           108571                  84               425699   \n",
      "4            92428                 109               549917   \n",
      "\n",
      "   ordersCummulativeB  revenueCummulativeB  visitorsPerDateA  \\\n",
      "0                  21               101217               719   \n",
      "1                  45               266748               619   \n",
      "2                  61               380996               507   \n",
      "3                  78               489567               717   \n",
      "4                 101               581995               756   \n",
      "\n",
      "   visitorsPerDateB  visitorsCummulativeA  visitorsCummulativeB  \n",
      "0               713                   719                   713  \n",
      "1               581                  1338                  1294  \n",
      "2               509                  1845                  1803  \n",
      "3               770                  2562                  2573  \n",
      "4               707                  3318                  3280  \n",
      "0.017\n",
      "0.138\n"
     ]
    }
   ],
   "source": [
    "visitorsADaily = visitors[visitors['group'] == 'A'][['date', 'visitors']]\n",
    "visitorsADaily.columns = ['date', 'visitorsPerDateA']\n",
    "\n",
    "visitorsACummulative = visitorsADaily.apply(\n",
    "    lambda x: visitorsADaily[visitorsADaily['date'] <= x['date']].agg(\n",
    "        {'date': 'max', 'visitorsPerDateA': 'sum'}\n",
    "    ),\n",
    "    axis=1,\n",
    ")\n",
    "visitorsACummulative.columns = ['date', 'visitorsCummulativeA']\n",
    "\n",
    "visitorsBDaily = visitors[visitors['group'] == 'B'][['date', 'visitors']]\n",
    "visitorsBDaily.columns = ['date', 'visitorsPerDateB']\n",
    "\n",
    "visitorsBCummulative = visitorsBDaily.apply(\n",
    "    lambda x: visitorsBDaily[visitorsBDaily['date'] <= x['date']].agg(\n",
    "        {'date': 'max', 'visitorsPerDateB': 'sum'}\n",
    "    ),\n",
    "    axis=1,\n",
    ")\n",
    "visitorsBCummulative.columns = ['date', 'visitorsCummulativeB']\n",
    "\n",
    "ordersADaily = (\n",
    "    orders[orders['group'] == 'A'][['date', 'transaction_id', 'visitor_id', 'revenue']]\n",
    "    .groupby('date', as_index=False)\n",
    "    .agg({'transaction_id': pd.Series.nunique, 'revenue': 'sum'})\n",
    ")\n",
    "ordersADaily.columns = ['date', 'ordersPerDateA', 'revenuePerDateA']\n",
    "\n",
    "ordersACummulative = ordersADaily.apply(\n",
    "    lambda x: ordersADaily[ordersADaily['date'] <= x['date']].agg(\n",
    "        {'date': 'max', 'ordersPerDateA': 'sum', 'revenuePerDateA': 'sum'}\n",
    "    ),\n",
    "    axis=1,\n",
    ").sort_values(by=['date'])\n",
    "ordersACummulative.columns = [\n",
    "    'date',\n",
    "    'ordersCummulativeA',\n",
    "    'revenueCummulativeA',\n",
    "]\n",
    "\n",
    "ordersBDaily = (\n",
    "    orders[orders['group'] == 'B'][['date', 'transaction_id', 'visitor_id', 'revenue']]\n",
    "    .groupby('date', as_index=False)\n",
    "    .agg({'transaction_id': pd.Series.nunique, 'revenue': 'sum'})\n",
    ")\n",
    "ordersBDaily.columns = ['date', 'ordersPerDateB', 'revenuePerDateB']\n",
    "\n",
    "ordersBCummulative = ordersBDaily.apply(\n",
    "    lambda x: ordersBDaily[ordersBDaily['date'] <= x['date']].agg(\n",
    "        {'date': 'max', 'ordersPerDateB': 'sum', 'revenuePerDateB': 'sum'}\n",
    "    ),\n",
    "    axis=1,\n",
    ").sort_values(by=['date'])\n",
    "ordersBCummulative.columns = [\n",
    "    'date',\n",
    "    'ordersCummulativeB',\n",
    "    'revenueCummulativeB',\n",
    "]\n",
    "\n",
    "data = (\n",
    "    ordersADaily.merge(\n",
    "        ordersBDaily, left_on='date', right_on='date', how='left'\n",
    "    )\n",
    "    .merge(ordersACummulative, left_on='date', right_on='date', how='left')\n",
    "    .merge(ordersBCummulative, left_on='date', right_on='date', how='left')\n",
    "    .merge(visitorsADaily, left_on='date', right_on='date', how='left')\n",
    "    .merge(visitorsBDaily, left_on='date', right_on='date', how='left')\n",
    "    .merge(visitorsACummulative, left_on='date', right_on='date', how='left')\n",
    "    .merge(visitorsBCummulative, left_on='date', right_on='date', how='left')\n",
    ")\n",
    "\n",
    "print(data.head(5))\n",
    "ordersByUsersA = (\n",
    "    orders[orders['group'] == 'A']\n",
    "    .groupby('visitor_id', as_index=False)\n",
    "    .agg({'transaction_id': pd.Series.nunique})\n",
    ")\n",
    "ordersByUsersA.columns = ['user_id', 'orders']\n",
    "\n",
    "ordersByUsersB = (\n",
    "    orders[orders['group'] == 'B']\n",
    "    .groupby('visitor_id', as_index=False)\n",
    "    .agg({'transaction_id': pd.Series.nunique})\n",
    ")\n",
    "ordersByUsersB.columns = ['user_id', 'orders']\n",
    "sampleA = pd.concat([ordersByUsersA['orders'],pd.Series(0, index=np.arange(data['visitorsPerDateA'].sum() - len(ordersByUsersA['orders'])), name='orders')],axis=0)\n",
    "\n",
    "sampleB = pd.concat([ordersByUsersB['orders'],pd.Series(0, index=np.arange(data['visitorsPerDateB'].sum() - len(ordersByUsersB['orders'])), name='orders')],axis=0) \n",
    "print(\"{0:.3f}\".format(stats.mannwhitneyu(sampleA, sampleB)[1]))\n",
    "\n",
    "print(\"{0:.3f}\".format(sampleB.mean() / sampleA.mean() - 1))\n",
    "\n"
   ]
  },
  {
   "cell_type": "markdown",
   "metadata": {},
   "source": [
    "Сформулируем гипотезы. \n",
    "\n",
    "Нулевая: различий в среднем количестве заказов между группами нет. \n",
    "\n",
    "Альтернативная: различия в среднем между группами есть.\n",
    "\n",
    "P-value меньше 0,05, значит нулевую гипотезу отвергаем. Анализ \"сырых\" данных сообщает, что в среднем количестве заказов между группами есть статистически значимые различия.\n",
    "Относительный прирост конверсии группы В относительно конверсии группы А - 13,8%."
   ]
  },
  {
   "cell_type": "markdown",
   "metadata": {},
   "source": [
    "### Cтатистическая значимость различий в среднем чеке заказа между группами по «сырым» данным"
   ]
  },
  {
   "cell_type": "code",
   "execution_count": 49,
   "metadata": {},
   "outputs": [
    {
     "name": "stdout",
     "output_type": "stream",
     "text": [
      "0.729\n",
      "0.259\n"
     ]
    }
   ],
   "source": [
    "print('{0:.3f}'.format(stats.mannwhitneyu(orders[orders['group']=='A']['revenue'], orders[orders['group']=='B']['revenue'])[1]))\n",
    "print('{0:.3f}'.format(orders[orders['group']=='B']['revenue'].mean()/orders[orders['group']=='A']['revenue'].mean()-1))"
   ]
  },
  {
   "cell_type": "markdown",
   "metadata": {},
   "source": [
    "Сформулируем гипотезы. \n",
    "\n",
    "Нулевая: различий в среднем чеке заказа между группами нет. \n",
    "\n",
    "Альтернативная: различия в среднем чеке заказа между группами есть.\n",
    "\n",
    "P-value больше 0,05, значит отвергнуть нулевую гипотезу нет оснований. \n",
    "Относительное различие среднего чека между группой В и группой А - 25,9%. Средний чек группы В больше."
   ]
  },
  {
   "cell_type": "markdown",
   "metadata": {},
   "source": [
    "### Статистическая значимость различий в среднем количестве заказов на посетителя между группами по «очищенным» данным"
   ]
  },
  {
   "cell_type": "code",
   "execution_count": 50,
   "metadata": {},
   "outputs": [
    {
     "name": "stdout",
     "output_type": "stream",
     "text": [
      "1099     148427295\n",
      "949      887908475\n",
      "744      888512513\n",
      "1103    1164614297\n",
      "1136    1307669133\n",
      "dtype: int64\n",
      "15\n"
     ]
    }
   ],
   "source": [
    "usersWithManyOrders = pd.concat(\n",
    "    [\n",
    "        ordersByUsersA[ordersByUsersA['orders'] > np.percentile(ordersByUsers['orders'], 99)]['user_id'],\n",
    "        ordersByUsersB[ordersByUsersB['orders'] > np.percentile(ordersByUsers['orders'], 99)]['user_id'],\n",
    "    ],\n",
    "    axis=0,\n",
    ")\n",
    "usersWithExpensiveOrders = orders[orders['revenue'] > np.percentile(orders['revenue'], 99)]['visitor_id']\n",
    "abnormalUsers = (\n",
    "    pd.concat([usersWithManyOrders, usersWithExpensiveOrders], axis=0)\n",
    "    .drop_duplicates()\n",
    "    .sort_values()\n",
    ")\n",
    "print(abnormalUsers.head(5))\n",
    "print(abnormalUsers.shape[0]) \n",
    "\n"
   ]
  },
  {
   "cell_type": "markdown",
   "metadata": {},
   "source": [
    "Вывлено 15 аномальных пользователей."
   ]
  },
  {
   "cell_type": "code",
   "execution_count": 51,
   "metadata": {},
   "outputs": [
    {
     "name": "stdout",
     "output_type": "stream",
     "text": [
      "0.014\n",
      "0.153\n"
     ]
    }
   ],
   "source": [
    "sampleAFiltered = pd.concat(\n",
    "    [\n",
    "        ordersByUsersA[\n",
    "            np.logical_not(ordersByUsersA['user_id'].isin(abnormalUsers))\n",
    "        ]['orders'],\n",
    "        pd.Series(\n",
    "            0,\n",
    "            index=np.arange(\n",
    "                data['visitorsPerDateA'].sum() - len(ordersByUsersA['orders'])\n",
    "            ),\n",
    "            name='orders',\n",
    "        ),\n",
    "    ],\n",
    "    axis=0,\n",
    ")\n",
    "\n",
    "sampleBFiltered = pd.concat(\n",
    "    [\n",
    "        ordersByUsersB[\n",
    "            np.logical_not(ordersByUsersB['user_id'].isin(abnormalUsers))\n",
    "        ]['orders'],\n",
    "        pd.Series(\n",
    "            0,\n",
    "            index=np.arange(\n",
    "                data['visitorsPerDateB'].sum() - len(ordersByUsersB['orders'])\n",
    "            ),\n",
    "            name='orders',\n",
    "        ),\n",
    "    ],\n",
    "    axis=0,\n",
    ")\n",
    "print('{0:.3f}'.format(stats.mannwhitneyu(sampleAFiltered, sampleBFiltered)[1]))\n",
    "print('{0:.3f}'.format(sampleBFiltered.mean()/sampleAFiltered.mean()-1))"
   ]
  },
  {
   "cell_type": "markdown",
   "metadata": {},
   "source": [
    "Сформулируем гипотезы. \n",
    "\n",
    "Нулевая: различий в среднем количестве заказов между группами нет. \n",
    "\n",
    "Альтернативная: различия в среднем между группами есть.\n",
    "\n",
    "P-value по \"очищенным\" данным меньше 0,05, значит нулевую гипотезу отвергаем. Анализ \"очищенных\" данных сообщает, что в среднем количестве заказов между группами есть статистически значимые различия.\n",
    "Относительный прирост конверсии группы В относительно конверсии группы А - 15,3%.\n",
    "Результаты по \"очищенным\" данным не сильно отличаются от результатов по \"сырым\" данным."
   ]
  },
  {
   "cell_type": "markdown",
   "metadata": {},
   "source": [
    "### Статистическая значимость различий в среднем чеке заказа между группами по «очищенным» данным"
   ]
  },
  {
   "cell_type": "code",
   "execution_count": 52,
   "metadata": {},
   "outputs": [
    {
     "name": "stdout",
     "output_type": "stream",
     "text": [
      "0.851\n",
      "-0.006\n"
     ]
    }
   ],
   "source": [
    "print('{0:.3f}'.format(\n",
    "    stats.mannwhitneyu(orders[np.logical_and(orders['group'] == 'A', np.logical_not(orders['visitor_id'].isin(abnormalUsers)),\n",
    "                )]['revenue'],orders[np.logical_and(orders['group'] == 'B',np.logical_not(orders['visitor_id'].isin(abnormalUsers)),\n",
    "                )]['revenue'],)[1])\n",
    ")\n",
    "\n",
    "print(\"{0:.3f}\".format(\n",
    "        orders[np.logical_and(orders['group'] == 'B',np.logical_not(orders['visitor_id'].isin(abnormalUsers)),)]['revenue'].mean()\n",
    "        / orders[ np.logical_and(orders['group'] == 'A',np.logical_not(orders['visitor_id'].isin(abnormalUsers)),)]['revenue'].mean() - 1)\n",
    ")"
   ]
  },
  {
   "cell_type": "markdown",
   "metadata": {},
   "source": [
    "Сформулируем гипотезы. \n",
    "\n",
    "Нулевая: различий в среднем чеке заказа между группами нет. \n",
    "\n",
    "Альтернативная: различия в среднем чеке заказа между группами есть.\n",
    "\n",
    "P-value по \"очищенным\" данным больше 0,05, значит отвергнуть нулевую гипотезу мы не можем. \n",
    "Относительное различие среднего чека между группой В и группой А - -0,6%. Средний чек группы А больше, чем группы В. При анализе \"сырых\" данных было наоборот."
   ]
  },
  {
   "cell_type": "markdown",
   "metadata": {},
   "source": [
    "## Вывод"
   ]
  },
  {
   "cell_type": "markdown",
   "metadata": {},
   "source": [
    "1. В файле, содержащем данные о гипотезах, присутствуют 9 гипотез. В процессе приоритизации гипотез выявлены наиболее перспективные по ICE: 8 - запустить акцию, дающую скидку на товар в день рождения,\n",
    "\n",
    "          0 - добавить два новых канала привлечения трафика, что позволит привлекать на 30% больше пользователей, \n",
    "\n",
    "          7 - добавить форму подписки на все основные страницы, чтобы собрать базу клиентов для email-рассылок, \n",
    "\n",
    "          6 - показать на главной странице баннеры с актуальными акциями и распродажами, чтобы увеличить конверсию\n",
    "    по RICE: 7 - добавить форму подписки на все основные страницы, чтобы собрать базу клиентов для email-рассылок, \n",
    "\n",
    " 2 - добавить блоки рекомендаций товаров на сайт интернет магазина, чтобы повысить конверсию и средний чек заказа, \n",
    "\n",
    " 0 - добавить два новых канала привлечения трафика, что позволит привлекать на 30% больше пользователей, \n",
    "\n",
    " 6 - показать на главной странице баннеры с актуальными акциями и распродажами, чтобы увеличить конверсию\n",
    " На первом месте по RICE стоит гипотеза 7 (добавить форму подписки на все основные страницы, чтобы собрать базу клиентов для email-рассылок). Фрейморк RICE учитывает параметр REACH, а он у 7-й гипотезы - максимален. 7-я гипотеза затронет наибольшее количество пользователей.\n",
    "\n",
    "2. На графике кумулятивной выручке по группам видно, что во второй половине теста сегмент В вырвался вперед и стал лидировать. Возможно, что на это повляли аномально большие заказы.\n",
    "\n",
    "3. Похожая картинка и на графике кумулятиного среднего чека по группам. Во второй половине теста сегмент В вырвался вперед. Скорее всего на это также повлияли аномально большие заказы.\n",
    "\n",
    "4. На графике относительного изменения кумулятивного среднего чека группы B к группе A видно, что результаты теста резко менялись несколько раз. Возможно в эти даты были аномально большие заказы. График относительного изменения кумулятивного среднего чека группы B к группе A в течение всего периода (кроме 1.08 и 12-14.08) расположен выше 0. Это свидетельствует о том, что кумулятивный средний чек группы В на протяжении всего периода больше среднего чека группы А\n",
    "\n",
    "5. График кумулятивного среднего количества заказов на посетителя по группам показывает, что в начале теста сегмент А имел большее кумулятивное среднее количество заказов, однако впоследствии сегмент В выровнялся и зафиксировался примерно на одном значении, большем значения сегмента А.\n",
    "\n",
    "6. На графике относительного изменения кумулятивного среднего количества заказов на посетителя группы B к группе A видно, что в начале теста сегмент В проигрывал А, но потом вырвался вперед и стабилизировался на уровне 10-20%.\n",
    "\n",
    "7. Исходя из точечного графика количества заказов по пользователям можно сделать вывод, что основная масса пользователей сделало 1 заказ. Однако есть группа пользователей, совершивших от 2 до 4 заказов.\n",
    "\n",
    "8. Не более 5% пользователей совершили более 2 заказов и не более 1% - более 4. Соответственно будем считать нижней границей 4 заказа на одного пользователя. Все остальное - аномальное количество.\n",
    "\n",
    "9. На основании точечного графика стоимостей заказов можно сделать вывод, что основная масса заказов лежит в диапазоне до 75000 руб.\n",
    "\n",
    "10. Стоимость более 28000 руб. имеют не более 5% заказов, стоимость более 58233,2 руб. - не более 1% заказа.  Диапазон фильтрации выбросов: стоимость заказа более 58233,2руб.\n",
    "\n",
    "11. Анализируя \"сырые\" данные, сформулированы гипотезы.\n",
    "\n",
    "Нулевая: различий в среднем количестве заказов между группами нет.\n",
    "\n",
    "Альтернативная: различия в среднем между группами есть.\n",
    "\n",
    "P-value меньше 0,05, значит нулевую гипотезу отвергаем. Анализ \"сырых\" данных сообщает, что в среднем количестве заказов между группами есть статистически значимые различия. Относительный прирост конверсии группы В относительно конверсии группы А - 13,8%.\n",
    "\n",
    "12. Анализируя \"сырые\" данные, сформулированы гипотезы.\n",
    "\n",
    "Нулевая: различий в среднем чеке заказа между группами нет.\n",
    "\n",
    "Альтернативная: различия в среднем чеке заказа между группами есть.\n",
    "\n",
    "P-value больше 0,05, значит отвергнуть нулевую гипотезу нет оснований. Относительное различие среднего чека между группой В и группой А - 25,9%. Средний чек группы В больше.\n",
    "\n",
    "13. Анализируя \"очищенные\" данные, сформулированы гипотезы.\n",
    "\n",
    "Нулевая: различий в среднем количестве заказов между группами нет.\n",
    "\n",
    "Альтернативная: различия в среднем между группами есть.\n",
    "\n",
    "P-value по \"очищенным\" данным меньше 0,05, значит нулевую гипотезу отвергаем. Анализ \"очищенных\" данных сообщает, что в среднем количестве заказов между группами есть статистически значимые различия. Относительный прирост конверсии группы В относительно конверсии группы А - 15,3%. Результаты по \"очищенным\" данным не сильно отличаются от результатов по \"сырым\" данным.\n",
    "\n",
    "14. Анализируя \"очищенные\" данные, сформулированы гипотезы.\n",
    "\n",
    "Нулевая: различий в среднем чеке заказа между группами нет.\n",
    "\n",
    "Альтернативная: различия в среднем чеке заказа между группами есть.\n",
    "\n",
    "P-value по \"очищенным\" данным больше 0,05, значит отвергнуть нулевую гипотезу мы не можем. Относительное различие среднего чека между группой В и группой А - -0,6%. Средний чек группы А больше, чем группы В. При анализе \"сырых\" данных было наоборот.\n",
    "\n",
    "15. Основываясь на полученных данных, считаю, что тест нужно остановить, зафиксировав победу группы В. Относительный прирост конверсии группы В относительно конверсии группы А по \"сырым\" данным - 13,8%, по \"очищенным\" - 15,3%. Все графики подтверждают превосходство группы В над группой А. Не смотря на то, что по \"очищенным\" данным средний чек группы А больше, чем группы В, я считаю, что остальные показатели доказывают лидирующее положение группы В на протяжении теста.\n"
   ]
  },
  {
   "cell_type": "markdown",
   "metadata": {},
   "source": []
  }
 ],
 "metadata": {
  "ExecuteTimeLog": [
   {
    "duration": 473,
    "start_time": "2024-12-21T15:24:18.222Z"
   },
   {
    "duration": 30,
    "start_time": "2024-12-21T15:24:30.811Z"
   },
   {
    "duration": 30,
    "start_time": "2024-12-21T15:24:39.586Z"
   },
   {
    "duration": 31,
    "start_time": "2024-12-21T15:24:48.526Z"
   },
   {
    "duration": 31,
    "start_time": "2024-12-21T15:24:57.937Z"
   },
   {
    "duration": 36,
    "start_time": "2024-12-21T15:25:08.770Z"
   },
   {
    "duration": 36,
    "start_time": "2024-12-21T15:25:29.604Z"
   },
   {
    "duration": 981,
    "start_time": "2024-12-21T15:26:04.664Z"
   },
   {
    "duration": 12,
    "start_time": "2024-12-21T15:27:35.657Z"
   },
   {
    "duration": 8,
    "start_time": "2024-12-21T15:27:47.471Z"
   },
   {
    "duration": 8,
    "start_time": "2024-12-21T15:31:01.756Z"
   },
   {
    "duration": 36,
    "start_time": "2024-12-21T15:42:08.629Z"
   },
   {
    "duration": 33,
    "start_time": "2024-12-21T15:42:30.873Z"
   },
   {
    "duration": 38,
    "start_time": "2024-12-21T15:42:56.451Z"
   },
   {
    "duration": 107,
    "start_time": "2024-12-21T15:55:30.608Z"
   },
   {
    "duration": 79,
    "start_time": "2024-12-21T15:56:12.620Z"
   },
   {
    "duration": 2,
    "start_time": "2024-12-21T15:59:00.053Z"
   },
   {
    "duration": 36,
    "start_time": "2024-12-21T15:59:01.975Z"
   },
   {
    "duration": 8,
    "start_time": "2024-12-21T15:59:04.145Z"
   },
   {
    "duration": 8,
    "start_time": "2024-12-21T15:59:06.062Z"
   },
   {
    "duration": 58,
    "start_time": "2024-12-21T15:59:09.307Z"
   },
   {
    "duration": 25,
    "start_time": "2024-12-21T15:59:10.208Z"
   },
   {
    "duration": 56,
    "start_time": "2024-12-21T16:00:14.481Z"
   },
   {
    "duration": 36,
    "start_time": "2024-12-21T16:00:30.104Z"
   },
   {
    "duration": 54,
    "start_time": "2024-12-21T16:01:13.007Z"
   },
   {
    "duration": 71,
    "start_time": "2024-12-21T16:01:33.500Z"
   },
   {
    "duration": 91,
    "start_time": "2024-12-21T16:02:24.585Z"
   },
   {
    "duration": 52,
    "start_time": "2024-12-21T16:02:33.648Z"
   },
   {
    "duration": 67,
    "start_time": "2024-12-21T16:02:48.051Z"
   },
   {
    "duration": 3,
    "start_time": "2024-12-21T16:03:19.201Z"
   },
   {
    "duration": 36,
    "start_time": "2024-12-21T16:03:19.965Z"
   },
   {
    "duration": 10,
    "start_time": "2024-12-21T16:03:21.152Z"
   },
   {
    "duration": 11,
    "start_time": "2024-12-21T16:03:23.754Z"
   },
   {
    "duration": 80,
    "start_time": "2024-12-21T16:03:26.018Z"
   },
   {
    "duration": 51,
    "start_time": "2024-12-21T16:03:39.142Z"
   },
   {
    "duration": 277,
    "start_time": "2024-12-21T16:04:14.558Z"
   },
   {
    "duration": 296,
    "start_time": "2024-12-21T16:05:57.900Z"
   },
   {
    "duration": 55,
    "start_time": "2024-12-21T16:06:49.435Z"
   },
   {
    "duration": 231,
    "start_time": "2024-12-21T16:07:15.498Z"
   },
   {
    "duration": 359,
    "start_time": "2024-12-22T07:54:08.682Z"
   },
   {
    "duration": 95,
    "start_time": "2024-12-22T07:54:10.197Z"
   },
   {
    "duration": 9,
    "start_time": "2024-12-22T07:54:11.202Z"
   },
   {
    "duration": 8,
    "start_time": "2024-12-22T07:54:12.610Z"
   },
   {
    "duration": 96,
    "start_time": "2024-12-22T07:54:14.915Z"
   },
   {
    "duration": 283,
    "start_time": "2024-12-22T07:54:16.061Z"
   },
   {
    "duration": 57,
    "start_time": "2024-12-22T07:56:22.714Z"
   },
   {
    "duration": 15,
    "start_time": "2024-12-22T07:56:40.112Z"
   },
   {
    "duration": 77,
    "start_time": "2024-12-22T07:57:41.608Z"
   },
   {
    "duration": 26,
    "start_time": "2024-12-22T08:34:46.960Z"
   },
   {
    "duration": 390,
    "start_time": "2024-12-22T08:38:50.584Z"
   },
   {
    "duration": 1,
    "start_time": "2024-12-22T08:46:06.782Z"
   },
   {
    "duration": 6,
    "start_time": "2024-12-22T08:46:18.955Z"
   },
   {
    "duration": 36,
    "start_time": "2024-12-22T08:46:20.301Z"
   },
   {
    "duration": 6,
    "start_time": "2024-12-22T08:46:21.192Z"
   },
   {
    "duration": 258,
    "start_time": "2024-12-22T08:46:22.118Z"
   },
   {
    "duration": 6,
    "start_time": "2024-12-22T08:47:24.473Z"
   },
   {
    "duration": 278,
    "start_time": "2024-12-22T08:47:25.431Z"
   },
   {
    "duration": 257,
    "start_time": "2024-12-22T08:50:57.931Z"
   },
   {
    "duration": 20,
    "start_time": "2024-12-22T08:53:41.855Z"
   },
   {
    "duration": 240,
    "start_time": "2024-12-22T08:54:40.569Z"
   },
   {
    "duration": 3,
    "start_time": "2024-12-22T10:56:51.186Z"
   },
   {
    "duration": 69,
    "start_time": "2024-12-22T10:56:51.255Z"
   },
   {
    "duration": 59,
    "start_time": "2024-12-22T10:57:00.501Z"
   },
   {
    "duration": 2,
    "start_time": "2024-12-22T10:57:04.529Z"
   },
   {
    "duration": 60,
    "start_time": "2024-12-22T10:57:05.774Z"
   },
   {
    "duration": 286,
    "start_time": "2024-12-22T10:57:21.330Z"
   },
   {
    "duration": 249,
    "start_time": "2024-12-22T10:57:52.879Z"
   },
   {
    "duration": 2,
    "start_time": "2024-12-22T10:58:21.962Z"
   },
   {
    "duration": 36,
    "start_time": "2024-12-22T10:58:22.555Z"
   },
   {
    "duration": 7,
    "start_time": "2024-12-22T10:58:23.368Z"
   },
   {
    "duration": 8,
    "start_time": "2024-12-22T10:58:25.225Z"
   },
   {
    "duration": 56,
    "start_time": "2024-12-22T10:58:27.861Z"
   },
   {
    "duration": 3,
    "start_time": "2024-12-22T10:58:29.385Z"
   },
   {
    "duration": 216,
    "start_time": "2024-12-22T10:58:31.211Z"
   },
   {
    "duration": 212,
    "start_time": "2024-12-22T10:59:00.354Z"
   },
   {
    "duration": 12,
    "start_time": "2024-12-22T11:00:18.423Z"
   },
   {
    "duration": 35,
    "start_time": "2024-12-22T11:00:26.060Z"
   },
   {
    "duration": 2,
    "start_time": "2024-12-22T11:00:37.088Z"
   },
   {
    "duration": 236,
    "start_time": "2024-12-22T11:00:56.791Z"
   },
   {
    "duration": 35,
    "start_time": "2024-12-22T11:01:03.535Z"
   },
   {
    "duration": 2,
    "start_time": "2024-12-22T11:01:04.546Z"
   },
   {
    "duration": 260,
    "start_time": "2024-12-22T11:01:05.676Z"
   },
   {
    "duration": 4,
    "start_time": "2024-12-22T11:01:26.076Z"
   },
   {
    "duration": 257,
    "start_time": "2024-12-22T11:01:30.504Z"
   },
   {
    "duration": 270,
    "start_time": "2024-12-22T11:02:03.373Z"
   },
   {
    "duration": 11,
    "start_time": "2024-12-22T11:03:33.853Z"
   },
   {
    "duration": 360,
    "start_time": "2024-12-22T11:03:59.832Z"
   },
   {
    "duration": 41,
    "start_time": "2024-12-22T11:04:01.041Z"
   },
   {
    "duration": 8,
    "start_time": "2024-12-22T11:04:01.926Z"
   },
   {
    "duration": 8,
    "start_time": "2024-12-22T11:04:03.196Z"
   },
   {
    "duration": 56,
    "start_time": "2024-12-22T11:04:04.502Z"
   },
   {
    "duration": 12,
    "start_time": "2024-12-22T11:04:05.198Z"
   },
   {
    "duration": 36,
    "start_time": "2024-12-22T11:04:05.779Z"
   },
   {
    "duration": 4,
    "start_time": "2024-12-22T11:04:07.804Z"
   },
   {
    "duration": 261,
    "start_time": "2024-12-22T11:04:07.934Z"
   },
   {
    "duration": 283,
    "start_time": "2024-12-22T11:04:10.216Z"
   },
   {
    "duration": 22,
    "start_time": "2024-12-22T11:08:52.557Z"
   },
   {
    "duration": 18,
    "start_time": "2024-12-22T11:09:00.421Z"
   },
   {
    "duration": 147,
    "start_time": "2024-12-22T11:11:40.275Z"
   },
   {
    "duration": 344,
    "start_time": "2024-12-22T11:16:38.506Z"
   },
   {
    "duration": 260,
    "start_time": "2024-12-22T11:49:54.112Z"
   },
   {
    "duration": 131,
    "start_time": "2024-12-22T11:51:37.585Z"
   },
   {
    "duration": 260,
    "start_time": "2024-12-22T11:52:44.122Z"
   },
   {
    "duration": 271,
    "start_time": "2024-12-22T11:52:57.476Z"
   },
   {
    "duration": 167,
    "start_time": "2024-12-22T11:53:45.147Z"
   },
   {
    "duration": 136,
    "start_time": "2024-12-22T12:01:13.865Z"
   },
   {
    "duration": 319,
    "start_time": "2024-12-22T12:02:27.046Z"
   },
   {
    "duration": 276,
    "start_time": "2024-12-22T12:02:55.188Z"
   },
   {
    "duration": 304,
    "start_time": "2024-12-22T12:03:41.854Z"
   },
   {
    "duration": 258,
    "start_time": "2024-12-22T12:07:02.517Z"
   },
   {
    "duration": 174,
    "start_time": "2024-12-22T12:07:50.524Z"
   },
   {
    "duration": 176,
    "start_time": "2024-12-22T12:08:05.912Z"
   },
   {
    "duration": 199,
    "start_time": "2024-12-22T12:08:20.028Z"
   },
   {
    "duration": 223,
    "start_time": "2024-12-22T12:08:45.585Z"
   },
   {
    "duration": 241,
    "start_time": "2024-12-22T12:09:13.035Z"
   },
   {
    "duration": 183,
    "start_time": "2024-12-22T12:10:02.973Z"
   },
   {
    "duration": 233,
    "start_time": "2024-12-22T12:10:12.048Z"
   },
   {
    "duration": 223,
    "start_time": "2024-12-22T12:10:47.585Z"
   },
   {
    "duration": 220,
    "start_time": "2024-12-22T12:11:11.141Z"
   },
   {
    "duration": 334,
    "start_time": "2024-12-22T12:12:20.912Z"
   },
   {
    "duration": 383,
    "start_time": "2024-12-22T12:13:11.019Z"
   },
   {
    "duration": 312,
    "start_time": "2024-12-22T12:21:01.870Z"
   },
   {
    "duration": 371,
    "start_time": "2024-12-22T12:21:54.627Z"
   },
   {
    "duration": 380,
    "start_time": "2024-12-22T12:23:07.830Z"
   },
   {
    "duration": 367,
    "start_time": "2024-12-22T12:23:33.234Z"
   },
   {
    "duration": 248,
    "start_time": "2024-12-22T12:23:50.102Z"
   },
   {
    "duration": 261,
    "start_time": "2024-12-22T12:24:06.187Z"
   },
   {
    "duration": 332,
    "start_time": "2024-12-22T12:25:14.579Z"
   },
   {
    "duration": 274,
    "start_time": "2024-12-22T12:29:35.202Z"
   },
   {
    "duration": 225,
    "start_time": "2024-12-22T12:30:07.795Z"
   },
   {
    "duration": 345,
    "start_time": "2024-12-22T12:30:40.704Z"
   },
   {
    "duration": 355,
    "start_time": "2024-12-22T12:33:26.350Z"
   },
   {
    "duration": 326,
    "start_time": "2024-12-22T12:33:44.907Z"
   },
   {
    "duration": 49,
    "start_time": "2024-12-23T15:33:37.906Z"
   },
   {
    "duration": 781,
    "start_time": "2024-12-23T15:33:55.903Z"
   },
   {
    "duration": 101,
    "start_time": "2024-12-23T15:33:58.065Z"
   },
   {
    "duration": 10,
    "start_time": "2024-12-23T15:33:58.575Z"
   },
   {
    "duration": 8,
    "start_time": "2024-12-23T15:33:59.581Z"
   },
   {
    "duration": 101,
    "start_time": "2024-12-23T15:34:01.035Z"
   },
   {
    "duration": 18,
    "start_time": "2024-12-23T15:34:01.561Z"
   },
   {
    "duration": 11,
    "start_time": "2024-12-23T15:34:02.039Z"
   },
   {
    "duration": 84,
    "start_time": "2024-12-23T15:34:02.548Z"
   },
   {
    "duration": 4,
    "start_time": "2024-12-23T15:34:02.633Z"
   },
   {
    "duration": 276,
    "start_time": "2024-12-23T15:34:03.633Z"
   },
   {
    "duration": 312,
    "start_time": "2024-12-23T15:34:04.205Z"
   },
   {
    "duration": 234,
    "start_time": "2024-12-23T15:34:05.768Z"
   },
   {
    "duration": 395,
    "start_time": "2024-12-23T15:34:07.453Z"
   },
   {
    "duration": 276,
    "start_time": "2024-12-23T15:34:09.123Z"
   },
   {
    "duration": 324,
    "start_time": "2024-12-23T15:34:11.009Z"
   },
   {
    "duration": 106,
    "start_time": "2024-12-23T15:34:12.717Z"
   },
   {
    "duration": 143,
    "start_time": "2024-12-23T15:35:38.890Z"
   },
   {
    "duration": 184,
    "start_time": "2024-12-23T15:36:05.591Z"
   },
   {
    "duration": 166,
    "start_time": "2024-12-23T15:38:40.343Z"
   },
   {
    "duration": 159,
    "start_time": "2024-12-23T15:39:49.920Z"
   },
   {
    "duration": 7,
    "start_time": "2024-12-23T15:44:22.503Z"
   },
   {
    "duration": 4,
    "start_time": "2024-12-23T15:44:43.092Z"
   },
   {
    "duration": 944,
    "start_time": "2024-12-23T15:49:21.618Z"
   },
   {
    "duration": 115,
    "start_time": "2024-12-23T15:50:19.466Z"
   },
   {
    "duration": 169,
    "start_time": "2024-12-23T15:52:59.584Z"
   },
   {
    "duration": 174,
    "start_time": "2024-12-23T15:53:16.728Z"
   },
   {
    "duration": 169,
    "start_time": "2024-12-23T15:53:32.383Z"
   },
   {
    "duration": 228,
    "start_time": "2024-12-23T15:55:19.247Z"
   },
   {
    "duration": 215,
    "start_time": "2024-12-23T15:55:59.935Z"
   },
   {
    "duration": 167,
    "start_time": "2024-12-23T15:56:20.036Z"
   },
   {
    "duration": 186,
    "start_time": "2024-12-23T15:56:47.182Z"
   },
   {
    "duration": 4,
    "start_time": "2024-12-23T16:00:15.144Z"
   },
   {
    "duration": 99,
    "start_time": "2024-12-23T16:28:55.982Z"
   },
   {
    "duration": 100,
    "start_time": "2024-12-23T16:31:25.815Z"
   },
   {
    "duration": 96,
    "start_time": "2024-12-23T16:33:07.791Z"
   },
   {
    "duration": 108,
    "start_time": "2024-12-23T16:33:56.194Z"
   },
   {
    "duration": 95,
    "start_time": "2024-12-23T16:34:20.876Z"
   },
   {
    "duration": 145,
    "start_time": "2024-12-23T16:35:25.340Z"
   },
   {
    "duration": 324,
    "start_time": "2024-12-23T16:35:57.054Z"
   },
   {
    "duration": 489,
    "start_time": "2024-12-23T16:37:59.790Z"
   },
   {
    "duration": 336,
    "start_time": "2024-12-23T16:38:08.853Z"
   },
   {
    "duration": 346,
    "start_time": "2024-12-23T16:46:32.742Z"
   },
   {
    "duration": 10,
    "start_time": "2024-12-23T16:49:27.194Z"
   },
   {
    "duration": 1028,
    "start_time": "2024-12-23T16:57:24.661Z"
   },
   {
    "duration": 966,
    "start_time": "2024-12-23T16:58:11.562Z"
   },
   {
    "duration": 1489,
    "start_time": "2024-12-23T16:59:36.915Z"
   },
   {
    "duration": 1175,
    "start_time": "2024-12-23T17:01:14.805Z"
   },
   {
    "duration": 8,
    "start_time": "2024-12-23T17:01:22.674Z"
   },
   {
    "duration": 8,
    "start_time": "2024-12-23T17:02:40.770Z"
   },
   {
    "duration": 8,
    "start_time": "2024-12-23T17:03:53.298Z"
   },
   {
    "duration": 24,
    "start_time": "2024-12-23T17:53:56.000Z"
   },
   {
    "duration": 25,
    "start_time": "2024-12-23T17:54:04.613Z"
   },
   {
    "duration": 10,
    "start_time": "2024-12-23T17:55:40.532Z"
   },
   {
    "duration": 954,
    "start_time": "2024-12-23T18:02:08.287Z"
   },
   {
    "duration": 12,
    "start_time": "2024-12-23T18:04:51.280Z"
   },
   {
    "duration": 12,
    "start_time": "2024-12-23T18:06:14.700Z"
   },
   {
    "duration": 12,
    "start_time": "2024-12-23T18:07:22.071Z"
   },
   {
    "duration": 1407,
    "start_time": "2024-12-24T15:56:59.554Z"
   },
   {
    "duration": 93,
    "start_time": "2024-12-24T15:57:02.914Z"
   },
   {
    "duration": 11,
    "start_time": "2024-12-24T15:57:03.826Z"
   },
   {
    "duration": 9,
    "start_time": "2024-12-24T15:57:05.331Z"
   },
   {
    "duration": 118,
    "start_time": "2024-12-24T15:57:08.091Z"
   },
   {
    "duration": 20,
    "start_time": "2024-12-24T15:57:08.663Z"
   },
   {
    "duration": 13,
    "start_time": "2024-12-24T15:57:09.368Z"
   },
   {
    "duration": 96,
    "start_time": "2024-12-24T15:57:10.062Z"
   },
   {
    "duration": 4,
    "start_time": "2024-12-24T15:57:10.982Z"
   },
   {
    "duration": 313,
    "start_time": "2024-12-24T15:57:12.435Z"
   },
   {
    "duration": 353,
    "start_time": "2024-12-24T15:57:13.224Z"
   },
   {
    "duration": 272,
    "start_time": "2024-12-24T15:57:16.013Z"
   },
   {
    "duration": 457,
    "start_time": "2024-12-24T15:57:18.752Z"
   },
   {
    "duration": 253,
    "start_time": "2024-12-24T15:57:21.000Z"
   },
   {
    "duration": 394,
    "start_time": "2024-12-24T15:57:23.144Z"
   },
   {
    "duration": 201,
    "start_time": "2024-12-24T15:57:25.621Z"
   },
   {
    "duration": 5,
    "start_time": "2024-12-24T15:57:28.426Z"
   },
   {
    "duration": 246,
    "start_time": "2024-12-24T15:57:30.569Z"
   },
   {
    "duration": 4,
    "start_time": "2024-12-24T15:57:38.547Z"
   },
   {
    "duration": 392,
    "start_time": "2024-12-24T15:57:40.805Z"
   },
   {
    "duration": 11,
    "start_time": "2024-12-24T15:57:43.166Z"
   },
   {
    "duration": 10,
    "start_time": "2024-12-24T15:57:45.417Z"
   },
   {
    "duration": 45,
    "start_time": "2024-12-24T15:57:46.940Z"
   },
   {
    "duration": 19,
    "start_time": "2024-12-24T15:57:50.423Z"
   },
   {
    "duration": 81,
    "start_time": "2024-12-24T16:19:59.890Z"
   },
   {
    "duration": 3,
    "start_time": "2024-12-24T17:57:14.386Z"
   },
   {
    "duration": 41,
    "start_time": "2024-12-24T17:57:15.235Z"
   },
   {
    "duration": 8,
    "start_time": "2024-12-24T17:57:16.403Z"
   },
   {
    "duration": 9,
    "start_time": "2024-12-24T17:57:18.065Z"
   },
   {
    "duration": 59,
    "start_time": "2024-12-24T17:57:20.944Z"
   },
   {
    "duration": 19,
    "start_time": "2024-12-24T17:57:21.686Z"
   },
   {
    "duration": 12,
    "start_time": "2024-12-24T17:57:22.282Z"
   },
   {
    "duration": 40,
    "start_time": "2024-12-24T17:57:22.934Z"
   },
   {
    "duration": 4,
    "start_time": "2024-12-24T17:57:23.596Z"
   },
   {
    "duration": 310,
    "start_time": "2024-12-24T17:57:24.918Z"
   },
   {
    "duration": 350,
    "start_time": "2024-12-24T17:57:25.590Z"
   },
   {
    "duration": 241,
    "start_time": "2024-12-24T17:57:28.421Z"
   },
   {
    "duration": 381,
    "start_time": "2024-12-24T17:57:30.973Z"
   },
   {
    "duration": 244,
    "start_time": "2024-12-24T17:57:33.278Z"
   },
   {
    "duration": 370,
    "start_time": "2024-12-24T17:57:35.541Z"
   },
   {
    "duration": 179,
    "start_time": "2024-12-24T17:57:37.676Z"
   },
   {
    "duration": 5,
    "start_time": "2024-12-24T17:57:40.080Z"
   },
   {
    "duration": 210,
    "start_time": "2024-12-24T17:57:42.385Z"
   },
   {
    "duration": 5,
    "start_time": "2024-12-24T17:57:44.540Z"
   },
   {
    "duration": 363,
    "start_time": "2024-12-24T17:57:46.721Z"
   },
   {
    "duration": 12,
    "start_time": "2024-12-24T17:57:48.874Z"
   },
   {
    "duration": 11,
    "start_time": "2024-12-24T17:57:51.616Z"
   },
   {
    "duration": 32,
    "start_time": "2024-12-24T17:57:52.987Z"
   },
   {
    "duration": 14,
    "start_time": "2024-12-24T17:57:55.106Z"
   },
   {
    "duration": 49,
    "start_time": "2024-12-25T15:31:43.170Z"
   },
   {
    "duration": 1299,
    "start_time": "2024-12-25T15:31:55.219Z"
   },
   {
    "duration": 95,
    "start_time": "2024-12-25T15:31:56.745Z"
   },
   {
    "duration": 92,
    "start_time": "2024-12-25T15:31:56.845Z"
   },
   {
    "duration": 11,
    "start_time": "2024-12-25T15:31:58.467Z"
   },
   {
    "duration": 87,
    "start_time": "2024-12-25T16:26:05.604Z"
   },
   {
    "duration": 10,
    "start_time": "2024-12-25T16:26:40.444Z"
   },
   {
    "duration": 4,
    "start_time": "2024-12-25T16:29:48.270Z"
   },
   {
    "duration": 10,
    "start_time": "2024-12-25T16:30:36.270Z"
   },
   {
    "duration": 10,
    "start_time": "2024-12-25T16:34:27.223Z"
   },
   {
    "duration": 7,
    "start_time": "2024-12-25T16:34:31.312Z"
   },
   {
    "duration": 8,
    "start_time": "2024-12-25T16:34:58.045Z"
   },
   {
    "duration": 11,
    "start_time": "2024-12-25T16:36:01.860Z"
   },
   {
    "duration": 1409,
    "start_time": "2024-12-25T16:38:49.376Z"
   },
   {
    "duration": 9,
    "start_time": "2024-12-25T16:39:15.806Z"
   },
   {
    "duration": 1346,
    "start_time": "2024-12-25T16:39:29.078Z"
   },
   {
    "duration": 11,
    "start_time": "2024-12-25T16:39:55.703Z"
   },
   {
    "duration": 3,
    "start_time": "2024-12-25T17:39:50.900Z"
   },
   {
    "duration": 3,
    "start_time": "2024-12-25T17:40:21.597Z"
   },
   {
    "duration": 10,
    "start_time": "2024-12-25T17:40:28.781Z"
   },
   {
    "duration": 10,
    "start_time": "2024-12-25T17:40:48.162Z"
   },
   {
    "duration": 3,
    "start_time": "2024-12-25T17:40:59.975Z"
   },
   {
    "duration": 40,
    "start_time": "2024-12-25T17:41:00.538Z"
   },
   {
    "duration": 9,
    "start_time": "2024-12-25T17:41:02.315Z"
   },
   {
    "duration": 8,
    "start_time": "2024-12-25T17:41:04.503Z"
   },
   {
    "duration": 9,
    "start_time": "2024-12-25T17:41:26.691Z"
   },
   {
    "duration": 112,
    "start_time": "2024-12-25T17:41:46.700Z"
   },
   {
    "duration": 18,
    "start_time": "2024-12-25T17:41:47.566Z"
   },
   {
    "duration": 323,
    "start_time": "2024-12-25T17:41:49.605Z"
   },
   {
    "duration": 9,
    "start_time": "2024-12-25T17:42:43.057Z"
   },
   {
    "duration": 9,
    "start_time": "2024-12-25T17:42:49.365Z"
   },
   {
    "duration": 10,
    "start_time": "2024-12-25T17:43:47.060Z"
   },
   {
    "duration": 13,
    "start_time": "2024-12-25T17:43:58.793Z"
   },
   {
    "duration": 94,
    "start_time": "2024-12-25T17:43:59.999Z"
   },
   {
    "duration": 4,
    "start_time": "2024-12-25T17:44:01.366Z"
   },
   {
    "duration": 29,
    "start_time": "2024-12-25T17:44:14.623Z"
   },
   {
    "duration": 306,
    "start_time": "2024-12-25T17:44:52.234Z"
   },
   {
    "duration": 331,
    "start_time": "2024-12-25T17:45:33.108Z"
   },
   {
    "duration": 262,
    "start_time": "2024-12-25T17:45:40.438Z"
   },
   {
    "duration": 330,
    "start_time": "2024-12-25T17:46:26.728Z"
   },
   {
    "duration": 248,
    "start_time": "2024-12-25T17:46:29.399Z"
   },
   {
    "duration": 243,
    "start_time": "2024-12-25T17:46:32.198Z"
   },
   {
    "duration": 370,
    "start_time": "2024-12-25T17:46:37.364Z"
   },
   {
    "duration": 245,
    "start_time": "2024-12-25T17:47:00.645Z"
   },
   {
    "duration": 233,
    "start_time": "2024-12-25T17:48:45.388Z"
   },
   {
    "duration": 211,
    "start_time": "2024-12-25T17:49:41.838Z"
   },
   {
    "duration": 292,
    "start_time": "2024-12-25T17:50:39.728Z"
   },
   {
    "duration": 206,
    "start_time": "2024-12-25T17:50:56.024Z"
   },
   {
    "duration": 225,
    "start_time": "2024-12-25T17:51:05.562Z"
   },
   {
    "duration": 231,
    "start_time": "2024-12-25T17:51:19.909Z"
   },
   {
    "duration": 240,
    "start_time": "2024-12-25T17:51:49.777Z"
   },
   {
    "duration": 272,
    "start_time": "2024-12-25T17:52:10.147Z"
   },
   {
    "duration": 351,
    "start_time": "2024-12-25T17:53:45.900Z"
   },
   {
    "duration": 14,
    "start_time": "2024-12-25T17:54:07.007Z"
   },
   {
    "duration": 165,
    "start_time": "2024-12-25T17:54:35.385Z"
   },
   {
    "duration": 280,
    "start_time": "2024-12-25T17:57:49.198Z"
   },
   {
    "duration": 166,
    "start_time": "2024-12-25T17:58:25.593Z"
   },
   {
    "duration": 174,
    "start_time": "2024-12-25T17:58:46.532Z"
   },
   {
    "duration": 4,
    "start_time": "2024-12-25T17:58:52.206Z"
   },
   {
    "duration": 309,
    "start_time": "2024-12-25T17:58:56.783Z"
   },
   {
    "duration": 4,
    "start_time": "2024-12-25T17:59:03.108Z"
   },
   {
    "duration": 109,
    "start_time": "2024-12-25T18:02:19.321Z"
   },
   {
    "duration": 164,
    "start_time": "2024-12-25T18:03:41.774Z"
   },
   {
    "duration": 155,
    "start_time": "2024-12-25T18:04:50.467Z"
   },
   {
    "duration": 359,
    "start_time": "2024-12-25T18:05:39.640Z"
   },
   {
    "duration": 8,
    "start_time": "2024-12-25T18:10:23.472Z"
   },
   {
    "duration": 16,
    "start_time": "2024-12-25T18:12:10.184Z"
   },
   {
    "duration": 16,
    "start_time": "2024-12-25T18:12:22.799Z"
   },
   {
    "duration": 9,
    "start_time": "2024-12-25T18:14:37.038Z"
   },
   {
    "duration": 10,
    "start_time": "2024-12-25T18:16:25.209Z"
   },
   {
    "duration": 9,
    "start_time": "2024-12-25T18:16:42.729Z"
   },
   {
    "duration": 29,
    "start_time": "2024-12-25T18:17:26.764Z"
   },
   {
    "duration": 14,
    "start_time": "2024-12-25T18:18:22.921Z"
   },
   {
    "duration": 1333,
    "start_time": "2024-12-26T16:06:40.357Z"
   },
   {
    "duration": 92,
    "start_time": "2024-12-26T16:06:41.692Z"
   },
   {
    "duration": 9,
    "start_time": "2024-12-26T16:06:44.076Z"
   },
   {
    "duration": 9,
    "start_time": "2024-12-26T16:06:46.165Z"
   },
   {
    "duration": 9,
    "start_time": "2024-12-26T16:06:49.504Z"
   },
   {
    "duration": 115,
    "start_time": "2024-12-26T16:06:54.056Z"
   },
   {
    "duration": 18,
    "start_time": "2024-12-26T16:06:54.781Z"
   },
   {
    "duration": 11,
    "start_time": "2024-12-26T16:06:56.681Z"
   },
   {
    "duration": 12,
    "start_time": "2024-12-26T16:06:58.625Z"
   },
   {
    "duration": 96,
    "start_time": "2024-12-26T16:06:59.692Z"
   },
   {
    "duration": 4,
    "start_time": "2024-12-26T16:07:00.742Z"
   },
   {
    "duration": 296,
    "start_time": "2024-12-26T16:07:03.853Z"
   },
   {
    "duration": 332,
    "start_time": "2024-12-26T16:07:05.564Z"
   },
   {
    "duration": 259,
    "start_time": "2024-12-26T16:07:08.306Z"
   },
   {
    "duration": 372,
    "start_time": "2024-12-26T16:07:10.773Z"
   },
   {
    "duration": 286,
    "start_time": "2024-12-26T16:07:14.504Z"
   },
   {
    "duration": 387,
    "start_time": "2024-12-26T16:07:17.929Z"
   },
   {
    "duration": 171,
    "start_time": "2024-12-26T16:07:20.944Z"
   },
   {
    "duration": 5,
    "start_time": "2024-12-26T16:07:23.666Z"
   },
   {
    "duration": 201,
    "start_time": "2024-12-26T16:07:26.464Z"
   },
   {
    "duration": 5,
    "start_time": "2024-12-26T16:07:29.738Z"
   },
   {
    "duration": 439,
    "start_time": "2024-12-26T16:07:33.601Z"
   },
   {
    "duration": 11,
    "start_time": "2024-12-26T16:07:37.751Z"
   },
   {
    "duration": 11,
    "start_time": "2024-12-26T16:07:41.587Z"
   },
   {
    "duration": 31,
    "start_time": "2024-12-26T16:07:44.905Z"
   },
   {
    "duration": 13,
    "start_time": "2024-12-26T16:07:47.224Z"
   },
   {
    "duration": 2,
    "start_time": "2024-12-26T16:38:13.617Z"
   },
   {
    "duration": 39,
    "start_time": "2024-12-26T16:38:14.157Z"
   },
   {
    "duration": 10,
    "start_time": "2024-12-26T16:38:15.241Z"
   },
   {
    "duration": 9,
    "start_time": "2024-12-26T16:38:16.468Z"
   },
   {
    "duration": 9,
    "start_time": "2024-12-26T16:38:18.309Z"
   },
   {
    "duration": 59,
    "start_time": "2024-12-26T16:38:22.082Z"
   },
   {
    "duration": 19,
    "start_time": "2024-12-26T16:38:22.631Z"
   },
   {
    "duration": 10,
    "start_time": "2024-12-26T16:38:23.737Z"
   },
   {
    "duration": 12,
    "start_time": "2024-12-26T16:38:24.317Z"
   },
   {
    "duration": 39,
    "start_time": "2024-12-26T16:38:24.834Z"
   },
   {
    "duration": 5,
    "start_time": "2024-12-26T16:38:25.320Z"
   },
   {
    "duration": 294,
    "start_time": "2024-12-26T16:38:26.496Z"
   },
   {
    "duration": 245,
    "start_time": "2024-12-26T16:38:27.886Z"
   },
   {
    "duration": 242,
    "start_time": "2024-12-26T16:38:29.966Z"
   },
   {
    "duration": 320,
    "start_time": "2024-12-26T16:38:33.291Z"
   },
   {
    "duration": 307,
    "start_time": "2024-12-26T16:38:38.214Z"
   },
   {
    "duration": 339,
    "start_time": "2024-12-26T16:38:41.352Z"
   },
   {
    "duration": 167,
    "start_time": "2024-12-26T16:38:44.546Z"
   },
   {
    "duration": 5,
    "start_time": "2024-12-26T16:38:46.353Z"
   },
   {
    "duration": 202,
    "start_time": "2024-12-26T16:38:48.944Z"
   },
   {
    "duration": 4,
    "start_time": "2024-12-26T16:38:50.798Z"
   },
   {
    "duration": 363,
    "start_time": "2024-12-26T16:38:53.721Z"
   },
   {
    "duration": 11,
    "start_time": "2024-12-26T16:38:57.076Z"
   },
   {
    "duration": 12,
    "start_time": "2024-12-26T16:39:00.122Z"
   },
   {
    "duration": 32,
    "start_time": "2024-12-26T16:39:02.815Z"
   },
   {
    "duration": 13,
    "start_time": "2024-12-26T16:39:05.138Z"
   }
  ],
  "kernelspec": {
   "display_name": "Python 3 (ipykernel)",
   "language": "python",
   "name": "python3"
  },
  "language_info": {
   "codemirror_mode": {
    "name": "ipython",
    "version": 3
   },
   "file_extension": ".py",
   "mimetype": "text/x-python",
   "name": "python",
   "nbconvert_exporter": "python",
   "pygments_lexer": "ipython3",
   "version": "3.12.4"
  },
  "toc": {
   "base_numbering": 1,
   "nav_menu": {},
   "number_sections": true,
   "sideBar": true,
   "skip_h1_title": true,
   "title_cell": "Table of Contents",
   "title_sidebar": "Contents",
   "toc_cell": false,
   "toc_position": {},
   "toc_section_display": true,
   "toc_window_display": false
  }
 },
 "nbformat": 4,
 "nbformat_minor": 4
}
