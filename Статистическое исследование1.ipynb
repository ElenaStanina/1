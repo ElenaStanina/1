{
 "cells": [
  {
   "cell_type": "markdown",
   "id": "25d5df3f",
   "metadata": {},
   "source": [
    "# **Проект: статистическое исследование данных**"
   ]
  },
  {
   "cell_type": "markdown",
   "id": "e135f432",
   "metadata": {},
   "source": [
    " **Цель проекта: проанализировать данные популярного сервиса аренды самокатов GoFast и проверить некоторые гипотезы, которые могут помочь бизнесу вырасти.**"
   ]
  },
  {
   "cell_type": "markdown",
   "id": "55ca1fcb",
   "metadata": {},
   "source": [
    " **Задачи проекта - проверка следуюших гипотез:**\n",
    " \n",
    "1. Тратят ли пользователи с подпиской больше времени на поездки?\n",
    "\n",
    "2. Можно ли сказать, что среднее расстояние, которое проезжают пользователи с подпиской за одну поездку, не превышает \n",
    "3130 метров (оптимальное расстояние с точки зрения износа самоката)? \n",
    "\n",
    "3. Будет ли помесячная выручка от пользователей с подпиской по месяцам выше, чем выручка от пользователей без подписки.\n"
   ]
  },
  {
   "cell_type": "markdown",
   "id": "d1e53057",
   "metadata": {},
   "source": [
    " **Ход исследования:**\n",
    "\n",
    "1. Выгрузка данных\n",
    "\n",
    "2. Предобработка данных\n",
    "\n",
    "3. Исследовательский анализ данных\n",
    "\n",
    "4. Объединение данных\n",
    "\n",
    "5. Подсчет выручки\n",
    "\n",
    "6. Проверка гипотез\n",
    "\n",
    "7. Общий вывод\n",
    "\n",
    "\n",
    "**Описание данных:**\n",
    "\n",
    "В основных данных есть информация о пользователях, их поездках и подписках.\n",
    "\n",
    "**Пользователи — users_go.csv**\n",
    "\n",
    "**user_id**\t- уникальный идентификатор пользователя\n",
    "\n",
    "**name** - имя пользователя\n",
    "\n",
    "**age**\t- возраст\n",
    "\n",
    "**city** -\tгород\n",
    "\n",
    "**subscription_type** -\tтип подписки (free, ultra)\n",
    "\n",
    "**Поездки — rides_go.csv**\n",
    "\n",
    "**user_id** -\tуникальный идентификатор пользователя\n",
    "\n",
    "**distance** -\tрасстояние, которое пользователь проехал в текущей сессии (в метрах)\n",
    "\n",
    "**duration** -\tпродолжительность сессии (в минутах) — время с того момента, как пользователь нажал кнопку «Начать поездку» до момента, как он нажал кнопку «Завершить поездку»\n",
    "\n",
    "**date** -\tдата совершения поездки\n",
    "\n",
    "**Подписки — subscriptions_go.csv**\n",
    "\n",
    "**subscription_type** -\tтип подписки\n",
    "\n",
    "**minute_price** -\tстоимость одной минуты поездки по данной подписке\n",
    "\n",
    "**start_ride_price** -\tстоимость начала поездки\n",
    "\n",
    "**subscription_fee** -\tстоимость ежемесячного платежа\n"
   ]
  },
  {
   "cell_type": "code",
   "execution_count": 1,
   "id": "cc637434",
   "metadata": {},
   "outputs": [],
   "source": [
    "import pandas as pd\n",
    "import matplotlib.pyplot as plt\n",
    "import numpy as np\n",
    "from scipy import stats as st"
   ]
  },
  {
   "cell_type": "markdown",
   "id": "c42cbe00",
   "metadata": {},
   "source": [
    "### Шаг 1. Загрузка данных ###"
   ]
  },
  {
   "cell_type": "code",
   "execution_count": 2,
   "id": "eff9f206",
   "metadata": {},
   "outputs": [],
   "source": [
    "data_users = pd.read_csv ('/datasets/users_go.csv')"
   ]
  },
  {
   "cell_type": "code",
   "execution_count": 3,
   "id": "ce0b28cb",
   "metadata": {},
   "outputs": [
    {
     "data": {
      "text/html": [
       "<div>\n",
       "<style scoped>\n",
       "    .dataframe tbody tr th:only-of-type {\n",
       "        vertical-align: middle;\n",
       "    }\n",
       "\n",
       "    .dataframe tbody tr th {\n",
       "        vertical-align: top;\n",
       "    }\n",
       "\n",
       "    .dataframe thead th {\n",
       "        text-align: right;\n",
       "    }\n",
       "</style>\n",
       "<table border=\"1\" class=\"dataframe\">\n",
       "  <thead>\n",
       "    <tr style=\"text-align: right;\">\n",
       "      <th></th>\n",
       "      <th>user_id</th>\n",
       "      <th>name</th>\n",
       "      <th>age</th>\n",
       "      <th>city</th>\n",
       "      <th>subscription_type</th>\n",
       "    </tr>\n",
       "  </thead>\n",
       "  <tbody>\n",
       "    <tr>\n",
       "      <th>0</th>\n",
       "      <td>1</td>\n",
       "      <td>Кира</td>\n",
       "      <td>22</td>\n",
       "      <td>Тюмень</td>\n",
       "      <td>ultra</td>\n",
       "    </tr>\n",
       "    <tr>\n",
       "      <th>1</th>\n",
       "      <td>2</td>\n",
       "      <td>Станислав</td>\n",
       "      <td>31</td>\n",
       "      <td>Омск</td>\n",
       "      <td>ultra</td>\n",
       "    </tr>\n",
       "    <tr>\n",
       "      <th>2</th>\n",
       "      <td>3</td>\n",
       "      <td>Алексей</td>\n",
       "      <td>20</td>\n",
       "      <td>Москва</td>\n",
       "      <td>ultra</td>\n",
       "    </tr>\n",
       "    <tr>\n",
       "      <th>3</th>\n",
       "      <td>4</td>\n",
       "      <td>Константин</td>\n",
       "      <td>26</td>\n",
       "      <td>Ростов-на-Дону</td>\n",
       "      <td>ultra</td>\n",
       "    </tr>\n",
       "    <tr>\n",
       "      <th>4</th>\n",
       "      <td>5</td>\n",
       "      <td>Адель</td>\n",
       "      <td>28</td>\n",
       "      <td>Омск</td>\n",
       "      <td>ultra</td>\n",
       "    </tr>\n",
       "  </tbody>\n",
       "</table>\n",
       "</div>"
      ],
      "text/plain": [
       "   user_id        name  age            city subscription_type\n",
       "0        1        Кира   22          Тюмень             ultra\n",
       "1        2   Станислав   31            Омск             ultra\n",
       "2        3     Алексей   20          Москва             ultra\n",
       "3        4  Константин   26  Ростов-на-Дону             ultra\n",
       "4        5       Адель   28            Омск             ultra"
      ]
     },
     "execution_count": 3,
     "metadata": {},
     "output_type": "execute_result"
    }
   ],
   "source": [
    "data_users.head()"
   ]
  },
  {
   "cell_type": "code",
   "execution_count": 4,
   "id": "28fb0341",
   "metadata": {},
   "outputs": [
    {
     "name": "stdout",
     "output_type": "stream",
     "text": [
      "<class 'pandas.core.frame.DataFrame'>\n",
      "RangeIndex: 1565 entries, 0 to 1564\n",
      "Data columns (total 5 columns):\n",
      " #   Column             Non-Null Count  Dtype \n",
      "---  ------             --------------  ----- \n",
      " 0   user_id            1565 non-null   int64 \n",
      " 1   name               1565 non-null   object\n",
      " 2   age                1565 non-null   int64 \n",
      " 3   city               1565 non-null   object\n",
      " 4   subscription_type  1565 non-null   object\n",
      "dtypes: int64(2), object(3)\n",
      "memory usage: 61.3+ KB\n"
     ]
    }
   ],
   "source": [
    "data_users.info()"
   ]
  },
  {
   "cell_type": "code",
   "execution_count": 5,
   "id": "58ee34b2",
   "metadata": {},
   "outputs": [],
   "source": [
    "data_rides = pd.read_csv ('/datasets/rides_go.csv')"
   ]
  },
  {
   "cell_type": "code",
   "execution_count": 6,
   "id": "6de07dd6",
   "metadata": {},
   "outputs": [
    {
     "data": {
      "text/html": [
       "<div>\n",
       "<style scoped>\n",
       "    .dataframe tbody tr th:only-of-type {\n",
       "        vertical-align: middle;\n",
       "    }\n",
       "\n",
       "    .dataframe tbody tr th {\n",
       "        vertical-align: top;\n",
       "    }\n",
       "\n",
       "    .dataframe thead th {\n",
       "        text-align: right;\n",
       "    }\n",
       "</style>\n",
       "<table border=\"1\" class=\"dataframe\">\n",
       "  <thead>\n",
       "    <tr style=\"text-align: right;\">\n",
       "      <th></th>\n",
       "      <th>user_id</th>\n",
       "      <th>distance</th>\n",
       "      <th>duration</th>\n",
       "      <th>date</th>\n",
       "    </tr>\n",
       "  </thead>\n",
       "  <tbody>\n",
       "    <tr>\n",
       "      <th>0</th>\n",
       "      <td>1</td>\n",
       "      <td>4409.919140</td>\n",
       "      <td>25.599769</td>\n",
       "      <td>2021-01-01</td>\n",
       "    </tr>\n",
       "    <tr>\n",
       "      <th>1</th>\n",
       "      <td>1</td>\n",
       "      <td>2617.592153</td>\n",
       "      <td>15.816871</td>\n",
       "      <td>2021-01-18</td>\n",
       "    </tr>\n",
       "    <tr>\n",
       "      <th>2</th>\n",
       "      <td>1</td>\n",
       "      <td>754.159807</td>\n",
       "      <td>6.232113</td>\n",
       "      <td>2021-04-20</td>\n",
       "    </tr>\n",
       "    <tr>\n",
       "      <th>3</th>\n",
       "      <td>1</td>\n",
       "      <td>2694.783254</td>\n",
       "      <td>18.511000</td>\n",
       "      <td>2021-08-11</td>\n",
       "    </tr>\n",
       "    <tr>\n",
       "      <th>4</th>\n",
       "      <td>1</td>\n",
       "      <td>4028.687306</td>\n",
       "      <td>26.265803</td>\n",
       "      <td>2021-08-28</td>\n",
       "    </tr>\n",
       "  </tbody>\n",
       "</table>\n",
       "</div>"
      ],
      "text/plain": [
       "   user_id     distance   duration        date\n",
       "0        1  4409.919140  25.599769  2021-01-01\n",
       "1        1  2617.592153  15.816871  2021-01-18\n",
       "2        1   754.159807   6.232113  2021-04-20\n",
       "3        1  2694.783254  18.511000  2021-08-11\n",
       "4        1  4028.687306  26.265803  2021-08-28"
      ]
     },
     "execution_count": 6,
     "metadata": {},
     "output_type": "execute_result"
    }
   ],
   "source": [
    "data_rides.head()"
   ]
  },
  {
   "cell_type": "code",
   "execution_count": 7,
   "id": "79fc70a6",
   "metadata": {},
   "outputs": [
    {
     "name": "stdout",
     "output_type": "stream",
     "text": [
      "<class 'pandas.core.frame.DataFrame'>\n",
      "RangeIndex: 18068 entries, 0 to 18067\n",
      "Data columns (total 4 columns):\n",
      " #   Column    Non-Null Count  Dtype  \n",
      "---  ------    --------------  -----  \n",
      " 0   user_id   18068 non-null  int64  \n",
      " 1   distance  18068 non-null  float64\n",
      " 2   duration  18068 non-null  float64\n",
      " 3   date      18068 non-null  object \n",
      "dtypes: float64(2), int64(1), object(1)\n",
      "memory usage: 564.8+ KB\n"
     ]
    }
   ],
   "source": [
    "data_rides.info()"
   ]
  },
  {
   "cell_type": "code",
   "execution_count": 8,
   "id": "ab863dfa",
   "metadata": {},
   "outputs": [],
   "source": [
    "data_subscriptions_go = pd.read_csv ('/datasets/subscriptions_go.csv')"
   ]
  },
  {
   "cell_type": "code",
   "execution_count": 9,
   "id": "b0bbb993",
   "metadata": {},
   "outputs": [
    {
     "data": {
      "text/html": [
       "<div>\n",
       "<style scoped>\n",
       "    .dataframe tbody tr th:only-of-type {\n",
       "        vertical-align: middle;\n",
       "    }\n",
       "\n",
       "    .dataframe tbody tr th {\n",
       "        vertical-align: top;\n",
       "    }\n",
       "\n",
       "    .dataframe thead th {\n",
       "        text-align: right;\n",
       "    }\n",
       "</style>\n",
       "<table border=\"1\" class=\"dataframe\">\n",
       "  <thead>\n",
       "    <tr style=\"text-align: right;\">\n",
       "      <th></th>\n",
       "      <th>subscription_type</th>\n",
       "      <th>minute_price</th>\n",
       "      <th>start_ride_price</th>\n",
       "      <th>subscription_fee</th>\n",
       "    </tr>\n",
       "  </thead>\n",
       "  <tbody>\n",
       "    <tr>\n",
       "      <th>0</th>\n",
       "      <td>free</td>\n",
       "      <td>8</td>\n",
       "      <td>50</td>\n",
       "      <td>0</td>\n",
       "    </tr>\n",
       "    <tr>\n",
       "      <th>1</th>\n",
       "      <td>ultra</td>\n",
       "      <td>6</td>\n",
       "      <td>0</td>\n",
       "      <td>199</td>\n",
       "    </tr>\n",
       "  </tbody>\n",
       "</table>\n",
       "</div>"
      ],
      "text/plain": [
       "  subscription_type  minute_price  start_ride_price  subscription_fee\n",
       "0              free             8                50                 0\n",
       "1             ultra             6                 0               199"
      ]
     },
     "execution_count": 9,
     "metadata": {},
     "output_type": "execute_result"
    }
   ],
   "source": [
    "data_subscriptions_go.head()"
   ]
  },
  {
   "cell_type": "code",
   "execution_count": 10,
   "id": "0c43c55e",
   "metadata": {},
   "outputs": [
    {
     "name": "stdout",
     "output_type": "stream",
     "text": [
      "<class 'pandas.core.frame.DataFrame'>\n",
      "RangeIndex: 2 entries, 0 to 1\n",
      "Data columns (total 4 columns):\n",
      " #   Column             Non-Null Count  Dtype \n",
      "---  ------             --------------  ----- \n",
      " 0   subscription_type  2 non-null      object\n",
      " 1   minute_price       2 non-null      int64 \n",
      " 2   start_ride_price   2 non-null      int64 \n",
      " 3   subscription_fee   2 non-null      int64 \n",
      "dtypes: int64(3), object(1)\n",
      "memory usage: 192.0+ bytes\n"
     ]
    }
   ],
   "source": [
    "data_subscriptions_go.info()"
   ]
  },
  {
   "cell_type": "markdown",
   "id": "e95ebca7",
   "metadata": {},
   "source": [
    "### Шаг 2. Предобработка данных ###"
   ]
  },
  {
   "cell_type": "code",
   "execution_count": 11,
   "id": "af6d202c",
   "metadata": {},
   "outputs": [],
   "source": [
    "data_rides['date'] = pd.to_datetime(data_rides['date'])"
   ]
  },
  {
   "cell_type": "code",
   "execution_count": 12,
   "id": "be7e7074",
   "metadata": {},
   "outputs": [
    {
     "name": "stdout",
     "output_type": "stream",
     "text": [
      "<class 'pandas.core.frame.DataFrame'>\n",
      "RangeIndex: 18068 entries, 0 to 18067\n",
      "Data columns (total 4 columns):\n",
      " #   Column    Non-Null Count  Dtype         \n",
      "---  ------    --------------  -----         \n",
      " 0   user_id   18068 non-null  int64         \n",
      " 1   distance  18068 non-null  float64       \n",
      " 2   duration  18068 non-null  float64       \n",
      " 3   date      18068 non-null  datetime64[ns]\n",
      "dtypes: datetime64[ns](1), float64(2), int64(1)\n",
      "memory usage: 564.8 KB\n"
     ]
    }
   ],
   "source": [
    "data_rides.info()"
   ]
  },
  {
   "cell_type": "code",
   "execution_count": 13,
   "id": "18e69d80",
   "metadata": {},
   "outputs": [
    {
     "data": {
      "text/plain": [
       "array([2021])"
      ]
     },
     "execution_count": 13,
     "metadata": {},
     "output_type": "execute_result"
    }
   ],
   "source": [
    "data_rides['date'].dt.year.unique()"
   ]
  },
  {
   "cell_type": "markdown",
   "id": "32b318c6",
   "metadata": {},
   "source": [
    "Данные представлены только за 2021 год"
   ]
  },
  {
   "cell_type": "code",
   "execution_count": 14,
   "id": "2fd28314",
   "metadata": {},
   "outputs": [],
   "source": [
    "data_rides['month'] = pd.to_datetime(data_rides['date']).dt.month"
   ]
  },
  {
   "cell_type": "code",
   "execution_count": 15,
   "id": "ea97a37e",
   "metadata": {},
   "outputs": [
    {
     "data": {
      "text/html": [
       "<div>\n",
       "<style scoped>\n",
       "    .dataframe tbody tr th:only-of-type {\n",
       "        vertical-align: middle;\n",
       "    }\n",
       "\n",
       "    .dataframe tbody tr th {\n",
       "        vertical-align: top;\n",
       "    }\n",
       "\n",
       "    .dataframe thead th {\n",
       "        text-align: right;\n",
       "    }\n",
       "</style>\n",
       "<table border=\"1\" class=\"dataframe\">\n",
       "  <thead>\n",
       "    <tr style=\"text-align: right;\">\n",
       "      <th></th>\n",
       "      <th>user_id</th>\n",
       "      <th>distance</th>\n",
       "      <th>duration</th>\n",
       "      <th>date</th>\n",
       "      <th>month</th>\n",
       "    </tr>\n",
       "  </thead>\n",
       "  <tbody>\n",
       "    <tr>\n",
       "      <th>0</th>\n",
       "      <td>1</td>\n",
       "      <td>4409.919140</td>\n",
       "      <td>25.599769</td>\n",
       "      <td>2021-01-01</td>\n",
       "      <td>1</td>\n",
       "    </tr>\n",
       "    <tr>\n",
       "      <th>1</th>\n",
       "      <td>1</td>\n",
       "      <td>2617.592153</td>\n",
       "      <td>15.816871</td>\n",
       "      <td>2021-01-18</td>\n",
       "      <td>1</td>\n",
       "    </tr>\n",
       "    <tr>\n",
       "      <th>2</th>\n",
       "      <td>1</td>\n",
       "      <td>754.159807</td>\n",
       "      <td>6.232113</td>\n",
       "      <td>2021-04-20</td>\n",
       "      <td>4</td>\n",
       "    </tr>\n",
       "    <tr>\n",
       "      <th>3</th>\n",
       "      <td>1</td>\n",
       "      <td>2694.783254</td>\n",
       "      <td>18.511000</td>\n",
       "      <td>2021-08-11</td>\n",
       "      <td>8</td>\n",
       "    </tr>\n",
       "    <tr>\n",
       "      <th>4</th>\n",
       "      <td>1</td>\n",
       "      <td>4028.687306</td>\n",
       "      <td>26.265803</td>\n",
       "      <td>2021-08-28</td>\n",
       "      <td>8</td>\n",
       "    </tr>\n",
       "  </tbody>\n",
       "</table>\n",
       "</div>"
      ],
      "text/plain": [
       "   user_id     distance   duration       date  month\n",
       "0        1  4409.919140  25.599769 2021-01-01      1\n",
       "1        1  2617.592153  15.816871 2021-01-18      1\n",
       "2        1   754.159807   6.232113 2021-04-20      4\n",
       "3        1  2694.783254  18.511000 2021-08-11      8\n",
       "4        1  4028.687306  26.265803 2021-08-28      8"
      ]
     },
     "execution_count": 15,
     "metadata": {},
     "output_type": "execute_result"
    }
   ],
   "source": [
    "data_rides.head()"
   ]
  },
  {
   "cell_type": "code",
   "execution_count": 16,
   "id": "e5c72ab4",
   "metadata": {},
   "outputs": [
    {
     "data": {
      "text/plain": [
       "user_id     0\n",
       "distance    0\n",
       "duration    0\n",
       "date        0\n",
       "month       0\n",
       "dtype: int64"
      ]
     },
     "execution_count": 16,
     "metadata": {},
     "output_type": "execute_result"
    }
   ],
   "source": [
    "data_rides.isna().sum()"
   ]
  },
  {
   "cell_type": "code",
   "execution_count": 17,
   "id": "e22c4500",
   "metadata": {},
   "outputs": [
    {
     "data": {
      "text/html": [
       "<div>\n",
       "<style scoped>\n",
       "    .dataframe tbody tr th:only-of-type {\n",
       "        vertical-align: middle;\n",
       "    }\n",
       "\n",
       "    .dataframe tbody tr th {\n",
       "        vertical-align: top;\n",
       "    }\n",
       "\n",
       "    .dataframe thead th {\n",
       "        text-align: right;\n",
       "    }\n",
       "</style>\n",
       "<table border=\"1\" class=\"dataframe\">\n",
       "  <thead>\n",
       "    <tr style=\"text-align: right;\">\n",
       "      <th></th>\n",
       "      <th>user_id</th>\n",
       "      <th>distance</th>\n",
       "      <th>duration</th>\n",
       "      <th>date</th>\n",
       "      <th>month</th>\n",
       "    </tr>\n",
       "  </thead>\n",
       "  <tbody>\n",
       "    <tr>\n",
       "      <th>0</th>\n",
       "      <td>1</td>\n",
       "      <td>4409.919140</td>\n",
       "      <td>25.599769</td>\n",
       "      <td>2021-01-01</td>\n",
       "      <td>1</td>\n",
       "    </tr>\n",
       "    <tr>\n",
       "      <th>1</th>\n",
       "      <td>1</td>\n",
       "      <td>2617.592153</td>\n",
       "      <td>15.816871</td>\n",
       "      <td>2021-01-18</td>\n",
       "      <td>1</td>\n",
       "    </tr>\n",
       "    <tr>\n",
       "      <th>2</th>\n",
       "      <td>1</td>\n",
       "      <td>754.159807</td>\n",
       "      <td>6.232113</td>\n",
       "      <td>2021-04-20</td>\n",
       "      <td>4</td>\n",
       "    </tr>\n",
       "    <tr>\n",
       "      <th>3</th>\n",
       "      <td>1</td>\n",
       "      <td>2694.783254</td>\n",
       "      <td>18.511000</td>\n",
       "      <td>2021-08-11</td>\n",
       "      <td>8</td>\n",
       "    </tr>\n",
       "    <tr>\n",
       "      <th>4</th>\n",
       "      <td>1</td>\n",
       "      <td>4028.687306</td>\n",
       "      <td>26.265803</td>\n",
       "      <td>2021-08-28</td>\n",
       "      <td>8</td>\n",
       "    </tr>\n",
       "  </tbody>\n",
       "</table>\n",
       "</div>"
      ],
      "text/plain": [
       "   user_id     distance   duration       date  month\n",
       "0        1  4409.919140  25.599769 2021-01-01      1\n",
       "1        1  2617.592153  15.816871 2021-01-18      1\n",
       "2        1   754.159807   6.232113 2021-04-20      4\n",
       "3        1  2694.783254  18.511000 2021-08-11      8\n",
       "4        1  4028.687306  26.265803 2021-08-28      8"
      ]
     },
     "execution_count": 17,
     "metadata": {},
     "output_type": "execute_result"
    }
   ],
   "source": [
    "data_rides.head()"
   ]
  },
  {
   "cell_type": "code",
   "execution_count": 18,
   "id": "4920bcb9",
   "metadata": {},
   "outputs": [
    {
     "data": {
      "text/plain": [
       "31"
      ]
     },
     "execution_count": 18,
     "metadata": {},
     "output_type": "execute_result"
    }
   ],
   "source": [
    "data_users.duplicated().sum()"
   ]
  },
  {
   "cell_type": "code",
   "execution_count": 19,
   "id": "e1bb530f",
   "metadata": {},
   "outputs": [
    {
     "data": {
      "text/html": [
       "<div>\n",
       "<style scoped>\n",
       "    .dataframe tbody tr th:only-of-type {\n",
       "        vertical-align: middle;\n",
       "    }\n",
       "\n",
       "    .dataframe tbody tr th {\n",
       "        vertical-align: top;\n",
       "    }\n",
       "\n",
       "    .dataframe thead th {\n",
       "        text-align: right;\n",
       "    }\n",
       "</style>\n",
       "<table border=\"1\" class=\"dataframe\">\n",
       "  <thead>\n",
       "    <tr style=\"text-align: right;\">\n",
       "      <th></th>\n",
       "      <th>user_id</th>\n",
       "      <th>name</th>\n",
       "      <th>age</th>\n",
       "      <th>city</th>\n",
       "      <th>subscription_type</th>\n",
       "    </tr>\n",
       "  </thead>\n",
       "  <tbody>\n",
       "    <tr>\n",
       "      <th>1534</th>\n",
       "      <td>293</td>\n",
       "      <td>Агата</td>\n",
       "      <td>26</td>\n",
       "      <td>Краснодар</td>\n",
       "      <td>ultra</td>\n",
       "    </tr>\n",
       "    <tr>\n",
       "      <th>1535</th>\n",
       "      <td>16</td>\n",
       "      <td>Амалия</td>\n",
       "      <td>27</td>\n",
       "      <td>Краснодар</td>\n",
       "      <td>ultra</td>\n",
       "    </tr>\n",
       "    <tr>\n",
       "      <th>1536</th>\n",
       "      <td>909</td>\n",
       "      <td>Константин</td>\n",
       "      <td>20</td>\n",
       "      <td>Екатеринбург</td>\n",
       "      <td>free</td>\n",
       "    </tr>\n",
       "    <tr>\n",
       "      <th>1537</th>\n",
       "      <td>403</td>\n",
       "      <td>Полина</td>\n",
       "      <td>19</td>\n",
       "      <td>Сочи</td>\n",
       "      <td>ultra</td>\n",
       "    </tr>\n",
       "    <tr>\n",
       "      <th>1538</th>\n",
       "      <td>908</td>\n",
       "      <td>Рустам</td>\n",
       "      <td>30</td>\n",
       "      <td>Тюмень</td>\n",
       "      <td>free</td>\n",
       "    </tr>\n",
       "    <tr>\n",
       "      <th>1539</th>\n",
       "      <td>43</td>\n",
       "      <td>Стефания</td>\n",
       "      <td>22</td>\n",
       "      <td>Омск</td>\n",
       "      <td>ultra</td>\n",
       "    </tr>\n",
       "    <tr>\n",
       "      <th>1540</th>\n",
       "      <td>127</td>\n",
       "      <td>Павел</td>\n",
       "      <td>25</td>\n",
       "      <td>Пятигорск</td>\n",
       "      <td>ultra</td>\n",
       "    </tr>\n",
       "    <tr>\n",
       "      <th>1541</th>\n",
       "      <td>659</td>\n",
       "      <td>Злата</td>\n",
       "      <td>27</td>\n",
       "      <td>Ростов-на-Дону</td>\n",
       "      <td>ultra</td>\n",
       "    </tr>\n",
       "    <tr>\n",
       "      <th>1542</th>\n",
       "      <td>204</td>\n",
       "      <td>Руслан</td>\n",
       "      <td>30</td>\n",
       "      <td>Пятигорск</td>\n",
       "      <td>ultra</td>\n",
       "    </tr>\n",
       "    <tr>\n",
       "      <th>1543</th>\n",
       "      <td>153</td>\n",
       "      <td>Герман</td>\n",
       "      <td>23</td>\n",
       "      <td>Москва</td>\n",
       "      <td>ultra</td>\n",
       "    </tr>\n",
       "    <tr>\n",
       "      <th>1544</th>\n",
       "      <td>1245</td>\n",
       "      <td>Регина</td>\n",
       "      <td>27</td>\n",
       "      <td>Пятигорск</td>\n",
       "      <td>free</td>\n",
       "    </tr>\n",
       "    <tr>\n",
       "      <th>1545</th>\n",
       "      <td>807</td>\n",
       "      <td>Александр</td>\n",
       "      <td>28</td>\n",
       "      <td>Екатеринбург</td>\n",
       "      <td>free</td>\n",
       "    </tr>\n",
       "    <tr>\n",
       "      <th>1546</th>\n",
       "      <td>924</td>\n",
       "      <td>Мария</td>\n",
       "      <td>23</td>\n",
       "      <td>Пятигорск</td>\n",
       "      <td>free</td>\n",
       "    </tr>\n",
       "    <tr>\n",
       "      <th>1547</th>\n",
       "      <td>635</td>\n",
       "      <td>Герман</td>\n",
       "      <td>21</td>\n",
       "      <td>Москва</td>\n",
       "      <td>ultra</td>\n",
       "    </tr>\n",
       "    <tr>\n",
       "      <th>1548</th>\n",
       "      <td>136</td>\n",
       "      <td>Марсель</td>\n",
       "      <td>25</td>\n",
       "      <td>Тюмень</td>\n",
       "      <td>ultra</td>\n",
       "    </tr>\n",
       "    <tr>\n",
       "      <th>1549</th>\n",
       "      <td>108</td>\n",
       "      <td>Влада</td>\n",
       "      <td>29</td>\n",
       "      <td>Тюмень</td>\n",
       "      <td>ultra</td>\n",
       "    </tr>\n",
       "    <tr>\n",
       "      <th>1550</th>\n",
       "      <td>737</td>\n",
       "      <td>Мелания</td>\n",
       "      <td>27</td>\n",
       "      <td>Ростов-на-Дону</td>\n",
       "      <td>free</td>\n",
       "    </tr>\n",
       "    <tr>\n",
       "      <th>1551</th>\n",
       "      <td>666</td>\n",
       "      <td>Зарина</td>\n",
       "      <td>29</td>\n",
       "      <td>Москва</td>\n",
       "      <td>ultra</td>\n",
       "    </tr>\n",
       "    <tr>\n",
       "      <th>1552</th>\n",
       "      <td>297</td>\n",
       "      <td>Егор</td>\n",
       "      <td>33</td>\n",
       "      <td>Пятигорск</td>\n",
       "      <td>ultra</td>\n",
       "    </tr>\n",
       "    <tr>\n",
       "      <th>1553</th>\n",
       "      <td>121</td>\n",
       "      <td>Алина</td>\n",
       "      <td>25</td>\n",
       "      <td>Пятигорск</td>\n",
       "      <td>ultra</td>\n",
       "    </tr>\n",
       "    <tr>\n",
       "      <th>1554</th>\n",
       "      <td>1198</td>\n",
       "      <td>Демид</td>\n",
       "      <td>29</td>\n",
       "      <td>Ростов-на-Дону</td>\n",
       "      <td>free</td>\n",
       "    </tr>\n",
       "    <tr>\n",
       "      <th>1555</th>\n",
       "      <td>72</td>\n",
       "      <td>Никита</td>\n",
       "      <td>25</td>\n",
       "      <td>Москва</td>\n",
       "      <td>ultra</td>\n",
       "    </tr>\n",
       "    <tr>\n",
       "      <th>1556</th>\n",
       "      <td>422</td>\n",
       "      <td>Кирилл</td>\n",
       "      <td>27</td>\n",
       "      <td>Сочи</td>\n",
       "      <td>ultra</td>\n",
       "    </tr>\n",
       "    <tr>\n",
       "      <th>1557</th>\n",
       "      <td>611</td>\n",
       "      <td>Владимир</td>\n",
       "      <td>28</td>\n",
       "      <td>Омск</td>\n",
       "      <td>ultra</td>\n",
       "    </tr>\n",
       "    <tr>\n",
       "      <th>1558</th>\n",
       "      <td>1237</td>\n",
       "      <td>Евгения</td>\n",
       "      <td>23</td>\n",
       "      <td>Тюмень</td>\n",
       "      <td>free</td>\n",
       "    </tr>\n",
       "    <tr>\n",
       "      <th>1559</th>\n",
       "      <td>209</td>\n",
       "      <td>Андрей</td>\n",
       "      <td>23</td>\n",
       "      <td>Омск</td>\n",
       "      <td>ultra</td>\n",
       "    </tr>\n",
       "    <tr>\n",
       "      <th>1560</th>\n",
       "      <td>829</td>\n",
       "      <td>Федор</td>\n",
       "      <td>29</td>\n",
       "      <td>Пятигорск</td>\n",
       "      <td>free</td>\n",
       "    </tr>\n",
       "    <tr>\n",
       "      <th>1561</th>\n",
       "      <td>809</td>\n",
       "      <td>Юрий</td>\n",
       "      <td>26</td>\n",
       "      <td>Сочи</td>\n",
       "      <td>free</td>\n",
       "    </tr>\n",
       "    <tr>\n",
       "      <th>1562</th>\n",
       "      <td>307</td>\n",
       "      <td>Ясмина</td>\n",
       "      <td>19</td>\n",
       "      <td>Краснодар</td>\n",
       "      <td>ultra</td>\n",
       "    </tr>\n",
       "    <tr>\n",
       "      <th>1563</th>\n",
       "      <td>47</td>\n",
       "      <td>Юрий</td>\n",
       "      <td>28</td>\n",
       "      <td>Тюмень</td>\n",
       "      <td>ultra</td>\n",
       "    </tr>\n",
       "    <tr>\n",
       "      <th>1564</th>\n",
       "      <td>1045</td>\n",
       "      <td>Артемий</td>\n",
       "      <td>28</td>\n",
       "      <td>Ростов-на-Дону</td>\n",
       "      <td>free</td>\n",
       "    </tr>\n",
       "  </tbody>\n",
       "</table>\n",
       "</div>"
      ],
      "text/plain": [
       "      user_id        name  age            city subscription_type\n",
       "1534      293       Агата   26       Краснодар             ultra\n",
       "1535       16      Амалия   27       Краснодар             ultra\n",
       "1536      909  Константин   20    Екатеринбург              free\n",
       "1537      403      Полина   19            Сочи             ultra\n",
       "1538      908      Рустам   30          Тюмень              free\n",
       "1539       43    Стефания   22            Омск             ultra\n",
       "1540      127       Павел   25       Пятигорск             ultra\n",
       "1541      659       Злата   27  Ростов-на-Дону             ultra\n",
       "1542      204      Руслан   30       Пятигорск             ultra\n",
       "1543      153      Герман   23          Москва             ultra\n",
       "1544     1245      Регина   27       Пятигорск              free\n",
       "1545      807   Александр   28    Екатеринбург              free\n",
       "1546      924       Мария   23       Пятигорск              free\n",
       "1547      635      Герман   21          Москва             ultra\n",
       "1548      136     Марсель   25          Тюмень             ultra\n",
       "1549      108       Влада   29          Тюмень             ultra\n",
       "1550      737     Мелания   27  Ростов-на-Дону              free\n",
       "1551      666      Зарина   29          Москва             ultra\n",
       "1552      297        Егор   33       Пятигорск             ultra\n",
       "1553      121       Алина   25       Пятигорск             ultra\n",
       "1554     1198       Демид   29  Ростов-на-Дону              free\n",
       "1555       72      Никита   25          Москва             ultra\n",
       "1556      422      Кирилл   27            Сочи             ultra\n",
       "1557      611    Владимир   28            Омск             ultra\n",
       "1558     1237     Евгения   23          Тюмень              free\n",
       "1559      209      Андрей   23            Омск             ultra\n",
       "1560      829       Федор   29       Пятигорск              free\n",
       "1561      809        Юрий   26            Сочи              free\n",
       "1562      307      Ясмина   19       Краснодар             ultra\n",
       "1563       47        Юрий   28          Тюмень             ultra\n",
       "1564     1045     Артемий   28  Ростов-на-Дону              free"
      ]
     },
     "execution_count": 19,
     "metadata": {},
     "output_type": "execute_result"
    }
   ],
   "source": [
    "data_users.loc[data_users.duplicated()]"
   ]
  },
  {
   "cell_type": "code",
   "execution_count": 20,
   "id": "3f8892aa",
   "metadata": {},
   "outputs": [],
   "source": [
    "data_users = data_users.drop_duplicates().reset_index(drop = True)"
   ]
  },
  {
   "cell_type": "code",
   "execution_count": 21,
   "id": "1bfa0d6a",
   "metadata": {},
   "outputs": [
    {
     "name": "stdout",
     "output_type": "stream",
     "text": [
      "<class 'pandas.core.frame.DataFrame'>\n",
      "RangeIndex: 1534 entries, 0 to 1533\n",
      "Data columns (total 5 columns):\n",
      " #   Column             Non-Null Count  Dtype \n",
      "---  ------             --------------  ----- \n",
      " 0   user_id            1534 non-null   int64 \n",
      " 1   name               1534 non-null   object\n",
      " 2   age                1534 non-null   int64 \n",
      " 3   city               1534 non-null   object\n",
      " 4   subscription_type  1534 non-null   object\n",
      "dtypes: int64(2), object(3)\n",
      "memory usage: 60.0+ KB\n"
     ]
    }
   ],
   "source": [
    "data_users.info()"
   ]
  },
  {
   "cell_type": "code",
   "execution_count": 22,
   "id": "c76547b0",
   "metadata": {},
   "outputs": [
    {
     "data": {
      "text/plain": [
       "0"
      ]
     },
     "execution_count": 22,
     "metadata": {},
     "output_type": "execute_result"
    }
   ],
   "source": [
    "data_rides.duplicated().sum()"
   ]
  },
  {
   "cell_type": "code",
   "execution_count": 23,
   "id": "7d2badd5",
   "metadata": {},
   "outputs": [
    {
     "data": {
      "text/plain": [
       "user_id     0\n",
       "distance    0\n",
       "duration    0\n",
       "date        0\n",
       "month       0\n",
       "dtype: int64"
      ]
     },
     "execution_count": 23,
     "metadata": {},
     "output_type": "execute_result"
    }
   ],
   "source": [
    "data_rides.isna().sum()"
   ]
  },
  {
   "cell_type": "code",
   "execution_count": 24,
   "id": "ad032fa1",
   "metadata": {},
   "outputs": [
    {
     "data": {
      "text/plain": [
       "0"
      ]
     },
     "execution_count": 24,
     "metadata": {},
     "output_type": "execute_result"
    }
   ],
   "source": [
    "data_subscriptions_go.duplicated().sum()"
   ]
  },
  {
   "cell_type": "code",
   "execution_count": 25,
   "id": "44da6edf",
   "metadata": {},
   "outputs": [
    {
     "data": {
      "text/plain": [
       "subscription_type    0\n",
       "minute_price         0\n",
       "start_ride_price     0\n",
       "subscription_fee     0\n",
       "dtype: int64"
      ]
     },
     "execution_count": 25,
     "metadata": {},
     "output_type": "execute_result"
    }
   ],
   "source": [
    "data_subscriptions_go.isna().sum()"
   ]
  },
  {
   "cell_type": "markdown",
   "id": "008a4bc4",
   "metadata": {},
   "source": [
    "В ходе предобработки данных пропущенные значения не выявлены. В данных о пользователях выявлен 31 дубликат. Дуюликаты удалены. В остальных файлах дубликатов не выявлено"
   ]
  },
  {
   "cell_type": "markdown",
   "id": "1dcf87f4-74d8-4726-bb38-345a5c576e2b",
   "metadata": {},
   "source": [
    "### Шаг 3. Исследовательский анализ данных"
   ]
  },
  {
   "cell_type": "code",
   "execution_count": 27,
   "id": "dfedb7b6",
   "metadata": {},
   "outputs": [
    {
     "data": {
      "text/html": [
       "<div>\n",
       "<style scoped>\n",
       "    .dataframe tbody tr th:only-of-type {\n",
       "        vertical-align: middle;\n",
       "    }\n",
       "\n",
       "    .dataframe tbody tr th {\n",
       "        vertical-align: top;\n",
       "    }\n",
       "\n",
       "    .dataframe thead th {\n",
       "        text-align: right;\n",
       "    }\n",
       "</style>\n",
       "<table border=\"1\" class=\"dataframe\">\n",
       "  <thead>\n",
       "    <tr style=\"text-align: right;\">\n",
       "      <th></th>\n",
       "      <th>user_id</th>\n",
       "      <th>distance</th>\n",
       "      <th>duration</th>\n",
       "      <th>date</th>\n",
       "      <th>month</th>\n",
       "    </tr>\n",
       "  </thead>\n",
       "  <tbody>\n",
       "    <tr>\n",
       "      <th>0</th>\n",
       "      <td>1</td>\n",
       "      <td>4409.92</td>\n",
       "      <td>25.599769</td>\n",
       "      <td>2021-01-01</td>\n",
       "      <td>1</td>\n",
       "    </tr>\n",
       "    <tr>\n",
       "      <th>1</th>\n",
       "      <td>1</td>\n",
       "      <td>2617.59</td>\n",
       "      <td>15.816871</td>\n",
       "      <td>2021-01-18</td>\n",
       "      <td>1</td>\n",
       "    </tr>\n",
       "    <tr>\n",
       "      <th>2</th>\n",
       "      <td>1</td>\n",
       "      <td>754.16</td>\n",
       "      <td>6.232113</td>\n",
       "      <td>2021-04-20</td>\n",
       "      <td>4</td>\n",
       "    </tr>\n",
       "    <tr>\n",
       "      <th>3</th>\n",
       "      <td>1</td>\n",
       "      <td>2694.78</td>\n",
       "      <td>18.511000</td>\n",
       "      <td>2021-08-11</td>\n",
       "      <td>8</td>\n",
       "    </tr>\n",
       "    <tr>\n",
       "      <th>4</th>\n",
       "      <td>1</td>\n",
       "      <td>4028.69</td>\n",
       "      <td>26.265803</td>\n",
       "      <td>2021-08-28</td>\n",
       "      <td>8</td>\n",
       "    </tr>\n",
       "  </tbody>\n",
       "</table>\n",
       "</div>"
      ],
      "text/plain": [
       "   user_id  distance   duration       date  month\n",
       "0        1   4409.92  25.599769 2021-01-01      1\n",
       "1        1   2617.59  15.816871 2021-01-18      1\n",
       "2        1    754.16   6.232113 2021-04-20      4\n",
       "3        1   2694.78  18.511000 2021-08-11      8\n",
       "4        1   4028.69  26.265803 2021-08-28      8"
      ]
     },
     "execution_count": 27,
     "metadata": {},
     "output_type": "execute_result"
    }
   ],
   "source": [
    "data_rides['distance'] = data_rides['distance'].round(2)\n",
    "data_rides.head()"
   ]
  },
  {
   "cell_type": "code",
   "execution_count": 28,
   "id": "872fb34d",
   "metadata": {},
   "outputs": [
    {
     "data": {
      "text/plain": [
       "0.5"
      ]
     },
     "execution_count": 28,
     "metadata": {},
     "output_type": "execute_result"
    }
   ],
   "source": [
    "data_rides['duration'].min()"
   ]
  },
  {
   "cell_type": "code",
   "execution_count": 29,
   "id": "630118f0",
   "metadata": {},
   "outputs": [
    {
     "data": {
      "text/plain": [
       "40.82396261922424"
      ]
     },
     "execution_count": 29,
     "metadata": {},
     "output_type": "execute_result"
    }
   ],
   "source": [
    "data_rides['duration'].max()"
   ]
  },
  {
   "cell_type": "markdown",
   "id": "490cf6ce",
   "metadata": {},
   "source": [
    "Минимальное время поездки - 0,5 минуты. Маловато конечно, но может быть у пользователя изменились планы.\n",
    "Максимальное время поздки - 40,8 мин. Вполне вероятно для прогулки на самокате."
   ]
  },
  {
   "cell_type": "code",
   "execution_count": 30,
   "id": "e3a4274c",
   "metadata": {},
   "outputs": [
    {
     "data": {
      "text/html": [
       "<div>\n",
       "<style scoped>\n",
       "    .dataframe tbody tr th:only-of-type {\n",
       "        vertical-align: middle;\n",
       "    }\n",
       "\n",
       "    .dataframe tbody tr th {\n",
       "        vertical-align: top;\n",
       "    }\n",
       "\n",
       "    .dataframe thead th {\n",
       "        text-align: right;\n",
       "    }\n",
       "</style>\n",
       "<table border=\"1\" class=\"dataframe\">\n",
       "  <thead>\n",
       "    <tr style=\"text-align: right;\">\n",
       "      <th></th>\n",
       "      <th>user_id</th>\n",
       "      <th>share</th>\n",
       "    </tr>\n",
       "    <tr>\n",
       "      <th>city</th>\n",
       "      <th></th>\n",
       "      <th></th>\n",
       "    </tr>\n",
       "  </thead>\n",
       "  <tbody>\n",
       "    <tr>\n",
       "      <th>Пятигорск</th>\n",
       "      <td>219</td>\n",
       "      <td>14.3%</td>\n",
       "    </tr>\n",
       "    <tr>\n",
       "      <th>Екатеринбург</th>\n",
       "      <td>204</td>\n",
       "      <td>13.3%</td>\n",
       "    </tr>\n",
       "    <tr>\n",
       "      <th>Ростов-на-Дону</th>\n",
       "      <td>198</td>\n",
       "      <td>12.9%</td>\n",
       "    </tr>\n",
       "    <tr>\n",
       "      <th>Краснодар</th>\n",
       "      <td>193</td>\n",
       "      <td>12.6%</td>\n",
       "    </tr>\n",
       "    <tr>\n",
       "      <th>Сочи</th>\n",
       "      <td>189</td>\n",
       "      <td>12.3%</td>\n",
       "    </tr>\n",
       "    <tr>\n",
       "      <th>Омск</th>\n",
       "      <td>183</td>\n",
       "      <td>11.9%</td>\n",
       "    </tr>\n",
       "    <tr>\n",
       "      <th>Тюмень</th>\n",
       "      <td>180</td>\n",
       "      <td>11.7%</td>\n",
       "    </tr>\n",
       "    <tr>\n",
       "      <th>Москва</th>\n",
       "      <td>168</td>\n",
       "      <td>11.0%</td>\n",
       "    </tr>\n",
       "  </tbody>\n",
       "</table>\n",
       "</div>"
      ],
      "text/plain": [
       "                user_id  share\n",
       "city                          \n",
       "Пятигорск           219  14.3%\n",
       "Екатеринбург        204  13.3%\n",
       "Ростов-на-Дону      198  12.9%\n",
       "Краснодар           193  12.6%\n",
       "Сочи                189  12.3%\n",
       "Омск                183  11.9%\n",
       "Тюмень              180  11.7%\n",
       "Москва              168  11.0%"
      ]
     },
     "execution_count": 30,
     "metadata": {},
     "output_type": "execute_result"
    }
   ],
   "source": [
    "data_users_city = data_users.pivot_table(\n",
    "    index = ['city'], values = 'user_id', aggfunc = 'count').sort_values(by = 'user_id', ascending = False)\n",
    "data_users_city['share'] = data_users_city['user_id'] / len(data_users)\n",
    "data_users_city['share'] = data_users_city['share'].map('{:.1%}'.format)\n",
    "data_users_city"
   ]
  },
  {
   "cell_type": "code",
   "execution_count": 31,
   "id": "cffb23eb",
   "metadata": {},
   "outputs": [
    {
     "data": {
      "image/png": "[encoded data removed]",
      "text/plain": [
       "<Figure size 720x360 with 1 Axes>"
      ]
     },
     "metadata": {
      "needs_background": "light"
     },
     "output_type": "display_data"
    }
   ],
   "source": [
    "data_users_city.plot(kind='bar', figsize=(10, 5))\n",
    "\n",
    "plt.title('Количество пользователей по городам')\n",
    "plt.xlabel('Города')\n",
    "plt.ylabel('Количество пользователей')\n",
    "\n",
    "plt.show()"
   ]
  },
  {
   "cell_type": "markdown",
   "id": "fe346f03",
   "metadata": {},
   "source": [
    "Больше всего пользователей сервиса аренды самокатов в Пятигорске, меньше всего - в Москве"
   ]
  },
  {
   "cell_type": "code",
   "execution_count": 32,
   "id": "a68d959f",
   "metadata": {},
   "outputs": [
    {
     "data": {
      "text/html": [
       "<div>\n",
       "<style scoped>\n",
       "    .dataframe tbody tr th:only-of-type {\n",
       "        vertical-align: middle;\n",
       "    }\n",
       "\n",
       "    .dataframe tbody tr th {\n",
       "        vertical-align: top;\n",
       "    }\n",
       "\n",
       "    .dataframe thead th {\n",
       "        text-align: right;\n",
       "    }\n",
       "</style>\n",
       "<table border=\"1\" class=\"dataframe\">\n",
       "  <thead>\n",
       "    <tr style=\"text-align: right;\">\n",
       "      <th></th>\n",
       "      <th>user_id</th>\n",
       "      <th>share</th>\n",
       "    </tr>\n",
       "    <tr>\n",
       "      <th>subscription_type</th>\n",
       "      <th></th>\n",
       "      <th></th>\n",
       "    </tr>\n",
       "  </thead>\n",
       "  <tbody>\n",
       "    <tr>\n",
       "      <th>free</th>\n",
       "      <td>835</td>\n",
       "      <td>54.4%</td>\n",
       "    </tr>\n",
       "    <tr>\n",
       "      <th>ultra</th>\n",
       "      <td>699</td>\n",
       "      <td>45.6%</td>\n",
       "    </tr>\n",
       "  </tbody>\n",
       "</table>\n",
       "</div>"
      ],
      "text/plain": [
       "                   user_id  share\n",
       "subscription_type                \n",
       "free                   835  54.4%\n",
       "ultra                  699  45.6%"
      ]
     },
     "execution_count": 32,
     "metadata": {},
     "output_type": "execute_result"
    }
   ],
   "source": [
    "data_users_type = data_users.pivot_table(\n",
    "    index = ['subscription_type'], values = 'user_id', aggfunc = 'count').sort_values(by = 'user_id', ascending = False)\n",
    "data_users_type['share'] = data_users_type['user_id'] / len(data_users)\n",
    "data_users_type['share'] = data_users_type['share'].map('{:.1%}'.format)\n",
    "data_users_type"
   ]
  },
  {
   "cell_type": "code",
   "execution_count": 33,
   "id": "e13844b8",
   "metadata": {},
   "outputs": [
    {
     "data": {
      "image/png": "[encoded data removed]",
      "text/plain": [
       "<Figure size 720x360 with 1 Axes>"
      ]
     },
     "metadata": {
      "needs_background": "light"
     },
     "output_type": "display_data"
    }
   ],
   "source": [
    "data_users_type.plot(kind='bar', figsize=(10, 5))\n",
    "\n",
    "plt.title('Количество пользователей с подпиской и без подписки')\n",
    "plt.xlabel('Тип подписки')\n",
    "plt.ylabel('Количество пользователей')\n",
    "\n",
    "plt.show()"
   ]
  },
  {
   "cell_type": "markdown",
   "id": "2528f73a",
   "metadata": {},
   "source": [
    "Количество пользователей без подписки больше и составляет 54,4%."
   ]
  },
  {
   "cell_type": "code",
   "execution_count": 35,
   "id": "a0e1013a",
   "metadata": {},
   "outputs": [
    {
     "data": {
      "text/html": [
       "<div>\n",
       "<style scoped>\n",
       "    .dataframe tbody tr th:only-of-type {\n",
       "        vertical-align: middle;\n",
       "    }\n",
       "\n",
       "    .dataframe tbody tr th {\n",
       "        vertical-align: top;\n",
       "    }\n",
       "\n",
       "    .dataframe thead th {\n",
       "        text-align: right;\n",
       "    }\n",
       "</style>\n",
       "<table border=\"1\" class=\"dataframe\">\n",
       "  <thead>\n",
       "    <tr style=\"text-align: right;\">\n",
       "      <th></th>\n",
       "      <th>user_id</th>\n",
       "      <th>share</th>\n",
       "    </tr>\n",
       "    <tr>\n",
       "      <th>age</th>\n",
       "      <th></th>\n",
       "      <th></th>\n",
       "    </tr>\n",
       "  </thead>\n",
       "  <tbody>\n",
       "    <tr>\n",
       "      <th>12</th>\n",
       "      <td>4</td>\n",
       "      <td>0.3%</td>\n",
       "    </tr>\n",
       "    <tr>\n",
       "      <th>13</th>\n",
       "      <td>8</td>\n",
       "      <td>0.5%</td>\n",
       "    </tr>\n",
       "    <tr>\n",
       "      <th>14</th>\n",
       "      <td>9</td>\n",
       "      <td>0.6%</td>\n",
       "    </tr>\n",
       "    <tr>\n",
       "      <th>15</th>\n",
       "      <td>13</td>\n",
       "      <td>0.8%</td>\n",
       "    </tr>\n",
       "    <tr>\n",
       "      <th>16</th>\n",
       "      <td>19</td>\n",
       "      <td>1.2%</td>\n",
       "    </tr>\n",
       "    <tr>\n",
       "      <th>17</th>\n",
       "      <td>26</td>\n",
       "      <td>1.7%</td>\n",
       "    </tr>\n",
       "    <tr>\n",
       "      <th>18</th>\n",
       "      <td>46</td>\n",
       "      <td>3.0%</td>\n",
       "    </tr>\n",
       "    <tr>\n",
       "      <th>19</th>\n",
       "      <td>47</td>\n",
       "      <td>3.1%</td>\n",
       "    </tr>\n",
       "    <tr>\n",
       "      <th>20</th>\n",
       "      <td>71</td>\n",
       "      <td>4.6%</td>\n",
       "    </tr>\n",
       "    <tr>\n",
       "      <th>21</th>\n",
       "      <td>93</td>\n",
       "      <td>6.1%</td>\n",
       "    </tr>\n",
       "    <tr>\n",
       "      <th>22</th>\n",
       "      <td>119</td>\n",
       "      <td>7.8%</td>\n",
       "    </tr>\n",
       "    <tr>\n",
       "      <th>23</th>\n",
       "      <td>129</td>\n",
       "      <td>8.4%</td>\n",
       "    </tr>\n",
       "    <tr>\n",
       "      <th>24</th>\n",
       "      <td>132</td>\n",
       "      <td>8.6%</td>\n",
       "    </tr>\n",
       "    <tr>\n",
       "      <th>25</th>\n",
       "      <td>145</td>\n",
       "      <td>9.5%</td>\n",
       "    </tr>\n",
       "    <tr>\n",
       "      <th>26</th>\n",
       "      <td>131</td>\n",
       "      <td>8.5%</td>\n",
       "    </tr>\n",
       "    <tr>\n",
       "      <th>27</th>\n",
       "      <td>119</td>\n",
       "      <td>7.8%</td>\n",
       "    </tr>\n",
       "    <tr>\n",
       "      <th>28</th>\n",
       "      <td>112</td>\n",
       "      <td>7.3%</td>\n",
       "    </tr>\n",
       "    <tr>\n",
       "      <th>29</th>\n",
       "      <td>68</td>\n",
       "      <td>4.4%</td>\n",
       "    </tr>\n",
       "    <tr>\n",
       "      <th>30</th>\n",
       "      <td>68</td>\n",
       "      <td>4.4%</td>\n",
       "    </tr>\n",
       "    <tr>\n",
       "      <th>31</th>\n",
       "      <td>48</td>\n",
       "      <td>3.1%</td>\n",
       "    </tr>\n",
       "    <tr>\n",
       "      <th>32</th>\n",
       "      <td>41</td>\n",
       "      <td>2.7%</td>\n",
       "    </tr>\n",
       "    <tr>\n",
       "      <th>33</th>\n",
       "      <td>39</td>\n",
       "      <td>2.5%</td>\n",
       "    </tr>\n",
       "    <tr>\n",
       "      <th>34</th>\n",
       "      <td>19</td>\n",
       "      <td>1.2%</td>\n",
       "    </tr>\n",
       "    <tr>\n",
       "      <th>35</th>\n",
       "      <td>15</td>\n",
       "      <td>1.0%</td>\n",
       "    </tr>\n",
       "    <tr>\n",
       "      <th>36</th>\n",
       "      <td>6</td>\n",
       "      <td>0.4%</td>\n",
       "    </tr>\n",
       "    <tr>\n",
       "      <th>37</th>\n",
       "      <td>2</td>\n",
       "      <td>0.1%</td>\n",
       "    </tr>\n",
       "    <tr>\n",
       "      <th>38</th>\n",
       "      <td>3</td>\n",
       "      <td>0.2%</td>\n",
       "    </tr>\n",
       "    <tr>\n",
       "      <th>39</th>\n",
       "      <td>1</td>\n",
       "      <td>0.1%</td>\n",
       "    </tr>\n",
       "    <tr>\n",
       "      <th>43</th>\n",
       "      <td>1</td>\n",
       "      <td>0.1%</td>\n",
       "    </tr>\n",
       "  </tbody>\n",
       "</table>\n",
       "</div>"
      ],
      "text/plain": [
       "     user_id share\n",
       "age               \n",
       "12         4  0.3%\n",
       "13         8  0.5%\n",
       "14         9  0.6%\n",
       "15        13  0.8%\n",
       "16        19  1.2%\n",
       "17        26  1.7%\n",
       "18        46  3.0%\n",
       "19        47  3.1%\n",
       "20        71  4.6%\n",
       "21        93  6.1%\n",
       "22       119  7.8%\n",
       "23       129  8.4%\n",
       "24       132  8.6%\n",
       "25       145  9.5%\n",
       "26       131  8.5%\n",
       "27       119  7.8%\n",
       "28       112  7.3%\n",
       "29        68  4.4%\n",
       "30        68  4.4%\n",
       "31        48  3.1%\n",
       "32        41  2.7%\n",
       "33        39  2.5%\n",
       "34        19  1.2%\n",
       "35        15  1.0%\n",
       "36         6  0.4%\n",
       "37         2  0.1%\n",
       "38         3  0.2%\n",
       "39         1  0.1%\n",
       "43         1  0.1%"
      ]
     },
     "execution_count": 35,
     "metadata": {},
     "output_type": "execute_result"
    }
   ],
   "source": [
    "data_users_age = data_users.pivot_table(\n",
    "    index = ['age'], values = 'user_id', aggfunc = 'count').sort_values(by = 'age', ascending = True)\n",
    "data_users_age['share'] = data_users_age['user_id'] / len(data_users)\n",
    "data_users_age['share'] = data_users_age['share'].map('{:.1%}'.format)\n",
    "data_users_age"
   ]
  },
  {
   "cell_type": "code",
   "execution_count": 36,
   "id": "05faba68",
   "metadata": {},
   "outputs": [
    {
     "data": {
      "image/png": "[encoded data removed]",
      "text/plain": [
       "<Figure size 720x360 with 1 Axes>"
      ]
     },
     "metadata": {
      "needs_background": "light"
     },
     "output_type": "display_data"
    }
   ],
   "source": [
    "data_users_age.plot(kind='bar', figsize=(10, 5))\n",
    "\n",
    "plt.title('Количество пользователей по возрасту')\n",
    "plt.xlabel('Возраст')\n",
    "plt.ylabel('Количество пользователей')\n",
    "\n",
    "plt.show()"
   ]
  },
  {
   "cell_type": "code",
   "execution_count": 37,
   "id": "e553376b",
   "metadata": {},
   "outputs": [
    {
     "data": {
      "text/plain": [
       "count    1534.000000\n",
       "mean       24.903520\n",
       "std         4.572367\n",
       "min        12.000000\n",
       "25%        22.000000\n",
       "50%        25.000000\n",
       "75%        28.000000\n",
       "max        43.000000\n",
       "Name: age, dtype: float64"
      ]
     },
     "execution_count": 37,
     "metadata": {},
     "output_type": "execute_result"
    }
   ],
   "source": [
    "data_users['age'].describe()"
   ]
  },
  {
   "cell_type": "markdown",
   "id": "3e598cc1",
   "metadata": {},
   "source": [
    "Наибольшее количество пользователей приходится на возраст с 21 до 28 лет. Средний возраст пользователей - 25 лет. Самые младшие пользователи - 12 лет, самые старшие - 43 года"
   ]
  },
  {
   "cell_type": "code",
   "execution_count": 38,
   "id": "2096ad81",
   "metadata": {},
   "outputs": [
    {
     "data": {
      "text/plain": [
       "count    18068.000000\n",
       "mean      3070.659992\n",
       "std       1116.831222\n",
       "min          0.860000\n",
       "25%       2543.227500\n",
       "50%       3133.610000\n",
       "75%       3776.220000\n",
       "max       7211.010000\n",
       "Name: distance, dtype: float64"
      ]
     },
     "execution_count": 38,
     "metadata": {},
     "output_type": "execute_result"
    }
   ],
   "source": [
    "data_rides['distance'].describe()"
   ]
  },
  {
   "cell_type": "code",
   "execution_count": 39,
   "id": "3f9fd491",
   "metadata": {},
   "outputs": [
    {
     "data": {
      "image/png": "[encoded data removed]",
      "text/plain": [
       "<Figure size 432x288 with 1 Axes>"
      ]
     },
     "metadata": {
      "needs_background": "light"
     },
     "output_type": "display_data"
    }
   ],
   "source": [
    "plt.hist(data_rides['distance'], bins=200)\n",
    "plt.title('Количество поездок в зависимости от расстояния поездки')\n",
    "plt.xlabel('Расстояние в метрах')\n",
    "plt.ylabel('Количество поездок')\n",
    "plt.show()"
   ]
  },
  {
   "cell_type": "markdown",
   "id": "26448419",
   "metadata": {},
   "source": [
    "Среднее расстояние поездок - 3 070м. Наибольшее количество поездок совершено на расстояние от 2,5 км до 3,8 км."
   ]
  },
  {
   "cell_type": "code",
   "execution_count": 40,
   "id": "5810271d",
   "metadata": {},
   "outputs": [
    {
     "data": {
      "text/plain": [
       "count    18068.000000\n",
       "mean        17.805011\n",
       "std          6.091051\n",
       "min          0.500000\n",
       "25%         13.597563\n",
       "50%         17.678395\n",
       "75%         21.724800\n",
       "max         40.823963\n",
       "Name: duration, dtype: float64"
      ]
     },
     "execution_count": 40,
     "metadata": {},
     "output_type": "execute_result"
    }
   ],
   "source": [
    "data_rides['duration'].describe()"
   ]
  },
  {
   "cell_type": "code",
   "execution_count": 41,
   "id": "006ff1b9",
   "metadata": {},
   "outputs": [
    {
     "data": {
      "image/png": "[encoded data removed]",
      "text/plain": [
       "<Figure size 432x288 with 1 Axes>"
      ]
     },
     "metadata": {
      "needs_background": "light"
     },
     "output_type": "display_data"
    }
   ],
   "source": [
    "plt.hist(data_rides['duration'], bins=200)\n",
    "plt.title('Количество поездок в зависимости от продолжительности')\n",
    "plt.xlabel('Продолжительность поездки')\n",
    "plt.ylabel('Количество поездок')\n",
    "plt.show()"
   ]
  },
  {
   "cell_type": "markdown",
   "id": "6913309a",
   "metadata": {},
   "source": [
    "Средняя продолжительность поездки - 18 минут. Наибольшее количество поездок с продолжительностью от 12 до 22 минут. Самая короткая поездка - 0,5 минуты, самая продолжительная - 40,8 минуты."
   ]
  },
  {
   "cell_type": "markdown",
   "id": "4ef51331",
   "metadata": {},
   "source": [
    "### Шаг 4. Объединение данных"
   ]
  },
  {
   "cell_type": "code",
   "execution_count": 42,
   "id": "6bf288b5",
   "metadata": {},
   "outputs": [],
   "source": [
    "all_data = data_users.merge(data_rides)"
   ]
  },
  {
   "cell_type": "code",
   "execution_count": 43,
   "id": "0552bddb",
   "metadata": {},
   "outputs": [],
   "source": [
    "all_data = all_data.merge(data_subscriptions_go)"
   ]
  },
  {
   "cell_type": "code",
   "execution_count": 44,
   "id": "698cb1a2",
   "metadata": {},
   "outputs": [
    {
     "data": {
      "text/html": [
       "<div>\n",
       "<style scoped>\n",
       "    .dataframe tbody tr th:only-of-type {\n",
       "        vertical-align: middle;\n",
       "    }\n",
       "\n",
       "    .dataframe tbody tr th {\n",
       "        vertical-align: top;\n",
       "    }\n",
       "\n",
       "    .dataframe thead th {\n",
       "        text-align: right;\n",
       "    }\n",
       "</style>\n",
       "<table border=\"1\" class=\"dataframe\">\n",
       "  <thead>\n",
       "    <tr style=\"text-align: right;\">\n",
       "      <th></th>\n",
       "      <th>user_id</th>\n",
       "      <th>name</th>\n",
       "      <th>age</th>\n",
       "      <th>city</th>\n",
       "      <th>subscription_type</th>\n",
       "      <th>distance</th>\n",
       "      <th>duration</th>\n",
       "      <th>date</th>\n",
       "      <th>month</th>\n",
       "      <th>minute_price</th>\n",
       "      <th>start_ride_price</th>\n",
       "      <th>subscription_fee</th>\n",
       "    </tr>\n",
       "  </thead>\n",
       "  <tbody>\n",
       "    <tr>\n",
       "      <th>0</th>\n",
       "      <td>1</td>\n",
       "      <td>Кира</td>\n",
       "      <td>22</td>\n",
       "      <td>Тюмень</td>\n",
       "      <td>ultra</td>\n",
       "      <td>4409.92</td>\n",
       "      <td>25.599769</td>\n",
       "      <td>2021-01-01</td>\n",
       "      <td>1</td>\n",
       "      <td>6</td>\n",
       "      <td>0</td>\n",
       "      <td>199</td>\n",
       "    </tr>\n",
       "    <tr>\n",
       "      <th>1</th>\n",
       "      <td>1</td>\n",
       "      <td>Кира</td>\n",
       "      <td>22</td>\n",
       "      <td>Тюмень</td>\n",
       "      <td>ultra</td>\n",
       "      <td>2617.59</td>\n",
       "      <td>15.816871</td>\n",
       "      <td>2021-01-18</td>\n",
       "      <td>1</td>\n",
       "      <td>6</td>\n",
       "      <td>0</td>\n",
       "      <td>199</td>\n",
       "    </tr>\n",
       "    <tr>\n",
       "      <th>2</th>\n",
       "      <td>1</td>\n",
       "      <td>Кира</td>\n",
       "      <td>22</td>\n",
       "      <td>Тюмень</td>\n",
       "      <td>ultra</td>\n",
       "      <td>754.16</td>\n",
       "      <td>6.232113</td>\n",
       "      <td>2021-04-20</td>\n",
       "      <td>4</td>\n",
       "      <td>6</td>\n",
       "      <td>0</td>\n",
       "      <td>199</td>\n",
       "    </tr>\n",
       "    <tr>\n",
       "      <th>3</th>\n",
       "      <td>1</td>\n",
       "      <td>Кира</td>\n",
       "      <td>22</td>\n",
       "      <td>Тюмень</td>\n",
       "      <td>ultra</td>\n",
       "      <td>2694.78</td>\n",
       "      <td>18.511000</td>\n",
       "      <td>2021-08-11</td>\n",
       "      <td>8</td>\n",
       "      <td>6</td>\n",
       "      <td>0</td>\n",
       "      <td>199</td>\n",
       "    </tr>\n",
       "    <tr>\n",
       "      <th>4</th>\n",
       "      <td>1</td>\n",
       "      <td>Кира</td>\n",
       "      <td>22</td>\n",
       "      <td>Тюмень</td>\n",
       "      <td>ultra</td>\n",
       "      <td>4028.69</td>\n",
       "      <td>26.265803</td>\n",
       "      <td>2021-08-28</td>\n",
       "      <td>8</td>\n",
       "      <td>6</td>\n",
       "      <td>0</td>\n",
       "      <td>199</td>\n",
       "    </tr>\n",
       "  </tbody>\n",
       "</table>\n",
       "</div>"
      ],
      "text/plain": [
       "   user_id  name  age    city subscription_type  distance   duration  \\\n",
       "0        1  Кира   22  Тюмень             ultra   4409.92  25.599769   \n",
       "1        1  Кира   22  Тюмень             ultra   2617.59  15.816871   \n",
       "2        1  Кира   22  Тюмень             ultra    754.16   6.232113   \n",
       "3        1  Кира   22  Тюмень             ultra   2694.78  18.511000   \n",
       "4        1  Кира   22  Тюмень             ultra   4028.69  26.265803   \n",
       "\n",
       "        date  month  minute_price  start_ride_price  subscription_fee  \n",
       "0 2021-01-01      1             6                 0               199  \n",
       "1 2021-01-18      1             6                 0               199  \n",
       "2 2021-04-20      4             6                 0               199  \n",
       "3 2021-08-11      8             6                 0               199  \n",
       "4 2021-08-28      8             6                 0               199  "
      ]
     },
     "execution_count": 44,
     "metadata": {},
     "output_type": "execute_result"
    }
   ],
   "source": [
    "all_data.head()"
   ]
  },
  {
   "cell_type": "code",
   "execution_count": 45,
   "id": "7c3a5fda",
   "metadata": {},
   "outputs": [
    {
     "name": "stdout",
     "output_type": "stream",
     "text": [
      "<class 'pandas.core.frame.DataFrame'>\n",
      "Int64Index: 18068 entries, 0 to 18067\n",
      "Data columns (total 12 columns):\n",
      " #   Column             Non-Null Count  Dtype         \n",
      "---  ------             --------------  -----         \n",
      " 0   user_id            18068 non-null  int64         \n",
      " 1   name               18068 non-null  object        \n",
      " 2   age                18068 non-null  int64         \n",
      " 3   city               18068 non-null  object        \n",
      " 4   subscription_type  18068 non-null  object        \n",
      " 5   distance           18068 non-null  float64       \n",
      " 6   duration           18068 non-null  float64       \n",
      " 7   date               18068 non-null  datetime64[ns]\n",
      " 8   month              18068 non-null  int64         \n",
      " 9   minute_price       18068 non-null  int64         \n",
      " 10  start_ride_price   18068 non-null  int64         \n",
      " 11  subscription_fee   18068 non-null  int64         \n",
      "dtypes: datetime64[ns](1), float64(2), int64(6), object(3)\n",
      "memory usage: 1.8+ MB\n"
     ]
    }
   ],
   "source": [
    "all_data.info()"
   ]
  },
  {
   "cell_type": "code",
   "execution_count": 46,
   "id": "95e5e6c7",
   "metadata": {},
   "outputs": [],
   "source": [
    "all_data_free = all_data.query('subscription_type == \"free\"')"
   ]
  },
  {
   "cell_type": "code",
   "execution_count": 47,
   "id": "7a5914cf",
   "metadata": {},
   "outputs": [
    {
     "data": {
      "text/html": [
       "<div>\n",
       "<style scoped>\n",
       "    .dataframe tbody tr th:only-of-type {\n",
       "        vertical-align: middle;\n",
       "    }\n",
       "\n",
       "    .dataframe tbody tr th {\n",
       "        vertical-align: top;\n",
       "    }\n",
       "\n",
       "    .dataframe thead th {\n",
       "        text-align: right;\n",
       "    }\n",
       "</style>\n",
       "<table border=\"1\" class=\"dataframe\">\n",
       "  <thead>\n",
       "    <tr style=\"text-align: right;\">\n",
       "      <th></th>\n",
       "      <th>user_id</th>\n",
       "      <th>name</th>\n",
       "      <th>age</th>\n",
       "      <th>city</th>\n",
       "      <th>subscription_type</th>\n",
       "      <th>distance</th>\n",
       "      <th>duration</th>\n",
       "      <th>date</th>\n",
       "      <th>month</th>\n",
       "      <th>minute_price</th>\n",
       "      <th>start_ride_price</th>\n",
       "      <th>subscription_fee</th>\n",
       "    </tr>\n",
       "  </thead>\n",
       "  <tbody>\n",
       "    <tr>\n",
       "      <th>6500</th>\n",
       "      <td>700</td>\n",
       "      <td>Айдар</td>\n",
       "      <td>22</td>\n",
       "      <td>Омск</td>\n",
       "      <td>free</td>\n",
       "      <td>2515.69</td>\n",
       "      <td>14.944286</td>\n",
       "      <td>2021-01-02</td>\n",
       "      <td>1</td>\n",
       "      <td>8</td>\n",
       "      <td>50</td>\n",
       "      <td>0</td>\n",
       "    </tr>\n",
       "    <tr>\n",
       "      <th>6501</th>\n",
       "      <td>700</td>\n",
       "      <td>Айдар</td>\n",
       "      <td>22</td>\n",
       "      <td>Омск</td>\n",
       "      <td>free</td>\n",
       "      <td>846.93</td>\n",
       "      <td>16.234663</td>\n",
       "      <td>2021-02-01</td>\n",
       "      <td>2</td>\n",
       "      <td>8</td>\n",
       "      <td>50</td>\n",
       "      <td>0</td>\n",
       "    </tr>\n",
       "    <tr>\n",
       "      <th>6502</th>\n",
       "      <td>700</td>\n",
       "      <td>Айдар</td>\n",
       "      <td>22</td>\n",
       "      <td>Омск</td>\n",
       "      <td>free</td>\n",
       "      <td>4004.43</td>\n",
       "      <td>20.016628</td>\n",
       "      <td>2021-02-04</td>\n",
       "      <td>2</td>\n",
       "      <td>8</td>\n",
       "      <td>50</td>\n",
       "      <td>0</td>\n",
       "    </tr>\n",
       "    <tr>\n",
       "      <th>6503</th>\n",
       "      <td>700</td>\n",
       "      <td>Айдар</td>\n",
       "      <td>22</td>\n",
       "      <td>Омск</td>\n",
       "      <td>free</td>\n",
       "      <td>1205.91</td>\n",
       "      <td>9.782872</td>\n",
       "      <td>2021-02-10</td>\n",
       "      <td>2</td>\n",
       "      <td>8</td>\n",
       "      <td>50</td>\n",
       "      <td>0</td>\n",
       "    </tr>\n",
       "    <tr>\n",
       "      <th>6504</th>\n",
       "      <td>700</td>\n",
       "      <td>Айдар</td>\n",
       "      <td>22</td>\n",
       "      <td>Омск</td>\n",
       "      <td>free</td>\n",
       "      <td>3047.38</td>\n",
       "      <td>17.427673</td>\n",
       "      <td>2021-02-14</td>\n",
       "      <td>2</td>\n",
       "      <td>8</td>\n",
       "      <td>50</td>\n",
       "      <td>0</td>\n",
       "    </tr>\n",
       "  </tbody>\n",
       "</table>\n",
       "</div>"
      ],
      "text/plain": [
       "      user_id   name  age  city subscription_type  distance   duration  \\\n",
       "6500      700  Айдар   22  Омск              free   2515.69  14.944286   \n",
       "6501      700  Айдар   22  Омск              free    846.93  16.234663   \n",
       "6502      700  Айдар   22  Омск              free   4004.43  20.016628   \n",
       "6503      700  Айдар   22  Омск              free   1205.91   9.782872   \n",
       "6504      700  Айдар   22  Омск              free   3047.38  17.427673   \n",
       "\n",
       "           date  month  minute_price  start_ride_price  subscription_fee  \n",
       "6500 2021-01-02      1             8                50                 0  \n",
       "6501 2021-02-01      2             8                50                 0  \n",
       "6502 2021-02-04      2             8                50                 0  \n",
       "6503 2021-02-10      2             8                50                 0  \n",
       "6504 2021-02-14      2             8                50                 0  "
      ]
     },
     "execution_count": 47,
     "metadata": {},
     "output_type": "execute_result"
    }
   ],
   "source": [
    "all_data_free.head()"
   ]
  },
  {
   "cell_type": "code",
   "execution_count": 48,
   "id": "87738f60",
   "metadata": {},
   "outputs": [],
   "source": [
    "all_data_ultra = all_data.query('subscription_type == \"ultra\"')"
   ]
  },
  {
   "cell_type": "code",
   "execution_count": 49,
   "id": "d28e885a",
   "metadata": {},
   "outputs": [
    {
     "data": {
      "text/html": [
       "<div>\n",
       "<style scoped>\n",
       "    .dataframe tbody tr th:only-of-type {\n",
       "        vertical-align: middle;\n",
       "    }\n",
       "\n",
       "    .dataframe tbody tr th {\n",
       "        vertical-align: top;\n",
       "    }\n",
       "\n",
       "    .dataframe thead th {\n",
       "        text-align: right;\n",
       "    }\n",
       "</style>\n",
       "<table border=\"1\" class=\"dataframe\">\n",
       "  <thead>\n",
       "    <tr style=\"text-align: right;\">\n",
       "      <th></th>\n",
       "      <th>user_id</th>\n",
       "      <th>name</th>\n",
       "      <th>age</th>\n",
       "      <th>city</th>\n",
       "      <th>subscription_type</th>\n",
       "      <th>distance</th>\n",
       "      <th>duration</th>\n",
       "      <th>date</th>\n",
       "      <th>month</th>\n",
       "      <th>minute_price</th>\n",
       "      <th>start_ride_price</th>\n",
       "      <th>subscription_fee</th>\n",
       "    </tr>\n",
       "  </thead>\n",
       "  <tbody>\n",
       "    <tr>\n",
       "      <th>0</th>\n",
       "      <td>1</td>\n",
       "      <td>Кира</td>\n",
       "      <td>22</td>\n",
       "      <td>Тюмень</td>\n",
       "      <td>ultra</td>\n",
       "      <td>4409.92</td>\n",
       "      <td>25.599769</td>\n",
       "      <td>2021-01-01</td>\n",
       "      <td>1</td>\n",
       "      <td>6</td>\n",
       "      <td>0</td>\n",
       "      <td>199</td>\n",
       "    </tr>\n",
       "    <tr>\n",
       "      <th>1</th>\n",
       "      <td>1</td>\n",
       "      <td>Кира</td>\n",
       "      <td>22</td>\n",
       "      <td>Тюмень</td>\n",
       "      <td>ultra</td>\n",
       "      <td>2617.59</td>\n",
       "      <td>15.816871</td>\n",
       "      <td>2021-01-18</td>\n",
       "      <td>1</td>\n",
       "      <td>6</td>\n",
       "      <td>0</td>\n",
       "      <td>199</td>\n",
       "    </tr>\n",
       "    <tr>\n",
       "      <th>2</th>\n",
       "      <td>1</td>\n",
       "      <td>Кира</td>\n",
       "      <td>22</td>\n",
       "      <td>Тюмень</td>\n",
       "      <td>ultra</td>\n",
       "      <td>754.16</td>\n",
       "      <td>6.232113</td>\n",
       "      <td>2021-04-20</td>\n",
       "      <td>4</td>\n",
       "      <td>6</td>\n",
       "      <td>0</td>\n",
       "      <td>199</td>\n",
       "    </tr>\n",
       "    <tr>\n",
       "      <th>3</th>\n",
       "      <td>1</td>\n",
       "      <td>Кира</td>\n",
       "      <td>22</td>\n",
       "      <td>Тюмень</td>\n",
       "      <td>ultra</td>\n",
       "      <td>2694.78</td>\n",
       "      <td>18.511000</td>\n",
       "      <td>2021-08-11</td>\n",
       "      <td>8</td>\n",
       "      <td>6</td>\n",
       "      <td>0</td>\n",
       "      <td>199</td>\n",
       "    </tr>\n",
       "    <tr>\n",
       "      <th>4</th>\n",
       "      <td>1</td>\n",
       "      <td>Кира</td>\n",
       "      <td>22</td>\n",
       "      <td>Тюмень</td>\n",
       "      <td>ultra</td>\n",
       "      <td>4028.69</td>\n",
       "      <td>26.265803</td>\n",
       "      <td>2021-08-28</td>\n",
       "      <td>8</td>\n",
       "      <td>6</td>\n",
       "      <td>0</td>\n",
       "      <td>199</td>\n",
       "    </tr>\n",
       "  </tbody>\n",
       "</table>\n",
       "</div>"
      ],
      "text/plain": [
       "   user_id  name  age    city subscription_type  distance   duration  \\\n",
       "0        1  Кира   22  Тюмень             ultra   4409.92  25.599769   \n",
       "1        1  Кира   22  Тюмень             ultra   2617.59  15.816871   \n",
       "2        1  Кира   22  Тюмень             ultra    754.16   6.232113   \n",
       "3        1  Кира   22  Тюмень             ultra   2694.78  18.511000   \n",
       "4        1  Кира   22  Тюмень             ultra   4028.69  26.265803   \n",
       "\n",
       "        date  month  minute_price  start_ride_price  subscription_fee  \n",
       "0 2021-01-01      1             6                 0               199  \n",
       "1 2021-01-18      1             6                 0               199  \n",
       "2 2021-04-20      4             6                 0               199  \n",
       "3 2021-08-11      8             6                 0               199  \n",
       "4 2021-08-28      8             6                 0               199  "
      ]
     },
     "execution_count": 49,
     "metadata": {},
     "output_type": "execute_result"
    }
   ],
   "source": [
    "all_data_ultra.head()"
   ]
  },
  {
   "cell_type": "code",
   "execution_count": 50,
   "id": "1e0b7d4b",
   "metadata": {},
   "outputs": [
    {
     "data": {
      "text/plain": [
       "count    11568.000000\n",
       "mean      3045.495284\n",
       "std       1246.173810\n",
       "min          0.860000\n",
       "25%       2366.560000\n",
       "50%       3114.650000\n",
       "75%       3905.695000\n",
       "max       7211.010000\n",
       "Name: distance, dtype: float64"
      ]
     },
     "execution_count": 50,
     "metadata": {},
     "output_type": "execute_result"
    }
   ],
   "source": [
    "all_data_free['distance'].describe()"
   ]
  },
  {
   "cell_type": "code",
   "execution_count": 51,
   "id": "f03f6548",
   "metadata": {},
   "outputs": [
    {
     "data": {
      "image/png": "[encoded data removed]",
      "text/plain": [
       "<Figure size 432x288 with 1 Axes>"
      ]
     },
     "metadata": {
      "needs_background": "light"
     },
     "output_type": "display_data"
    }
   ],
   "source": [
    "plt.hist(all_data_free['distance'], bins=200)\n",
    "plt.title('Количество поездок в зависимости от расстояния поездки, бесплатный тариф')\n",
    "plt.xlabel('Расстояние в метрах')\n",
    "plt.ylabel('Количество поездок')\n",
    "plt.show()"
   ]
  },
  {
   "cell_type": "code",
   "execution_count": 52,
   "id": "a6a0a421",
   "metadata": {},
   "outputs": [
    {
     "data": {
      "text/plain": [
       "count    11568.000000\n",
       "mean        17.390909\n",
       "std          6.326803\n",
       "min          0.500000\n",
       "25%         12.958437\n",
       "50%         17.326890\n",
       "75%         21.594071\n",
       "max         34.948498\n",
       "Name: duration, dtype: float64"
      ]
     },
     "execution_count": 52,
     "metadata": {},
     "output_type": "execute_result"
    }
   ],
   "source": [
    "all_data_free['duration'].describe()"
   ]
  },
  {
   "cell_type": "code",
   "execution_count": 53,
   "id": "f141d22a",
   "metadata": {},
   "outputs": [
    {
     "data": {
      "image/png": "[encoded data removed]",
      "text/plain": [
       "<Figure size 432x288 with 1 Axes>"
      ]
     },
     "metadata": {
      "needs_background": "light"
     },
     "output_type": "display_data"
    }
   ],
   "source": [
    "plt.hist(all_data_free['duration'], bins=200)\n",
    "plt.title('Количество поездок в зависимости от продолжительности поездки, бесплатный тариф')\n",
    "plt.xlabel('Продолжительность поездки')\n",
    "plt.ylabel('Количество поездок')\n",
    "plt.show()"
   ]
  },
  {
   "cell_type": "code",
   "execution_count": 54,
   "id": "f2fa54fc",
   "metadata": {},
   "outputs": [
    {
     "data": {
      "text/plain": [
       "count    6500.000000\n",
       "mean     3115.445431\n",
       "std       836.895369\n",
       "min       244.210000\n",
       "25%      2785.447500\n",
       "50%      3148.640000\n",
       "75%      3560.577500\n",
       "max      5699.770000\n",
       "Name: distance, dtype: float64"
      ]
     },
     "execution_count": 54,
     "metadata": {},
     "output_type": "execute_result"
    }
   ],
   "source": [
    "all_data_ultra['distance'].describe()"
   ]
  },
  {
   "cell_type": "code",
   "execution_count": 55,
   "id": "601cb15f",
   "metadata": {},
   "outputs": [
    {
     "data": {
      "image/png": "[encoded data removed]",
      "text/plain": [
       "<Figure size 432x288 with 1 Axes>"
      ]
     },
     "metadata": {
      "needs_background": "light"
     },
     "output_type": "display_data"
    }
   ],
   "source": [
    "plt.hist(all_data_ultra['distance'], bins=200)\n",
    "plt.title('Количество поездок в зависимости от расстояния поездки, платный тариф')\n",
    "plt.xlabel('Расстояние в метрах')\n",
    "plt.ylabel('Количество поездок')\n",
    "plt.show()"
   ]
  },
  {
   "cell_type": "code",
   "execution_count": 56,
   "id": "f4b1bb73",
   "metadata": {},
   "outputs": [
    {
     "data": {
      "image/png": "[encoded data removed]",
      "text/plain": [
       "<Figure size 432x288 with 1 Axes>"
      ]
     },
     "metadata": {
      "needs_background": "light"
     },
     "output_type": "display_data"
    }
   ],
   "source": [
    "plt.hist([all_data_free['distance'],all_data_ultra['distance']], bins=10, range = (0, 7000), label=['free', 'ultra'])\n",
    "plt.legend(loc='upper right')\n",
    "plt.title('Количество поездок в зависимости расстояния поездки')\n",
    "plt.xlabel('Расстояние в метрах')\n",
    "plt.ylabel('Количество поездок')\n",
    "plt.show()"
   ]
  },
  {
   "cell_type": "code",
   "execution_count": 57,
   "id": "a9a50f85",
   "metadata": {},
   "outputs": [
    {
     "data": {
      "text/plain": [
       "count    6500.000000\n",
       "mean       18.541985\n",
       "std         5.572048\n",
       "min         3.760353\n",
       "25%        14.524654\n",
       "50%        18.178153\n",
       "75%        21.884129\n",
       "max        40.823963\n",
       "Name: duration, dtype: float64"
      ]
     },
     "execution_count": 57,
     "metadata": {},
     "output_type": "execute_result"
    }
   ],
   "source": [
    "all_data_ultra['duration'].describe()"
   ]
  },
  {
   "cell_type": "code",
   "execution_count": 58,
   "id": "cd0b790f",
   "metadata": {},
   "outputs": [
    {
     "data": {
      "image/png": "[encoded data removed]",
      "text/plain": [
       "<Figure size 432x288 with 1 Axes>"
      ]
     },
     "metadata": {
      "needs_background": "light"
     },
     "output_type": "display_data"
    }
   ],
   "source": [
    "plt.hist(all_data_ultra['duration'], bins=200)\n",
    "plt.title('Количество поездок в зависимости от расстояния поездки, платный тариф')\n",
    "plt.xlabel('Расстояние в метрах')\n",
    "plt.ylabel('Количество поездок')\n",
    "plt.show()"
   ]
  },
  {
   "cell_type": "markdown",
   "id": "17d43bd4",
   "metadata": {},
   "source": [
    "Среднее расстояние по платному тарифу чуть больше (3 115м), чем по бесплатному(3 045м). Наибольшее количество поездок по бесплатному тарифу на расстояние от 2,4 км до 4 км. По платному тарифу - от 2,8 км до 3,6 км. Максимальное расстояние поездки по бесплатному тарифу - 7,2 км, по платному - 5,7 км."
   ]
  },
  {
   "cell_type": "markdown",
   "id": "47d3fc3b",
   "metadata": {},
   "source": [
    "Средняя продолжительность поездки по платному тарифу чуть больше (18,5 мин), чем по бесплатному(17,4 мин). Наибольшее количество поездок по бесплатному тарифу с продолжительностью от 13 мин до 21,6 мин. По платному тарифу - от 14,5 мин до 21,9 мин. Максимальная продолжительность поездки по бесплатному тарифу - 34,9 мин, по платному - 40,8 км."
   ]
  },
  {
   "cell_type": "markdown",
   "id": "9a551347",
   "metadata": {},
   "source": [
    "Вывод: пользователи с платным тарифом совершают поездки на большее расстояние и с большей продолжительностью."
   ]
  },
  {
   "cell_type": "markdown",
   "id": "402d620f",
   "metadata": {},
   "source": [
    "#### Шаг 5. Подсчёт выручки"
   ]
  },
  {
   "cell_type": "code",
   "execution_count": 59,
   "id": "81539fd5",
   "metadata": {},
   "outputs": [],
   "source": [
    "all_data['duration'] = np.ceil(all_data['duration']) "
   ]
  },
  {
   "cell_type": "code",
   "execution_count": 60,
   "id": "53049e0a",
   "metadata": {},
   "outputs": [
    {
     "data": {
      "text/html": [
       "<div>\n",
       "<style scoped>\n",
       "    .dataframe tbody tr th:only-of-type {\n",
       "        vertical-align: middle;\n",
       "    }\n",
       "\n",
       "    .dataframe tbody tr th {\n",
       "        vertical-align: top;\n",
       "    }\n",
       "\n",
       "    .dataframe thead th {\n",
       "        text-align: right;\n",
       "    }\n",
       "</style>\n",
       "<table border=\"1\" class=\"dataframe\">\n",
       "  <thead>\n",
       "    <tr style=\"text-align: right;\">\n",
       "      <th></th>\n",
       "      <th></th>\n",
       "      <th>distance</th>\n",
       "      <th>duration</th>\n",
       "      <th>minute_price</th>\n",
       "      <th>count</th>\n",
       "      <th>start_ride_price</th>\n",
       "      <th>subscription_fee</th>\n",
       "    </tr>\n",
       "    <tr>\n",
       "      <th>month</th>\n",
       "      <th>user_id</th>\n",
       "      <th></th>\n",
       "      <th></th>\n",
       "      <th></th>\n",
       "      <th></th>\n",
       "      <th></th>\n",
       "      <th></th>\n",
       "    </tr>\n",
       "  </thead>\n",
       "  <tbody>\n",
       "    <tr>\n",
       "      <th rowspan=\"20\" valign=\"top\">1</th>\n",
       "      <th>1</th>\n",
       "      <td>7027.51</td>\n",
       "      <td>42.0</td>\n",
       "      <td>6</td>\n",
       "      <td>2</td>\n",
       "      <td>0</td>\n",
       "      <td>199</td>\n",
       "    </tr>\n",
       "    <tr>\n",
       "      <th>1061</th>\n",
       "      <td>12637.25</td>\n",
       "      <td>43.0</td>\n",
       "      <td>8</td>\n",
       "      <td>3</td>\n",
       "      <td>50</td>\n",
       "      <td>0</td>\n",
       "    </tr>\n",
       "    <tr>\n",
       "      <th>1063</th>\n",
       "      <td>3276.36</td>\n",
       "      <td>10.0</td>\n",
       "      <td>8</td>\n",
       "      <td>1</td>\n",
       "      <td>50</td>\n",
       "      <td>0</td>\n",
       "    </tr>\n",
       "    <tr>\n",
       "      <th>1064</th>\n",
       "      <td>5297.32</td>\n",
       "      <td>15.0</td>\n",
       "      <td>8</td>\n",
       "      <td>1</td>\n",
       "      <td>50</td>\n",
       "      <td>0</td>\n",
       "    </tr>\n",
       "    <tr>\n",
       "      <th>1065</th>\n",
       "      <td>14547.10</td>\n",
       "      <td>99.0</td>\n",
       "      <td>8</td>\n",
       "      <td>4</td>\n",
       "      <td>50</td>\n",
       "      <td>0</td>\n",
       "    </tr>\n",
       "    <tr>\n",
       "      <th>1066</th>\n",
       "      <td>2809.06</td>\n",
       "      <td>19.0</td>\n",
       "      <td>8</td>\n",
       "      <td>1</td>\n",
       "      <td>50</td>\n",
       "      <td>0</td>\n",
       "    </tr>\n",
       "    <tr>\n",
       "      <th>1067</th>\n",
       "      <td>3864.90</td>\n",
       "      <td>22.0</td>\n",
       "      <td>8</td>\n",
       "      <td>1</td>\n",
       "      <td>50</td>\n",
       "      <td>0</td>\n",
       "    </tr>\n",
       "    <tr>\n",
       "      <th>1069</th>\n",
       "      <td>7007.08</td>\n",
       "      <td>53.0</td>\n",
       "      <td>8</td>\n",
       "      <td>3</td>\n",
       "      <td>50</td>\n",
       "      <td>0</td>\n",
       "    </tr>\n",
       "    <tr>\n",
       "      <th>1071</th>\n",
       "      <td>3635.09</td>\n",
       "      <td>15.0</td>\n",
       "      <td>8</td>\n",
       "      <td>1</td>\n",
       "      <td>50</td>\n",
       "      <td>0</td>\n",
       "    </tr>\n",
       "    <tr>\n",
       "      <th>1072</th>\n",
       "      <td>2498.62</td>\n",
       "      <td>11.0</td>\n",
       "      <td>8</td>\n",
       "      <td>1</td>\n",
       "      <td>50</td>\n",
       "      <td>0</td>\n",
       "    </tr>\n",
       "    <tr>\n",
       "      <th>1073</th>\n",
       "      <td>2945.80</td>\n",
       "      <td>16.0</td>\n",
       "      <td>8</td>\n",
       "      <td>1</td>\n",
       "      <td>50</td>\n",
       "      <td>0</td>\n",
       "    </tr>\n",
       "    <tr>\n",
       "      <th>1074</th>\n",
       "      <td>2814.79</td>\n",
       "      <td>22.0</td>\n",
       "      <td>8</td>\n",
       "      <td>1</td>\n",
       "      <td>50</td>\n",
       "      <td>0</td>\n",
       "    </tr>\n",
       "    <tr>\n",
       "      <th>1075</th>\n",
       "      <td>5746.75</td>\n",
       "      <td>29.0</td>\n",
       "      <td>8</td>\n",
       "      <td>3</td>\n",
       "      <td>50</td>\n",
       "      <td>0</td>\n",
       "    </tr>\n",
       "    <tr>\n",
       "      <th>1077</th>\n",
       "      <td>114.04</td>\n",
       "      <td>13.0</td>\n",
       "      <td>8</td>\n",
       "      <td>1</td>\n",
       "      <td>50</td>\n",
       "      <td>0</td>\n",
       "    </tr>\n",
       "    <tr>\n",
       "      <th>1078</th>\n",
       "      <td>3748.22</td>\n",
       "      <td>19.0</td>\n",
       "      <td>8</td>\n",
       "      <td>1</td>\n",
       "      <td>50</td>\n",
       "      <td>0</td>\n",
       "    </tr>\n",
       "    <tr>\n",
       "      <th>1082</th>\n",
       "      <td>7250.13</td>\n",
       "      <td>30.0</td>\n",
       "      <td>8</td>\n",
       "      <td>2</td>\n",
       "      <td>50</td>\n",
       "      <td>0</td>\n",
       "    </tr>\n",
       "    <tr>\n",
       "      <th>1083</th>\n",
       "      <td>5848.88</td>\n",
       "      <td>31.0</td>\n",
       "      <td>8</td>\n",
       "      <td>2</td>\n",
       "      <td>50</td>\n",
       "      <td>0</td>\n",
       "    </tr>\n",
       "    <tr>\n",
       "      <th>1084</th>\n",
       "      <td>4615.10</td>\n",
       "      <td>25.0</td>\n",
       "      <td>8</td>\n",
       "      <td>1</td>\n",
       "      <td>50</td>\n",
       "      <td>0</td>\n",
       "    </tr>\n",
       "    <tr>\n",
       "      <th>1085</th>\n",
       "      <td>11410.54</td>\n",
       "      <td>63.0</td>\n",
       "      <td>8</td>\n",
       "      <td>3</td>\n",
       "      <td>50</td>\n",
       "      <td>0</td>\n",
       "    </tr>\n",
       "    <tr>\n",
       "      <th>1086</th>\n",
       "      <td>4044.28</td>\n",
       "      <td>18.0</td>\n",
       "      <td>8</td>\n",
       "      <td>1</td>\n",
       "      <td>50</td>\n",
       "      <td>0</td>\n",
       "    </tr>\n",
       "  </tbody>\n",
       "</table>\n",
       "</div>"
      ],
      "text/plain": [
       "               distance  duration  minute_price  count  start_ride_price  \\\n",
       "month user_id                                                              \n",
       "1     1         7027.51      42.0             6      2                 0   \n",
       "      1061     12637.25      43.0             8      3                50   \n",
       "      1063      3276.36      10.0             8      1                50   \n",
       "      1064      5297.32      15.0             8      1                50   \n",
       "      1065     14547.10      99.0             8      4                50   \n",
       "      1066      2809.06      19.0             8      1                50   \n",
       "      1067      3864.90      22.0             8      1                50   \n",
       "      1069      7007.08      53.0             8      3                50   \n",
       "      1071      3635.09      15.0             8      1                50   \n",
       "      1072      2498.62      11.0             8      1                50   \n",
       "      1073      2945.80      16.0             8      1                50   \n",
       "      1074      2814.79      22.0             8      1                50   \n",
       "      1075      5746.75      29.0             8      3                50   \n",
       "      1077       114.04      13.0             8      1                50   \n",
       "      1078      3748.22      19.0             8      1                50   \n",
       "      1082      7250.13      30.0             8      2                50   \n",
       "      1083      5848.88      31.0             8      2                50   \n",
       "      1084      4615.10      25.0             8      1                50   \n",
       "      1085     11410.54      63.0             8      3                50   \n",
       "      1086      4044.28      18.0             8      1                50   \n",
       "\n",
       "               subscription_fee  \n",
       "month user_id                    \n",
       "1     1                     199  \n",
       "      1061                    0  \n",
       "      1063                    0  \n",
       "      1064                    0  \n",
       "      1065                    0  \n",
       "      1066                    0  \n",
       "      1067                    0  \n",
       "      1069                    0  \n",
       "      1071                    0  \n",
       "      1072                    0  \n",
       "      1073                    0  \n",
       "      1074                    0  \n",
       "      1075                    0  \n",
       "      1077                    0  \n",
       "      1078                    0  \n",
       "      1082                    0  \n",
       "      1083                    0  \n",
       "      1084                    0  \n",
       "      1085                    0  \n",
       "      1086                    0  "
      ]
     },
     "execution_count": 60,
     "metadata": {},
     "output_type": "execute_result"
    }
   ],
   "source": [
    "data_sum = all_data.pivot_table(\n",
    "    index = ['month', 'user_id'], \n",
    "    values = ['distance', 'name', 'duration', 'minute_price', 'start_ride_price', 'subscription_fee'],\n",
    "     aggfunc = {'distance': sum, 'name': len, 'duration':sum, 'minute_price': max,  'start_ride_price':max,\n",
    "             'subscription_fee':max}).sort_values(by = 'month', ascending = True)\n",
    "data_sum.rename(columns = {'name' : 'count'}, inplace = True)\n",
    "data_sum.head(20)"
   ]
  },
  {
   "cell_type": "code",
   "execution_count": 61,
   "id": "2fee4f9e",
   "metadata": {},
   "outputs": [
    {
     "data": {
      "text/plain": [
       "distance            0\n",
       "duration            0\n",
       "minute_price        0\n",
       "count               0\n",
       "start_ride_price    0\n",
       "subscription_fee    0\n",
       "dtype: int64"
      ]
     },
     "execution_count": 61,
     "metadata": {},
     "output_type": "execute_result"
    }
   ],
   "source": [
    "data_sum.isna().sum()"
   ]
  },
  {
   "cell_type": "markdown",
   "id": "ef45930e",
   "metadata": {},
   "source": [
    "Объединенная таблица не содержит пропуски"
   ]
  },
  {
   "cell_type": "code",
   "execution_count": 62,
   "id": "0202e09b",
   "metadata": {},
   "outputs": [
    {
     "data": {
      "text/html": [
       "<div>\n",
       "<style scoped>\n",
       "    .dataframe tbody tr th:only-of-type {\n",
       "        vertical-align: middle;\n",
       "    }\n",
       "\n",
       "    .dataframe tbody tr th {\n",
       "        vertical-align: top;\n",
       "    }\n",
       "\n",
       "    .dataframe thead th {\n",
       "        text-align: right;\n",
       "    }\n",
       "</style>\n",
       "<table border=\"1\" class=\"dataframe\">\n",
       "  <thead>\n",
       "    <tr style=\"text-align: right;\">\n",
       "      <th></th>\n",
       "      <th></th>\n",
       "      <th>distance</th>\n",
       "      <th>duration</th>\n",
       "      <th>minute_price</th>\n",
       "      <th>count</th>\n",
       "      <th>start_ride_price</th>\n",
       "      <th>subscription_fee</th>\n",
       "      <th>revenue</th>\n",
       "    </tr>\n",
       "    <tr>\n",
       "      <th>month</th>\n",
       "      <th>user_id</th>\n",
       "      <th></th>\n",
       "      <th></th>\n",
       "      <th></th>\n",
       "      <th></th>\n",
       "      <th></th>\n",
       "      <th></th>\n",
       "      <th></th>\n",
       "    </tr>\n",
       "  </thead>\n",
       "  <tbody>\n",
       "    <tr>\n",
       "      <th rowspan=\"5\" valign=\"top\">1</th>\n",
       "      <th>1</th>\n",
       "      <td>7027.51</td>\n",
       "      <td>42.0</td>\n",
       "      <td>6</td>\n",
       "      <td>2</td>\n",
       "      <td>0</td>\n",
       "      <td>199</td>\n",
       "      <td>451.0</td>\n",
       "    </tr>\n",
       "    <tr>\n",
       "      <th>1061</th>\n",
       "      <td>12637.25</td>\n",
       "      <td>43.0</td>\n",
       "      <td>8</td>\n",
       "      <td>3</td>\n",
       "      <td>50</td>\n",
       "      <td>0</td>\n",
       "      <td>494.0</td>\n",
       "    </tr>\n",
       "    <tr>\n",
       "      <th>1063</th>\n",
       "      <td>3276.36</td>\n",
       "      <td>10.0</td>\n",
       "      <td>8</td>\n",
       "      <td>1</td>\n",
       "      <td>50</td>\n",
       "      <td>0</td>\n",
       "      <td>130.0</td>\n",
       "    </tr>\n",
       "    <tr>\n",
       "      <th>1064</th>\n",
       "      <td>5297.32</td>\n",
       "      <td>15.0</td>\n",
       "      <td>8</td>\n",
       "      <td>1</td>\n",
       "      <td>50</td>\n",
       "      <td>0</td>\n",
       "      <td>170.0</td>\n",
       "    </tr>\n",
       "    <tr>\n",
       "      <th>1065</th>\n",
       "      <td>14547.10</td>\n",
       "      <td>99.0</td>\n",
       "      <td>8</td>\n",
       "      <td>4</td>\n",
       "      <td>50</td>\n",
       "      <td>0</td>\n",
       "      <td>992.0</td>\n",
       "    </tr>\n",
       "  </tbody>\n",
       "</table>\n",
       "</div>"
      ],
      "text/plain": [
       "               distance  duration  minute_price  count  start_ride_price  \\\n",
       "month user_id                                                              \n",
       "1     1         7027.51      42.0             6      2                 0   \n",
       "      1061     12637.25      43.0             8      3                50   \n",
       "      1063      3276.36      10.0             8      1                50   \n",
       "      1064      5297.32      15.0             8      1                50   \n",
       "      1065     14547.10      99.0             8      4                50   \n",
       "\n",
       "               subscription_fee  revenue  \n",
       "month user_id                             \n",
       "1     1                     199    451.0  \n",
       "      1061                    0    494.0  \n",
       "      1063                    0    130.0  \n",
       "      1064                    0    170.0  \n",
       "      1065                    0    992.0  "
      ]
     },
     "execution_count": 62,
     "metadata": {},
     "output_type": "execute_result"
    }
   ],
   "source": [
    "data_sum['revenue'] = data_sum['start_ride_price'] * data_sum['count'] + data_sum['minute_price'] * data_sum ['duration'] + data_sum['subscription_fee']\n",
    "data_sum.head()"
   ]
  },
  {
   "cell_type": "code",
   "execution_count": 63,
   "id": "0b8c93fd",
   "metadata": {},
   "outputs": [
    {
     "data": {
      "text/plain": [
       "3878641.0"
      ]
     },
     "execution_count": 63,
     "metadata": {},
     "output_type": "execute_result"
    }
   ],
   "source": [
    "data_sum['revenue'].sum()"
   ]
  },
  {
   "cell_type": "markdown",
   "id": "4dab4001",
   "metadata": {},
   "source": [
    "Общая выручка сервиса составила 3 878 641 руб."
   ]
  },
  {
   "cell_type": "markdown",
   "id": "e64495ed",
   "metadata": {},
   "source": [
    "<font color='DarkBlue'><b>Комментарий ревьюера</b></font><br>\n",
    "<font color='DarkGreen'>👌 Правильно сделан раздел с  расчетом выручки. Молодец. 👍</font>"
   ]
  },
  {
   "cell_type": "markdown",
   "id": "41545ac0",
   "metadata": {},
   "source": [
    "### Шаг 6. Проверка гипотез"
   ]
  },
  {
   "cell_type": "markdown",
   "id": "26047b64",
   "metadata": {},
   "source": [
    " **6.1 Проверим гипотезу: тратят ли пользователи с подпиской больше времени на поездки**"
   ]
  },
  {
   "cell_type": "markdown",
   "id": "abf6a5ef",
   "metadata": {},
   "source": [
    "Выдвинем гипотезы:\n",
    "\n",
    "Н0: Средняя продолжительность поездок с подпиской и без равны\n",
    "\n",
    "Н1: Средняя продолжительность поездок с подпиской больше продолжительности поездок без подписки"
   ]
  },
  {
   "cell_type": "code",
   "execution_count": 65,
   "id": "fbcf0576",
   "metadata": {},
   "outputs": [
    {
     "name": "stdout",
     "output_type": "stream",
     "text": [
      "1.2804098316645618e-34\n",
      "Отвергаем нулевую гипотезу\n"
     ]
    }
   ],
   "source": [
    "results = st.ttest_ind(\n",
    "    all_data_ultra['duration'], all_data_free['duration'], alternative = 'greater')\n",
    "print(results.pvalue)\n",
    "\n",
    "alpha = 0.05\n",
    "if results.pvalue < alpha:\n",
    "    print('Отвергаем нулевую гипотезу')\n",
    "else:\n",
    "    print('Не получилось отвергнуть нулевую гипотезу')"
   ]
  },
  {
   "cell_type": "markdown",
   "id": "4e954326",
   "metadata": {},
   "source": [
    "Нулевая гипотеза отвергнута, есть основания утверждать, что средняя продолжительность поездки с подпиской больше продолжительности поездок без подписки при установленном уровне значимости в 5 %."
   ]
  },
  {
   "cell_type": "markdown",
   "id": "38b56ab3",
   "metadata": {},
   "source": [
    "**6.2 Проверим гипотезу: среднее расстояние, которое проезжают пользователи с подпиской за одну поездку, не превышает \n",
    "3130 метров.**"
   ]
  },
  {
   "cell_type": "markdown",
   "id": "d80a026c",
   "metadata": {},
   "source": [
    "Выдвинем гипотезы:\n",
    "\n",
    "Н0: Среднее расстояние, которое проезжают пользователи с подпиской равно 3130м\n",
    "\n",
    "Н1: Среднее расстояние, которое проезжают пользователи с подпиской больше 3130м"
   ]
  },
  {
   "cell_type": "code",
   "execution_count": 66,
   "id": "85ed0678",
   "metadata": {},
   "outputs": [
    {
     "name": "stdout",
     "output_type": "stream",
     "text": [
      "0.9195362605842414\n",
      "Не получилось отвергнуть нулевую гипотезу\n"
     ]
    }
   ],
   "source": [
    "distance = 3130\n",
    "results = st.ttest_1samp(\n",
    "    all_data_ultra['distance'], distance, alternative = 'greater')\n",
    "print(results.pvalue)\n",
    "\n",
    "alpha = 0.05\n",
    "if results.pvalue < alpha:\n",
    "    print('Отвергаем нулевую гипотезу')\n",
    "else:\n",
    "    print('Не получилось отвергнуть нулевую гипотезу')"
   ]
  },
  {
   "cell_type": "markdown",
   "id": "06b8ef8a",
   "metadata": {},
   "source": [
    "Нулевую гипотезу не удалось отвергнуть и следовательно, есть основания утверждать, что среднее расстояние поездки, пользователей с подпиской, не превышает оптимальное расстоянием в 3130 метров с точки зрения износа самоката, при установленном уровне значимости в 5 %."
   ]
  },
  {
   "cell_type": "markdown",
   "id": "cc77c27d",
   "metadata": {},
   "source": [
    "**6.3 Проверим гипотезу: будет ли помесячная выручка от пользователей с подпиской по месяцам выше, чем выручка от пользователей без подписки.** "
   ]
  },
  {
   "cell_type": "markdown",
   "id": "023284c9",
   "metadata": {},
   "source": [
    "Выдвинем гипотезы:\n",
    "\n",
    "Н0: Помесячная выручка от пользователей с подпиской по месяцам равна выручке от пользователей без подписки. \n",
    "\n",
    "Н1: Помесячная выручка от пользователей с подпиской по месяцам выше, чем выручка от пользователей без подписки. "
   ]
  },
  {
   "cell_type": "code",
   "execution_count": 67,
   "id": "039290c3",
   "metadata": {},
   "outputs": [
    {
     "name": "stdout",
     "output_type": "stream",
     "text": [
      "1.8850394384715216e-31\n",
      "Отвергаем нулевую гипотезу\n"
     ]
    }
   ],
   "source": [
    "results = st.ttest_ind(\n",
    "    data_sum.loc[data_sum['subscription_fee'] > 0, 'revenue'], \n",
    "    data_sum.loc[data_sum['subscription_fee'] == 0, 'revenue'], \n",
    "    alternative = 'greater')\n",
    "print(results.pvalue)\n",
    "\n",
    "alpha = 0.05\n",
    "if results.pvalue < alpha:\n",
    "    print('Отвергаем нулевую гипотезу')\n",
    "else:\n",
    "    print('Не получилось отвергнуть нулевую гипотезу')"
   ]
  },
  {
   "cell_type": "markdown",
   "id": "1272d373",
   "metadata": {},
   "source": [
    "Нулевая гипотеза отвергнута, есть основания утверждать, что помесячная выручка от пользователей с подпиской по месяцам выше, чем выручка от пользователей без подписки при установленном уровне значимости в 5 %."
   ]
  },
  {
   "cell_type": "markdown",
   "id": "5b02f14f",
   "metadata": {},
   "source": [
    "**6.4 В ситуации, когда техническая команда сервиса обновила сервера, с которыми взаимодействует мобильное приложение и надеется, что из-за этого количество обращений в техподдержку значимо снизилось. Некоторый файл содержит для каждого пользователя данные о количестве обращений до обновления и после него. Какой тест вам понадобился бы для проверки этой гипотезы?**"
   ]
  },
  {
   "cell_type": "markdown",
   "id": "edc6ced7",
   "metadata": {},
   "source": [
    "Так как выборки парные (зависимые), то для проверки этой гипотезы буду использовать scipy.stats.ttest_rel() с аргументом alternative='less'"
   ]
  },
  {
   "cell_type": "markdown",
   "id": "61213c5e",
   "metadata": {},
   "source": [
    "### Шаг 7. Общий вывод."
   ]
  },
  {
   "cell_type": "markdown",
   "id": "eebdfae6",
   "metadata": {},
   "source": [
    "7.1 В результате выгрузки данных мы имеем 3 датасета. Датасет с пользователями содержит 1565 строк, пропусков нет. Датасет с пользователями содержит 18068 строк, пропусков нет. Датасет с подписками содержит 2 строки, пропусков нет.\n",
    "\n",
    "7.2 В ходе предобработки данных пропущенные значения не выявлены. В данных о пользователях выявлен 31 дубликат. Дуюликаты удалены. В остальных файлах дубликатов не выявлено\n",
    "\n",
    "7.3 Больше всего пользователей сервиса аренды самокатов в Пятигорске, меньше всего - в Москве\n",
    "\n",
    "7.4 Пользователей без подписки больше и составляет 54,4%.\n",
    "\n",
    "7.5 Наибольшее количество пользователей приходится на возраст с 21 до 28 лет. Средний возраст пользователей - 25 лет. Самые младшие пользователи - 12 лет, самые старшие - 43 года\n",
    "\n",
    "7.6 Среднее расстояние поездок - 3 070м. Наибольшее количество поездок совершено на расстояние от 2,5 км до 3,8 км.\n",
    "\n",
    "7.7 Средняя продолжительность поездки - 18 минут. Наибольшее количество поездок с продолжительностью от 12 до 22 минут. Самая короткая поездка - 0,5 минуты, самая продолжительная - 40,8 минуты.\n",
    "\n",
    "7.8 Среднее расстояние по платному тарифу чуть больше (3 115м), чем по бесплатному(3 045м). Наибольшее количество поездок по бесплатному тарифу на расстояние от 2,4 км до 4 км. По платному тарифу - от 2,8 км до 3,6 км. Максимальное расстояние поездки по бесплатному тарифу - 7,2 км, по платному - 5,7 км.\n",
    "\n",
    "7.9 Средняя продолжительность поездки по платному тарифу чуть больше (18,5 мин), чем по бесплатному(17,4 мин). Наибольшее количество поездок по бесплатному тарифу с продолжительностью от 13 мин до 21,6 мин. По платному тарифу - от 14,5 мин до 21,9 мин. Максимальная продолжительность поездки по бесплатному тарифу - 34,9 мин, по платному - 40,8 км.\n",
    "\n",
    "7.10 Общая выручка сервиса составила 3 878 641 руб.\n",
    "\n",
    "7.11 Гипотеза о том, что средняя продолжительность поездок с подпиской и без равны, отвергнута. Есть основания утверждать, что средняя продолжительность поездки с подпиской больше продолжительности поездок без подписки при установленном уровне значимости в 5 %.\n",
    "\n",
    "7.12 Гипотезу о том, что среднее расстояние, которое проезжают пользователи с подпиской за одну поездку, равно 3130 метров, не удалось отвергнуть, Следовательно, есть основания утверждать, что среднее расстояние поездки, пользователей с подпиской, не превышает оптимальное расстоянием в 3130 метров с точки зрения износа самоката, при установленном уровне значимости в 5 %.\n",
    "\n",
    "7.13 Гипотеза о том, будет ли помесячная выручка от пользователей с подпиской по месяцам равна выручке от пользователей без подписки, отвергнута. Есть основания утверждать, что помесячная выручка от пользователей с подпиской по месяцам выше, чем выручка от пользователей без подписки при установленном уровне значимости в 5 %.\n"
   ]
  },
  {
   "cell_type": "markdown",
   "id": "c1872d9b",
   "metadata": {},
   "source": [
    "**Рекомендации**\n",
    "\n",
    "Пользователи с подпиской являются более выгодными для сервиса. Соответственно руководству сервиса нужно приложить усилия для привлечения клиентов в платный контент."
   ]
  }
 ],
 "metadata": {
  "ExecuteTimeLog": [
   {
    "duration": 378,
    "start_time": "2024-12-07T13:25:31.006Z"
   },
   {
    "duration": 140,
    "start_time": "2024-12-07T13:25:33.535Z"
   },
   {
    "duration": 74,
    "start_time": "2024-12-07T13:26:22.474Z"
   },
   {
    "duration": 92,
    "start_time": "2024-12-07T13:28:29.663Z"
   },
   {
    "duration": 60,
    "start_time": "2024-12-07T13:28:30.573Z"
   },
   {
    "duration": 13,
    "start_time": "2024-12-07T13:30:31.983Z"
   },
   {
    "duration": 11,
    "start_time": "2024-12-07T13:31:11.263Z"
   },
   {
    "duration": 9,
    "start_time": "2024-12-07T13:33:10.244Z"
   },
   {
    "duration": 11,
    "start_time": "2024-12-07T13:33:39.548Z"
   },
   {
    "duration": 7,
    "start_time": "2024-12-07T13:34:29.505Z"
   },
   {
    "duration": 10,
    "start_time": "2024-12-07T13:35:01.782Z"
   },
   {
    "duration": 8,
    "start_time": "2024-12-07T13:40:10.180Z"
   },
   {
    "duration": 14,
    "start_time": "2024-12-07T13:40:31.282Z"
   },
   {
    "duration": 46,
    "start_time": "2024-12-07T14:13:51.905Z"
   },
   {
    "duration": 15,
    "start_time": "2024-12-07T14:14:13.193Z"
   },
   {
    "duration": 9,
    "start_time": "2024-12-07T14:14:30.955Z"
   },
   {
    "duration": 8,
    "start_time": "2024-12-07T14:18:51.378Z"
   },
   {
    "duration": 6,
    "start_time": "2024-12-07T14:19:26.604Z"
   },
   {
    "duration": 8,
    "start_time": "2024-12-07T14:19:30.993Z"
   },
   {
    "duration": 6,
    "start_time": "2024-12-07T14:19:51.152Z"
   },
   {
    "duration": 6,
    "start_time": "2024-12-07T14:21:29.555Z"
   },
   {
    "duration": 5,
    "start_time": "2024-12-07T14:21:45.017Z"
   },
   {
    "duration": 7,
    "start_time": "2024-12-07T14:38:25.664Z"
   },
   {
    "duration": 6,
    "start_time": "2024-12-07T14:39:27.982Z"
   },
   {
    "duration": 13,
    "start_time": "2024-12-07T14:39:45.311Z"
   },
   {
    "duration": 6,
    "start_time": "2024-12-07T14:40:46.850Z"
   },
   {
    "duration": 13,
    "start_time": "2024-12-07T14:41:53.187Z"
   },
   {
    "duration": 7,
    "start_time": "2024-12-07T14:43:54.110Z"
   },
   {
    "duration": 5,
    "start_time": "2024-12-07T14:44:02.904Z"
   },
   {
    "duration": 5,
    "start_time": "2024-12-07T14:44:52.267Z"
   },
   {
    "duration": 13,
    "start_time": "2024-12-07T14:45:11.840Z"
   },
   {
    "duration": 13,
    "start_time": "2024-12-07T14:48:59.776Z"
   },
   {
    "duration": 14,
    "start_time": "2024-12-07T14:49:50.379Z"
   },
   {
    "duration": 10,
    "start_time": "2024-12-07T14:53:53.938Z"
   },
   {
    "duration": 5,
    "start_time": "2024-12-07T15:47:39.749Z"
   },
   {
    "duration": 8,
    "start_time": "2024-12-07T15:48:35.158Z"
   },
   {
    "duration": 6,
    "start_time": "2024-12-07T15:48:52.759Z"
   },
   {
    "duration": 11,
    "start_time": "2024-12-07T15:49:19.037Z"
   },
   {
    "duration": 11,
    "start_time": "2024-12-07T16:24:05.594Z"
   },
   {
    "duration": 6,
    "start_time": "2024-12-07T16:24:17.935Z"
   },
   {
    "duration": 7,
    "start_time": "2024-12-07T16:24:47.909Z"
   },
   {
    "duration": 6,
    "start_time": "2024-12-07T16:25:16.937Z"
   },
   {
    "duration": 8,
    "start_time": "2024-12-07T16:31:49.713Z"
   },
   {
    "duration": 1384,
    "start_time": "2024-12-07T16:43:04.249Z"
   },
   {
    "duration": 12,
    "start_time": "2024-12-07T16:51:11.626Z"
   },
   {
    "duration": 12,
    "start_time": "2024-12-07T16:51:59.794Z"
   },
   {
    "duration": 14,
    "start_time": "2024-12-07T16:52:53.525Z"
   },
   {
    "duration": 13,
    "start_time": "2024-12-07T16:53:43.756Z"
   },
   {
    "duration": 12,
    "start_time": "2024-12-07T16:54:31.021Z"
   },
   {
    "duration": 1395,
    "start_time": "2024-12-07T16:56:49.076Z"
   },
   {
    "duration": 14,
    "start_time": "2024-12-07T16:57:12.665Z"
   },
   {
    "duration": 15,
    "start_time": "2024-12-07T16:58:51.906Z"
   },
   {
    "duration": 14,
    "start_time": "2024-12-07T16:59:29.020Z"
   },
   {
    "duration": 408,
    "start_time": "2024-12-07T18:09:53.972Z"
   },
   {
    "duration": 17,
    "start_time": "2024-12-07T18:12:05.587Z"
   },
   {
    "duration": 14,
    "start_time": "2024-12-07T18:13:45.757Z"
   },
   {
    "duration": 181,
    "start_time": "2024-12-07T18:16:59.874Z"
   },
   {
    "duration": 215,
    "start_time": "2024-12-07T18:17:13.819Z"
   },
   {
    "duration": 163,
    "start_time": "2024-12-07T18:17:32.668Z"
   },
   {
    "duration": 132,
    "start_time": "2024-12-07T18:18:25.486Z"
   },
   {
    "duration": 123,
    "start_time": "2024-12-07T18:18:38.491Z"
   },
   {
    "duration": 8,
    "start_time": "2024-12-07T18:20:05.974Z"
   },
   {
    "duration": 526,
    "start_time": "2024-12-07T18:20:42.761Z"
   },
   {
    "duration": 151,
    "start_time": "2024-12-07T18:20:48.918Z"
   },
   {
    "duration": 134,
    "start_time": "2024-12-07T18:22:10.768Z"
   },
   {
    "duration": 172,
    "start_time": "2024-12-07T18:24:39.646Z"
   },
   {
    "duration": 160,
    "start_time": "2024-12-07T18:25:13.549Z"
   },
   {
    "duration": 1440,
    "start_time": "2024-12-08T06:04:49.767Z"
   },
   {
    "duration": 2,
    "start_time": "2024-12-08T06:05:01.099Z"
   },
   {
    "duration": 83,
    "start_time": "2024-12-08T06:05:02.406Z"
   },
   {
    "duration": 13,
    "start_time": "2024-12-08T06:05:02.986Z"
   },
   {
    "duration": 12,
    "start_time": "2024-12-08T06:05:03.735Z"
   },
   {
    "duration": 90,
    "start_time": "2024-12-08T06:05:04.480Z"
   },
   {
    "duration": 9,
    "start_time": "2024-12-08T06:05:05.060Z"
   },
   {
    "duration": 11,
    "start_time": "2024-12-08T06:05:05.664Z"
   },
   {
    "duration": 69,
    "start_time": "2024-12-08T06:05:06.219Z"
   },
   {
    "duration": 7,
    "start_time": "2024-12-08T06:05:06.786Z"
   },
   {
    "duration": 10,
    "start_time": "2024-12-08T06:05:07.374Z"
   },
   {
    "duration": 7,
    "start_time": "2024-12-08T06:05:08.439Z"
   },
   {
    "duration": 11,
    "start_time": "2024-12-08T06:05:09.051Z"
   },
   {
    "duration": 15,
    "start_time": "2024-12-08T06:05:09.585Z"
   },
   {
    "duration": 10,
    "start_time": "2024-12-08T06:05:11.735Z"
   },
   {
    "duration": 6,
    "start_time": "2024-12-08T06:05:12.417Z"
   },
   {
    "duration": 9,
    "start_time": "2024-12-08T06:05:13.074Z"
   },
   {
    "duration": 6,
    "start_time": "2024-12-08T06:05:13.670Z"
   },
   {
    "duration": 13,
    "start_time": "2024-12-08T06:05:14.460Z"
   },
   {
    "duration": 6,
    "start_time": "2024-12-08T06:05:15.101Z"
   },
   {
    "duration": 11,
    "start_time": "2024-12-08T06:05:15.641Z"
   },
   {
    "duration": 8,
    "start_time": "2024-12-08T06:05:16.208Z"
   },
   {
    "duration": 8,
    "start_time": "2024-12-08T06:05:16.802Z"
   },
   {
    "duration": 5,
    "start_time": "2024-12-08T06:05:17.484Z"
   },
   {
    "duration": 6,
    "start_time": "2024-12-08T06:05:18.405Z"
   },
   {
    "duration": 16,
    "start_time": "2024-12-08T06:05:20.519Z"
   },
   {
    "duration": 186,
    "start_time": "2024-12-08T06:05:22.242Z"
   },
   {
    "duration": 1455,
    "start_time": "2024-12-08T06:20:10.511Z"
   },
   {
    "duration": 9,
    "start_time": "2024-12-08T06:20:44.430Z"
   },
   {
    "duration": 13,
    "start_time": "2024-12-08T06:22:53.479Z"
   },
   {
    "duration": 13,
    "start_time": "2024-12-08T06:23:09.943Z"
   },
   {
    "duration": 16,
    "start_time": "2024-12-08T06:23:50.667Z"
   },
   {
    "duration": 16,
    "start_time": "2024-12-08T06:24:12.435Z"
   },
   {
    "duration": 378,
    "start_time": "2024-12-08T06:25:47.205Z"
   },
   {
    "duration": 390,
    "start_time": "2024-12-08T06:26:59.760Z"
   },
   {
    "duration": 425,
    "start_time": "2024-12-08T06:27:35.003Z"
   },
   {
    "duration": 11,
    "start_time": "2024-12-08T06:28:19.077Z"
   },
   {
    "duration": 182,
    "start_time": "2024-12-08T06:28:42.093Z"
   },
   {
    "duration": 152,
    "start_time": "2024-12-08T06:28:58.159Z"
   },
   {
    "duration": 12,
    "start_time": "2024-12-08T06:29:09.246Z"
   },
   {
    "duration": 158,
    "start_time": "2024-12-08T06:29:22.967Z"
   },
   {
    "duration": 149,
    "start_time": "2024-12-08T06:30:46.154Z"
   },
   {
    "duration": 17,
    "start_time": "2024-12-08T06:33:36.696Z"
   },
   {
    "duration": 285,
    "start_time": "2024-12-08T06:34:22.538Z"
   },
   {
    "duration": 17,
    "start_time": "2024-12-08T06:34:39.924Z"
   },
   {
    "duration": 17,
    "start_time": "2024-12-08T06:35:02.092Z"
   },
   {
    "duration": 360,
    "start_time": "2024-12-08T06:35:12.510Z"
   },
   {
    "duration": 286,
    "start_time": "2024-12-08T06:37:52.944Z"
   },
   {
    "duration": 10,
    "start_time": "2024-12-08T07:19:47.481Z"
   },
   {
    "duration": 9,
    "start_time": "2024-12-08T07:20:44.348Z"
   },
   {
    "duration": 9,
    "start_time": "2024-12-08T07:22:06.623Z"
   },
   {
    "duration": 737,
    "start_time": "2024-12-08T07:22:49.147Z"
   },
   {
    "duration": 862,
    "start_time": "2024-12-08T07:23:17.146Z"
   },
   {
    "duration": 404,
    "start_time": "2024-12-08T07:23:34.851Z"
   },
   {
    "duration": 1540,
    "start_time": "2024-12-08T07:25:14.242Z"
   },
   {
    "duration": 275,
    "start_time": "2024-12-08T07:25:28.665Z"
   },
   {
    "duration": 543,
    "start_time": "2024-12-08T07:25:36.198Z"
   },
   {
    "duration": 9,
    "start_time": "2024-12-08T07:31:35.329Z"
   },
   {
    "duration": 393,
    "start_time": "2024-12-08T07:33:01.051Z"
   },
   {
    "duration": 400,
    "start_time": "2024-12-08T07:33:48.364Z"
   },
   {
    "duration": 9,
    "start_time": "2024-12-08T07:34:18.442Z"
   },
   {
    "duration": 13,
    "start_time": "2024-12-08T07:59:14.615Z"
   },
   {
    "duration": 11,
    "start_time": "2024-12-08T07:59:27.756Z"
   },
   {
    "duration": 11,
    "start_time": "2024-12-08T08:00:23.534Z"
   },
   {
    "duration": 14,
    "start_time": "2024-12-08T08:00:38.326Z"
   },
   {
    "duration": 16,
    "start_time": "2024-12-08T08:01:25.934Z"
   },
   {
    "duration": 10,
    "start_time": "2024-12-08T08:04:16.371Z"
   },
   {
    "duration": 9,
    "start_time": "2024-12-08T08:05:56.883Z"
   },
   {
    "duration": 31,
    "start_time": "2024-12-08T08:10:02.288Z"
   },
   {
    "duration": 9,
    "start_time": "2024-12-08T08:11:40.363Z"
   },
   {
    "duration": 13,
    "start_time": "2024-12-08T08:12:08.264Z"
   },
   {
    "duration": 7,
    "start_time": "2024-12-08T08:12:52.251Z"
   },
   {
    "duration": 13,
    "start_time": "2024-12-08T08:13:08.580Z"
   },
   {
    "duration": 12,
    "start_time": "2024-12-08T08:13:21.671Z"
   },
   {
    "duration": 9,
    "start_time": "2024-12-08T08:20:41.241Z"
   },
   {
    "duration": 395,
    "start_time": "2024-12-08T08:21:05.440Z"
   },
   {
    "duration": 516,
    "start_time": "2024-12-08T08:22:09.693Z"
   },
   {
    "duration": 9,
    "start_time": "2024-12-08T08:23:44.537Z"
   },
   {
    "duration": 378,
    "start_time": "2024-12-08T08:23:45.766Z"
   },
   {
    "duration": 381,
    "start_time": "2024-12-08T08:24:00.814Z"
   },
   {
    "duration": 505,
    "start_time": "2024-12-08T08:25:05.150Z"
   },
   {
    "duration": 9,
    "start_time": "2024-12-08T08:25:11.836Z"
   },
   {
    "duration": 394,
    "start_time": "2024-12-08T08:25:35.259Z"
   },
   {
    "duration": 392,
    "start_time": "2024-12-08T08:25:48.220Z"
   },
   {
    "duration": 384,
    "start_time": "2024-12-08T08:27:00.388Z"
   },
   {
    "duration": 8,
    "start_time": "2024-12-08T08:28:00.534Z"
   },
   {
    "duration": 9,
    "start_time": "2024-12-08T08:28:59.996Z"
   },
   {
    "duration": 505,
    "start_time": "2024-12-08T08:29:37.068Z"
   },
   {
    "duration": 1285,
    "start_time": "2024-12-09T15:48:37.061Z"
   },
   {
    "duration": 3,
    "start_time": "2024-12-09T15:48:59.154Z"
   },
   {
    "duration": 105,
    "start_time": "2024-12-09T15:49:00.499Z"
   },
   {
    "duration": 11,
    "start_time": "2024-12-09T15:49:00.985Z"
   },
   {
    "duration": 10,
    "start_time": "2024-12-09T15:49:01.659Z"
   },
   {
    "duration": 180,
    "start_time": "2024-12-09T15:49:02.176Z"
   },
   {
    "duration": 9,
    "start_time": "2024-12-09T15:49:02.673Z"
   },
   {
    "duration": 10,
    "start_time": "2024-12-09T15:49:03.151Z"
   },
   {
    "duration": 80,
    "start_time": "2024-12-09T15:49:03.633Z"
   },
   {
    "duration": 6,
    "start_time": "2024-12-09T15:49:04.150Z"
   },
   {
    "duration": 9,
    "start_time": "2024-12-09T15:49:04.661Z"
   },
   {
    "duration": 6,
    "start_time": "2024-12-09T15:49:05.692Z"
   },
   {
    "duration": 10,
    "start_time": "2024-12-09T15:49:06.083Z"
   },
   {
    "duration": 13,
    "start_time": "2024-12-09T15:49:06.455Z"
   },
   {
    "duration": 8,
    "start_time": "2024-12-09T15:49:08.807Z"
   },
   {
    "duration": 6,
    "start_time": "2024-12-09T15:49:09.293Z"
   },
   {
    "duration": 8,
    "start_time": "2024-12-09T15:49:09.797Z"
   },
   {
    "duration": 5,
    "start_time": "2024-12-09T15:49:10.337Z"
   },
   {
    "duration": 11,
    "start_time": "2024-12-09T15:49:10.836Z"
   },
   {
    "duration": 5,
    "start_time": "2024-12-09T15:49:11.444Z"
   },
   {
    "duration": 10,
    "start_time": "2024-12-09T15:49:11.970Z"
   },
   {
    "duration": 8,
    "start_time": "2024-12-09T15:49:12.488Z"
   },
   {
    "duration": 6,
    "start_time": "2024-12-09T15:49:13.053Z"
   },
   {
    "duration": 5,
    "start_time": "2024-12-09T15:49:13.549Z"
   },
   {
    "duration": 5,
    "start_time": "2024-12-09T15:49:13.850Z"
   },
   {
    "duration": 16,
    "start_time": "2024-12-09T15:49:15.313Z"
   },
   {
    "duration": 163,
    "start_time": "2024-12-09T15:49:15.839Z"
   },
   {
    "duration": 14,
    "start_time": "2024-12-09T15:49:16.946Z"
   },
   {
    "duration": 133,
    "start_time": "2024-12-09T15:49:17.455Z"
   },
   {
    "duration": 14,
    "start_time": "2024-12-09T15:49:18.439Z"
   },
   {
    "duration": 249,
    "start_time": "2024-12-09T15:49:18.944Z"
   },
   {
    "duration": 7,
    "start_time": "2024-12-09T15:49:19.474Z"
   },
   {
    "duration": 7,
    "start_time": "2024-12-09T15:49:20.538Z"
   },
   {
    "duration": 320,
    "start_time": "2024-12-09T15:49:21.068Z"
   },
   {
    "duration": 7,
    "start_time": "2024-12-09T15:49:22.615Z"
   },
   {
    "duration": 370,
    "start_time": "2024-12-09T15:49:23.405Z"
   },
   {
    "duration": 11,
    "start_time": "2024-12-09T15:49:25.129Z"
   },
   {
    "duration": 10,
    "start_time": "2024-12-09T15:49:25.687Z"
   },
   {
    "duration": 11,
    "start_time": "2024-12-09T15:49:26.189Z"
   },
   {
    "duration": 12,
    "start_time": "2024-12-09T15:49:26.740Z"
   },
   {
    "duration": 9,
    "start_time": "2024-12-09T15:49:27.220Z"
   },
   {
    "duration": 11,
    "start_time": "2024-12-09T15:49:27.752Z"
   },
   {
    "duration": 7,
    "start_time": "2024-12-09T15:49:28.247Z"
   },
   {
    "duration": 11,
    "start_time": "2024-12-09T15:49:28.758Z"
   },
   {
    "duration": 8,
    "start_time": "2024-12-09T15:49:29.275Z"
   },
   {
    "duration": 329,
    "start_time": "2024-12-09T15:49:29.793Z"
   },
   {
    "duration": 8,
    "start_time": "2024-12-09T15:49:30.328Z"
   },
   {
    "duration": 330,
    "start_time": "2024-12-09T15:49:31.001Z"
   },
   {
    "duration": 7,
    "start_time": "2024-12-09T15:49:31.659Z"
   },
   {
    "duration": 387,
    "start_time": "2024-12-09T15:49:32.223Z"
   },
   {
    "duration": 8,
    "start_time": "2024-12-09T15:49:32.732Z"
   },
   {
    "duration": 318,
    "start_time": "2024-12-09T15:49:33.337Z"
   },
   {
    "duration": 63,
    "start_time": "2024-12-09T15:49:36.746Z"
   },
   {
    "duration": 68,
    "start_time": "2024-12-09T15:51:11.417Z"
   },
   {
    "duration": 74,
    "start_time": "2024-12-09T15:51:28.887Z"
   },
   {
    "duration": 59,
    "start_time": "2024-12-09T15:51:43.622Z"
   },
   {
    "duration": 115,
    "start_time": "2024-12-09T15:52:54.002Z"
   },
   {
    "duration": 101,
    "start_time": "2024-12-09T15:56:18.383Z"
   },
   {
    "duration": 96,
    "start_time": "2024-12-09T15:56:28.168Z"
   },
   {
    "duration": 2,
    "start_time": "2024-12-09T15:58:27.064Z"
   },
   {
    "duration": 3,
    "start_time": "2024-12-09T15:59:23.061Z"
   },
   {
    "duration": 100,
    "start_time": "2024-12-09T15:59:24.268Z"
   },
   {
    "duration": 101,
    "start_time": "2024-12-09T16:01:03.108Z"
   },
   {
    "duration": 5,
    "start_time": "2024-12-09T16:03:08.045Z"
   },
   {
    "duration": 11,
    "start_time": "2024-12-09T16:03:38.766Z"
   },
   {
    "duration": 5,
    "start_time": "2024-12-09T16:04:17.331Z"
   },
   {
    "duration": 10,
    "start_time": "2024-12-09T16:05:04.474Z"
   },
   {
    "duration": 101,
    "start_time": "2024-12-09T16:05:16.983Z"
   },
   {
    "duration": 118,
    "start_time": "2024-12-09T16:07:12.520Z"
   },
   {
    "duration": 12,
    "start_time": "2024-12-09T16:07:14.312Z"
   },
   {
    "duration": 4,
    "start_time": "2024-12-09T16:07:16.115Z"
   },
   {
    "duration": 99,
    "start_time": "2024-12-09T16:07:27.240Z"
   },
   {
    "duration": 11,
    "start_time": "2024-12-09T16:07:31.186Z"
   },
   {
    "duration": 4,
    "start_time": "2024-12-09T16:07:59.517Z"
   },
   {
    "duration": 104,
    "start_time": "2024-12-09T16:08:00.491Z"
   },
   {
    "duration": 12,
    "start_time": "2024-12-09T16:08:04.674Z"
   },
   {
    "duration": 4,
    "start_time": "2024-12-09T16:08:11.746Z"
   },
   {
    "duration": 100,
    "start_time": "2024-12-09T16:08:33.764Z"
   },
   {
    "duration": 11,
    "start_time": "2024-12-09T16:08:34.815Z"
   },
   {
    "duration": 4,
    "start_time": "2024-12-09T16:08:36.346Z"
   },
   {
    "duration": 8,
    "start_time": "2024-12-09T16:15:49.698Z"
   },
   {
    "duration": 5,
    "start_time": "2024-12-09T16:16:24.376Z"
   },
   {
    "duration": 5,
    "start_time": "2024-12-09T16:17:15.492Z"
   },
   {
    "duration": 7,
    "start_time": "2024-12-09T16:44:16.835Z"
   },
   {
    "duration": 4,
    "start_time": "2024-12-09T16:46:06.988Z"
   },
   {
    "duration": 7,
    "start_time": "2024-12-09T16:56:33.024Z"
   },
   {
    "duration": 7,
    "start_time": "2024-12-09T17:03:44.879Z"
   },
   {
    "duration": 1236,
    "start_time": "2024-12-11T16:26:09.976Z"
   },
   {
    "duration": 55,
    "start_time": "2024-12-11T16:35:07.565Z"
   },
   {
    "duration": 62,
    "start_time": "2024-12-11T16:38:31.802Z"
   },
   {
    "duration": 2,
    "start_time": "2024-12-11T17:03:14.918Z"
   },
   {
    "duration": 105,
    "start_time": "2024-12-11T17:03:17.176Z"
   },
   {
    "duration": 11,
    "start_time": "2024-12-11T17:03:19.313Z"
   },
   {
    "duration": 11,
    "start_time": "2024-12-11T17:03:20.378Z"
   },
   {
    "duration": 183,
    "start_time": "2024-12-11T17:03:21.183Z"
   },
   {
    "duration": 8,
    "start_time": "2024-12-11T17:03:21.994Z"
   },
   {
    "duration": 11,
    "start_time": "2024-12-11T17:03:22.817Z"
   },
   {
    "duration": 81,
    "start_time": "2024-12-11T17:03:23.634Z"
   },
   {
    "duration": 8,
    "start_time": "2024-12-11T17:03:24.463Z"
   },
   {
    "duration": 9,
    "start_time": "2024-12-11T17:03:25.244Z"
   },
   {
    "duration": 6,
    "start_time": "2024-12-11T17:03:26.720Z"
   },
   {
    "duration": 9,
    "start_time": "2024-12-11T17:03:27.500Z"
   },
   {
    "duration": 13,
    "start_time": "2024-12-11T17:03:28.243Z"
   },
   {
    "duration": 8,
    "start_time": "2024-12-11T17:03:28.985Z"
   },
   {
    "duration": 7,
    "start_time": "2024-12-11T17:03:29.803Z"
   },
   {
    "duration": 9,
    "start_time": "2024-12-11T17:03:30.649Z"
   },
   {
    "duration": 5,
    "start_time": "2024-12-11T17:03:31.353Z"
   },
   {
    "duration": 12,
    "start_time": "2024-12-11T17:03:32.151Z"
   },
   {
    "duration": 5,
    "start_time": "2024-12-11T17:03:32.897Z"
   },
   {
    "duration": 9,
    "start_time": "2024-12-11T17:03:33.625Z"
   },
   {
    "duration": 7,
    "start_time": "2024-12-11T17:03:34.315Z"
   },
   {
    "duration": 7,
    "start_time": "2024-12-11T17:03:35.039Z"
   },
   {
    "duration": 5,
    "start_time": "2024-12-11T17:03:35.735Z"
   },
   {
    "duration": 5,
    "start_time": "2024-12-11T17:03:36.511Z"
   },
   {
    "duration": 15,
    "start_time": "2024-12-11T17:03:38.831Z"
   },
   {
    "duration": 171,
    "start_time": "2024-12-11T17:03:39.608Z"
   },
   {
    "duration": 14,
    "start_time": "2024-12-11T17:03:41.391Z"
   },
   {
    "duration": 138,
    "start_time": "2024-12-11T17:03:42.282Z"
   },
   {
    "duration": 20,
    "start_time": "2024-12-11T17:03:43.928Z"
   },
   {
    "duration": 242,
    "start_time": "2024-12-11T17:03:44.701Z"
   },
   {
    "duration": 7,
    "start_time": "2024-12-11T17:03:46.541Z"
   },
   {
    "duration": 7,
    "start_time": "2024-12-11T17:03:48.175Z"
   },
   {
    "duration": 322,
    "start_time": "2024-12-11T17:03:48.947Z"
   },
   {
    "duration": 7,
    "start_time": "2024-12-11T17:03:51.296Z"
   },
   {
    "duration": 369,
    "start_time": "2024-12-11T17:03:52.456Z"
   },
   {
    "duration": 11,
    "start_time": "2024-12-11T17:03:55.047Z"
   },
   {
    "duration": 10,
    "start_time": "2024-12-11T17:03:55.751Z"
   },
   {
    "duration": 11,
    "start_time": "2024-12-11T17:03:56.426Z"
   },
   {
    "duration": 13,
    "start_time": "2024-12-11T17:03:57.506Z"
   },
   {
    "duration": 8,
    "start_time": "2024-12-11T17:03:58.226Z"
   },
   {
    "duration": 12,
    "start_time": "2024-12-11T17:03:59.038Z"
   },
   {
    "duration": 6,
    "start_time": "2024-12-11T17:03:59.682Z"
   },
   {
    "duration": 11,
    "start_time": "2024-12-11T17:04:00.414Z"
   },
   {
    "duration": 8,
    "start_time": "2024-12-11T17:04:01.285Z"
   },
   {
    "duration": 319,
    "start_time": "2024-12-11T17:04:02.116Z"
   },
   {
    "duration": 7,
    "start_time": "2024-12-11T17:04:03.098Z"
   },
   {
    "duration": 373,
    "start_time": "2024-12-11T17:04:03.864Z"
   },
   {
    "duration": 7,
    "start_time": "2024-12-11T17:04:04.922Z"
   },
   {
    "duration": 319,
    "start_time": "2024-12-11T17:04:05.634Z"
   },
   {
    "duration": 8,
    "start_time": "2024-12-11T17:04:06.600Z"
   },
   {
    "duration": 393,
    "start_time": "2024-12-11T17:04:07.344Z"
   },
   {
    "duration": 4,
    "start_time": "2024-12-11T17:04:11.503Z"
   },
   {
    "duration": 100,
    "start_time": "2024-12-11T17:04:12.287Z"
   },
   {
    "duration": 12,
    "start_time": "2024-12-11T17:04:13.183Z"
   },
   {
    "duration": 6,
    "start_time": "2024-12-11T17:04:13.916Z"
   },
   {
    "duration": 5,
    "start_time": "2024-12-11T17:04:17.614Z"
   },
   {
    "duration": 5,
    "start_time": "2024-12-11T17:04:20.473Z"
   },
   {
    "duration": 8,
    "start_time": "2024-12-11T17:04:24.367Z"
   },
   {
    "duration": 3,
    "start_time": "2024-12-11T18:28:00.006Z"
   },
   {
    "duration": 29,
    "start_time": "2024-12-11T18:28:00.814Z"
   },
   {
    "duration": 8,
    "start_time": "2024-12-11T18:28:01.564Z"
   },
   {
    "duration": 11,
    "start_time": "2024-12-11T18:28:02.291Z"
   },
   {
    "duration": 37,
    "start_time": "2024-12-11T18:28:02.988Z"
   },
   {
    "duration": 7,
    "start_time": "2024-12-11T18:28:03.667Z"
   },
   {
    "duration": 12,
    "start_time": "2024-12-11T18:28:04.681Z"
   },
   {
    "duration": 27,
    "start_time": "2024-12-11T18:28:05.331Z"
   },
   {
    "duration": 6,
    "start_time": "2024-12-11T18:28:05.989Z"
   },
   {
    "duration": 10,
    "start_time": "2024-12-11T18:28:06.658Z"
   },
   {
    "duration": 7,
    "start_time": "2024-12-11T18:28:07.958Z"
   },
   {
    "duration": 9,
    "start_time": "2024-12-11T18:28:08.656Z"
   },
   {
    "duration": 12,
    "start_time": "2024-12-11T18:28:09.281Z"
   },
   {
    "duration": 7,
    "start_time": "2024-12-11T18:28:09.907Z"
   },
   {
    "duration": 6,
    "start_time": "2024-12-11T18:28:10.643Z"
   },
   {
    "duration": 9,
    "start_time": "2024-12-11T18:28:11.217Z"
   },
   {
    "duration": 6,
    "start_time": "2024-12-11T18:28:11.786Z"
   },
   {
    "duration": 12,
    "start_time": "2024-12-11T18:28:12.422Z"
   },
   {
    "duration": 5,
    "start_time": "2024-12-11T18:28:13.034Z"
   },
   {
    "duration": 10,
    "start_time": "2024-12-11T18:28:13.627Z"
   },
   {
    "duration": 8,
    "start_time": "2024-12-11T18:28:14.288Z"
   },
   {
    "duration": 5,
    "start_time": "2024-12-11T18:28:14.880Z"
   },
   {
    "duration": 5,
    "start_time": "2024-12-11T18:28:15.528Z"
   },
   {
    "duration": 6,
    "start_time": "2024-12-11T18:28:16.203Z"
   },
   {
    "duration": 13,
    "start_time": "2024-12-11T18:28:18.160Z"
   },
   {
    "duration": 155,
    "start_time": "2024-12-11T18:28:18.829Z"
   },
   {
    "duration": 13,
    "start_time": "2024-12-11T18:28:20.249Z"
   },
   {
    "duration": 137,
    "start_time": "2024-12-11T18:28:20.882Z"
   },
   {
    "duration": 15,
    "start_time": "2024-12-11T18:28:22.087Z"
   },
   {
    "duration": 241,
    "start_time": "2024-12-11T18:28:22.725Z"
   },
   {
    "duration": 7,
    "start_time": "2024-12-11T18:28:23.426Z"
   },
   {
    "duration": 8,
    "start_time": "2024-12-11T18:28:24.700Z"
   },
   {
    "duration": 326,
    "start_time": "2024-12-11T18:28:25.350Z"
   },
   {
    "duration": 8,
    "start_time": "2024-12-11T18:28:26.664Z"
   },
   {
    "duration": 375,
    "start_time": "2024-12-11T18:28:27.345Z"
   },
   {
    "duration": 11,
    "start_time": "2024-12-11T18:28:29.497Z"
   },
   {
    "duration": 10,
    "start_time": "2024-12-11T18:28:30.112Z"
   },
   {
    "duration": 12,
    "start_time": "2024-12-11T18:28:30.794Z"
   },
   {
    "duration": 13,
    "start_time": "2024-12-11T18:28:31.484Z"
   },
   {
    "duration": 9,
    "start_time": "2024-12-11T18:28:32.080Z"
   },
   {
    "duration": 12,
    "start_time": "2024-12-11T18:28:32.838Z"
   },
   {
    "duration": 6,
    "start_time": "2024-12-11T18:28:33.536Z"
   },
   {
    "duration": 11,
    "start_time": "2024-12-11T18:28:34.148Z"
   },
   {
    "duration": 8,
    "start_time": "2024-12-11T18:28:34.808Z"
   },
   {
    "duration": 325,
    "start_time": "2024-12-11T18:28:35.487Z"
   },
   {
    "duration": 7,
    "start_time": "2024-12-11T18:28:36.487Z"
   },
   {
    "duration": 317,
    "start_time": "2024-12-11T18:28:37.103Z"
   },
   {
    "duration": 7,
    "start_time": "2024-12-11T18:28:37.748Z"
   },
   {
    "duration": 390,
    "start_time": "2024-12-11T18:28:38.473Z"
   },
   {
    "duration": 8,
    "start_time": "2024-12-11T18:28:39.474Z"
   },
   {
    "duration": 323,
    "start_time": "2024-12-11T18:28:40.114Z"
   },
   {
    "duration": 4,
    "start_time": "2024-12-11T18:28:43.886Z"
   },
   {
    "duration": 101,
    "start_time": "2024-12-11T18:28:44.563Z"
   },
   {
    "duration": 12,
    "start_time": "2024-12-11T18:28:45.340Z"
   },
   {
    "duration": 5,
    "start_time": "2024-12-11T18:28:45.959Z"
   },
   {
    "duration": 5,
    "start_time": "2024-12-11T18:28:49.330Z"
   },
   {
    "duration": 5,
    "start_time": "2024-12-11T18:28:52.649Z"
   },
   {
    "duration": 7,
    "start_time": "2024-12-11T18:28:55.262Z"
   },
   {
    "duration": 1213,
    "start_time": "2024-12-11T18:55:42.412Z"
   },
   {
    "duration": 31,
    "start_time": "2024-12-11T18:55:43.626Z"
   },
   {
    "duration": 15,
    "start_time": "2024-12-11T18:55:43.658Z"
   },
   {
    "duration": 12,
    "start_time": "2024-12-11T18:55:43.674Z"
   },
   {
    "duration": 30,
    "start_time": "2024-12-11T18:55:43.688Z"
   },
   {
    "duration": 9,
    "start_time": "2024-12-11T18:55:43.719Z"
   },
   {
    "duration": 12,
    "start_time": "2024-12-11T18:55:43.729Z"
   },
   {
    "duration": 16,
    "start_time": "2024-12-11T18:55:43.743Z"
   },
   {
    "duration": 8,
    "start_time": "2024-12-11T18:55:43.760Z"
   },
   {
    "duration": 18,
    "start_time": "2024-12-11T18:55:43.771Z"
   },
   {
    "duration": 16,
    "start_time": "2024-12-11T18:55:43.791Z"
   },
   {
    "duration": 29,
    "start_time": "2024-12-11T18:55:43.809Z"
   },
   {
    "duration": 27,
    "start_time": "2024-12-11T18:55:43.840Z"
   },
   {
    "duration": 9,
    "start_time": "2024-12-11T18:55:43.869Z"
   },
   {
    "duration": 7,
    "start_time": "2024-12-11T18:55:43.880Z"
   },
   {
    "duration": 8,
    "start_time": "2024-12-11T18:55:43.888Z"
   },
   {
    "duration": 37,
    "start_time": "2024-12-11T18:55:43.898Z"
   },
   {
    "duration": 13,
    "start_time": "2024-12-11T18:55:43.937Z"
   },
   {
    "duration": 5,
    "start_time": "2024-12-11T18:55:43.952Z"
   },
   {
    "duration": 14,
    "start_time": "2024-12-11T18:55:43.959Z"
   },
   {
    "duration": 16,
    "start_time": "2024-12-11T18:55:43.975Z"
   },
   {
    "duration": 41,
    "start_time": "2024-12-11T18:55:43.993Z"
   },
   {
    "duration": 6,
    "start_time": "2024-12-11T18:55:44.036Z"
   },
   {
    "duration": 23,
    "start_time": "2024-12-11T18:55:44.044Z"
   },
   {
    "duration": 17,
    "start_time": "2024-12-11T18:55:44.068Z"
   },
   {
    "duration": 219,
    "start_time": "2024-12-11T18:55:44.087Z"
   },
   {
    "duration": 23,
    "start_time": "2024-12-11T18:55:44.308Z"
   },
   {
    "duration": 165,
    "start_time": "2024-12-11T18:55:44.335Z"
   },
   {
    "duration": 17,
    "start_time": "2024-12-11T18:55:44.502Z"
   },
   {
    "duration": 339,
    "start_time": "2024-12-11T18:55:44.520Z"
   },
   {
    "duration": 9,
    "start_time": "2024-12-11T18:55:44.861Z"
   },
   {
    "duration": 10,
    "start_time": "2024-12-11T18:55:44.872Z"
   },
   {
    "duration": 421,
    "start_time": "2024-12-11T18:55:44.884Z"
   },
   {
    "duration": 8,
    "start_time": "2024-12-11T18:55:45.307Z"
   },
   {
    "duration": 539,
    "start_time": "2024-12-11T18:55:45.317Z"
   },
   {
    "duration": 10,
    "start_time": "2024-12-11T18:55:45.858Z"
   },
   {
    "duration": 27,
    "start_time": "2024-12-11T18:55:45.870Z"
   },
   {
    "duration": 29,
    "start_time": "2024-12-11T18:55:45.899Z"
   },
   {
    "duration": 37,
    "start_time": "2024-12-11T18:55:45.929Z"
   },
   {
    "duration": 17,
    "start_time": "2024-12-11T18:55:45.968Z"
   },
   {
    "duration": 33,
    "start_time": "2024-12-11T18:55:45.986Z"
   },
   {
    "duration": 9,
    "start_time": "2024-12-11T18:55:46.021Z"
   },
   {
    "duration": 32,
    "start_time": "2024-12-11T18:55:46.031Z"
   },
   {
    "duration": 11,
    "start_time": "2024-12-11T18:55:46.064Z"
   },
   {
    "duration": 395,
    "start_time": "2024-12-11T18:55:46.077Z"
   },
   {
    "duration": 10,
    "start_time": "2024-12-11T18:55:46.473Z"
   },
   {
    "duration": 425,
    "start_time": "2024-12-11T18:55:46.484Z"
   },
   {
    "duration": 20,
    "start_time": "2024-12-11T18:55:46.911Z"
   },
   {
    "duration": 407,
    "start_time": "2024-12-11T18:55:46.932Z"
   },
   {
    "duration": 9,
    "start_time": "2024-12-11T18:55:47.341Z"
   },
   {
    "duration": 521,
    "start_time": "2024-12-11T18:55:47.352Z"
   },
   {
    "duration": 4,
    "start_time": "2024-12-11T18:55:47.874Z"
   },
   {
    "duration": 119,
    "start_time": "2024-12-11T18:55:47.880Z"
   },
   {
    "duration": 14,
    "start_time": "2024-12-11T18:55:48.000Z"
   },
   {
    "duration": 17,
    "start_time": "2024-12-11T18:55:48.016Z"
   },
   {
    "duration": 6,
    "start_time": "2024-12-11T18:55:48.034Z"
   },
   {
    "duration": 5,
    "start_time": "2024-12-11T18:55:48.041Z"
   },
   {
    "duration": 8,
    "start_time": "2024-12-11T18:55:48.048Z"
   },
   {
    "duration": 11,
    "start_time": "2024-12-11T19:20:23.379Z"
   },
   {
    "duration": 89,
    "start_time": "2024-12-11T19:22:31.391Z"
   },
   {
    "duration": 6,
    "start_time": "2024-12-11T19:36:17.207Z"
   },
   {
    "duration": 48,
    "start_time": "2024-12-15T12:54:29.159Z"
   },
   {
    "duration": 6,
    "start_time": "2024-12-15T12:54:42.832Z"
   },
   {
    "duration": 1243,
    "start_time": "2024-12-15T12:55:04.482Z"
   },
   {
    "duration": 78,
    "start_time": "2024-12-15T12:55:07.091Z"
   },
   {
    "duration": 14,
    "start_time": "2024-12-15T12:55:07.973Z"
   },
   {
    "duration": 13,
    "start_time": "2024-12-15T12:55:08.693Z"
   },
   {
    "duration": 94,
    "start_time": "2024-12-15T12:55:09.373Z"
   },
   {
    "duration": 9,
    "start_time": "2024-12-15T12:55:10.098Z"
   },
   {
    "duration": 12,
    "start_time": "2024-12-15T12:55:10.726Z"
   },
   {
    "duration": 74,
    "start_time": "2024-12-15T12:55:11.312Z"
   },
   {
    "duration": 7,
    "start_time": "2024-12-15T12:55:11.945Z"
   },
   {
    "duration": 12,
    "start_time": "2024-12-15T12:55:12.597Z"
   },
   {
    "duration": 9,
    "start_time": "2024-12-15T12:55:16.185Z"
   },
   {
    "duration": 11,
    "start_time": "2024-12-15T12:55:17.602Z"
   },
   {
    "duration": 6,
    "start_time": "2024-12-15T12:55:19.878Z"
   },
   {
    "duration": 15,
    "start_time": "2024-12-15T12:55:55.210Z"
   },
   {
    "duration": 10,
    "start_time": "2024-12-15T12:55:56.411Z"
   },
   {
    "duration": 7,
    "start_time": "2024-12-15T12:55:59.457Z"
   },
   {
    "duration": 10,
    "start_time": "2024-12-15T12:56:00.355Z"
   },
   {
    "duration": 6,
    "start_time": "2024-12-15T12:56:01.245Z"
   },
   {
    "duration": 13,
    "start_time": "2024-12-15T12:56:06.214Z"
   },
   {
    "duration": 5,
    "start_time": "2024-12-15T12:56:07.840Z"
   },
   {
    "duration": 11,
    "start_time": "2024-12-15T12:56:11.849Z"
   },
   {
    "duration": 10,
    "start_time": "2024-12-15T12:56:12.785Z"
   },
   {
    "duration": 6,
    "start_time": "2024-12-15T12:56:14.148Z"
   },
   {
    "duration": 5,
    "start_time": "2024-12-15T12:56:14.937Z"
   },
   {
    "duration": 5,
    "start_time": "2024-12-15T12:56:15.609Z"
   },
   {
    "duration": 9,
    "start_time": "2024-12-15T12:57:04.044Z"
   },
   {
    "duration": 11,
    "start_time": "2024-12-15T12:59:22.967Z"
   },
   {
    "duration": 7,
    "start_time": "2024-12-15T13:03:08.657Z"
   },
   {
    "duration": 5,
    "start_time": "2024-12-15T13:03:26.771Z"
   },
   {
    "duration": 4,
    "start_time": "2024-12-15T13:04:29.336Z"
   },
   {
    "duration": 16,
    "start_time": "2024-12-15T13:07:29.863Z"
   },
   {
    "duration": 187,
    "start_time": "2024-12-15T13:07:32.115Z"
   },
   {
    "duration": 14,
    "start_time": "2024-12-15T13:07:34.751Z"
   },
   {
    "duration": 151,
    "start_time": "2024-12-15T13:07:35.711Z"
   },
   {
    "duration": 86,
    "start_time": "2024-12-15T13:07:37.877Z"
   },
   {
    "duration": 16,
    "start_time": "2024-12-15T13:07:40.755Z"
   },
   {
    "duration": 289,
    "start_time": "2024-12-15T13:07:42.030Z"
   },
   {
    "duration": 8,
    "start_time": "2024-12-15T13:07:43.741Z"
   },
   {
    "duration": 10,
    "start_time": "2024-12-15T13:07:54.420Z"
   },
   {
    "duration": 390,
    "start_time": "2024-12-15T13:07:55.649Z"
   },
   {
    "duration": 8,
    "start_time": "2024-12-15T13:13:12.245Z"
   },
   {
    "duration": 455,
    "start_time": "2024-12-15T13:13:13.112Z"
   },
   {
    "duration": 11,
    "start_time": "2024-12-15T13:14:59.156Z"
   },
   {
    "duration": 10,
    "start_time": "2024-12-15T13:14:59.754Z"
   },
   {
    "duration": 13,
    "start_time": "2024-12-15T13:15:00.688Z"
   },
   {
    "duration": 14,
    "start_time": "2024-12-15T13:15:02.298Z"
   },
   {
    "duration": 8,
    "start_time": "2024-12-15T13:15:04.961Z"
   },
   {
    "duration": 13,
    "start_time": "2024-12-15T13:15:05.533Z"
   },
   {
    "duration": 7,
    "start_time": "2024-12-15T13:15:06.575Z"
   },
   {
    "duration": 13,
    "start_time": "2024-12-15T13:15:18.483Z"
   },
   {
    "duration": 8,
    "start_time": "2024-12-15T13:15:20.023Z"
   },
   {
    "duration": 384,
    "start_time": "2024-12-15T13:15:21.253Z"
   },
   {
    "duration": 9,
    "start_time": "2024-12-15T13:15:26.149Z"
   },
   {
    "duration": 385,
    "start_time": "2024-12-15T13:15:27.000Z"
   },
   {
    "duration": 15,
    "start_time": "2024-12-15T13:15:28.237Z"
   },
   {
    "duration": 468,
    "start_time": "2024-12-15T13:15:29.260Z"
   },
   {
    "duration": 260,
    "start_time": "2024-12-15T13:18:31.058Z"
   },
   {
    "duration": 641,
    "start_time": "2024-12-15T13:18:51.292Z"
   },
   {
    "duration": 720,
    "start_time": "2024-12-15T13:19:09.130Z"
   },
   {
    "duration": 158,
    "start_time": "2024-12-15T13:19:36.667Z"
   },
   {
    "duration": 167,
    "start_time": "2024-12-15T13:19:51.712Z"
   },
   {
    "duration": 192,
    "start_time": "2024-12-15T13:20:05.597Z"
   },
   {
    "duration": 199,
    "start_time": "2024-12-15T13:20:58.268Z"
   },
   {
    "duration": 211,
    "start_time": "2024-12-15T13:21:10.644Z"
   },
   {
    "duration": 148,
    "start_time": "2024-12-15T13:21:41.464Z"
   },
   {
    "duration": 179,
    "start_time": "2024-12-15T13:21:48.264Z"
   },
   {
    "duration": 165,
    "start_time": "2024-12-15T14:25:19.229Z"
   },
   {
    "duration": 174,
    "start_time": "2024-12-15T14:25:24.395Z"
   },
   {
    "duration": 516,
    "start_time": "2024-12-15T14:25:36.447Z"
   },
   {
    "duration": 162,
    "start_time": "2024-12-15T14:25:43.204Z"
   },
   {
    "duration": 177,
    "start_time": "2024-12-15T14:25:52.682Z"
   },
   {
    "duration": 128,
    "start_time": "2024-12-15T14:26:20.707Z"
   },
   {
    "duration": 175,
    "start_time": "2024-12-15T14:26:43.299Z"
   },
   {
    "duration": 194,
    "start_time": "2024-12-15T14:27:36.755Z"
   },
   {
    "duration": 8,
    "start_time": "2024-12-15T14:27:41.792Z"
   },
   {
    "duration": 386,
    "start_time": "2024-12-15T14:27:42.889Z"
   },
   {
    "duration": 4,
    "start_time": "2024-12-15T14:28:04.959Z"
   },
   {
    "duration": 101,
    "start_time": "2024-12-15T14:28:29.460Z"
   },
   {
    "duration": 11,
    "start_time": "2024-12-15T14:31:19.490Z"
   },
   {
    "duration": 15,
    "start_time": "2024-12-15T14:32:10.320Z"
   },
   {
    "duration": 5,
    "start_time": "2024-12-15T14:32:27.107Z"
   },
   {
    "duration": 5,
    "start_time": "2024-12-15T14:33:32.621Z"
   },
   {
    "duration": 5,
    "start_time": "2024-12-15T14:33:34.236Z"
   },
   {
    "duration": 4,
    "start_time": "2024-12-15T14:33:38.917Z"
   },
   {
    "duration": 4,
    "start_time": "2024-12-15T14:34:19.186Z"
   },
   {
    "duration": 9,
    "start_time": "2024-12-15T14:34:24.168Z"
   },
   {
    "duration": 17,
    "start_time": "2024-12-15T14:50:53.611Z"
   },
   {
    "duration": 6,
    "start_time": "2024-12-15T14:51:12.348Z"
   },
   {
    "duration": 3,
    "start_time": "2024-12-15T14:53:54.830Z"
   },
   {
    "duration": 31,
    "start_time": "2024-12-15T14:53:55.820Z"
   },
   {
    "duration": 9,
    "start_time": "2024-12-15T14:53:56.300Z"
   },
   {
    "duration": 11,
    "start_time": "2024-12-15T14:53:56.840Z"
   },
   {
    "duration": 40,
    "start_time": "2024-12-15T14:53:57.283Z"
   },
   {
    "duration": 9,
    "start_time": "2024-12-15T14:53:57.846Z"
   },
   {
    "duration": 11,
    "start_time": "2024-12-15T14:53:58.386Z"
   },
   {
    "duration": 28,
    "start_time": "2024-12-15T14:53:58.941Z"
   },
   {
    "duration": 7,
    "start_time": "2024-12-15T14:53:59.446Z"
   },
   {
    "duration": 11,
    "start_time": "2024-12-15T14:54:00.098Z"
   },
   {
    "duration": 8,
    "start_time": "2024-12-15T14:54:02.262Z"
   },
   {
    "duration": 12,
    "start_time": "2024-12-15T14:54:03.253Z"
   },
   {
    "duration": 7,
    "start_time": "2024-12-15T14:54:04.673Z"
   },
   {
    "duration": 106,
    "start_time": "2024-12-15T14:54:05.849Z"
   },
   {
    "duration": 10,
    "start_time": "2024-12-15T14:54:06.385Z"
   },
   {
    "duration": 7,
    "start_time": "2024-12-15T14:54:07.361Z"
   },
   {
    "duration": 9,
    "start_time": "2024-12-15T14:54:07.888Z"
   },
   {
    "duration": 6,
    "start_time": "2024-12-15T14:54:08.349Z"
   },
   {
    "duration": 13,
    "start_time": "2024-12-15T14:54:08.832Z"
   },
   {
    "duration": 5,
    "start_time": "2024-12-15T14:54:09.387Z"
   },
   {
    "duration": 11,
    "start_time": "2024-12-15T14:54:10.425Z"
   },
   {
    "duration": 8,
    "start_time": "2024-12-15T14:54:10.979Z"
   },
   {
    "duration": 6,
    "start_time": "2024-12-15T14:54:11.647Z"
   },
   {
    "duration": 5,
    "start_time": "2024-12-15T14:54:12.048Z"
   },
   {
    "duration": 6,
    "start_time": "2024-12-15T14:54:12.573Z"
   },
   {
    "duration": 9,
    "start_time": "2024-12-15T14:54:14.745Z"
   },
   {
    "duration": 10,
    "start_time": "2024-12-15T14:54:16.224Z"
   },
   {
    "duration": 5,
    "start_time": "2024-12-15T14:54:17.937Z"
   },
   {
    "duration": 5,
    "start_time": "2024-12-15T14:54:18.480Z"
   },
   {
    "duration": 16,
    "start_time": "2024-12-15T14:54:20.126Z"
   },
   {
    "duration": 188,
    "start_time": "2024-12-15T14:54:20.633Z"
   },
   {
    "duration": 15,
    "start_time": "2024-12-15T14:54:22.245Z"
   },
   {
    "duration": 144,
    "start_time": "2024-12-15T14:54:22.807Z"
   },
   {
    "duration": 81,
    "start_time": "2024-12-15T14:54:23.846Z"
   },
   {
    "duration": 15,
    "start_time": "2024-12-15T14:54:25.013Z"
   },
   {
    "duration": 277,
    "start_time": "2024-12-15T14:54:25.384Z"
   },
   {
    "duration": 8,
    "start_time": "2024-12-15T14:54:25.918Z"
   },
   {
    "duration": 9,
    "start_time": "2024-12-15T14:54:27.758Z"
   },
   {
    "duration": 381,
    "start_time": "2024-12-15T14:54:28.268Z"
   },
   {
    "duration": 10,
    "start_time": "2024-12-15T14:54:30.277Z"
   },
   {
    "duration": 363,
    "start_time": "2024-12-15T14:54:30.826Z"
   },
   {
    "duration": 11,
    "start_time": "2024-12-15T14:54:33.369Z"
   },
   {
    "duration": 11,
    "start_time": "2024-12-15T14:54:33.835Z"
   },
   {
    "duration": 13,
    "start_time": "2024-12-15T14:54:34.307Z"
   },
   {
    "duration": 13,
    "start_time": "2024-12-15T14:54:34.788Z"
   },
   {
    "duration": 8,
    "start_time": "2024-12-15T14:54:35.828Z"
   },
   {
    "duration": 12,
    "start_time": "2024-12-15T14:54:36.292Z"
   },
   {
    "duration": 7,
    "start_time": "2024-12-15T14:54:36.793Z"
   },
   {
    "duration": 13,
    "start_time": "2024-12-15T14:54:37.352Z"
   },
   {
    "duration": 9,
    "start_time": "2024-12-15T14:54:37.854Z"
   },
   {
    "duration": 463,
    "start_time": "2024-12-15T14:54:38.356Z"
   },
   {
    "duration": 21,
    "start_time": "2024-12-15T14:54:38.820Z"
   },
   {
    "duration": 378,
    "start_time": "2024-12-15T14:54:39.320Z"
   },
   {
    "duration": 8,
    "start_time": "2024-12-15T14:54:39.764Z"
   },
   {
    "duration": 367,
    "start_time": "2024-12-15T14:54:40.274Z"
   },
   {
    "duration": 169,
    "start_time": "2024-12-15T14:54:41.750Z"
   },
   {
    "duration": 8,
    "start_time": "2024-12-15T14:54:42.268Z"
   },
   {
    "duration": 456,
    "start_time": "2024-12-15T14:54:42.672Z"
   },
   {
    "duration": 3,
    "start_time": "2024-12-15T14:54:44.974Z"
   },
   {
    "duration": 98,
    "start_time": "2024-12-15T14:54:45.986Z"
   },
   {
    "duration": 5,
    "start_time": "2024-12-15T14:54:48.074Z"
   },
   {
    "duration": 14,
    "start_time": "2024-12-15T14:54:50.564Z"
   },
   {
    "duration": 5,
    "start_time": "2024-12-15T14:54:51.600Z"
   },
   {
    "duration": 6,
    "start_time": "2024-12-15T14:54:52.628Z"
   },
   {
    "duration": 6,
    "start_time": "2024-12-15T14:54:55.517Z"
   },
   {
    "duration": 5,
    "start_time": "2024-12-15T14:55:04.008Z"
   },
   {
    "duration": 8,
    "start_time": "2024-12-15T14:55:07.842Z"
   },
   {
    "duration": 1119,
    "start_time": "2024-12-15T17:29:08.088Z"
   },
   {
    "duration": 28,
    "start_time": "2024-12-15T17:29:09.208Z"
   },
   {
    "duration": 13,
    "start_time": "2024-12-15T17:29:09.238Z"
   },
   {
    "duration": 11,
    "start_time": "2024-12-15T17:29:09.252Z"
   },
   {
    "duration": 33,
    "start_time": "2024-12-15T17:29:09.265Z"
   },
   {
    "duration": 8,
    "start_time": "2024-12-15T17:29:09.300Z"
   },
   {
    "duration": 12,
    "start_time": "2024-12-15T17:29:09.309Z"
   },
   {
    "duration": 15,
    "start_time": "2024-12-15T17:29:09.323Z"
   },
   {
    "duration": 7,
    "start_time": "2024-12-15T17:29:09.339Z"
   },
   {
    "duration": 14,
    "start_time": "2024-12-15T17:29:09.347Z"
   },
   {
    "duration": 8,
    "start_time": "2024-12-15T17:29:09.363Z"
   },
   {
    "duration": 10,
    "start_time": "2024-12-15T17:29:09.372Z"
   },
   {
    "duration": 5,
    "start_time": "2024-12-15T17:29:09.383Z"
   },
   {
    "duration": 15,
    "start_time": "2024-12-15T17:29:09.391Z"
   },
   {
    "duration": 9,
    "start_time": "2024-12-15T17:29:09.407Z"
   },
   {
    "duration": 37,
    "start_time": "2024-12-15T17:29:09.417Z"
   },
   {
    "duration": 9,
    "start_time": "2024-12-15T17:29:09.455Z"
   },
   {
    "duration": 17,
    "start_time": "2024-12-15T17:29:09.465Z"
   },
   {
    "duration": 15,
    "start_time": "2024-12-15T17:29:09.484Z"
   },
   {
    "duration": 4,
    "start_time": "2024-12-15T17:29:09.500Z"
   },
   {
    "duration": 16,
    "start_time": "2024-12-15T17:29:09.506Z"
   },
   {
    "duration": 15,
    "start_time": "2024-12-15T17:29:09.523Z"
   },
   {
    "duration": 16,
    "start_time": "2024-12-15T17:29:09.539Z"
   },
   {
    "duration": 5,
    "start_time": "2024-12-15T17:29:09.557Z"
   },
   {
    "duration": 8,
    "start_time": "2024-12-15T17:29:09.563Z"
   },
   {
    "duration": 8,
    "start_time": "2024-12-15T17:29:09.573Z"
   },
   {
    "duration": 9,
    "start_time": "2024-12-15T17:29:09.582Z"
   },
   {
    "duration": 4,
    "start_time": "2024-12-15T17:29:09.592Z"
   },
   {
    "duration": 4,
    "start_time": "2024-12-15T17:29:09.597Z"
   },
   {
    "duration": 53,
    "start_time": "2024-12-15T17:29:09.603Z"
   },
   {
    "duration": 181,
    "start_time": "2024-12-15T17:29:09.657Z"
   },
   {
    "duration": 17,
    "start_time": "2024-12-15T17:29:09.840Z"
   },
   {
    "duration": 153,
    "start_time": "2024-12-15T17:29:09.859Z"
   },
   {
    "duration": 86,
    "start_time": "2024-12-15T17:29:10.013Z"
   },
   {
    "duration": 15,
    "start_time": "2024-12-15T17:29:10.100Z"
   },
   {
    "duration": 287,
    "start_time": "2024-12-15T17:29:10.117Z"
   },
   {
    "duration": 8,
    "start_time": "2024-12-15T17:29:10.405Z"
   },
   {
    "duration": 7,
    "start_time": "2024-12-15T17:29:10.414Z"
   },
   {
    "duration": 347,
    "start_time": "2024-12-15T17:29:10.423Z"
   },
   {
    "duration": 8,
    "start_time": "2024-12-15T17:29:10.772Z"
   },
   {
    "duration": 417,
    "start_time": "2024-12-15T17:29:10.784Z"
   },
   {
    "duration": 11,
    "start_time": "2024-12-15T17:29:11.202Z"
   },
   {
    "duration": 11,
    "start_time": "2024-12-15T17:29:11.214Z"
   },
   {
    "duration": 27,
    "start_time": "2024-12-15T17:29:11.227Z"
   },
   {
    "duration": 14,
    "start_time": "2024-12-15T17:29:11.255Z"
   },
   {
    "duration": 8,
    "start_time": "2024-12-15T17:29:11.271Z"
   },
   {
    "duration": 11,
    "start_time": "2024-12-15T17:29:11.281Z"
   },
   {
    "duration": 6,
    "start_time": "2024-12-15T17:29:11.294Z"
   },
   {
    "duration": 42,
    "start_time": "2024-12-15T17:29:11.301Z"
   },
   {
    "duration": 101,
    "start_time": "2024-12-15T17:29:11.345Z"
   },
   {
    "duration": 336,
    "start_time": "2024-12-15T17:29:11.447Z"
   },
   {
    "duration": 8,
    "start_time": "2024-12-15T17:29:11.785Z"
   },
   {
    "duration": 360,
    "start_time": "2024-12-15T17:29:11.795Z"
   },
   {
    "duration": 7,
    "start_time": "2024-12-15T17:29:12.157Z"
   },
   {
    "duration": 422,
    "start_time": "2024-12-15T17:29:12.166Z"
   },
   {
    "duration": 173,
    "start_time": "2024-12-15T17:29:12.590Z"
   },
   {
    "duration": 8,
    "start_time": "2024-12-15T17:29:12.765Z"
   },
   {
    "duration": 334,
    "start_time": "2024-12-15T17:29:12.774Z"
   },
   {
    "duration": 4,
    "start_time": "2024-12-15T17:29:13.110Z"
   },
   {
    "duration": 120,
    "start_time": "2024-12-15T17:29:13.115Z"
   },
   {
    "duration": 6,
    "start_time": "2024-12-15T17:29:13.236Z"
   },
   {
    "duration": 15,
    "start_time": "2024-12-15T17:29:13.252Z"
   },
   {
    "duration": 4,
    "start_time": "2024-12-15T17:29:13.269Z"
   },
   {
    "duration": 20,
    "start_time": "2024-12-15T17:29:13.274Z"
   },
   {
    "duration": 37,
    "start_time": "2024-12-15T17:29:13.295Z"
   },
   {
    "duration": 9,
    "start_time": "2024-12-15T17:29:13.333Z"
   },
   {
    "duration": 8,
    "start_time": "2024-12-15T17:29:13.343Z"
   },
   {
    "duration": 406,
    "start_time": "2024-12-15T17:38:05.134Z"
   },
   {
    "duration": 500,
    "start_time": "2024-12-15T17:38:18.964Z"
   }
  ],
  "kernelspec": {
   "display_name": "Python 3 (ipykernel)",
   "language": "python",
   "name": "python3"
  },
  "language_info": {
   "codemirror_mode": {
    "name": "ipython",
    "version": 3
   },
   "file_extension": ".py",
   "mimetype": "text/x-python",
   "name": "python",
   "nbconvert_exporter": "python",
   "pygments_lexer": "ipython3",
   "version": "3.12.4"
  },
  "toc": {
   "base_numbering": 1,
   "nav_menu": {},
   "number_sections": true,
   "sideBar": true,
   "skip_h1_title": true,
   "title_cell": "Table of Contents",
   "title_sidebar": "Contents",
   "toc_cell": false,
   "toc_position": {
    "height": "calc(100% - 180px)",
    "left": "10px",
    "top": "150px",
    "width": "180.943px"
   },
   "toc_section_display": true,
   "toc_window_display": true
  }
 },
 "nbformat": 4,
 "nbformat_minor": 5
}
