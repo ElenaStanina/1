{
 "cells": [
  {
   "cell_type": "markdown",
   "metadata": {},
   "source": [
    "# Выпускной проект по SQL: анализ сервиса для чтения книг по подписке ##"
   ]
  },
  {
   "cell_type": "markdown",
   "metadata": {},
   "source": [
    "****Описание данных****\n",
    "\n",
    "**Таблица books**\n",
    "\n",
    "**book_id** — идентификатор книги\n",
    "\n",
    "**author_id** — идентификатор автора\n",
    "\n",
    "**title** — название книги\n",
    "\n",
    "**num_pages** — количество страниц\n",
    "\n",
    "**publication_date** — дата публикации книги\n",
    "\n",
    "**publisher_id** — идентификатор издателя\n",
    "\n",
    "**Таблица authors**\n",
    "\n",
    "**author_id** — идентификатор автора\n",
    "\n",
    "**author** — имя автора\n",
    "\n",
    "**Таблица publishers**\n",
    "\n",
    "**publisher_id** — идентификатор издательства\n",
    "\n",
    "**publisher** — название издательства\n",
    "\n",
    "**Таблица ratings**\n",
    "\n",
    "**rating_id** — идентификатор оценки\n",
    "\n",
    "**book_id** — идентификатор книги\n",
    "\n",
    "**username** — имя пользователя, оставившего оценку\n",
    "\n",
    "**rating** — оценка книги\n",
    "\n",
    "**Таблица reviews**\n",
    "\n",
    "**review_id** — идентификатор обзора\n",
    "\n",
    "**book_id** — идентификатор книги\n",
    "\n",
    "**username** — имя автора обзора\n",
    "\n",
    "**text** — текст обзора"
   ]
  },
  {
   "cell_type": "markdown",
   "metadata": {},
   "source": [
    "**Задания**\n",
    "1. Посчитайте, сколько книг вышло после 1 января 2000 года;\n",
    "\n",
    "2. Для каждой книги посчитайте количество обзоров и среднюю оценку;\n",
    "\n",
    "3. Определите издательство, которое выпустило наибольшее число книг толще 50 страниц — так вы исключите из анализа брошюры;\n",
    "\n",
    "4. Определите автора с самой высокой средней оценкой книг — учитывайте только книги с 50 и более оценками;\n",
    "\n",
    "5. Посчитайте среднее количество обзоров от пользователей, которые поставили больше 48 оценок."
   ]
  },
  {
   "cell_type": "code",
   "execution_count": 21,
   "metadata": {},
   "outputs": [
    {
     "data": {
      "text/html": [
       "<div>\n",
       "<style scoped>\n",
       "    .dataframe tbody tr th:only-of-type {\n",
       "        vertical-align: middle;\n",
       "    }\n",
       "\n",
       "    .dataframe tbody tr th {\n",
       "        vertical-align: top;\n",
       "    }\n",
       "\n",
       "    .dataframe thead th {\n",
       "        text-align: right;\n",
       "    }\n",
       "</style>\n",
       "<table border=\"1\" class=\"dataframe\">\n",
       "  <thead>\n",
       "    <tr style=\"text-align: right;\">\n",
       "      <th></th>\n",
       "      <th>book_id</th>\n",
       "      <th>author_id</th>\n",
       "      <th>title</th>\n",
       "      <th>num_pages</th>\n",
       "      <th>publication_date</th>\n",
       "      <th>publisher_id</th>\n",
       "    </tr>\n",
       "  </thead>\n",
       "  <tbody>\n",
       "    <tr>\n",
       "      <th>0</th>\n",
       "      <td>1</td>\n",
       "      <td>546</td>\n",
       "      <td>'Salem's Lot</td>\n",
       "      <td>594</td>\n",
       "      <td>2005-11-01</td>\n",
       "      <td>93</td>\n",
       "    </tr>\n",
       "    <tr>\n",
       "      <th>1</th>\n",
       "      <td>2</td>\n",
       "      <td>465</td>\n",
       "      <td>1 000 Places to See Before You Die</td>\n",
       "      <td>992</td>\n",
       "      <td>2003-05-22</td>\n",
       "      <td>336</td>\n",
       "    </tr>\n",
       "    <tr>\n",
       "      <th>2</th>\n",
       "      <td>3</td>\n",
       "      <td>407</td>\n",
       "      <td>13 Little Blue Envelopes (Little Blue Envelope...</td>\n",
       "      <td>322</td>\n",
       "      <td>2010-12-21</td>\n",
       "      <td>135</td>\n",
       "    </tr>\n",
       "    <tr>\n",
       "      <th>3</th>\n",
       "      <td>4</td>\n",
       "      <td>82</td>\n",
       "      <td>1491: New Revelations of the Americas Before C...</td>\n",
       "      <td>541</td>\n",
       "      <td>2006-10-10</td>\n",
       "      <td>309</td>\n",
       "    </tr>\n",
       "    <tr>\n",
       "      <th>4</th>\n",
       "      <td>5</td>\n",
       "      <td>125</td>\n",
       "      <td>1776</td>\n",
       "      <td>386</td>\n",
       "      <td>2006-07-04</td>\n",
       "      <td>268</td>\n",
       "    </tr>\n",
       "  </tbody>\n",
       "</table>\n",
       "</div>"
      ],
      "text/plain": [
       "   book_id  author_id                                              title  \\\n",
       "0        1        546                                       'Salem's Lot   \n",
       "1        2        465                 1 000 Places to See Before You Die   \n",
       "2        3        407  13 Little Blue Envelopes (Little Blue Envelope...   \n",
       "3        4         82  1491: New Revelations of the Americas Before C...   \n",
       "4        5        125                                               1776   \n",
       "\n",
       "   num_pages publication_date  publisher_id  \n",
       "0        594       2005-11-01            93  \n",
       "1        992       2003-05-22           336  \n",
       "2        322       2010-12-21           135  \n",
       "3        541       2006-10-10           309  \n",
       "4        386       2006-07-04           268  "
      ]
     },
     "execution_count": 21,
     "metadata": {},
     "output_type": "execute_result"
    }
   ],
   "source": [
    "# импортируем библиотеки\n",
    "import pandas as pd\n",
    "from sqlalchemy import text, create_engine\n",
    "# устанавливаем параметры\n",
    "db_config = {'user': 'praktikum_student', # имя пользователя\n",
    "'pwd': 'Sdf4$2;d-d30pp', # пароль\n",
    "'host': 'rc1b-wcoijxj3yxfsf3fs.mdb.yandexcloud.net',\n",
    "'port': 6432, # порт подключения\n",
    "'db': 'data-analyst-final-project-db'} # название базы данных\n",
    "connection_string = 'postgresql://{user}:{pwd}@{host}:{port}/{db}'.format(**db_config)\n",
    "# сохраняем коннектор\n",
    "engine = create_engine(connection_string, connect_args={'sslmode':'require'})\n",
    "# чтобы выполнить SQL-запрос, используем Pandas\n",
    "query = '''SELECT * FROM books LIMIT 5'''\n",
    "con=engine.connect()\n",
    "pd.io.sql.read_sql(sql=text(query), con = con)"
   ]
  },
  {
   "cell_type": "code",
   "execution_count": 22,
   "metadata": {},
   "outputs": [
    {
     "data": {
      "text/html": [
       "<div>\n",
       "<style scoped>\n",
       "    .dataframe tbody tr th:only-of-type {\n",
       "        vertical-align: middle;\n",
       "    }\n",
       "\n",
       "    .dataframe tbody tr th {\n",
       "        vertical-align: top;\n",
       "    }\n",
       "\n",
       "    .dataframe thead th {\n",
       "        text-align: right;\n",
       "    }\n",
       "</style>\n",
       "<table border=\"1\" class=\"dataframe\">\n",
       "  <thead>\n",
       "    <tr style=\"text-align: right;\">\n",
       "      <th></th>\n",
       "      <th>author_id</th>\n",
       "      <th>author</th>\n",
       "    </tr>\n",
       "  </thead>\n",
       "  <tbody>\n",
       "    <tr>\n",
       "      <th>0</th>\n",
       "      <td>1</td>\n",
       "      <td>A.S. Byatt</td>\n",
       "    </tr>\n",
       "    <tr>\n",
       "      <th>1</th>\n",
       "      <td>2</td>\n",
       "      <td>Aesop/Laura Harris/Laura Gibbs</td>\n",
       "    </tr>\n",
       "    <tr>\n",
       "      <th>2</th>\n",
       "      <td>3</td>\n",
       "      <td>Agatha Christie</td>\n",
       "    </tr>\n",
       "    <tr>\n",
       "      <th>3</th>\n",
       "      <td>4</td>\n",
       "      <td>Alan Brennert</td>\n",
       "    </tr>\n",
       "    <tr>\n",
       "      <th>4</th>\n",
       "      <td>5</td>\n",
       "      <td>Alan Moore/David   Lloyd</td>\n",
       "    </tr>\n",
       "  </tbody>\n",
       "</table>\n",
       "</div>"
      ],
      "text/plain": [
       "   author_id                          author\n",
       "0          1                      A.S. Byatt\n",
       "1          2  Aesop/Laura Harris/Laura Gibbs\n",
       "2          3                 Agatha Christie\n",
       "3          4                   Alan Brennert\n",
       "4          5        Alan Moore/David   Lloyd"
      ]
     },
     "execution_count": 22,
     "metadata": {},
     "output_type": "execute_result"
    }
   ],
   "source": [
    "query = '''SELECT * FROM authors LIMIT 5'''\n",
    "con=engine.connect()\n",
    "pd.io.sql.read_sql(sql=text(query), con = con)"
   ]
  },
  {
   "cell_type": "code",
   "execution_count": 23,
   "metadata": {},
   "outputs": [
    {
     "data": {
      "text/html": [
       "<div>\n",
       "<style scoped>\n",
       "    .dataframe tbody tr th:only-of-type {\n",
       "        vertical-align: middle;\n",
       "    }\n",
       "\n",
       "    .dataframe tbody tr th {\n",
       "        vertical-align: top;\n",
       "    }\n",
       "\n",
       "    .dataframe thead th {\n",
       "        text-align: right;\n",
       "    }\n",
       "</style>\n",
       "<table border=\"1\" class=\"dataframe\">\n",
       "  <thead>\n",
       "    <tr style=\"text-align: right;\">\n",
       "      <th></th>\n",
       "      <th>publisher_id</th>\n",
       "      <th>publisher</th>\n",
       "    </tr>\n",
       "  </thead>\n",
       "  <tbody>\n",
       "    <tr>\n",
       "      <th>0</th>\n",
       "      <td>1</td>\n",
       "      <td>Ace</td>\n",
       "    </tr>\n",
       "    <tr>\n",
       "      <th>1</th>\n",
       "      <td>2</td>\n",
       "      <td>Ace Book</td>\n",
       "    </tr>\n",
       "    <tr>\n",
       "      <th>2</th>\n",
       "      <td>3</td>\n",
       "      <td>Ace Books</td>\n",
       "    </tr>\n",
       "    <tr>\n",
       "      <th>3</th>\n",
       "      <td>4</td>\n",
       "      <td>Ace Hardcover</td>\n",
       "    </tr>\n",
       "    <tr>\n",
       "      <th>4</th>\n",
       "      <td>5</td>\n",
       "      <td>Addison Wesley Publishing Company</td>\n",
       "    </tr>\n",
       "  </tbody>\n",
       "</table>\n",
       "</div>"
      ],
      "text/plain": [
       "   publisher_id                          publisher\n",
       "0             1                                Ace\n",
       "1             2                           Ace Book\n",
       "2             3                          Ace Books\n",
       "3             4                      Ace Hardcover\n",
       "4             5  Addison Wesley Publishing Company"
      ]
     },
     "execution_count": 23,
     "metadata": {},
     "output_type": "execute_result"
    }
   ],
   "source": [
    "query = '''SELECT * FROM publishers LIMIT 5'''\n",
    "con=engine.connect()\n",
    "pd.io.sql.read_sql(sql=text(query), con = con)"
   ]
  },
  {
   "cell_type": "code",
   "execution_count": 24,
   "metadata": {},
   "outputs": [
    {
     "data": {
      "text/html": [
       "<div>\n",
       "<style scoped>\n",
       "    .dataframe tbody tr th:only-of-type {\n",
       "        vertical-align: middle;\n",
       "    }\n",
       "\n",
       "    .dataframe tbody tr th {\n",
       "        vertical-align: top;\n",
       "    }\n",
       "\n",
       "    .dataframe thead th {\n",
       "        text-align: right;\n",
       "    }\n",
       "</style>\n",
       "<table border=\"1\" class=\"dataframe\">\n",
       "  <thead>\n",
       "    <tr style=\"text-align: right;\">\n",
       "      <th></th>\n",
       "      <th>rating_id</th>\n",
       "      <th>book_id</th>\n",
       "      <th>username</th>\n",
       "      <th>rating</th>\n",
       "    </tr>\n",
       "  </thead>\n",
       "  <tbody>\n",
       "    <tr>\n",
       "      <th>0</th>\n",
       "      <td>1</td>\n",
       "      <td>1</td>\n",
       "      <td>ryanfranco</td>\n",
       "      <td>4</td>\n",
       "    </tr>\n",
       "    <tr>\n",
       "      <th>1</th>\n",
       "      <td>2</td>\n",
       "      <td>1</td>\n",
       "      <td>grantpatricia</td>\n",
       "      <td>2</td>\n",
       "    </tr>\n",
       "    <tr>\n",
       "      <th>2</th>\n",
       "      <td>3</td>\n",
       "      <td>1</td>\n",
       "      <td>brandtandrea</td>\n",
       "      <td>5</td>\n",
       "    </tr>\n",
       "    <tr>\n",
       "      <th>3</th>\n",
       "      <td>4</td>\n",
       "      <td>2</td>\n",
       "      <td>lorichen</td>\n",
       "      <td>3</td>\n",
       "    </tr>\n",
       "    <tr>\n",
       "      <th>4</th>\n",
       "      <td>5</td>\n",
       "      <td>2</td>\n",
       "      <td>mariokeller</td>\n",
       "      <td>2</td>\n",
       "    </tr>\n",
       "  </tbody>\n",
       "</table>\n",
       "</div>"
      ],
      "text/plain": [
       "   rating_id  book_id       username  rating\n",
       "0          1        1     ryanfranco       4\n",
       "1          2        1  grantpatricia       2\n",
       "2          3        1   brandtandrea       5\n",
       "3          4        2       lorichen       3\n",
       "4          5        2    mariokeller       2"
      ]
     },
     "execution_count": 24,
     "metadata": {},
     "output_type": "execute_result"
    }
   ],
   "source": [
    "query = '''SELECT * FROM ratings LIMIT 5'''\n",
    "con=engine.connect()\n",
    "pd.io.sql.read_sql(sql=text(query), con = con)"
   ]
  },
  {
   "cell_type": "code",
   "execution_count": 25,
   "metadata": {},
   "outputs": [
    {
     "data": {
      "text/html": [
       "<div>\n",
       "<style scoped>\n",
       "    .dataframe tbody tr th:only-of-type {\n",
       "        vertical-align: middle;\n",
       "    }\n",
       "\n",
       "    .dataframe tbody tr th {\n",
       "        vertical-align: top;\n",
       "    }\n",
       "\n",
       "    .dataframe thead th {\n",
       "        text-align: right;\n",
       "    }\n",
       "</style>\n",
       "<table border=\"1\" class=\"dataframe\">\n",
       "  <thead>\n",
       "    <tr style=\"text-align: right;\">\n",
       "      <th></th>\n",
       "      <th>review_id</th>\n",
       "      <th>book_id</th>\n",
       "      <th>username</th>\n",
       "      <th>text</th>\n",
       "    </tr>\n",
       "  </thead>\n",
       "  <tbody>\n",
       "    <tr>\n",
       "      <th>0</th>\n",
       "      <td>1</td>\n",
       "      <td>1</td>\n",
       "      <td>brandtandrea</td>\n",
       "      <td>Mention society tell send professor analysis. ...</td>\n",
       "    </tr>\n",
       "    <tr>\n",
       "      <th>1</th>\n",
       "      <td>2</td>\n",
       "      <td>1</td>\n",
       "      <td>ryanfranco</td>\n",
       "      <td>Foot glass pretty audience hit themselves. Amo...</td>\n",
       "    </tr>\n",
       "    <tr>\n",
       "      <th>2</th>\n",
       "      <td>3</td>\n",
       "      <td>2</td>\n",
       "      <td>lorichen</td>\n",
       "      <td>Listen treat keep worry. Miss husband tax but ...</td>\n",
       "    </tr>\n",
       "    <tr>\n",
       "      <th>3</th>\n",
       "      <td>4</td>\n",
       "      <td>3</td>\n",
       "      <td>johnsonamanda</td>\n",
       "      <td>Finally month interesting blue could nature cu...</td>\n",
       "    </tr>\n",
       "    <tr>\n",
       "      <th>4</th>\n",
       "      <td>5</td>\n",
       "      <td>3</td>\n",
       "      <td>scotttamara</td>\n",
       "      <td>Nation purpose heavy give wait song will. List...</td>\n",
       "    </tr>\n",
       "  </tbody>\n",
       "</table>\n",
       "</div>"
      ],
      "text/plain": [
       "   review_id  book_id       username  \\\n",
       "0          1        1   brandtandrea   \n",
       "1          2        1     ryanfranco   \n",
       "2          3        2       lorichen   \n",
       "3          4        3  johnsonamanda   \n",
       "4          5        3    scotttamara   \n",
       "\n",
       "                                                text  \n",
       "0  Mention society tell send professor analysis. ...  \n",
       "1  Foot glass pretty audience hit themselves. Amo...  \n",
       "2  Listen treat keep worry. Miss husband tax but ...  \n",
       "3  Finally month interesting blue could nature cu...  \n",
       "4  Nation purpose heavy give wait song will. List...  "
      ]
     },
     "execution_count": 25,
     "metadata": {},
     "output_type": "execute_result"
    }
   ],
   "source": [
    "query = '''SELECT * FROM reviews LIMIT 5'''\n",
    "con=engine.connect()\n",
    "pd.io.sql.read_sql(sql=text(query), con = con)"
   ]
  },
  {
   "cell_type": "markdown",
   "metadata": {},
   "source": [
    "**1. Количество книг, вышедших после 1 января 2000 года**"
   ]
  },
  {
   "cell_type": "code",
   "execution_count": 26,
   "metadata": {},
   "outputs": [
    {
     "data": {
      "text/html": [
       "<div>\n",
       "<style scoped>\n",
       "    .dataframe tbody tr th:only-of-type {\n",
       "        vertical-align: middle;\n",
       "    }\n",
       "\n",
       "    .dataframe tbody tr th {\n",
       "        vertical-align: top;\n",
       "    }\n",
       "\n",
       "    .dataframe thead th {\n",
       "        text-align: right;\n",
       "    }\n",
       "</style>\n",
       "<table border=\"1\" class=\"dataframe\">\n",
       "  <thead>\n",
       "    <tr style=\"text-align: right;\">\n",
       "      <th></th>\n",
       "      <th>count</th>\n",
       "    </tr>\n",
       "  </thead>\n",
       "  <tbody>\n",
       "    <tr>\n",
       "      <th>0</th>\n",
       "      <td>819</td>\n",
       "    </tr>\n",
       "  </tbody>\n",
       "</table>\n",
       "</div>"
      ],
      "text/plain": [
       "   count\n",
       "0    819"
      ]
     },
     "execution_count": 26,
     "metadata": {},
     "output_type": "execute_result"
    }
   ],
   "source": [
    "query = '''SELECT COUNT (book_id)\n",
    "           FROM books\n",
    "           WHERE publication_date > '2000-01-01'\n",
    "           '''\n",
    "con=engine.connect()\n",
    "pd.io.sql.read_sql(sql=text(query), con = con)"
   ]
  },
  {
   "cell_type": "markdown",
   "metadata": {},
   "source": [
    "После 1 января 2020 года выпущено 819 книг."
   ]
  },
  {
   "cell_type": "markdown",
   "metadata": {},
   "source": [
    "**2.Количество обзоров и средняя оценка для каждой книги**"
   ]
  },
  {
   "cell_type": "code",
   "execution_count": 27,
   "metadata": {},
   "outputs": [
    {
     "data": {
      "text/html": [
       "<div>\n",
       "<style scoped>\n",
       "    .dataframe tbody tr th:only-of-type {\n",
       "        vertical-align: middle;\n",
       "    }\n",
       "\n",
       "    .dataframe tbody tr th {\n",
       "        vertical-align: top;\n",
       "    }\n",
       "\n",
       "    .dataframe thead th {\n",
       "        text-align: right;\n",
       "    }\n",
       "</style>\n",
       "<table border=\"1\" class=\"dataframe\">\n",
       "  <thead>\n",
       "    <tr style=\"text-align: right;\">\n",
       "      <th></th>\n",
       "      <th>title</th>\n",
       "      <th>snt_review</th>\n",
       "      <th>avg_rating</th>\n",
       "    </tr>\n",
       "  </thead>\n",
       "  <tbody>\n",
       "    <tr>\n",
       "      <th>0</th>\n",
       "      <td>Misty of Chincoteague (Misty  #1)</td>\n",
       "      <td>2</td>\n",
       "      <td>5.000000</td>\n",
       "    </tr>\n",
       "    <tr>\n",
       "      <th>1</th>\n",
       "      <td>A Woman of Substance (Emma Harte Saga #1)</td>\n",
       "      <td>2</td>\n",
       "      <td>5.000000</td>\n",
       "    </tr>\n",
       "    <tr>\n",
       "      <th>2</th>\n",
       "      <td>The War of Art: Break Through the Blocks &amp; Win...</td>\n",
       "      <td>2</td>\n",
       "      <td>5.000000</td>\n",
       "    </tr>\n",
       "    <tr>\n",
       "      <th>3</th>\n",
       "      <td>Evening Class</td>\n",
       "      <td>2</td>\n",
       "      <td>5.000000</td>\n",
       "    </tr>\n",
       "    <tr>\n",
       "      <th>4</th>\n",
       "      <td>Wherever You Go  There You Are: Mindfulness Me...</td>\n",
       "      <td>2</td>\n",
       "      <td>5.000000</td>\n",
       "    </tr>\n",
       "    <tr>\n",
       "      <th>5</th>\n",
       "      <td>Dead Souls</td>\n",
       "      <td>2</td>\n",
       "      <td>5.000000</td>\n",
       "    </tr>\n",
       "    <tr>\n",
       "      <th>6</th>\n",
       "      <td>Tai-Pan (Asian Saga  #2)</td>\n",
       "      <td>2</td>\n",
       "      <td>5.000000</td>\n",
       "    </tr>\n",
       "    <tr>\n",
       "      <th>7</th>\n",
       "      <td>The Ghost Map: The Story of London's Most Terr...</td>\n",
       "      <td>2</td>\n",
       "      <td>5.000000</td>\n",
       "    </tr>\n",
       "    <tr>\n",
       "      <th>8</th>\n",
       "      <td>Angels Fall</td>\n",
       "      <td>2</td>\n",
       "      <td>5.000000</td>\n",
       "    </tr>\n",
       "    <tr>\n",
       "      <th>9</th>\n",
       "      <td>Alas  Babylon</td>\n",
       "      <td>2</td>\n",
       "      <td>5.000000</td>\n",
       "    </tr>\n",
       "    <tr>\n",
       "      <th>10</th>\n",
       "      <td>Triptych (Will Trent  #1)</td>\n",
       "      <td>2</td>\n",
       "      <td>5.000000</td>\n",
       "    </tr>\n",
       "    <tr>\n",
       "      <th>11</th>\n",
       "      <td>The Woman in Black</td>\n",
       "      <td>2</td>\n",
       "      <td>5.000000</td>\n",
       "    </tr>\n",
       "    <tr>\n",
       "      <th>12</th>\n",
       "      <td>Welcome to Temptation (Dempseys  #1)</td>\n",
       "      <td>2</td>\n",
       "      <td>5.000000</td>\n",
       "    </tr>\n",
       "    <tr>\n",
       "      <th>13</th>\n",
       "      <td>Stone of Farewell (Memory  Sorrow  and Thorn  #2)</td>\n",
       "      <td>1</td>\n",
       "      <td>5.000000</td>\n",
       "    </tr>\n",
       "    <tr>\n",
       "      <th>14</th>\n",
       "      <td>Light in August</td>\n",
       "      <td>2</td>\n",
       "      <td>5.000000</td>\n",
       "    </tr>\n",
       "    <tr>\n",
       "      <th>15</th>\n",
       "      <td>Neil Gaiman's Neverwhere</td>\n",
       "      <td>2</td>\n",
       "      <td>5.000000</td>\n",
       "    </tr>\n",
       "    <tr>\n",
       "      <th>16</th>\n",
       "      <td>The Demon-Haunted World: Science as a Candle i...</td>\n",
       "      <td>2</td>\n",
       "      <td>5.000000</td>\n",
       "    </tr>\n",
       "    <tr>\n",
       "      <th>17</th>\n",
       "      <td>The Big Bad Wolf  (Alex Cross  #9)</td>\n",
       "      <td>2</td>\n",
       "      <td>5.000000</td>\n",
       "    </tr>\n",
       "    <tr>\n",
       "      <th>18</th>\n",
       "      <td>Marvel 1602</td>\n",
       "      <td>2</td>\n",
       "      <td>5.000000</td>\n",
       "    </tr>\n",
       "    <tr>\n",
       "      <th>19</th>\n",
       "      <td>Women</td>\n",
       "      <td>2</td>\n",
       "      <td>5.000000</td>\n",
       "    </tr>\n",
       "    <tr>\n",
       "      <th>20</th>\n",
       "      <td>My Name Is Asher Lev</td>\n",
       "      <td>2</td>\n",
       "      <td>5.000000</td>\n",
       "    </tr>\n",
       "    <tr>\n",
       "      <th>21</th>\n",
       "      <td>Moneyball: The Art of Winning an Unfair Game</td>\n",
       "      <td>3</td>\n",
       "      <td>5.000000</td>\n",
       "    </tr>\n",
       "    <tr>\n",
       "      <th>22</th>\n",
       "      <td>Piercing the Darkness (Darkness  #2)</td>\n",
       "      <td>2</td>\n",
       "      <td>5.000000</td>\n",
       "    </tr>\n",
       "    <tr>\n",
       "      <th>23</th>\n",
       "      <td>Pop Goes the Weasel (Alex Cross  #5)</td>\n",
       "      <td>2</td>\n",
       "      <td>5.000000</td>\n",
       "    </tr>\n",
       "    <tr>\n",
       "      <th>24</th>\n",
       "      <td>Plum Island (John Corey  #1)</td>\n",
       "      <td>2</td>\n",
       "      <td>5.000000</td>\n",
       "    </tr>\n",
       "    <tr>\n",
       "      <th>25</th>\n",
       "      <td>Emily of New Moon (Emily  #1)</td>\n",
       "      <td>2</td>\n",
       "      <td>5.000000</td>\n",
       "    </tr>\n",
       "    <tr>\n",
       "      <th>26</th>\n",
       "      <td>The Adventures of Tom Sawyer and Adventures of...</td>\n",
       "      <td>1</td>\n",
       "      <td>5.000000</td>\n",
       "    </tr>\n",
       "    <tr>\n",
       "      <th>27</th>\n",
       "      <td>School's Out—Forever (Maximum Ride  #2)</td>\n",
       "      <td>3</td>\n",
       "      <td>5.000000</td>\n",
       "    </tr>\n",
       "    <tr>\n",
       "      <th>28</th>\n",
       "      <td>Evil Under the Sun (Hercule Poirot  #24)</td>\n",
       "      <td>2</td>\n",
       "      <td>5.000000</td>\n",
       "    </tr>\n",
       "    <tr>\n",
       "      <th>29</th>\n",
       "      <td>Stolen (Women of the Otherworld  #2)</td>\n",
       "      <td>2</td>\n",
       "      <td>5.000000</td>\n",
       "    </tr>\n",
       "    <tr>\n",
       "      <th>30</th>\n",
       "      <td>Homage to Catalonia</td>\n",
       "      <td>2</td>\n",
       "      <td>5.000000</td>\n",
       "    </tr>\n",
       "    <tr>\n",
       "      <th>31</th>\n",
       "      <td>Geek Love</td>\n",
       "      <td>2</td>\n",
       "      <td>5.000000</td>\n",
       "    </tr>\n",
       "    <tr>\n",
       "      <th>32</th>\n",
       "      <td>A Dirty Job (Grim Reaper  #1)</td>\n",
       "      <td>4</td>\n",
       "      <td>5.000000</td>\n",
       "    </tr>\n",
       "    <tr>\n",
       "      <th>33</th>\n",
       "      <td>Hard Times</td>\n",
       "      <td>2</td>\n",
       "      <td>5.000000</td>\n",
       "    </tr>\n",
       "    <tr>\n",
       "      <th>34</th>\n",
       "      <td>In the Hand of the Goddess (Song of the Liones...</td>\n",
       "      <td>2</td>\n",
       "      <td>5.000000</td>\n",
       "    </tr>\n",
       "    <tr>\n",
       "      <th>35</th>\n",
       "      <td>Act of Treason (Mitch Rapp  #9)</td>\n",
       "      <td>2</td>\n",
       "      <td>5.000000</td>\n",
       "    </tr>\n",
       "    <tr>\n",
       "      <th>36</th>\n",
       "      <td>Arrows of the Queen (Heralds of Valdemar  #1)</td>\n",
       "      <td>2</td>\n",
       "      <td>5.000000</td>\n",
       "    </tr>\n",
       "    <tr>\n",
       "      <th>37</th>\n",
       "      <td>How to Be a Domestic Goddess: Baking and the A...</td>\n",
       "      <td>1</td>\n",
       "      <td>5.000000</td>\n",
       "    </tr>\n",
       "    <tr>\n",
       "      <th>38</th>\n",
       "      <td>A Fistful of Charms (The Hollows  #4)</td>\n",
       "      <td>2</td>\n",
       "      <td>5.000000</td>\n",
       "    </tr>\n",
       "    <tr>\n",
       "      <th>39</th>\n",
       "      <td>Crucial Conversations: Tools for Talking When ...</td>\n",
       "      <td>2</td>\n",
       "      <td>5.000000</td>\n",
       "    </tr>\n",
       "    <tr>\n",
       "      <th>40</th>\n",
       "      <td>March</td>\n",
       "      <td>2</td>\n",
       "      <td>5.000000</td>\n",
       "    </tr>\n",
       "    <tr>\n",
       "      <th>41</th>\n",
       "      <td>The Walking Dead  Book One (The Walking Dead #...</td>\n",
       "      <td>2</td>\n",
       "      <td>5.000000</td>\n",
       "    </tr>\n",
       "    <tr>\n",
       "      <th>42</th>\n",
       "      <td>Captivating: Unveiling the Mystery of a Woman'...</td>\n",
       "      <td>2</td>\n",
       "      <td>5.000000</td>\n",
       "    </tr>\n",
       "    <tr>\n",
       "      <th>43</th>\n",
       "      <td>Dragonfly in Amber (Outlander  #2)</td>\n",
       "      <td>4</td>\n",
       "      <td>4.875000</td>\n",
       "    </tr>\n",
       "    <tr>\n",
       "      <th>44</th>\n",
       "      <td>Preludes &amp; Nocturnes (The Sandman  #1)</td>\n",
       "      <td>3</td>\n",
       "      <td>4.833333</td>\n",
       "    </tr>\n",
       "    <tr>\n",
       "      <th>45</th>\n",
       "      <td>The Witching Hour (Lives of the Mayfair Witche...</td>\n",
       "      <td>3</td>\n",
       "      <td>4.750000</td>\n",
       "    </tr>\n",
       "    <tr>\n",
       "      <th>46</th>\n",
       "      <td>Lover Revealed (Black Dagger Brotherhood  #4)</td>\n",
       "      <td>3</td>\n",
       "      <td>4.750000</td>\n",
       "    </tr>\n",
       "    <tr>\n",
       "      <th>47</th>\n",
       "      <td>The Monster at the End of this Book</td>\n",
       "      <td>3</td>\n",
       "      <td>4.750000</td>\n",
       "    </tr>\n",
       "    <tr>\n",
       "      <th>48</th>\n",
       "      <td>The Twits</td>\n",
       "      <td>3</td>\n",
       "      <td>4.750000</td>\n",
       "    </tr>\n",
       "    <tr>\n",
       "      <th>49</th>\n",
       "      <td>House of Leaves</td>\n",
       "      <td>4</td>\n",
       "      <td>4.750000</td>\n",
       "    </tr>\n",
       "  </tbody>\n",
       "</table>\n",
       "</div>"
      ],
      "text/plain": [
       "                                                title  snt_review  avg_rating\n",
       "0                   Misty of Chincoteague (Misty  #1)           2    5.000000\n",
       "1           A Woman of Substance (Emma Harte Saga #1)           2    5.000000\n",
       "2   The War of Art: Break Through the Blocks & Win...           2    5.000000\n",
       "3                                       Evening Class           2    5.000000\n",
       "4   Wherever You Go  There You Are: Mindfulness Me...           2    5.000000\n",
       "5                                          Dead Souls           2    5.000000\n",
       "6                            Tai-Pan (Asian Saga  #2)           2    5.000000\n",
       "7   The Ghost Map: The Story of London's Most Terr...           2    5.000000\n",
       "8                                         Angels Fall           2    5.000000\n",
       "9                                       Alas  Babylon           2    5.000000\n",
       "10                          Triptych (Will Trent  #1)           2    5.000000\n",
       "11                                 The Woman in Black           2    5.000000\n",
       "12               Welcome to Temptation (Dempseys  #1)           2    5.000000\n",
       "13  Stone of Farewell (Memory  Sorrow  and Thorn  #2)           1    5.000000\n",
       "14                                    Light in August           2    5.000000\n",
       "15                           Neil Gaiman's Neverwhere           2    5.000000\n",
       "16  The Demon-Haunted World: Science as a Candle i...           2    5.000000\n",
       "17                 The Big Bad Wolf  (Alex Cross  #9)           2    5.000000\n",
       "18                                        Marvel 1602           2    5.000000\n",
       "19                                              Women           2    5.000000\n",
       "20                               My Name Is Asher Lev           2    5.000000\n",
       "21       Moneyball: The Art of Winning an Unfair Game           3    5.000000\n",
       "22               Piercing the Darkness (Darkness  #2)           2    5.000000\n",
       "23               Pop Goes the Weasel (Alex Cross  #5)           2    5.000000\n",
       "24                       Plum Island (John Corey  #1)           2    5.000000\n",
       "25                      Emily of New Moon (Emily  #1)           2    5.000000\n",
       "26  The Adventures of Tom Sawyer and Adventures of...           1    5.000000\n",
       "27            School's Out—Forever (Maximum Ride  #2)           3    5.000000\n",
       "28           Evil Under the Sun (Hercule Poirot  #24)           2    5.000000\n",
       "29               Stolen (Women of the Otherworld  #2)           2    5.000000\n",
       "30                                Homage to Catalonia           2    5.000000\n",
       "31                                          Geek Love           2    5.000000\n",
       "32                      A Dirty Job (Grim Reaper  #1)           4    5.000000\n",
       "33                                         Hard Times           2    5.000000\n",
       "34  In the Hand of the Goddess (Song of the Liones...           2    5.000000\n",
       "35                    Act of Treason (Mitch Rapp  #9)           2    5.000000\n",
       "36      Arrows of the Queen (Heralds of Valdemar  #1)           2    5.000000\n",
       "37  How to Be a Domestic Goddess: Baking and the A...           1    5.000000\n",
       "38              A Fistful of Charms (The Hollows  #4)           2    5.000000\n",
       "39  Crucial Conversations: Tools for Talking When ...           2    5.000000\n",
       "40                                              March           2    5.000000\n",
       "41  The Walking Dead  Book One (The Walking Dead #...           2    5.000000\n",
       "42  Captivating: Unveiling the Mystery of a Woman'...           2    5.000000\n",
       "43                 Dragonfly in Amber (Outlander  #2)           4    4.875000\n",
       "44             Preludes & Nocturnes (The Sandman  #1)           3    4.833333\n",
       "45  The Witching Hour (Lives of the Mayfair Witche...           3    4.750000\n",
       "46      Lover Revealed (Black Dagger Brotherhood  #4)           3    4.750000\n",
       "47                The Monster at the End of this Book           3    4.750000\n",
       "48                                          The Twits           3    4.750000\n",
       "49                                    House of Leaves           4    4.750000"
      ]
     },
     "execution_count": 27,
     "metadata": {},
     "output_type": "execute_result"
    }
   ],
   "source": [
    "query = '''SELECT b.title, COUNT (DISTINCT r.review_id) AS snt_review, AVG (rat.rating) AS avg_rating\n",
    "           FROM books AS b\n",
    "           INNER JOIN reviews AS r ON b.book_id = r.book_id\n",
    "           INNER JOIN ratings AS rat ON b.book_id = rat.book_id\n",
    "           GROUP BY b.title\n",
    "           ORDER BY avg_rating DESC\n",
    "           LIMIT 50\n",
    "           '''\n",
    "con=engine.connect()\n",
    "pd.io.sql.read_sql(sql=text(query), con = con)"
   ]
  },
  {
   "cell_type": "markdown",
   "metadata": {},
   "source": [
    "У 43 книг рейтинг равен 5, но количество обзоров у большинства из них 2. Больше всего отзывов (4) с рейтингом 5.0 у книги A Dirty Job (Grim Reaper #1)"
   ]
  },
  {
   "cell_type": "code",
   "execution_count": 38,
   "metadata": {},
   "outputs": [
    {
     "data": {
      "text/html": [
       "<div>\n",
       "<style scoped>\n",
       "    .dataframe tbody tr th:only-of-type {\n",
       "        vertical-align: middle;\n",
       "    }\n",
       "\n",
       "    .dataframe tbody tr th {\n",
       "        vertical-align: top;\n",
       "    }\n",
       "\n",
       "    .dataframe thead th {\n",
       "        text-align: right;\n",
       "    }\n",
       "</style>\n",
       "<table border=\"1\" class=\"dataframe\">\n",
       "  <thead>\n",
       "    <tr style=\"text-align: right;\">\n",
       "      <th></th>\n",
       "      <th>title</th>\n",
       "      <th>snt_review</th>\n",
       "      <th>avg_rating</th>\n",
       "    </tr>\n",
       "  </thead>\n",
       "  <tbody>\n",
       "    <tr>\n",
       "      <th>0</th>\n",
       "      <td>Arrows of the Queen (Heralds of Valdemar  #1)</td>\n",
       "      <td>2</td>\n",
       "      <td>5.00</td>\n",
       "    </tr>\n",
       "    <tr>\n",
       "      <th>1</th>\n",
       "      <td>The Walking Dead  Book One (The Walking Dead #...</td>\n",
       "      <td>2</td>\n",
       "      <td>5.00</td>\n",
       "    </tr>\n",
       "    <tr>\n",
       "      <th>2</th>\n",
       "      <td>Light in August</td>\n",
       "      <td>2</td>\n",
       "      <td>5.00</td>\n",
       "    </tr>\n",
       "    <tr>\n",
       "      <th>3</th>\n",
       "      <td>Wherever You Go  There You Are: Mindfulness Me...</td>\n",
       "      <td>2</td>\n",
       "      <td>5.00</td>\n",
       "    </tr>\n",
       "    <tr>\n",
       "      <th>4</th>\n",
       "      <td>Captivating: Unveiling the Mystery of a Woman'...</td>\n",
       "      <td>2</td>\n",
       "      <td>5.00</td>\n",
       "    </tr>\n",
       "    <tr>\n",
       "      <th>...</th>\n",
       "      <td>...</td>\n",
       "      <td>...</td>\n",
       "      <td>...</td>\n",
       "    </tr>\n",
       "    <tr>\n",
       "      <th>995</th>\n",
       "      <td>The World Is Flat: A Brief History of the Twen...</td>\n",
       "      <td>3</td>\n",
       "      <td>2.25</td>\n",
       "    </tr>\n",
       "    <tr>\n",
       "      <th>996</th>\n",
       "      <td>His Excellency: George Washington</td>\n",
       "      <td>2</td>\n",
       "      <td>2.00</td>\n",
       "    </tr>\n",
       "    <tr>\n",
       "      <th>997</th>\n",
       "      <td>Drowning Ruth</td>\n",
       "      <td>3</td>\n",
       "      <td>2.00</td>\n",
       "    </tr>\n",
       "    <tr>\n",
       "      <th>998</th>\n",
       "      <td>Junky</td>\n",
       "      <td>2</td>\n",
       "      <td>2.00</td>\n",
       "    </tr>\n",
       "    <tr>\n",
       "      <th>999</th>\n",
       "      <td>Harvesting the Heart</td>\n",
       "      <td>2</td>\n",
       "      <td>1.50</td>\n",
       "    </tr>\n",
       "  </tbody>\n",
       "</table>\n",
       "<p>1000 rows × 3 columns</p>\n",
       "</div>"
      ],
      "text/plain": [
       "                                                 title  snt_review  avg_rating\n",
       "0        Arrows of the Queen (Heralds of Valdemar  #1)           2        5.00\n",
       "1    The Walking Dead  Book One (The Walking Dead #...           2        5.00\n",
       "2                                      Light in August           2        5.00\n",
       "3    Wherever You Go  There You Are: Mindfulness Me...           2        5.00\n",
       "4    Captivating: Unveiling the Mystery of a Woman'...           2        5.00\n",
       "..                                                 ...         ...         ...\n",
       "995  The World Is Flat: A Brief History of the Twen...           3        2.25\n",
       "996                  His Excellency: George Washington           2        2.00\n",
       "997                                      Drowning Ruth           3        2.00\n",
       "998                                              Junky           2        2.00\n",
       "999                               Harvesting the Heart           2        1.50\n",
       "\n",
       "[1000 rows x 3 columns]"
      ]
     },
     "execution_count": 38,
     "metadata": {},
     "output_type": "execute_result"
    }
   ],
   "source": [
    "query = '''SELECT b.title, COUNT (DISTINCT r.review_id) AS snt_review, AVG (rat.rating) AS avg_rating\n",
    "           FROM books AS b\n",
    "           LEFT JOIN reviews AS r ON b.book_id = r.book_id\n",
    "           LEFT JOIN ratings AS rat ON b.book_id = rat.book_id\n",
    "           GROUP BY b.book_id\n",
    "           \n",
    "           ORDER BY avg_rating DESC\n",
    "           '''\n",
    "con=engine.connect()\n",
    "pd.io.sql.read_sql(sql=text(query), con = con)"
   ]
  },
  {
   "cell_type": "code",
   "execution_count": 39,
   "metadata": {},
   "outputs": [
    {
     "data": {
      "text/html": [
       "<div>\n",
       "<style scoped>\n",
       "    .dataframe tbody tr th:only-of-type {\n",
       "        vertical-align: middle;\n",
       "    }\n",
       "\n",
       "    .dataframe tbody tr th {\n",
       "        vertical-align: top;\n",
       "    }\n",
       "\n",
       "    .dataframe thead th {\n",
       "        text-align: right;\n",
       "    }\n",
       "</style>\n",
       "<table border=\"1\" class=\"dataframe\">\n",
       "  <thead>\n",
       "    <tr style=\"text-align: right;\">\n",
       "      <th></th>\n",
       "      <th>title</th>\n",
       "      <th>snt_review</th>\n",
       "      <th>avg_rating</th>\n",
       "    </tr>\n",
       "  </thead>\n",
       "  <tbody>\n",
       "    <tr>\n",
       "      <th>0</th>\n",
       "      <td>A Dirty Job (Grim Reaper  #1)</td>\n",
       "      <td>4</td>\n",
       "      <td>5.0</td>\n",
       "    </tr>\n",
       "    <tr>\n",
       "      <th>1</th>\n",
       "      <td>School's Out—Forever (Maximum Ride  #2)</td>\n",
       "      <td>3</td>\n",
       "      <td>5.0</td>\n",
       "    </tr>\n",
       "    <tr>\n",
       "      <th>2</th>\n",
       "      <td>Moneyball: The Art of Winning an Unfair Game</td>\n",
       "      <td>3</td>\n",
       "      <td>5.0</td>\n",
       "    </tr>\n",
       "    <tr>\n",
       "      <th>3</th>\n",
       "      <td>Act of Treason (Mitch Rapp  #9)</td>\n",
       "      <td>2</td>\n",
       "      <td>5.0</td>\n",
       "    </tr>\n",
       "    <tr>\n",
       "      <th>4</th>\n",
       "      <td>Alas  Babylon</td>\n",
       "      <td>2</td>\n",
       "      <td>5.0</td>\n",
       "    </tr>\n",
       "    <tr>\n",
       "      <th>5</th>\n",
       "      <td>Angels Fall</td>\n",
       "      <td>2</td>\n",
       "      <td>5.0</td>\n",
       "    </tr>\n",
       "    <tr>\n",
       "      <th>6</th>\n",
       "      <td>Arrows of the Queen (Heralds of Valdemar  #1)</td>\n",
       "      <td>2</td>\n",
       "      <td>5.0</td>\n",
       "    </tr>\n",
       "    <tr>\n",
       "      <th>7</th>\n",
       "      <td>Captivating: Unveiling the Mystery of a Woman'...</td>\n",
       "      <td>2</td>\n",
       "      <td>5.0</td>\n",
       "    </tr>\n",
       "    <tr>\n",
       "      <th>8</th>\n",
       "      <td>Crucial Conversations: Tools for Talking When ...</td>\n",
       "      <td>2</td>\n",
       "      <td>5.0</td>\n",
       "    </tr>\n",
       "    <tr>\n",
       "      <th>9</th>\n",
       "      <td>Dead Souls</td>\n",
       "      <td>2</td>\n",
       "      <td>5.0</td>\n",
       "    </tr>\n",
       "    <tr>\n",
       "      <th>10</th>\n",
       "      <td>Emily of New Moon (Emily  #1)</td>\n",
       "      <td>2</td>\n",
       "      <td>5.0</td>\n",
       "    </tr>\n",
       "    <tr>\n",
       "      <th>11</th>\n",
       "      <td>Evening Class</td>\n",
       "      <td>2</td>\n",
       "      <td>5.0</td>\n",
       "    </tr>\n",
       "    <tr>\n",
       "      <th>12</th>\n",
       "      <td>Evil Under the Sun (Hercule Poirot  #24)</td>\n",
       "      <td>2</td>\n",
       "      <td>5.0</td>\n",
       "    </tr>\n",
       "    <tr>\n",
       "      <th>13</th>\n",
       "      <td>Geek Love</td>\n",
       "      <td>2</td>\n",
       "      <td>5.0</td>\n",
       "    </tr>\n",
       "    <tr>\n",
       "      <th>14</th>\n",
       "      <td>Hard Times</td>\n",
       "      <td>2</td>\n",
       "      <td>5.0</td>\n",
       "    </tr>\n",
       "    <tr>\n",
       "      <th>15</th>\n",
       "      <td>Homage to Catalonia</td>\n",
       "      <td>2</td>\n",
       "      <td>5.0</td>\n",
       "    </tr>\n",
       "    <tr>\n",
       "      <th>16</th>\n",
       "      <td>In the Hand of the Goddess (Song of the Liones...</td>\n",
       "      <td>2</td>\n",
       "      <td>5.0</td>\n",
       "    </tr>\n",
       "    <tr>\n",
       "      <th>17</th>\n",
       "      <td>Light in August</td>\n",
       "      <td>2</td>\n",
       "      <td>5.0</td>\n",
       "    </tr>\n",
       "    <tr>\n",
       "      <th>18</th>\n",
       "      <td>March</td>\n",
       "      <td>2</td>\n",
       "      <td>5.0</td>\n",
       "    </tr>\n",
       "    <tr>\n",
       "      <th>19</th>\n",
       "      <td>Marvel 1602</td>\n",
       "      <td>2</td>\n",
       "      <td>5.0</td>\n",
       "    </tr>\n",
       "    <tr>\n",
       "      <th>20</th>\n",
       "      <td>Misty of Chincoteague (Misty  #1)</td>\n",
       "      <td>2</td>\n",
       "      <td>5.0</td>\n",
       "    </tr>\n",
       "    <tr>\n",
       "      <th>21</th>\n",
       "      <td>My Name Is Asher Lev</td>\n",
       "      <td>2</td>\n",
       "      <td>5.0</td>\n",
       "    </tr>\n",
       "    <tr>\n",
       "      <th>22</th>\n",
       "      <td>Neil Gaiman's Neverwhere</td>\n",
       "      <td>2</td>\n",
       "      <td>5.0</td>\n",
       "    </tr>\n",
       "    <tr>\n",
       "      <th>23</th>\n",
       "      <td>Piercing the Darkness (Darkness  #2)</td>\n",
       "      <td>2</td>\n",
       "      <td>5.0</td>\n",
       "    </tr>\n",
       "    <tr>\n",
       "      <th>24</th>\n",
       "      <td>Plum Island (John Corey  #1)</td>\n",
       "      <td>2</td>\n",
       "      <td>5.0</td>\n",
       "    </tr>\n",
       "    <tr>\n",
       "      <th>25</th>\n",
       "      <td>Pop Goes the Weasel (Alex Cross  #5)</td>\n",
       "      <td>2</td>\n",
       "      <td>5.0</td>\n",
       "    </tr>\n",
       "    <tr>\n",
       "      <th>26</th>\n",
       "      <td>Stolen (Women of the Otherworld  #2)</td>\n",
       "      <td>2</td>\n",
       "      <td>5.0</td>\n",
       "    </tr>\n",
       "    <tr>\n",
       "      <th>27</th>\n",
       "      <td>Women</td>\n",
       "      <td>2</td>\n",
       "      <td>5.0</td>\n",
       "    </tr>\n",
       "    <tr>\n",
       "      <th>28</th>\n",
       "      <td>A Fistful of Charms (The Hollows  #4)</td>\n",
       "      <td>2</td>\n",
       "      <td>5.0</td>\n",
       "    </tr>\n",
       "    <tr>\n",
       "      <th>29</th>\n",
       "      <td>A Woman of Substance (Emma Harte Saga #1)</td>\n",
       "      <td>2</td>\n",
       "      <td>5.0</td>\n",
       "    </tr>\n",
       "    <tr>\n",
       "      <th>30</th>\n",
       "      <td>The Woman in Black</td>\n",
       "      <td>2</td>\n",
       "      <td>5.0</td>\n",
       "    </tr>\n",
       "    <tr>\n",
       "      <th>31</th>\n",
       "      <td>Triptych (Will Trent  #1)</td>\n",
       "      <td>2</td>\n",
       "      <td>5.0</td>\n",
       "    </tr>\n",
       "    <tr>\n",
       "      <th>32</th>\n",
       "      <td>Welcome to Temptation (Dempseys  #1)</td>\n",
       "      <td>2</td>\n",
       "      <td>5.0</td>\n",
       "    </tr>\n",
       "    <tr>\n",
       "      <th>33</th>\n",
       "      <td>Wherever You Go  There You Are: Mindfulness Me...</td>\n",
       "      <td>2</td>\n",
       "      <td>5.0</td>\n",
       "    </tr>\n",
       "    <tr>\n",
       "      <th>34</th>\n",
       "      <td>Tai-Pan (Asian Saga  #2)</td>\n",
       "      <td>2</td>\n",
       "      <td>5.0</td>\n",
       "    </tr>\n",
       "    <tr>\n",
       "      <th>35</th>\n",
       "      <td>The Big Bad Wolf  (Alex Cross  #9)</td>\n",
       "      <td>2</td>\n",
       "      <td>5.0</td>\n",
       "    </tr>\n",
       "    <tr>\n",
       "      <th>36</th>\n",
       "      <td>The Demon-Haunted World: Science as a Candle i...</td>\n",
       "      <td>2</td>\n",
       "      <td>5.0</td>\n",
       "    </tr>\n",
       "    <tr>\n",
       "      <th>37</th>\n",
       "      <td>The Ghost Map: The Story of London's Most Terr...</td>\n",
       "      <td>2</td>\n",
       "      <td>5.0</td>\n",
       "    </tr>\n",
       "    <tr>\n",
       "      <th>38</th>\n",
       "      <td>The Walking Dead  Book One (The Walking Dead #...</td>\n",
       "      <td>2</td>\n",
       "      <td>5.0</td>\n",
       "    </tr>\n",
       "    <tr>\n",
       "      <th>39</th>\n",
       "      <td>The War of Art: Break Through the Blocks &amp; Win...</td>\n",
       "      <td>2</td>\n",
       "      <td>5.0</td>\n",
       "    </tr>\n",
       "    <tr>\n",
       "      <th>40</th>\n",
       "      <td>Stone of Farewell (Memory  Sorrow  and Thorn  #2)</td>\n",
       "      <td>1</td>\n",
       "      <td>5.0</td>\n",
       "    </tr>\n",
       "    <tr>\n",
       "      <th>41</th>\n",
       "      <td>The Adventures of Tom Sawyer and Adventures of...</td>\n",
       "      <td>1</td>\n",
       "      <td>5.0</td>\n",
       "    </tr>\n",
       "    <tr>\n",
       "      <th>42</th>\n",
       "      <td>How to Be a Domestic Goddess: Baking and the A...</td>\n",
       "      <td>1</td>\n",
       "      <td>5.0</td>\n",
       "    </tr>\n",
       "    <tr>\n",
       "      <th>43</th>\n",
       "      <td>The Cat in the Hat and Other Dr. Seuss Favorites</td>\n",
       "      <td>0</td>\n",
       "      <td>5.0</td>\n",
       "    </tr>\n",
       "  </tbody>\n",
       "</table>\n",
       "</div>"
      ],
      "text/plain": [
       "                                                title  snt_review  avg_rating\n",
       "0                       A Dirty Job (Grim Reaper  #1)           4         5.0\n",
       "1             School's Out—Forever (Maximum Ride  #2)           3         5.0\n",
       "2        Moneyball: The Art of Winning an Unfair Game           3         5.0\n",
       "3                     Act of Treason (Mitch Rapp  #9)           2         5.0\n",
       "4                                       Alas  Babylon           2         5.0\n",
       "5                                         Angels Fall           2         5.0\n",
       "6       Arrows of the Queen (Heralds of Valdemar  #1)           2         5.0\n",
       "7   Captivating: Unveiling the Mystery of a Woman'...           2         5.0\n",
       "8   Crucial Conversations: Tools for Talking When ...           2         5.0\n",
       "9                                          Dead Souls           2         5.0\n",
       "10                      Emily of New Moon (Emily  #1)           2         5.0\n",
       "11                                      Evening Class           2         5.0\n",
       "12           Evil Under the Sun (Hercule Poirot  #24)           2         5.0\n",
       "13                                          Geek Love           2         5.0\n",
       "14                                         Hard Times           2         5.0\n",
       "15                                Homage to Catalonia           2         5.0\n",
       "16  In the Hand of the Goddess (Song of the Liones...           2         5.0\n",
       "17                                    Light in August           2         5.0\n",
       "18                                              March           2         5.0\n",
       "19                                        Marvel 1602           2         5.0\n",
       "20                  Misty of Chincoteague (Misty  #1)           2         5.0\n",
       "21                               My Name Is Asher Lev           2         5.0\n",
       "22                           Neil Gaiman's Neverwhere           2         5.0\n",
       "23               Piercing the Darkness (Darkness  #2)           2         5.0\n",
       "24                       Plum Island (John Corey  #1)           2         5.0\n",
       "25               Pop Goes the Weasel (Alex Cross  #5)           2         5.0\n",
       "26               Stolen (Women of the Otherworld  #2)           2         5.0\n",
       "27                                              Women           2         5.0\n",
       "28              A Fistful of Charms (The Hollows  #4)           2         5.0\n",
       "29          A Woman of Substance (Emma Harte Saga #1)           2         5.0\n",
       "30                                 The Woman in Black           2         5.0\n",
       "31                          Triptych (Will Trent  #1)           2         5.0\n",
       "32               Welcome to Temptation (Dempseys  #1)           2         5.0\n",
       "33  Wherever You Go  There You Are: Mindfulness Me...           2         5.0\n",
       "34                           Tai-Pan (Asian Saga  #2)           2         5.0\n",
       "35                 The Big Bad Wolf  (Alex Cross  #9)           2         5.0\n",
       "36  The Demon-Haunted World: Science as a Candle i...           2         5.0\n",
       "37  The Ghost Map: The Story of London's Most Terr...           2         5.0\n",
       "38  The Walking Dead  Book One (The Walking Dead #...           2         5.0\n",
       "39  The War of Art: Break Through the Blocks & Win...           2         5.0\n",
       "40  Stone of Farewell (Memory  Sorrow  and Thorn  #2)           1         5.0\n",
       "41  The Adventures of Tom Sawyer and Adventures of...           1         5.0\n",
       "42  How to Be a Domestic Goddess: Baking and the A...           1         5.0\n",
       "43   The Cat in the Hat and Other Dr. Seuss Favorites           0         5.0"
      ]
     },
     "execution_count": 39,
     "metadata": {},
     "output_type": "execute_result"
    }
   ],
   "source": [
    "query = '''SELECT b.title, COUNT (DISTINCT r.review_id) AS snt_review, AVG (rat.rating) AS avg_rating\n",
    "           FROM books AS b\n",
    "           LEFT JOIN reviews AS r ON b.book_id = r.book_id\n",
    "           LEFT JOIN ratings AS rat ON b.book_id = rat.book_id\n",
    "           GROUP BY b.book_id\n",
    "           HAVING AVG (rat.rating) = 5.0\n",
    "           ORDER BY snt_review DESC\n",
    "           \n",
    "           '''\n",
    "con=engine.connect()\n",
    "pd.io.sql.read_sql(sql=text(query), con = con)"
   ]
  },
  {
   "cell_type": "code",
   "execution_count": 32,
   "metadata": {},
   "outputs": [
    {
     "data": {
      "text/html": [
       "<div>\n",
       "<style scoped>\n",
       "    .dataframe tbody tr th:only-of-type {\n",
       "        vertical-align: middle;\n",
       "    }\n",
       "\n",
       "    .dataframe tbody tr th {\n",
       "        vertical-align: top;\n",
       "    }\n",
       "\n",
       "    .dataframe thead th {\n",
       "        text-align: right;\n",
       "    }\n",
       "</style>\n",
       "<table border=\"1\" class=\"dataframe\">\n",
       "  <thead>\n",
       "    <tr style=\"text-align: right;\">\n",
       "      <th></th>\n",
       "      <th>title</th>\n",
       "      <th>snt_review</th>\n",
       "      <th>avg_rating</th>\n",
       "    </tr>\n",
       "  </thead>\n",
       "  <tbody>\n",
       "    <tr>\n",
       "      <th>0</th>\n",
       "      <td>Twilight (Twilight  #1)</td>\n",
       "      <td>7</td>\n",
       "      <td>3.662500</td>\n",
       "    </tr>\n",
       "    <tr>\n",
       "      <th>1</th>\n",
       "      <td>Water for Elephants</td>\n",
       "      <td>6</td>\n",
       "      <td>3.977273</td>\n",
       "    </tr>\n",
       "    <tr>\n",
       "      <th>2</th>\n",
       "      <td>The Glass Castle</td>\n",
       "      <td>6</td>\n",
       "      <td>4.206897</td>\n",
       "    </tr>\n",
       "    <tr>\n",
       "      <th>3</th>\n",
       "      <td>Harry Potter and the Prisoner of Azkaban (Harr...</td>\n",
       "      <td>6</td>\n",
       "      <td>4.414634</td>\n",
       "    </tr>\n",
       "    <tr>\n",
       "      <th>4</th>\n",
       "      <td>The Curious Incident of the Dog in the Night-Time</td>\n",
       "      <td>6</td>\n",
       "      <td>4.081081</td>\n",
       "    </tr>\n",
       "    <tr>\n",
       "      <th>...</th>\n",
       "      <td>...</td>\n",
       "      <td>...</td>\n",
       "      <td>...</td>\n",
       "    </tr>\n",
       "    <tr>\n",
       "      <th>995</th>\n",
       "      <td>Anne Rice's The Vampire Lestat: A Graphic Novel</td>\n",
       "      <td>0</td>\n",
       "      <td>3.666667</td>\n",
       "    </tr>\n",
       "    <tr>\n",
       "      <th>996</th>\n",
       "      <td>The Natural Way to Draw</td>\n",
       "      <td>0</td>\n",
       "      <td>3.000000</td>\n",
       "    </tr>\n",
       "    <tr>\n",
       "      <th>997</th>\n",
       "      <td>The Cat in the Hat and Other Dr. Seuss Favorites</td>\n",
       "      <td>0</td>\n",
       "      <td>5.000000</td>\n",
       "    </tr>\n",
       "    <tr>\n",
       "      <th>998</th>\n",
       "      <td>Essential Tales and Poems</td>\n",
       "      <td>0</td>\n",
       "      <td>4.000000</td>\n",
       "    </tr>\n",
       "    <tr>\n",
       "      <th>999</th>\n",
       "      <td>Disney's Beauty and the Beast (A Little Golden...</td>\n",
       "      <td>0</td>\n",
       "      <td>4.000000</td>\n",
       "    </tr>\n",
       "  </tbody>\n",
       "</table>\n",
       "<p>1000 rows × 3 columns</p>\n",
       "</div>"
      ],
      "text/plain": [
       "                                                 title  snt_review  avg_rating\n",
       "0                              Twilight (Twilight  #1)           7    3.662500\n",
       "1                                  Water for Elephants           6    3.977273\n",
       "2                                     The Glass Castle           6    4.206897\n",
       "3    Harry Potter and the Prisoner of Azkaban (Harr...           6    4.414634\n",
       "4    The Curious Incident of the Dog in the Night-Time           6    4.081081\n",
       "..                                                 ...         ...         ...\n",
       "995    Anne Rice's The Vampire Lestat: A Graphic Novel           0    3.666667\n",
       "996                            The Natural Way to Draw           0    3.000000\n",
       "997   The Cat in the Hat and Other Dr. Seuss Favorites           0    5.000000\n",
       "998                          Essential Tales and Poems           0    4.000000\n",
       "999  Disney's Beauty and the Beast (A Little Golden...           0    4.000000\n",
       "\n",
       "[1000 rows x 3 columns]"
      ]
     },
     "execution_count": 32,
     "metadata": {},
     "output_type": "execute_result"
    }
   ],
   "source": [
    "query = '''SELECT b.title, COUNT (DISTINCT r.review_id) AS snt_review, AVG (rat.rating) AS avg_rating\n",
    "           FROM books AS b\n",
    "           LEFT JOIN reviews AS r ON b.book_id = r.book_id\n",
    "           LEFT JOIN ratings AS rat ON b.book_id = rat.book_id\n",
    "           GROUP BY b.book_id\n",
    "           ORDER BY snt_review DESC\n",
    "           '''\n",
    "con=engine.connect()\n",
    "pd.io.sql.read_sql(sql=text(query), con = con)"
   ]
  },
  {
   "cell_type": "markdown",
   "metadata": {},
   "source": [
    "У 44 книг рейтинг равен 5, но количество обзоров у большинства из них 2. Больше всего отзывов (4) с рейтингом 5.0 у книги A Dirty Job (Grim Reaper #1). Больше всего отзывов у книги Twilight (Twilight #1)\t - 7."
   ]
  },
  {
   "cell_type": "markdown",
   "metadata": {},
   "source": [
    "**3.Идательство, выпустившее наибольшее число книг толще 50 страниц**"
   ]
  },
  {
   "cell_type": "code",
   "execution_count": 33,
   "metadata": {},
   "outputs": [
    {
     "data": {
      "text/html": [
       "<div>\n",
       "<style scoped>\n",
       "    .dataframe tbody tr th:only-of-type {\n",
       "        vertical-align: middle;\n",
       "    }\n",
       "\n",
       "    .dataframe tbody tr th {\n",
       "        vertical-align: top;\n",
       "    }\n",
       "\n",
       "    .dataframe thead th {\n",
       "        text-align: right;\n",
       "    }\n",
       "</style>\n",
       "<table border=\"1\" class=\"dataframe\">\n",
       "  <thead>\n",
       "    <tr style=\"text-align: right;\">\n",
       "      <th></th>\n",
       "      <th>publisher</th>\n",
       "      <th>snt_books</th>\n",
       "    </tr>\n",
       "  </thead>\n",
       "  <tbody>\n",
       "    <tr>\n",
       "      <th>0</th>\n",
       "      <td>Penguin Books</td>\n",
       "      <td>42</td>\n",
       "    </tr>\n",
       "  </tbody>\n",
       "</table>\n",
       "</div>"
      ],
      "text/plain": [
       "       publisher  snt_books\n",
       "0  Penguin Books         42"
      ]
     },
     "execution_count": 33,
     "metadata": {},
     "output_type": "execute_result"
    }
   ],
   "source": [
    "query = '''SELECT p.publisher, COUNT (DISTINCT book_id) AS snt_books\n",
    "           FROM publishers AS p\n",
    "           LEFT JOIN books AS b ON p.publisher_id = b.publisher_id\n",
    "           WHERE b.num_pages > 50\n",
    "           GROUP BY p.publisher\n",
    "           ORDER BY snt_books DESC\n",
    "           LIMIT 1\n",
    "           '''\n",
    "con=engine.connect()\n",
    "pd.io.sql.read_sql(sql=text(query), con = con)"
   ]
  },
  {
   "cell_type": "markdown",
   "metadata": {},
   "source": [
    "Penguin Books - издательство, выпустившее наибольшее количество книг (42) толщиной более 50 страниц."
   ]
  },
  {
   "cell_type": "markdown",
   "metadata": {},
   "source": [
    "**4.Автор с самой высокой средней оценкой книг, учитывая только книги с 50 и более оценками**"
   ]
  },
  {
   "cell_type": "code",
   "execution_count": 34,
   "metadata": {},
   "outputs": [
    {
     "data": {
      "text/html": [
       "<div>\n",
       "<style scoped>\n",
       "    .dataframe tbody tr th:only-of-type {\n",
       "        vertical-align: middle;\n",
       "    }\n",
       "\n",
       "    .dataframe tbody tr th {\n",
       "        vertical-align: top;\n",
       "    }\n",
       "\n",
       "    .dataframe thead th {\n",
       "        text-align: right;\n",
       "    }\n",
       "</style>\n",
       "<table border=\"1\" class=\"dataframe\">\n",
       "  <thead>\n",
       "    <tr style=\"text-align: right;\">\n",
       "      <th></th>\n",
       "      <th>author</th>\n",
       "      <th>avg_rating</th>\n",
       "      <th>snt_rating</th>\n",
       "    </tr>\n",
       "  </thead>\n",
       "  <tbody>\n",
       "    <tr>\n",
       "      <th>0</th>\n",
       "      <td>Diana Gabaldon</td>\n",
       "      <td>4.300000</td>\n",
       "      <td>50</td>\n",
       "    </tr>\n",
       "    <tr>\n",
       "      <th>1</th>\n",
       "      <td>J.K. Rowling/Mary GrandPré</td>\n",
       "      <td>4.288462</td>\n",
       "      <td>312</td>\n",
       "    </tr>\n",
       "    <tr>\n",
       "      <th>2</th>\n",
       "      <td>Agatha Christie</td>\n",
       "      <td>4.283019</td>\n",
       "      <td>53</td>\n",
       "    </tr>\n",
       "    <tr>\n",
       "      <th>3</th>\n",
       "      <td>Markus Zusak/Cao Xuân Việt Khương</td>\n",
       "      <td>4.264151</td>\n",
       "      <td>53</td>\n",
       "    </tr>\n",
       "    <tr>\n",
       "      <th>4</th>\n",
       "      <td>J.R.R. Tolkien</td>\n",
       "      <td>4.240964</td>\n",
       "      <td>166</td>\n",
       "    </tr>\n",
       "  </tbody>\n",
       "</table>\n",
       "</div>"
      ],
      "text/plain": [
       "                              author  avg_rating  snt_rating\n",
       "0                     Diana Gabaldon    4.300000          50\n",
       "1         J.K. Rowling/Mary GrandPré    4.288462         312\n",
       "2                    Agatha Christie    4.283019          53\n",
       "3  Markus Zusak/Cao Xuân Việt Khương    4.264151          53\n",
       "4                     J.R.R. Tolkien    4.240964         166"
      ]
     },
     "execution_count": 34,
     "metadata": {},
     "output_type": "execute_result"
    }
   ],
   "source": [
    "query = '''SELECT a.author, AVG (rat.rating) AS avg_rating, COUNT (DISTINCT rat.rating_id) AS snt_rating\n",
    "           FROM authors AS a\n",
    "           LEFT JOIN books AS b ON a.author_id = b.author_id\n",
    "           LEFT JOIN ratings AS rat ON b.book_id = rat.book_id\n",
    "           GROUP BY a.author\n",
    "           HAVING COUNT (DISTINCT rat.rating_id) >= 50\n",
    "           \n",
    "           ORDER BY avg_rating DESC\n",
    "           LIMIT 5\n",
    "           '''\n",
    "con=engine.connect()\n",
    "pd.io.sql.read_sql(sql=text(query), con = con)"
   ]
  },
  {
   "cell_type": "code",
   "execution_count": 35,
   "metadata": {},
   "outputs": [
    {
     "data": {
      "text/html": [
       "<div>\n",
       "<style scoped>\n",
       "    .dataframe tbody tr th:only-of-type {\n",
       "        vertical-align: middle;\n",
       "    }\n",
       "\n",
       "    .dataframe tbody tr th {\n",
       "        vertical-align: top;\n",
       "    }\n",
       "\n",
       "    .dataframe thead th {\n",
       "        text-align: right;\n",
       "    }\n",
       "</style>\n",
       "<table border=\"1\" class=\"dataframe\">\n",
       "  <thead>\n",
       "    <tr style=\"text-align: right;\">\n",
       "      <th></th>\n",
       "      <th>author</th>\n",
       "      <th>avg_rating</th>\n",
       "      <th>snt_rating</th>\n",
       "    </tr>\n",
       "  </thead>\n",
       "  <tbody>\n",
       "    <tr>\n",
       "      <th>0</th>\n",
       "      <td>J.K. Rowling/Mary GrandPré</td>\n",
       "      <td>4.288462</td>\n",
       "      <td>312</td>\n",
       "    </tr>\n",
       "    <tr>\n",
       "      <th>1</th>\n",
       "      <td>J.R.R. Tolkien</td>\n",
       "      <td>4.240964</td>\n",
       "      <td>166</td>\n",
       "    </tr>\n",
       "    <tr>\n",
       "      <th>2</th>\n",
       "      <td>Stephenie Meyer</td>\n",
       "      <td>3.662500</td>\n",
       "      <td>160</td>\n",
       "    </tr>\n",
       "    <tr>\n",
       "      <th>3</th>\n",
       "      <td>Dan Brown</td>\n",
       "      <td>3.741259</td>\n",
       "      <td>143</td>\n",
       "    </tr>\n",
       "    <tr>\n",
       "      <th>4</th>\n",
       "      <td>Nicholas Sparks</td>\n",
       "      <td>3.882883</td>\n",
       "      <td>111</td>\n",
       "    </tr>\n",
       "  </tbody>\n",
       "</table>\n",
       "</div>"
      ],
      "text/plain": [
       "                       author  avg_rating  snt_rating\n",
       "0  J.K. Rowling/Mary GrandPré    4.288462         312\n",
       "1              J.R.R. Tolkien    4.240964         166\n",
       "2             Stephenie Meyer    3.662500         160\n",
       "3                   Dan Brown    3.741259         143\n",
       "4             Nicholas Sparks    3.882883         111"
      ]
     },
     "execution_count": 35,
     "metadata": {},
     "output_type": "execute_result"
    }
   ],
   "source": [
    "query = '''SELECT a.author, AVG (rat.rating) AS avg_rating, COUNT (DISTINCT rat.rating_id) AS snt_rating\n",
    "           FROM authors AS a\n",
    "           LEFT JOIN books AS b ON a.author_id = b.author_id\n",
    "           LEFT JOIN ratings AS rat ON b.book_id = rat.book_id\n",
    "           GROUP BY a.author\n",
    "           HAVING COUNT (DISTINCT rat.rating_id) >= 50\n",
    "           \n",
    "           ORDER BY snt_rating DESC\n",
    "           LIMIT 5\n",
    "           '''\n",
    "con=engine.connect()\n",
    "pd.io.sql.read_sql(sql=text(query), con = con)"
   ]
  },
  {
   "cell_type": "markdown",
   "metadata": {},
   "source": [
    "Автор с самой высокой оценкой книг - это Diana Gabaldon (учитывая только книги с 50 и более оценками). Однако у J.K. Rowling/Mary GrandPré средняя оценка ниже всего на 0,01 пункта, но больше всего полученных оценок."
   ]
  },
  {
   "cell_type": "code",
   "execution_count": 36,
   "metadata": {},
   "outputs": [
    {
     "data": {
      "text/html": [
       "<div>\n",
       "<style scoped>\n",
       "    .dataframe tbody tr th:only-of-type {\n",
       "        vertical-align: middle;\n",
       "    }\n",
       "\n",
       "    .dataframe tbody tr th {\n",
       "        vertical-align: top;\n",
       "    }\n",
       "\n",
       "    .dataframe thead th {\n",
       "        text-align: right;\n",
       "    }\n",
       "</style>\n",
       "<table border=\"1\" class=\"dataframe\">\n",
       "  <thead>\n",
       "    <tr style=\"text-align: right;\">\n",
       "      <th></th>\n",
       "      <th>author</th>\n",
       "      <th>cnt_ratings</th>\n",
       "      <th>avg_rating</th>\n",
       "    </tr>\n",
       "  </thead>\n",
       "  <tbody>\n",
       "    <tr>\n",
       "      <th>0</th>\n",
       "      <td>J.K. Rowling/Mary GrandPré</td>\n",
       "      <td>310.0</td>\n",
       "      <td>4.283844</td>\n",
       "    </tr>\n",
       "    <tr>\n",
       "      <th>1</th>\n",
       "      <td>Markus Zusak/Cao Xuân Việt Khương</td>\n",
       "      <td>53.0</td>\n",
       "      <td>4.264151</td>\n",
       "    </tr>\n",
       "    <tr>\n",
       "      <th>2</th>\n",
       "      <td>J.R.R. Tolkien</td>\n",
       "      <td>162.0</td>\n",
       "      <td>4.258446</td>\n",
       "    </tr>\n",
       "    <tr>\n",
       "      <th>3</th>\n",
       "      <td>Louisa May Alcott</td>\n",
       "      <td>52.0</td>\n",
       "      <td>4.192308</td>\n",
       "    </tr>\n",
       "    <tr>\n",
       "      <th>4</th>\n",
       "      <td>Rick Riordan</td>\n",
       "      <td>62.0</td>\n",
       "      <td>4.080645</td>\n",
       "    </tr>\n",
       "  </tbody>\n",
       "</table>\n",
       "</div>"
      ],
      "text/plain": [
       "                              author  cnt_ratings  avg_rating\n",
       "0         J.K. Rowling/Mary GrandPré        310.0    4.283844\n",
       "1  Markus Zusak/Cao Xuân Việt Khương         53.0    4.264151\n",
       "2                     J.R.R. Tolkien        162.0    4.258446\n",
       "3                  Louisa May Alcott         52.0    4.192308\n",
       "4                       Rick Riordan         62.0    4.080645"
      ]
     },
     "execution_count": 36,
     "metadata": {},
     "output_type": "execute_result"
    }
   ],
   "source": [
    "query = '''WITH book_ratings AS (SELECT rat.book_id,\n",
    "                                        AVG(rat.rating) AS avg_rating,\n",
    "                                        COUNT(rat.rating) AS cnt_ratings\n",
    "                                 FROM ratings AS rat\n",
    "                                 GROUP BY rat.book_id\n",
    "                                 HAVING COUNT(rat.rating) >= 50),\n",
    "                average_ratings AS (SELECT a.author_id,\n",
    "                                             SUM(br.cnt_ratings) AS cnt_ratings,\n",
    "                                             AVG(br.avg_rating) AS avg_rating\n",
    "                                      FROM authors a\n",
    "                                      JOIN books AS b ON a.author_id = b.author_id\n",
    "                                      JOIN book_ratings AS br ON b.book_id = br.book_id\n",
    "                                      GROUP BY a.author_id)\n",
    "           SELECT a.author,\n",
    "                  ar.cnt_ratings,\n",
    "                  ar.avg_rating\n",
    "           FROM authors a\n",
    "           JOIN average_ratings AS ar ON a.author_id = ar.author_id\n",
    "           ORDER BY ar.avg_rating DESC\n",
    "           LIMIT 5'''\n",
    "con=engine.connect()\n",
    "pd.io.sql.read_sql(sql=text(query), con = con)"
   ]
  },
  {
   "cell_type": "markdown",
   "metadata": {},
   "source": [
    "Автор с самой высокой оценкой книг - это J.K. Rowling (учитывая только книги с 50 и более оценками). И количество оценок у нее наибольшее."
   ]
  },
  {
   "cell_type": "markdown",
   "metadata": {},
   "source": [
    "**5.Среднее количество обзоров от пользователей, которые поставили больше 48 оценок**"
   ]
  },
  {
   "cell_type": "code",
   "execution_count": 37,
   "metadata": {},
   "outputs": [
    {
     "data": {
      "text/html": [
       "<div>\n",
       "<style scoped>\n",
       "    .dataframe tbody tr th:only-of-type {\n",
       "        vertical-align: middle;\n",
       "    }\n",
       "\n",
       "    .dataframe tbody tr th {\n",
       "        vertical-align: top;\n",
       "    }\n",
       "\n",
       "    .dataframe thead th {\n",
       "        text-align: right;\n",
       "    }\n",
       "</style>\n",
       "<table border=\"1\" class=\"dataframe\">\n",
       "  <thead>\n",
       "    <tr style=\"text-align: right;\">\n",
       "      <th></th>\n",
       "      <th>round</th>\n",
       "    </tr>\n",
       "  </thead>\n",
       "  <tbody>\n",
       "    <tr>\n",
       "      <th>0</th>\n",
       "      <td>24.0</td>\n",
       "    </tr>\n",
       "  </tbody>\n",
       "</table>\n",
       "</div>"
      ],
      "text/plain": [
       "   round\n",
       "0   24.0"
      ]
     },
     "execution_count": 37,
     "metadata": {},
     "output_type": "execute_result"
    }
   ],
   "source": [
    "query = '''SELECT ROUND(AVG(rev.count)) AS round\n",
    "           FROM (SELECT COUNT(review_id)\n",
    "                 FROM reviews \n",
    "                 WHERE username IN (SELECT  username\n",
    "                              FROM ratings AS rat\n",
    "                              GROUP BY username\n",
    "                              HAVING COUNT (DISTINCT rat.rating_id) > 48\n",
    "                              )\n",
    "GROUP BY username\n",
    ") AS rev\n",
    "'''\n",
    "con=engine.connect()\n",
    "pd.io.sql.read_sql(sql=text(query), con = con)"
   ]
  },
  {
   "cell_type": "markdown",
   "metadata": {},
   "source": [
    "Пользователи, поставившие более 48 оценок, написали в среднем 24 обзора."
   ]
  },
  {
   "cell_type": "markdown",
   "metadata": {},
   "source": [
    "**Вывод**\n",
    "\n",
    "1. После 1 января 2020 года выпущено 819 книг.\n",
    "\n",
    "2. У 44 книг рейтинг равен 5, но количество обзоров у большинства из них 2. Больше всего отзывов (4) с рейтингом 5.0 у книги A Dirty Job (Grim Reaper #1). Больше всего отзывов у книги Twilight (Twilight #1)\t - 7.\n",
    "\n",
    "3. Penguin Books - издательство, выпустившее наибольшее количество книг (42) толщиной более 50 страниц.\n",
    "\n",
    "4. Автор с самой высокой оценкой книг - это J.K. Rowling (учитывая только книги с 50 и более оценками). И количество оценок у нее наибольшее.\n",
    "\n",
    "5. Пользователи, поставившие более 48 оценок, написали в среднем 24 обзора."
   ]
  },
  {
   "cell_type": "code",
   "execution_count": null,
   "metadata": {},
   "outputs": [],
   "source": []
  }
 ],
 "metadata": {
  "ExecuteTimeLog": [
   {
    "duration": 11325,
    "start_time": "2025-03-30T05:49:09.806Z"
   },
   {
    "duration": 43,
    "start_time": "2025-03-30T05:54:56.333Z"
   },
   {
    "duration": 127,
    "start_time": "2025-03-30T05:55:31.933Z"
   },
   {
    "duration": 35,
    "start_time": "2025-03-30T06:04:50.800Z"
   },
   {
    "duration": 16,
    "start_time": "2025-03-30T06:05:37.508Z"
   },
   {
    "duration": 12,
    "start_time": "2025-03-30T06:05:52.460Z"
   },
   {
    "duration": 12,
    "start_time": "2025-03-30T06:06:09.260Z"
   },
   {
    "duration": 118,
    "start_time": "2025-03-30T06:26:50.867Z"
   },
   {
    "duration": 12,
    "start_time": "2025-03-30T06:27:24.103Z"
   },
   {
    "duration": 53,
    "start_time": "2025-03-30T06:28:21.190Z"
   },
   {
    "duration": 10,
    "start_time": "2025-03-30T06:29:06.140Z"
   },
   {
    "duration": 10,
    "start_time": "2025-03-30T06:29:28.364Z"
   },
   {
    "duration": 23,
    "start_time": "2025-03-30T06:46:40.878Z"
   },
   {
    "duration": 29,
    "start_time": "2025-03-30T06:49:54.175Z"
   },
   {
    "duration": 31,
    "start_time": "2025-03-30T06:51:12.026Z"
   },
   {
    "duration": 32,
    "start_time": "2025-03-30T06:56:13.400Z"
   },
   {
    "duration": 51,
    "start_time": "2025-03-30T06:57:02.983Z"
   },
   {
    "duration": 20,
    "start_time": "2025-03-30T06:58:29.669Z"
   },
   {
    "duration": 32,
    "start_time": "2025-03-30T06:58:39.722Z"
   },
   {
    "duration": 36,
    "start_time": "2025-03-30T07:00:01.465Z"
   },
   {
    "duration": 35,
    "start_time": "2025-03-30T07:00:43.161Z"
   },
   {
    "duration": 20,
    "start_time": "2025-03-30T07:01:53.540Z"
   },
   {
    "duration": 34,
    "start_time": "2025-03-30T07:02:36.308Z"
   },
   {
    "duration": 73,
    "start_time": "2025-03-30T07:03:06.853Z"
   },
   {
    "duration": 35,
    "start_time": "2025-03-30T07:03:55.272Z"
   },
   {
    "duration": 31,
    "start_time": "2025-03-30T07:04:36.336Z"
   },
   {
    "duration": 32,
    "start_time": "2025-03-30T07:04:57.208Z"
   },
   {
    "duration": 34,
    "start_time": "2025-03-30T07:05:37.882Z"
   },
   {
    "duration": 38,
    "start_time": "2025-03-30T07:05:53.390Z"
   },
   {
    "duration": 32,
    "start_time": "2025-03-30T07:06:08.244Z"
   },
   {
    "duration": 10619,
    "start_time": "2025-03-31T15:27:26.234Z"
   },
   {
    "duration": 116,
    "start_time": "2025-03-31T15:27:36.855Z"
   },
   {
    "duration": 53,
    "start_time": "2025-03-31T15:27:36.973Z"
   },
   {
    "duration": 53,
    "start_time": "2025-03-31T15:27:37.028Z"
   },
   {
    "duration": 57,
    "start_time": "2025-03-31T15:27:37.083Z"
   },
   {
    "duration": 53,
    "start_time": "2025-03-31T15:27:37.141Z"
   },
   {
    "duration": 78,
    "start_time": "2025-03-31T15:27:37.196Z"
   },
   {
    "duration": 53,
    "start_time": "2025-03-31T15:36:07.433Z"
   },
   {
    "duration": 56,
    "start_time": "2025-03-31T15:39:00.652Z"
   },
   {
    "duration": 74,
    "start_time": "2025-03-31T15:40:06.858Z"
   },
   {
    "duration": 130,
    "start_time": "2025-03-31T15:52:16.011Z"
   },
   {
    "duration": 60,
    "start_time": "2025-03-31T15:53:03.933Z"
   },
   {
    "duration": 112,
    "start_time": "2025-03-31T15:53:52.703Z"
   },
   {
    "duration": 141,
    "start_time": "2025-03-31T15:55:07.792Z"
   },
   {
    "duration": 47,
    "start_time": "2025-03-31T15:55:34.043Z"
   },
   {
    "duration": 125,
    "start_time": "2025-03-31T15:56:19.103Z"
   },
   {
    "duration": 57,
    "start_time": "2025-03-31T15:57:05.383Z"
   },
   {
    "duration": 58,
    "start_time": "2025-03-31T15:57:55.426Z"
   },
   {
    "duration": 58,
    "start_time": "2025-03-31T16:01:58.056Z"
   },
   {
    "duration": 59,
    "start_time": "2025-03-31T16:03:15.282Z"
   },
   {
    "duration": 58,
    "start_time": "2025-03-31T16:06:08.542Z"
   },
   {
    "duration": 70,
    "start_time": "2025-03-31T16:35:55.727Z"
   },
   {
    "duration": 10185,
    "start_time": "2025-04-01T15:42:09.992Z"
   },
   {
    "duration": 115,
    "start_time": "2025-04-01T15:42:20.179Z"
   },
   {
    "duration": 51,
    "start_time": "2025-04-01T15:42:20.296Z"
   },
   {
    "duration": 52,
    "start_time": "2025-04-01T15:42:20.349Z"
   },
   {
    "duration": 52,
    "start_time": "2025-04-01T15:42:20.403Z"
   },
   {
    "duration": 53,
    "start_time": "2025-04-01T15:42:20.456Z"
   },
   {
    "duration": 111,
    "start_time": "2025-04-01T15:42:20.510Z"
   },
   {
    "duration": 74,
    "start_time": "2025-04-01T15:42:20.622Z"
   },
   {
    "duration": 51,
    "start_time": "2025-04-01T15:42:20.697Z"
   },
   {
    "duration": 59,
    "start_time": "2025-04-01T15:42:20.890Z"
   },
   {
    "duration": 60,
    "start_time": "2025-04-01T15:42:21.633Z"
   },
   {
    "duration": 67,
    "start_time": "2025-04-01T15:42:23.370Z"
   },
   {
    "duration": 129,
    "start_time": "2025-04-01T15:52:59.096Z"
   },
   {
    "duration": 41,
    "start_time": "2025-04-01T15:53:16.115Z"
   },
   {
    "duration": 12793,
    "start_time": "2025-04-01T15:55:23.851Z"
   },
   {
    "duration": 70,
    "start_time": "2025-04-01T15:57:39.388Z"
   },
   {
    "duration": 12636,
    "start_time": "2025-04-01T15:58:21.837Z"
   },
   {
    "duration": 137,
    "start_time": "2025-04-01T16:04:03.883Z"
   },
   {
    "duration": 45,
    "start_time": "2025-04-01T16:04:44.210Z"
   },
   {
    "duration": 221,
    "start_time": "2025-04-01T16:24:17.719Z"
   },
   {
    "duration": 128,
    "start_time": "2025-04-01T16:24:18.945Z"
   },
   {
    "duration": 52,
    "start_time": "2025-04-01T16:24:20.196Z"
   },
   {
    "duration": 53,
    "start_time": "2025-04-01T16:24:21.216Z"
   },
   {
    "duration": 53,
    "start_time": "2025-04-01T16:24:22.623Z"
   },
   {
    "duration": 51,
    "start_time": "2025-04-01T16:24:24.771Z"
   },
   {
    "duration": 74,
    "start_time": "2025-04-01T16:24:27.952Z"
   },
   {
    "duration": 75,
    "start_time": "2025-04-01T16:24:30.428Z"
   },
   {
    "duration": 53,
    "start_time": "2025-04-01T16:24:34.195Z"
   },
   {
    "duration": 59,
    "start_time": "2025-04-01T16:24:37.804Z"
   },
   {
    "duration": 59,
    "start_time": "2025-04-01T16:24:39.024Z"
   },
   {
    "duration": 56,
    "start_time": "2025-04-01T16:24:44.100Z"
   },
   {
    "duration": 15818,
    "start_time": "2025-04-01T19:15:16.634Z"
   },
   {
    "duration": 124,
    "start_time": "2025-04-01T19:15:32.453Z"
   },
   {
    "duration": 54,
    "start_time": "2025-04-01T19:15:32.579Z"
   },
   {
    "duration": 235,
    "start_time": "2025-04-01T19:15:32.635Z"
   },
   {
    "duration": 55,
    "start_time": "2025-04-01T19:15:32.872Z"
   },
   {
    "duration": 52,
    "start_time": "2025-04-01T19:15:32.928Z"
   },
   {
    "duration": 76,
    "start_time": "2025-04-01T19:15:32.981Z"
   },
   {
    "duration": 75,
    "start_time": "2025-04-01T19:15:33.059Z"
   },
   {
    "duration": 53,
    "start_time": "2025-04-01T19:15:33.136Z"
   },
   {
    "duration": 61,
    "start_time": "2025-04-01T19:15:33.190Z"
   },
   {
    "duration": 59,
    "start_time": "2025-04-01T19:15:33.253Z"
   },
   {
    "duration": 57,
    "start_time": "2025-04-01T19:15:33.314Z"
   },
   {
    "duration": 51,
    "start_time": "2025-04-02T15:30:54.938Z"
   },
   {
    "duration": 12866,
    "start_time": "2025-04-02T15:31:04.555Z"
   },
   {
    "duration": 117,
    "start_time": "2025-04-02T15:31:17.423Z"
   },
   {
    "duration": 57,
    "start_time": "2025-04-02T15:31:17.542Z"
   },
   {
    "duration": 53,
    "start_time": "2025-04-02T15:31:17.601Z"
   },
   {
    "duration": 56,
    "start_time": "2025-04-02T15:31:17.656Z"
   },
   {
    "duration": 54,
    "start_time": "2025-04-02T15:31:17.714Z"
   },
   {
    "duration": 85,
    "start_time": "2025-04-02T15:31:18.152Z"
   },
   {
    "duration": 2739,
    "start_time": "2025-04-02T15:31:22.544Z"
   },
   {
    "duration": 91,
    "start_time": "2025-04-02T15:32:52.663Z"
   },
   {
    "duration": 97,
    "start_time": "2025-04-02T15:37:52.133Z"
   },
   {
    "duration": 68,
    "start_time": "2025-04-02T15:40:26.138Z"
   },
   {
    "duration": 87,
    "start_time": "2025-04-02T15:41:00.356Z"
   },
   {
    "duration": 76,
    "start_time": "2025-04-02T15:41:26.385Z"
   },
   {
    "duration": 99,
    "start_time": "2025-04-02T16:01:06.958Z"
   },
   {
    "duration": 65,
    "start_time": "2025-04-02T16:04:25.457Z"
   },
   {
    "duration": 136,
    "start_time": "2025-04-02T16:04:41.619Z"
   },
   {
    "duration": 77,
    "start_time": "2025-04-02T16:05:19.499Z"
   },
   {
    "duration": 89,
    "start_time": "2025-04-02T16:21:34.808Z"
   },
   {
    "duration": 93,
    "start_time": "2025-04-02T16:22:05.510Z"
   },
   {
    "duration": 66,
    "start_time": "2025-04-02T16:32:39.789Z"
   },
   {
    "duration": 62,
    "start_time": "2025-04-02T16:43:35.100Z"
   },
   {
    "duration": 60,
    "start_time": "2025-04-02T16:44:05.070Z"
   },
   {
    "duration": 70,
    "start_time": "2025-04-02T17:08:49.003Z"
   },
   {
    "duration": 65,
    "start_time": "2025-04-02T17:09:00.106Z"
   },
   {
    "duration": 63,
    "start_time": "2025-04-02T17:09:21.776Z"
   },
   {
    "duration": 60,
    "start_time": "2025-04-02T17:10:15.800Z"
   },
   {
    "duration": 81,
    "start_time": "2025-04-02T17:12:41.005Z"
   },
   {
    "duration": 68,
    "start_time": "2025-04-02T17:13:11.577Z"
   },
   {
    "duration": 144,
    "start_time": "2025-04-02T17:13:36.634Z"
   },
   {
    "duration": 134,
    "start_time": "2025-04-02T17:14:59.564Z"
   },
   {
    "duration": 167,
    "start_time": "2025-04-02T17:15:09.754Z"
   },
   {
    "duration": 61,
    "start_time": "2025-04-02T17:16:38.352Z"
   },
   {
    "duration": 52,
    "start_time": "2025-04-02T17:18:56.200Z"
   },
   {
    "duration": 76,
    "start_time": "2025-04-02T17:20:11.865Z"
   },
   {
    "duration": 65,
    "start_time": "2025-04-02T17:21:02.401Z"
   },
   {
    "duration": 118,
    "start_time": "2025-04-02T17:21:20.061Z"
   },
   {
    "duration": 144,
    "start_time": "2025-04-02T17:22:01.988Z"
   },
   {
    "duration": 70,
    "start_time": "2025-04-02T17:22:08.236Z"
   },
   {
    "duration": 61,
    "start_time": "2025-04-02T17:22:59.125Z"
   },
   {
    "duration": 63,
    "start_time": "2025-04-02T17:25:08.465Z"
   },
   {
    "duration": 64,
    "start_time": "2025-04-02T17:25:54.941Z"
   },
   {
    "duration": 134,
    "start_time": "2025-04-02T17:30:20.233Z"
   },
   {
    "duration": 133,
    "start_time": "2025-04-02T17:33:05.319Z"
   },
   {
    "duration": 63,
    "start_time": "2025-04-02T17:33:49.141Z"
   },
   {
    "duration": 48,
    "start_time": "2025-04-02T17:36:25.049Z"
   },
   {
    "duration": 63,
    "start_time": "2025-04-02T17:41:38.686Z"
   },
   {
    "duration": 61,
    "start_time": "2025-04-02T17:41:44.945Z"
   },
   {
    "duration": 72,
    "start_time": "2025-04-02T17:41:54.728Z"
   },
   {
    "duration": 51,
    "start_time": "2025-04-02T17:42:39.951Z"
   },
   {
    "duration": 76,
    "start_time": "2025-04-02T17:43:57.194Z"
   },
   {
    "duration": 48,
    "start_time": "2025-04-02T17:44:21.948Z"
   },
   {
    "duration": 59,
    "start_time": "2025-04-02T17:58:57.006Z"
   },
   {
    "duration": 63,
    "start_time": "2025-04-02T18:00:20.319Z"
   },
   {
    "duration": 59,
    "start_time": "2025-04-02T18:00:41.210Z"
   },
   {
    "duration": 74,
    "start_time": "2025-04-02T18:07:04.835Z"
   },
   {
    "duration": 62,
    "start_time": "2025-04-02T18:23:50.391Z"
   },
   {
    "duration": 125,
    "start_time": "2025-04-02T18:25:01.144Z"
   },
   {
    "duration": 228,
    "start_time": "2025-04-02T19:14:50.030Z"
   },
   {
    "duration": 127,
    "start_time": "2025-04-02T19:14:52.026Z"
   },
   {
    "duration": 53,
    "start_time": "2025-04-02T19:14:53.049Z"
   },
   {
    "duration": 55,
    "start_time": "2025-04-02T19:14:53.891Z"
   },
   {
    "duration": 54,
    "start_time": "2025-04-02T19:14:55.121Z"
   },
   {
    "duration": 56,
    "start_time": "2025-04-02T19:14:58.197Z"
   },
   {
    "duration": 77,
    "start_time": "2025-04-02T19:15:04.944Z"
   },
   {
    "duration": 96,
    "start_time": "2025-04-02T19:15:31.223Z"
   },
   {
    "duration": 69,
    "start_time": "2025-04-02T19:15:34.880Z"
   },
   {
    "duration": 91,
    "start_time": "2025-04-02T19:16:18.837Z"
   },
   {
    "duration": 75,
    "start_time": "2025-04-02T19:16:28.882Z"
   },
   {
    "duration": 75,
    "start_time": "2025-04-02T19:17:25.828Z"
   },
   {
    "duration": 655,
    "start_time": "2025-04-02T19:17:37.043Z"
   },
   {
    "duration": 62,
    "start_time": "2025-04-02T19:17:50.304Z"
   },
   {
    "duration": 61,
    "start_time": "2025-04-02T19:17:51.196Z"
   },
   {
    "duration": 59,
    "start_time": "2025-04-02T19:17:57.369Z"
   },
   {
    "duration": 60,
    "start_time": "2025-04-02T19:18:55.409Z"
   },
   {
    "duration": 10956,
    "start_time": "2025-04-03T15:25:49.959Z"
   },
   {
    "duration": 120,
    "start_time": "2025-04-03T15:26:00.916Z"
   },
   {
    "duration": 52,
    "start_time": "2025-04-03T15:26:01.037Z"
   },
   {
    "duration": 53,
    "start_time": "2025-04-03T15:26:01.091Z"
   },
   {
    "duration": 52,
    "start_time": "2025-04-03T15:26:01.146Z"
   },
   {
    "duration": 52,
    "start_time": "2025-04-03T15:26:01.199Z"
   },
   {
    "duration": 75,
    "start_time": "2025-04-03T15:26:01.253Z"
   },
   {
    "duration": 91,
    "start_time": "2025-04-03T15:26:01.330Z"
   },
   {
    "duration": 65,
    "start_time": "2025-04-03T15:26:01.423Z"
   },
   {
    "duration": 80,
    "start_time": "2025-04-03T15:26:01.490Z"
   },
   {
    "duration": 84,
    "start_time": "2025-04-03T15:26:01.572Z"
   },
   {
    "duration": 69,
    "start_time": "2025-04-03T15:26:01.657Z"
   },
   {
    "duration": 88,
    "start_time": "2025-04-03T15:27:22.530Z"
   },
   {
    "duration": 92,
    "start_time": "2025-04-03T15:28:37.176Z"
   },
   {
    "duration": 98,
    "start_time": "2025-04-03T15:30:27.382Z"
   },
   {
    "duration": 90,
    "start_time": "2025-04-03T15:32:28.379Z"
   },
   {
    "duration": 87,
    "start_time": "2025-04-03T15:33:21.983Z"
   },
   {
    "duration": 108,
    "start_time": "2025-04-03T16:00:55.628Z"
   },
   {
    "duration": 88,
    "start_time": "2025-04-03T16:01:19.141Z"
   },
   {
    "duration": 101,
    "start_time": "2025-04-03T16:02:28.896Z"
   },
   {
    "duration": 3,
    "start_time": "2025-04-03T16:04:57.995Z"
   },
   {
    "duration": 88,
    "start_time": "2025-04-03T16:05:17.676Z"
   },
   {
    "duration": 89,
    "start_time": "2025-04-03T16:07:25.061Z"
   },
   {
    "duration": 85,
    "start_time": "2025-04-03T16:08:07.450Z"
   },
   {
    "duration": 87,
    "start_time": "2025-04-03T16:08:26.477Z"
   },
   {
    "duration": 93,
    "start_time": "2025-04-03T16:08:56.191Z"
   },
   {
    "duration": 81,
    "start_time": "2025-04-04T13:35:44.424Z"
   },
   {
    "duration": 10647,
    "start_time": "2025-04-04T13:35:52.515Z"
   },
   {
    "duration": 123,
    "start_time": "2025-04-04T13:36:03.164Z"
   },
   {
    "duration": 52,
    "start_time": "2025-04-04T13:36:03.289Z"
   },
   {
    "duration": 53,
    "start_time": "2025-04-04T13:36:03.343Z"
   },
   {
    "duration": 53,
    "start_time": "2025-04-04T13:36:03.398Z"
   },
   {
    "duration": 54,
    "start_time": "2025-04-04T13:36:03.453Z"
   },
   {
    "duration": 75,
    "start_time": "2025-04-04T13:36:03.508Z"
   },
   {
    "duration": 93,
    "start_time": "2025-04-04T13:36:03.584Z"
   },
   {
    "duration": 65,
    "start_time": "2025-04-04T13:37:35.339Z"
   },
   {
    "duration": 89,
    "start_time": "2025-04-04T13:38:25.649Z"
   },
   {
    "duration": 72,
    "start_time": "2025-04-04T13:39:06.784Z"
   },
   {
    "duration": 98,
    "start_time": "2025-04-04T13:39:28.847Z"
   },
   {
    "duration": 86,
    "start_time": "2025-04-04T13:41:16.752Z"
   },
   {
    "duration": 89,
    "start_time": "2025-04-04T13:46:27.215Z"
   },
   {
    "duration": 53,
    "start_time": "2025-04-04T13:46:30.623Z"
   },
   {
    "duration": 61,
    "start_time": "2025-04-04T13:46:33.646Z"
   },
   {
    "duration": 59,
    "start_time": "2025-04-04T13:46:34.487Z"
   },
   {
    "duration": 59,
    "start_time": "2025-04-04T13:46:48.340Z"
   },
   {
    "duration": 57,
    "start_time": "2025-04-04T13:46:55.693Z"
   },
   {
    "duration": 226,
    "start_time": "2025-04-04T13:48:55.502Z"
   },
   {
    "duration": 119,
    "start_time": "2025-04-04T13:48:56.160Z"
   },
   {
    "duration": 53,
    "start_time": "2025-04-04T13:48:57.218Z"
   },
   {
    "duration": 54,
    "start_time": "2025-04-04T13:48:58.000Z"
   },
   {
    "duration": 55,
    "start_time": "2025-04-04T13:48:58.694Z"
   },
   {
    "duration": 53,
    "start_time": "2025-04-04T13:49:01.106Z"
   },
   {
    "duration": 76,
    "start_time": "2025-04-04T13:49:04.359Z"
   },
   {
    "duration": 92,
    "start_time": "2025-04-04T13:49:15.750Z"
   },
   {
    "duration": 67,
    "start_time": "2025-04-04T13:49:19.964Z"
   },
   {
    "duration": 88,
    "start_time": "2025-04-04T13:49:24.312Z"
   },
   {
    "duration": 90,
    "start_time": "2025-04-04T13:49:34.836Z"
   },
   {
    "duration": 89,
    "start_time": "2025-04-04T13:53:55.015Z"
   },
   {
    "duration": 56,
    "start_time": "2025-04-04T13:53:59.990Z"
   },
   {
    "duration": 61,
    "start_time": "2025-04-04T13:54:03.267Z"
   },
   {
    "duration": 87,
    "start_time": "2025-04-04T13:54:03.955Z"
   },
   {
    "duration": 58,
    "start_time": "2025-04-04T13:54:06.667Z"
   },
   {
    "duration": 57,
    "start_time": "2025-04-04T13:54:09.406Z"
   },
   {
    "duration": 89,
    "start_time": "2025-04-04T13:55:02.971Z"
   },
   {
    "duration": 66,
    "start_time": "2025-04-04T13:55:13.725Z"
   }
  ],
  "kernelspec": {
   "display_name": "Python 3 (ipykernel)",
   "language": "python",
   "name": "python3"
  },
  "language_info": {
   "codemirror_mode": {
    "name": "ipython",
    "version": 3
   },
   "file_extension": ".py",
   "mimetype": "text/x-python",
   "name": "python",
   "nbconvert_exporter": "python",
   "pygments_lexer": "ipython3",
   "version": "3.12.4"
  },
  "toc": {
   "base_numbering": 1,
   "nav_menu": {},
   "number_sections": true,
   "sideBar": true,
   "skip_h1_title": true,
   "title_cell": "Table of Contents",
   "title_sidebar": "Contents",
   "toc_cell": false,
   "toc_position": {},
   "toc_section_display": true,
   "toc_window_display": false
  }
 },
 "nbformat": 4,
 "nbformat_minor": 4
}
